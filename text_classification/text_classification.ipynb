{
 "cells": [
  {
   "cell_type": "code",
   "id": "initial_id",
   "metadata": {
    "collapsed": true,
    "ExecuteTime": {
     "end_time": "2025-05-26T19:31:24.780599Z",
     "start_time": "2025-05-26T19:31:24.777665Z"
    }
   },
   "source": [
    "import re\n",
    "\n",
    "import matplotlib.pyplot as plt\n",
    "import nltk\n",
    "import pandas as pd\n",
    "import torch\n",
    "import torch.nn as nn\n",
    "import torch.optim as optim\n",
    "from nltk.corpus import stopwords\n",
    "from nltk.stem import WordNetLemmatizer\n",
    "from nltk.tokenize import word_tokenize\n",
    "from sklearn.model_selection import train_test_split\n",
    "from tensorflow.keras.preprocessing.sequence import pad_sequences\n",
    "from tensorflow.keras.preprocessing.text import Tokenizer\n",
    "from torch.utils.data import DataLoader, TensorDataset\n",
    "\n",
    "from rnn import RNN\n",
    "from lstm import LSTM\n",
    "from gru import GRU\n",
    "from transformer import TransformerClassifier"
   ],
   "outputs": [],
   "execution_count": 4
  },
  {
   "metadata": {
    "ExecuteTime": {
     "end_time": "2025-05-26T19:31:24.849121Z",
     "start_time": "2025-05-26T19:31:24.846755Z"
    }
   },
   "cell_type": "code",
   "source": [
    "nltk.download('punkt_tab')\n",
    "nltk.download('stopwords')"
   ],
   "id": "7fd3ab7e1119bab0",
   "outputs": [
    {
     "name": "stderr",
     "output_type": "stream",
     "text": [
      "[nltk_data] Downloading package punkt_tab to /home/rafkat/nltk_data...\n",
      "[nltk_data]   Package punkt_tab is already up-to-date!\n",
      "[nltk_data] Downloading package stopwords to /home/rafkat/nltk_data...\n",
      "[nltk_data]   Package stopwords is already up-to-date!\n"
     ]
    },
    {
     "data": {
      "text/plain": [
       "True"
      ]
     },
     "execution_count": 5,
     "metadata": {},
     "output_type": "execute_result"
    }
   ],
   "execution_count": 5
  },
  {
   "metadata": {
    "ExecuteTime": {
     "end_time": "2025-05-26T19:31:24.869521Z",
     "start_time": "2025-05-26T19:31:24.866856Z"
    }
   },
   "cell_type": "code",
   "source": [
    "device = torch.device('cuda' if torch.cuda.is_available() else 'cpu')\n",
    "print(device)"
   ],
   "id": "f0d225d5e81b9482",
   "outputs": [
    {
     "name": "stdout",
     "output_type": "stream",
     "text": [
      "cuda\n"
     ]
    }
   ],
   "execution_count": 6
  },
  {
   "metadata": {
    "ExecuteTime": {
     "end_time": "2025-05-26T19:31:24.918946Z",
     "start_time": "2025-05-26T19:31:24.894965Z"
    }
   },
   "cell_type": "code",
   "source": [
    "df = pd.read_csv('../data/amazon_reviews.csv')\n",
    "df.head(10)"
   ],
   "id": "c26a9eae5532ef2d",
   "outputs": [
    {
     "data": {
      "text/plain": [
       "  sentiments                                     cleaned_review  \\\n",
       "0   positive  i wish would have gotten one earlier love it a...   \n",
       "1    neutral  i ve learned this lesson again open the packag...   \n",
       "2    neutral          it is so slow and lags find better option   \n",
       "3    neutral  roller ball stopped working within months of m...   \n",
       "4    neutral  i like the color and size but it few days out ...   \n",
       "5   positive  overall love this mouse the size weight clicki...   \n",
       "6    neutral                                 it stopped working   \n",
       "7   positive  my son uses school issued chromebook for schoo...   \n",
       "8   negative  loved this cute little mouse but it broke afte...   \n",
       "9   negative  should ve spent the money to get quality produ...   \n",
       "\n",
       "   cleaned_review_length  review_score  \n",
       "0                     19           5.0  \n",
       "1                     88           1.0  \n",
       "2                      9           2.0  \n",
       "3                     12           1.0  \n",
       "4                     21           1.0  \n",
       "5                     68           3.0  \n",
       "6                      3           1.0  \n",
       "7                    170           1.0  \n",
       "8                     17           1.0  \n",
       "9                     17           1.0  "
      ],
      "text/html": [
       "<div>\n",
       "<style scoped>\n",
       "    .dataframe tbody tr th:only-of-type {\n",
       "        vertical-align: middle;\n",
       "    }\n",
       "\n",
       "    .dataframe tbody tr th {\n",
       "        vertical-align: top;\n",
       "    }\n",
       "\n",
       "    .dataframe thead th {\n",
       "        text-align: right;\n",
       "    }\n",
       "</style>\n",
       "<table border=\"1\" class=\"dataframe\">\n",
       "  <thead>\n",
       "    <tr style=\"text-align: right;\">\n",
       "      <th></th>\n",
       "      <th>sentiments</th>\n",
       "      <th>cleaned_review</th>\n",
       "      <th>cleaned_review_length</th>\n",
       "      <th>review_score</th>\n",
       "    </tr>\n",
       "  </thead>\n",
       "  <tbody>\n",
       "    <tr>\n",
       "      <th>0</th>\n",
       "      <td>positive</td>\n",
       "      <td>i wish would have gotten one earlier love it a...</td>\n",
       "      <td>19</td>\n",
       "      <td>5.0</td>\n",
       "    </tr>\n",
       "    <tr>\n",
       "      <th>1</th>\n",
       "      <td>neutral</td>\n",
       "      <td>i ve learned this lesson again open the packag...</td>\n",
       "      <td>88</td>\n",
       "      <td>1.0</td>\n",
       "    </tr>\n",
       "    <tr>\n",
       "      <th>2</th>\n",
       "      <td>neutral</td>\n",
       "      <td>it is so slow and lags find better option</td>\n",
       "      <td>9</td>\n",
       "      <td>2.0</td>\n",
       "    </tr>\n",
       "    <tr>\n",
       "      <th>3</th>\n",
       "      <td>neutral</td>\n",
       "      <td>roller ball stopped working within months of m...</td>\n",
       "      <td>12</td>\n",
       "      <td>1.0</td>\n",
       "    </tr>\n",
       "    <tr>\n",
       "      <th>4</th>\n",
       "      <td>neutral</td>\n",
       "      <td>i like the color and size but it few days out ...</td>\n",
       "      <td>21</td>\n",
       "      <td>1.0</td>\n",
       "    </tr>\n",
       "    <tr>\n",
       "      <th>5</th>\n",
       "      <td>positive</td>\n",
       "      <td>overall love this mouse the size weight clicki...</td>\n",
       "      <td>68</td>\n",
       "      <td>3.0</td>\n",
       "    </tr>\n",
       "    <tr>\n",
       "      <th>6</th>\n",
       "      <td>neutral</td>\n",
       "      <td>it stopped working</td>\n",
       "      <td>3</td>\n",
       "      <td>1.0</td>\n",
       "    </tr>\n",
       "    <tr>\n",
       "      <th>7</th>\n",
       "      <td>positive</td>\n",
       "      <td>my son uses school issued chromebook for schoo...</td>\n",
       "      <td>170</td>\n",
       "      <td>1.0</td>\n",
       "    </tr>\n",
       "    <tr>\n",
       "      <th>8</th>\n",
       "      <td>negative</td>\n",
       "      <td>loved this cute little mouse but it broke afte...</td>\n",
       "      <td>17</td>\n",
       "      <td>1.0</td>\n",
       "    </tr>\n",
       "    <tr>\n",
       "      <th>9</th>\n",
       "      <td>negative</td>\n",
       "      <td>should ve spent the money to get quality produ...</td>\n",
       "      <td>17</td>\n",
       "      <td>1.0</td>\n",
       "    </tr>\n",
       "  </tbody>\n",
       "</table>\n",
       "</div>"
      ]
     },
     "execution_count": 7,
     "metadata": {},
     "output_type": "execute_result"
    }
   ],
   "execution_count": 7
  },
  {
   "metadata": {
    "ExecuteTime": {
     "end_time": "2025-05-26T19:31:24.922663Z",
     "start_time": "2025-05-26T19:31:24.919634Z"
    }
   },
   "cell_type": "code",
   "source": "print(df.isna().sum())",
   "id": "5b82fe8be10235e3",
   "outputs": [
    {
     "name": "stdout",
     "output_type": "stream",
     "text": [
      "sentiments               0\n",
      "cleaned_review           3\n",
      "cleaned_review_length    0\n",
      "review_score             0\n",
      "dtype: int64\n"
     ]
    }
   ],
   "execution_count": 8
  },
  {
   "metadata": {
    "ExecuteTime": {
     "end_time": "2025-05-26T19:31:24.928036Z",
     "start_time": "2025-05-26T19:31:24.925246Z"
    }
   },
   "cell_type": "code",
   "source": "df = df.dropna()",
   "id": "f7ae281cbd7b2d3d",
   "outputs": [],
   "execution_count": 9
  },
  {
   "metadata": {
    "ExecuteTime": {
     "end_time": "2025-05-26T19:31:24.953672Z",
     "start_time": "2025-05-26T19:31:24.950300Z"
    }
   },
   "cell_type": "code",
   "source": "print(df.isna().sum())",
   "id": "cebe738fc72ed007",
   "outputs": [
    {
     "name": "stdout",
     "output_type": "stream",
     "text": [
      "sentiments               0\n",
      "cleaned_review           0\n",
      "cleaned_review_length    0\n",
      "review_score             0\n",
      "dtype: int64\n"
     ]
    }
   ],
   "execution_count": 10
  },
  {
   "metadata": {
    "ExecuteTime": {
     "end_time": "2025-05-26T19:31:26.453615Z",
     "start_time": "2025-05-26T19:31:24.963723Z"
    }
   },
   "cell_type": "code",
   "source": [
    "test_text = df['cleaned_review'][0]\n",
    "print('Initial state: ', test_text)\n",
    "regexped_text = re.sub(r'[^a-zA-Z\\s]', '', test_text)\n",
    "print('Used regexp: ', regexped_text)  # for cleaning text from \n",
    "tokenized_text = word_tokenize(regexped_text.lower())\n",
    "print('Tokenized text: ', tokenized_text)\n",
    "stop_words = set(stopwords.words('english'))\n",
    "# print('Stop words: ', stop_words)\n",
    "cleaned_text = [token for token in tokenized_text if token not in stop_words]\n",
    "print('Cleaned text: ', cleaned_text)\n",
    "lemmatizer = WordNetLemmatizer()\n",
    "tokens = [lemmatizer.lemmatize(token) for token in cleaned_text]\n",
    "print('Lemmatized text: ', tokens)"
   ],
   "id": "a989374f2a1dcc82",
   "outputs": [
    {
     "name": "stdout",
     "output_type": "stream",
     "text": [
      "Initial state:  i wish would have gotten one earlier love it and it makes working in my laptop so much easier\n",
      "Used regexp:  i wish would have gotten one earlier love it and it makes working in my laptop so much easier\n",
      "Tokenized text:  ['i', 'wish', 'would', 'have', 'gotten', 'one', 'earlier', 'love', 'it', 'and', 'it', 'makes', 'working', 'in', 'my', 'laptop', 'so', 'much', 'easier']\n",
      "Cleaned text:  ['wish', 'would', 'gotten', 'one', 'earlier', 'love', 'makes', 'working', 'laptop', 'much', 'easier']\n",
      "Lemmatized text:  ['wish', 'would', 'gotten', 'one', 'earlier', 'love', 'make', 'working', 'laptop', 'much', 'easier']\n"
     ]
    }
   ],
   "execution_count": 11
  },
  {
   "metadata": {
    "ExecuteTime": {
     "end_time": "2025-05-26T19:31:26.456699Z",
     "start_time": "2025-05-26T19:31:26.454608Z"
    }
   },
   "cell_type": "code",
   "source": [
    "def text_preprocessing(text):\n",
    "    text = re.sub(r'[^a-zA-Z\\s]', '', text)\n",
    "    tokens = word_tokenize(text.lower())\n",
    "    stop_words = set(stopwords.words('english'))\n",
    "    tokens = [token for token in tokens if token not in stop_words]\n",
    "    lemmatizer = WordNetLemmatizer()\n",
    "    tokens = [lemmatizer.lemmatize(token) for token in tokens]\n",
    "    return ' '.join(tokens)"
   ],
   "id": "52b687d33cc1f432",
   "outputs": [],
   "execution_count": 12
  },
  {
   "metadata": {
    "ExecuteTime": {
     "end_time": "2025-05-26T19:31:28.466524Z",
     "start_time": "2025-05-26T19:31:26.457140Z"
    }
   },
   "cell_type": "code",
   "source": "df.loc[:, 'cleaned_review'] = df['cleaned_review'].apply(text_preprocessing)",
   "id": "b31fc6208336e7e8",
   "outputs": [],
   "execution_count": 13
  },
  {
   "metadata": {
    "ExecuteTime": {
     "end_time": "2025-05-26T19:31:28.470099Z",
     "start_time": "2025-05-26T19:31:28.467281Z"
    }
   },
   "cell_type": "code",
   "source": "df['cleaned_review']",
   "id": "c723bda153a08e65",
   "outputs": [
    {
     "data": {
      "text/plain": [
       "0        wish would gotten one earlier love make workin...\n",
       "1        learned lesson open package use product right ...\n",
       "2                              slow lag find better option\n",
       "3        roller ball stopped working within month minim...\n",
       "4            like color size day return period hold charge\n",
       "                               ...                        \n",
       "17335    love speaker love take anywhere charge phone w...\n",
       "17336              use house easy connect loud clear music\n",
       "17337    bass good battery amazing much better charge t...\n",
       "17338                                                 love\n",
       "17339                                         mono speaker\n",
       "Name: cleaned_review, Length: 17337, dtype: object"
      ]
     },
     "execution_count": 14,
     "metadata": {},
     "output_type": "execute_result"
    }
   ],
   "execution_count": 14
  },
  {
   "metadata": {
    "ExecuteTime": {
     "end_time": "2025-05-26T19:31:28.659024Z",
     "start_time": "2025-05-26T19:31:28.470543Z"
    }
   },
   "cell_type": "code",
   "source": [
    "tokenizer = Tokenizer()\n",
    "tokenizer.fit_on_texts(df['cleaned_review'])\n",
    "sequences = tokenizer.texts_to_sequences(df['cleaned_review'])"
   ],
   "id": "49aa8996b6335f3e",
   "outputs": [],
   "execution_count": 15
  },
  {
   "metadata": {
    "ExecuteTime": {
     "end_time": "2025-05-26T19:31:28.682253Z",
     "start_time": "2025-05-26T19:31:28.659549Z"
    }
   },
   "cell_type": "code",
   "source": [
    "max_len = max(len(seq) for seq in sequences)\n",
    "padded_sequences = pad_sequences(sequences, maxlen=max_len)\n",
    "labels = pd.get_dummies(df['sentiments']).values\n",
    "labels"
   ],
   "id": "dbfb8ba073526f97",
   "outputs": [
    {
     "data": {
      "text/plain": [
       "array([[False, False,  True],\n",
       "       [False,  True, False],\n",
       "       [False,  True, False],\n",
       "       ...,\n",
       "       [False, False,  True],\n",
       "       [False, False,  True],\n",
       "       [False,  True, False]])"
      ]
     },
     "execution_count": 16,
     "metadata": {},
     "output_type": "execute_result"
    }
   ],
   "execution_count": 16
  },
  {
   "metadata": {
    "ExecuteTime": {
     "end_time": "2025-05-26T19:31:28.684416Z",
     "start_time": "2025-05-26T19:31:28.682716Z"
    }
   },
   "cell_type": "code",
   "source": "max_len",
   "id": "4380af6dedb52a75",
   "outputs": [
    {
     "data": {
      "text/plain": [
       "313"
      ]
     },
     "execution_count": 17,
     "metadata": {},
     "output_type": "execute_result"
    }
   ],
   "execution_count": 17
  },
  {
   "metadata": {
    "ExecuteTime": {
     "end_time": "2025-05-26T19:31:28.694414Z",
     "start_time": "2025-05-26T19:31:28.684891Z"
    }
   },
   "cell_type": "code",
   "source": "X_train, X_val, y_train, y_val = train_test_split(padded_sequences, labels, test_size=0.2, random_state=42)",
   "id": "d778b96562b2305a",
   "outputs": [],
   "execution_count": 18
  },
  {
   "metadata": {
    "ExecuteTime": {
     "end_time": "2025-05-26T19:31:28.721068Z",
     "start_time": "2025-05-26T19:31:28.694957Z"
    }
   },
   "cell_type": "code",
   "source": [
    "train_data = TensorDataset(torch.from_numpy(X_train).long(), torch.from_numpy(y_train).float())\n",
    "val_data = TensorDataset(torch.from_numpy(X_val).long(), torch.from_numpy(y_val).float())\n",
    "train_loader = DataLoader(train_data, batch_size=50, shuffle=True)\n",
    "val_loader = DataLoader(val_data, batch_size=50, shuffle=True)"
   ],
   "id": "abc0d8b8214c4a07",
   "outputs": [],
   "execution_count": 19
  },
  {
   "metadata": {
    "ExecuteTime": {
     "end_time": "2025-05-26T19:31:28.726447Z",
     "start_time": "2025-05-26T19:31:28.722548Z"
    }
   },
   "cell_type": "code",
   "source": [
    "res = next(iter(train_loader))\n",
    "res[0].shape, res[0].dtype, res[1].shape"
   ],
   "id": "6d365060cf992de5",
   "outputs": [
    {
     "data": {
      "text/plain": [
       "(torch.Size([50, 313]), torch.int64, torch.Size([50, 3]))"
      ]
     },
     "execution_count": 20,
     "metadata": {},
     "output_type": "execute_result"
    }
   ],
   "execution_count": 20
  },
  {
   "metadata": {
    "ExecuteTime": {
     "end_time": "2025-05-26T19:31:28.729724Z",
     "start_time": "2025-05-26T19:31:28.726973Z"
    }
   },
   "cell_type": "code",
   "source": [
    "def accuracy(outputs, labels):\n",
    "    _, preds = torch.max(outputs, dim=1)\n",
    "    return torch.tensor(torch.sum(preds == labels).item() / len(preds))"
   ],
   "id": "401d9805ac09921",
   "outputs": [],
   "execution_count": 21
  },
  {
   "metadata": {
    "ExecuteTime": {
     "end_time": "2025-05-26T19:31:43.821666Z",
     "start_time": "2025-05-26T19:31:43.817651Z"
    }
   },
   "cell_type": "code",
   "source": [
    "def train_and_validate(model_, optimizer, criterion_, train_loader_, val_loader_, epochs_, device_):\n",
    "    train_losses, val_losses, val_accs = [], [], []\n",
    "\n",
    "    for epoch in range(epochs_):\n",
    "        model_.train()\n",
    "        total_train_loss = 0\n",
    "        for inputs, labels_ in train_loader_:\n",
    "            inputs, labels_ = inputs.to(device_), labels_.to(device_)\n",
    "            output = model_(inputs)\n",
    "            print(output, labels_)\n",
    "            loss = criterion_(output, torch.max(labels_, 1)[1])\n",
    "            optimizer.zero_grad()\n",
    "            loss.backward()\n",
    "            optimizer.step()\n",
    "            total_train_loss += loss.item()\n",
    "\n",
    "        model_.eval()\n",
    "        total_val_loss, total_acc = 0, 0\n",
    "        with torch.no_grad():\n",
    "            for inputs, labels_ in val_loader_:\n",
    "                inputs, labels_ = inputs.to(device_), labels_.to(device_)\n",
    "                output = model_(inputs)\n",
    "                val_loss = criterion_(output, torch.max(labels_, 1)[1])\n",
    "                total_val_loss += val_loss.item()\n",
    "                acc = accuracy(output, torch.max(labels_, 1)[1])\n",
    "                total_acc += acc.item()\n",
    "\n",
    "        avg_train_loss = total_train_loss / len(train_loader_)\n",
    "        avg_val_loss = total_val_loss / len(val_loader_)\n",
    "        avg_acc = total_acc / len(val_loader_)\n",
    "\n",
    "        train_losses.append(avg_train_loss)\n",
    "        val_losses.append(avg_val_loss)\n",
    "        val_accs.append(avg_acc)\n",
    "        print(\n",
    "            f'Epoch: {epoch + 1}/{epochs_}, Train loss: {avg_train_loss}, Val loss: {avg_val_loss}, Val acc: {avg_acc}')\n",
    "    return train_losses, val_losses, val_accs"
   ],
   "id": "cfa852083bfd54ce",
   "outputs": [],
   "execution_count": 24
  },
  {
   "metadata": {
    "ExecuteTime": {
     "end_time": "2025-05-26T19:31:44.443937Z",
     "start_time": "2025-05-26T19:31:44.441657Z"
    }
   },
   "cell_type": "code",
   "source": [
    "def plot_losses(model_name, train_losses, val_losses, epochs):\n",
    "    plt.plot(range(1, epochs + 1), train_losses, label='Training Loss')\n",
    "    plt.plot(range(1, epochs + 1), val_losses, label='Validation Loss')\n",
    "    plt.title(f'Training and Validation Losses for {model_name}')\n",
    "    plt.xlabel('Epochs')\n",
    "    plt.ylabel('Loss')\n",
    "    plt.legend()\n",
    "    plt.show()"
   ],
   "id": "8f10acbc351d0030",
   "outputs": [],
   "execution_count": 25
  },
  {
   "metadata": {},
   "cell_type": "markdown",
   "source": "# RNN",
   "id": "7643798807d613e5"
  },
  {
   "metadata": {
    "ExecuteTime": {
     "end_time": "2025-05-26T19:31:45.276396Z",
     "start_time": "2025-05-26T19:31:45.182224Z"
    }
   },
   "cell_type": "code",
   "source": [
    "epochs = 20\n",
    "output_size_ = 3\n",
    "embedding_dim_ = 400\n",
    "hidden_dim_ = 256\n",
    "n_layers_ = 2\n",
    "vocab_size = len(tokenizer.word_index) + 1\n",
    "\n",
    "model = RNN(output_size_, embedding_dim_, hidden_dim_, n_layers_, vocab_size).to(device)"
   ],
   "id": "70ab8569f3fe20db",
   "outputs": [],
   "execution_count": 26
  },
  {
   "metadata": {
    "ExecuteTime": {
     "end_time": "2025-05-26T19:31:46.656187Z",
     "start_time": "2025-05-26T19:31:46.231992Z"
    }
   },
   "cell_type": "code",
   "source": [
    "rnn_optimizer = optim.Adam(model.parameters(), lr=1e-3)\n",
    "criterion = nn.CrossEntropyLoss()"
   ],
   "id": "bc25d9bd98747cf7",
   "outputs": [],
   "execution_count": 27
  },
  {
   "metadata": {
    "ExecuteTime": {
     "end_time": "2025-05-26T19:31:49.680288Z",
     "start_time": "2025-05-26T19:31:46.657107Z"
    }
   },
   "cell_type": "code",
   "source": [
    "print('RNN Start Training:')\n",
    "rnn_train_losses, rnn_val_losses, rnn_val_accs = train_and_validate(model, rnn_optimizer, criterion, train_loader,\n",
    "                                                                    val_loader, epochs, device)"
   ],
   "id": "cfcd0c950de88000",
   "outputs": [
    {
     "name": "stdout",
     "output_type": "stream",
     "text": [
      "RNN Start Training:\n",
      "tensor([[ 0.5116,  0.3012,  0.0515],\n",
      "        [ 0.4704, -0.1999,  0.0359],\n",
      "        [ 0.1647, -0.4559, -0.1153],\n",
      "        [ 0.2471,  0.1727, -0.3427],\n",
      "        [-0.1989,  0.0677, -0.1223],\n",
      "        [-0.1894, -0.0756, -0.3837],\n",
      "        [ 0.1238, -0.3718,  0.0331],\n",
      "        [-0.2215, -0.1156,  0.2417],\n",
      "        [ 0.4554, -0.1106, -0.4053],\n",
      "        [ 0.1264, -0.0616, -0.0847],\n",
      "        [ 0.0308,  0.1908, -0.0315],\n",
      "        [ 0.0435, -0.4588,  0.0561],\n",
      "        [ 0.0837,  0.0683, -0.2378],\n",
      "        [-0.3587, -0.0887, -0.0599],\n",
      "        [-0.0053, -0.2701,  0.0353],\n",
      "        [ 0.2744,  0.4830, -0.4747],\n",
      "        [ 0.4530, -0.4640,  0.2018],\n",
      "        [-0.1193, -0.2140,  0.1499],\n",
      "        [ 0.2662, -0.1392, -0.3945],\n",
      "        [-0.0370,  0.0433, -0.1795],\n",
      "        [ 0.1398, -0.2448, -0.1049],\n",
      "        [ 0.0038,  0.2261,  0.3121],\n",
      "        [-0.0111, -0.0559, -0.2522],\n",
      "        [-0.0774, -0.1361, -0.0288],\n",
      "        [ 0.3099, -0.0673, -0.1484],\n",
      "        [ 0.1400, -0.1080,  0.0824],\n",
      "        [ 0.1966,  0.0790,  0.1221],\n",
      "        [ 0.0593, -0.3245, -0.4289],\n",
      "        [-0.1167, -0.3748, -0.3271],\n",
      "        [-0.2311, -0.2851,  0.0624],\n",
      "        [ 0.2665, -0.0563, -0.2148],\n",
      "        [ 0.0118, -0.1449, -0.3588],\n",
      "        [ 0.1393, -0.0371, -0.3093],\n",
      "        [-0.4042,  0.1040,  0.0627],\n",
      "        [ 0.3227, -0.2372, -0.2236],\n",
      "        [ 0.1889, -0.1191, -0.0913],\n",
      "        [-0.0664,  0.1172, -0.2359],\n",
      "        [ 0.3506, -0.4498, -0.2029],\n",
      "        [ 0.2826, -0.1904,  0.0963],\n",
      "        [-0.3812, -0.5431, -0.1153],\n",
      "        [ 0.1711,  0.3102, -0.2339],\n",
      "        [ 0.3650,  0.2803,  0.0809],\n",
      "        [ 0.3946, -0.2065, -0.0804],\n",
      "        [ 0.0365, -0.1992, -0.1979],\n",
      "        [-0.1054,  0.1971, -0.0232],\n",
      "        [ 0.7711, -0.0775, -0.1901],\n",
      "        [ 0.1699,  0.0341, -0.3063],\n",
      "        [ 0.1811, -0.4821, -0.1238],\n",
      "        [ 0.0816, -0.1028, -0.1109],\n",
      "        [ 0.0941, -0.4298,  0.0421]], device='cuda:0',\n",
      "       grad_fn=<AddmmBackward0>) tensor([[0., 0., 1.],\n",
      "        [0., 1., 0.],\n",
      "        [0., 0., 1.],\n",
      "        [1., 0., 0.],\n",
      "        [0., 0., 1.],\n",
      "        [0., 0., 1.],\n",
      "        [0., 1., 0.],\n",
      "        [0., 0., 1.],\n",
      "        [0., 1., 0.],\n",
      "        [0., 1., 0.],\n",
      "        [0., 0., 1.],\n",
      "        [0., 0., 1.],\n",
      "        [1., 0., 0.],\n",
      "        [0., 0., 1.],\n",
      "        [0., 0., 1.],\n",
      "        [0., 1., 0.],\n",
      "        [0., 0., 1.],\n",
      "        [0., 1., 0.],\n",
      "        [0., 0., 1.],\n",
      "        [0., 1., 0.],\n",
      "        [0., 0., 1.],\n",
      "        [0., 1., 0.],\n",
      "        [0., 1., 0.],\n",
      "        [1., 0., 0.],\n",
      "        [0., 0., 1.],\n",
      "        [0., 0., 1.],\n",
      "        [0., 1., 0.],\n",
      "        [0., 0., 1.],\n",
      "        [0., 0., 1.],\n",
      "        [0., 0., 1.],\n",
      "        [0., 0., 1.],\n",
      "        [0., 0., 1.],\n",
      "        [0., 1., 0.],\n",
      "        [0., 0., 1.],\n",
      "        [0., 0., 1.],\n",
      "        [0., 0., 1.],\n",
      "        [0., 1., 0.],\n",
      "        [0., 0., 1.],\n",
      "        [0., 1., 0.],\n",
      "        [0., 1., 0.],\n",
      "        [0., 1., 0.],\n",
      "        [0., 0., 1.],\n",
      "        [0., 0., 1.],\n",
      "        [1., 0., 0.],\n",
      "        [0., 0., 1.],\n",
      "        [0., 0., 1.],\n",
      "        [0., 0., 1.],\n",
      "        [1., 0., 0.],\n",
      "        [0., 1., 0.],\n",
      "        [0., 0., 1.]], device='cuda:0')\n",
      "tensor([[-0.0804, -0.0379,  0.4044],\n",
      "        [-0.3925, -1.0336,  0.7038],\n",
      "        [-0.2814, -0.2559,  0.4303],\n",
      "        [ 0.1805,  0.1276, -0.5442],\n",
      "        [ 0.0491,  0.3087,  0.2495],\n",
      "        [ 0.2054, -0.1937, -0.0450],\n",
      "        [-0.2143, -0.1037,  0.2921],\n",
      "        [-0.0470, -0.3518, -0.2946],\n",
      "        [ 0.1647, -0.4726,  0.3962],\n",
      "        [ 0.1422, -0.2594,  0.1230],\n",
      "        [-0.3036,  0.2484,  0.1808],\n",
      "        [ 0.1593, -0.0817, -0.4960],\n",
      "        [ 0.0541, -0.2125,  0.0380],\n",
      "        [-0.1887, -0.3249,  0.0862],\n",
      "        [ 0.0455, -0.3326,  0.0017],\n",
      "        [-0.3321,  0.2193, -0.2904],\n",
      "        [-0.1525, -0.0909,  0.4005],\n",
      "        [ 0.2805, -0.0449,  0.2148],\n",
      "        [ 0.0014, -0.3631, -0.0534],\n",
      "        [ 0.2573, -0.0564, -0.0705],\n",
      "        [-0.1941, -0.0717,  0.2315],\n",
      "        [ 0.2096, -0.1405, -0.0532],\n",
      "        [ 0.2885, -0.3037, -0.0252],\n",
      "        [ 0.0731,  0.3390, -0.0890],\n",
      "        [-0.2007,  0.0932,  0.1401],\n",
      "        [ 0.0427, -0.4283,  0.3939],\n",
      "        [ 0.3773,  0.2287,  0.0247],\n",
      "        [-0.3439,  0.0780,  0.1046],\n",
      "        [ 0.2027, -0.3473,  0.1522],\n",
      "        [ 0.1098, -0.0556,  0.5357],\n",
      "        [ 0.0034, -0.1324,  0.1597],\n",
      "        [-0.0427,  0.3605,  0.0667],\n",
      "        [ 0.1875, -0.0158,  0.0398],\n",
      "        [-0.0255, -0.2111,  0.2553],\n",
      "        [-0.0048,  0.1767, -0.2745],\n",
      "        [ 0.1765,  0.1428, -0.3102],\n",
      "        [ 0.3690,  0.2739,  0.2304],\n",
      "        [-0.2234,  0.0304, -0.0631],\n",
      "        [ 0.1372, -0.3331,  0.4448],\n",
      "        [-0.2855, -0.1599,  0.9706],\n",
      "        [-0.4705, -0.4836,  0.5802],\n",
      "        [-0.4962, -0.7492,  0.2234],\n",
      "        [ 0.3741,  0.3970,  0.2825],\n",
      "        [ 0.0425, -0.3317,  0.3977],\n",
      "        [ 0.0714, -0.3789,  0.1404],\n",
      "        [ 0.4128, -0.0138, -0.2646],\n",
      "        [-0.3119, -0.5959,  0.2160],\n",
      "        [-0.1749,  0.1163, -0.1554],\n",
      "        [-0.2505, -0.1385,  0.2147],\n",
      "        [ 0.1727, -0.0756, -0.2737]], device='cuda:0',\n",
      "       grad_fn=<AddmmBackward0>) tensor([[0., 0., 1.],\n",
      "        [0., 0., 1.],\n",
      "        [0., 0., 1.],\n",
      "        [0., 0., 1.],\n",
      "        [1., 0., 0.],\n",
      "        [0., 1., 0.],\n",
      "        [0., 0., 1.],\n",
      "        [0., 1., 0.],\n",
      "        [1., 0., 0.],\n",
      "        [0., 0., 1.],\n",
      "        [0., 1., 0.],\n",
      "        [0., 1., 0.],\n",
      "        [0., 0., 1.],\n",
      "        [0., 1., 0.],\n",
      "        [0., 1., 0.],\n",
      "        [0., 1., 0.],\n",
      "        [0., 1., 0.],\n",
      "        [0., 0., 1.],\n",
      "        [0., 0., 1.],\n",
      "        [1., 0., 0.],\n",
      "        [0., 1., 0.],\n",
      "        [0., 1., 0.],\n",
      "        [0., 0., 1.],\n",
      "        [0., 0., 1.],\n",
      "        [0., 1., 0.],\n",
      "        [0., 1., 0.],\n",
      "        [0., 0., 1.],\n",
      "        [0., 0., 1.],\n",
      "        [0., 0., 1.],\n",
      "        [0., 1., 0.],\n",
      "        [0., 1., 0.],\n",
      "        [1., 0., 0.],\n",
      "        [0., 1., 0.],\n",
      "        [0., 0., 1.],\n",
      "        [0., 0., 1.],\n",
      "        [0., 1., 0.],\n",
      "        [0., 1., 0.],\n",
      "        [0., 0., 1.],\n",
      "        [0., 1., 0.],\n",
      "        [0., 1., 0.],\n",
      "        [0., 0., 1.],\n",
      "        [0., 0., 1.],\n",
      "        [0., 1., 0.],\n",
      "        [0., 1., 0.],\n",
      "        [0., 0., 1.],\n",
      "        [0., 1., 0.],\n",
      "        [0., 0., 1.],\n",
      "        [0., 1., 0.],\n",
      "        [0., 1., 0.],\n",
      "        [0., 0., 1.]], device='cuda:0')\n",
      "tensor([[ 1.8742e-01, -1.1946e-01,  9.5699e-02],\n",
      "        [ 1.9104e-01, -4.0590e-01,  4.8678e-01],\n",
      "        [-3.7718e-01, -1.7080e-01,  7.6460e-01],\n",
      "        [ 4.4217e-02, -2.8654e-02,  2.1663e-01],\n",
      "        [-1.4437e-01, -1.3842e-01, -2.2087e-01],\n",
      "        [-1.0153e+00,  1.6758e-01,  5.6532e-01],\n",
      "        [-4.2474e-01, -1.6638e-01,  7.9895e-02],\n",
      "        [-3.9591e-01, -4.9602e-01,  2.4219e-01],\n",
      "        [-4.9249e-01,  3.2916e-01,  1.6556e-01],\n",
      "        [-3.8772e-02, -1.7603e-01, -2.0676e-02],\n",
      "        [-1.1525e-01,  2.2268e-01,  2.3480e-01],\n",
      "        [ 1.2604e-01, -5.2925e-01,  1.0007e-01],\n",
      "        [-6.8054e-02, -3.4391e-01,  4.7505e-01],\n",
      "        [ 1.7041e-02,  2.6317e-02,  7.2597e-01],\n",
      "        [ 2.1556e-01, -3.6710e-01,  9.8514e-02],\n",
      "        [-1.1976e+00, -5.3041e-01,  3.6656e-01],\n",
      "        [-3.7137e-01,  2.4687e-02,  4.8116e-01],\n",
      "        [-2.1719e-01, -1.5363e-01, -7.6757e-02],\n",
      "        [-3.7740e-01, -8.6456e-02,  9.2879e-01],\n",
      "        [-1.2209e-01, -6.0422e-02,  6.7292e-02],\n",
      "        [-3.4041e-01, -6.8189e-02, -1.8215e-01],\n",
      "        [ 1.3451e-01,  1.2205e-01, -8.4651e-02],\n",
      "        [-5.9502e-01, -2.2927e-01,  2.4072e-01],\n",
      "        [-7.1468e-02, -1.8466e-01,  3.7257e-01],\n",
      "        [-7.1671e-01, -4.8117e-01,  1.0217e+00],\n",
      "        [-4.1183e-01,  1.8803e-01,  7.0259e-01],\n",
      "        [ 7.5600e-02, -1.6442e-01, -5.0545e-02],\n",
      "        [ 1.0550e-01, -3.3724e-01,  2.5260e-01],\n",
      "        [-9.1279e-02, -1.7585e-01,  8.4378e-02],\n",
      "        [ 2.5017e-01,  2.1346e-03,  1.4786e-01],\n",
      "        [-7.7696e-02, -1.9266e-01, -4.1430e-01],\n",
      "        [-5.6300e-01,  1.8532e-01,  6.6519e-01],\n",
      "        [-5.5314e-01, -1.4127e-01, -2.7026e-01],\n",
      "        [-2.1052e-01,  2.7516e-01,  2.6179e-02],\n",
      "        [-4.2065e-01, -7.4879e-02,  1.9574e-02],\n",
      "        [-8.6248e-02,  1.8401e-01,  4.0976e-04],\n",
      "        [ 2.3628e-02, -4.6269e-02,  3.5473e-01],\n",
      "        [-2.9248e-01,  2.9590e-01,  1.1934e-01],\n",
      "        [-2.1991e-01, -1.1685e-01,  1.4543e-01],\n",
      "        [-5.3123e-02,  2.3296e-01,  1.3723e-01],\n",
      "        [-6.0527e-01,  6.9101e-01, -2.1350e-01],\n",
      "        [ 1.6983e-02, -4.1314e-01,  8.1534e-02],\n",
      "        [-5.8681e-03,  1.1601e-01,  3.8017e-02],\n",
      "        [-3.8489e-01, -5.4709e-01,  9.0671e-02],\n",
      "        [-5.8598e-01, -6.5000e-02,  2.3053e-01],\n",
      "        [-1.2366e-01, -3.4273e-01,  1.5869e-01],\n",
      "        [ 1.7337e-01, -3.3698e-01,  1.1442e-01],\n",
      "        [-4.9896e-01, -3.2204e-01,  6.5801e-01],\n",
      "        [-1.2981e-01, -1.7926e-01,  1.5485e-01],\n",
      "        [-3.9641e-01,  2.3536e-01,  1.3073e-01]], device='cuda:0',\n",
      "       grad_fn=<AddmmBackward0>) tensor([[0., 0., 1.],\n",
      "        [0., 1., 0.],\n",
      "        [1., 0., 0.],\n",
      "        [0., 1., 0.],\n",
      "        [0., 1., 0.],\n",
      "        [0., 1., 0.],\n",
      "        [0., 0., 1.],\n",
      "        [0., 0., 1.],\n",
      "        [0., 1., 0.],\n",
      "        [0., 1., 0.],\n",
      "        [0., 0., 1.],\n",
      "        [0., 0., 1.],\n",
      "        [0., 1., 0.],\n",
      "        [0., 0., 1.],\n",
      "        [0., 1., 0.],\n",
      "        [0., 0., 1.],\n",
      "        [0., 0., 1.],\n",
      "        [0., 1., 0.],\n",
      "        [0., 0., 1.],\n",
      "        [0., 0., 1.],\n",
      "        [0., 1., 0.],\n",
      "        [0., 0., 1.],\n",
      "        [0., 0., 1.],\n",
      "        [0., 1., 0.],\n",
      "        [0., 1., 0.],\n",
      "        [0., 0., 1.],\n",
      "        [0., 0., 1.],\n",
      "        [0., 1., 0.],\n",
      "        [1., 0., 0.],\n",
      "        [0., 0., 1.],\n",
      "        [1., 0., 0.],\n",
      "        [0., 0., 1.],\n",
      "        [0., 0., 1.],\n",
      "        [0., 1., 0.],\n",
      "        [0., 1., 0.],\n",
      "        [0., 0., 1.],\n",
      "        [0., 1., 0.],\n",
      "        [1., 0., 0.],\n",
      "        [0., 1., 0.],\n",
      "        [0., 0., 1.],\n",
      "        [0., 0., 1.],\n",
      "        [0., 0., 1.],\n",
      "        [0., 0., 1.],\n",
      "        [0., 0., 1.],\n",
      "        [0., 0., 1.],\n",
      "        [0., 1., 0.],\n",
      "        [0., 1., 0.],\n",
      "        [0., 0., 1.],\n",
      "        [0., 0., 1.],\n",
      "        [1., 0., 0.]], device='cuda:0')\n",
      "tensor([[-3.6910e-02, -2.6419e-01,  2.4391e-01],\n",
      "        [ 2.7626e-02,  2.9369e-01, -3.7915e-01],\n",
      "        [-4.0941e-01,  4.9037e-01,  5.4438e-01],\n",
      "        [-1.1200e-01,  3.9841e-01,  4.7256e-01],\n",
      "        [-1.7038e-01,  4.2292e-03, -3.9156e-01],\n",
      "        [-6.6270e-01, -1.2812e-01,  7.4933e-02],\n",
      "        [-4.8458e-01,  3.0106e-01,  2.3267e-01],\n",
      "        [-2.1294e-01,  2.3896e-01,  6.1637e-01],\n",
      "        [-8.9066e-01, -4.1218e-01,  1.6391e+00],\n",
      "        [-1.2943e-01,  1.5272e-03,  7.1130e-01],\n",
      "        [-9.2743e-01,  3.8778e-01,  4.1165e-01],\n",
      "        [-4.1045e-01,  1.7388e-01,  6.3569e-02],\n",
      "        [-7.2839e-01,  1.4944e-01, -4.1850e-02],\n",
      "        [ 6.3143e-02,  4.5857e-01, -3.1293e-01],\n",
      "        [-4.3273e-01, -1.5149e-01,  2.8838e-01],\n",
      "        [-4.6220e-01,  4.8384e-02,  2.6706e-01],\n",
      "        [-5.3925e-01, -2.4789e-01,  8.4275e-02],\n",
      "        [-7.4196e-02,  8.1064e-02,  4.8488e-02],\n",
      "        [-4.0691e-01,  9.0257e-02,  5.1538e-02],\n",
      "        [-1.9537e-01,  3.0046e-01, -7.4310e-03],\n",
      "        [-4.8076e-01,  3.5667e-01,  6.3194e-01],\n",
      "        [-8.5393e-02,  2.9723e-01, -8.9536e-02],\n",
      "        [-7.9454e-01,  9.5397e-01,  2.8846e-01],\n",
      "        [-1.0416e+00, -2.6836e-01,  1.1659e+00],\n",
      "        [-4.6934e-01,  5.3493e-01, -3.2088e-01],\n",
      "        [-2.3267e-01, -1.7374e-01, -3.1067e-01],\n",
      "        [-4.6871e-01,  5.9444e-01,  7.8678e-01],\n",
      "        [-4.3175e-01,  1.0251e-03,  1.8899e-02],\n",
      "        [-1.3784e-01, -4.5220e-01,  1.0735e+00],\n",
      "        [-6.8209e-01, -7.0432e-01,  8.1871e-01],\n",
      "        [-1.3831e+00, -1.3454e-01,  4.9299e-01],\n",
      "        [-9.3444e-01,  3.0394e-01,  4.8591e-01],\n",
      "        [ 9.1539e-02, -8.0676e-03,  6.4263e-01],\n",
      "        [-7.6570e-01,  1.4837e-01,  2.2666e-01],\n",
      "        [ 2.9930e-02,  2.2042e-01, -5.3374e-01],\n",
      "        [-2.1822e-01,  2.3584e-02,  5.8256e-02],\n",
      "        [-4.8984e-02, -3.8302e-01,  3.5717e-01],\n",
      "        [-4.0392e-01, -4.0769e-01,  1.9615e-01],\n",
      "        [-3.8363e-02, -1.2505e-01,  2.7873e-01],\n",
      "        [-1.9670e-01, -5.5946e-02, -5.2417e-01],\n",
      "        [-3.9405e-01, -8.7646e-02,  5.8262e-01],\n",
      "        [-7.3754e-01,  3.8987e-01,  3.1075e-01],\n",
      "        [ 9.7184e-02,  2.3640e-02, -1.9584e-01],\n",
      "        [-3.4862e-01,  7.9860e-01, -2.4016e-01],\n",
      "        [-7.0223e-01, -7.2189e-02,  1.8019e-01],\n",
      "        [-3.3650e-01, -2.3052e-01, -1.0315e-01],\n",
      "        [-9.4024e-01,  4.6467e-01,  1.1148e+00],\n",
      "        [-4.2872e-01,  2.6698e-01, -2.2973e-01],\n",
      "        [-5.0681e-01, -6.0591e-02, -1.6221e-02],\n",
      "        [ 6.5391e-03, -3.2170e-01, -2.5607e-02]], device='cuda:0',\n",
      "       grad_fn=<AddmmBackward0>) tensor([[0., 0., 1.],\n",
      "        [0., 0., 1.],\n",
      "        [0., 0., 1.],\n",
      "        [1., 0., 0.],\n",
      "        [0., 1., 0.],\n",
      "        [0., 1., 0.],\n",
      "        [0., 1., 0.],\n",
      "        [0., 0., 1.],\n",
      "        [0., 1., 0.],\n",
      "        [0., 0., 1.],\n",
      "        [0., 1., 0.],\n",
      "        [1., 0., 0.],\n",
      "        [0., 1., 0.],\n",
      "        [0., 1., 0.],\n",
      "        [0., 0., 1.],\n",
      "        [0., 1., 0.],\n",
      "        [0., 0., 1.],\n",
      "        [0., 1., 0.],\n",
      "        [0., 0., 1.],\n",
      "        [1., 0., 0.],\n",
      "        [0., 0., 1.],\n",
      "        [0., 1., 0.],\n",
      "        [0., 0., 1.],\n",
      "        [0., 0., 1.],\n",
      "        [0., 0., 1.],\n",
      "        [0., 0., 1.],\n",
      "        [0., 0., 1.],\n",
      "        [0., 1., 0.],\n",
      "        [0., 0., 1.],\n",
      "        [0., 0., 1.],\n",
      "        [0., 1., 0.],\n",
      "        [0., 1., 0.],\n",
      "        [1., 0., 0.],\n",
      "        [0., 0., 1.],\n",
      "        [0., 0., 1.],\n",
      "        [0., 0., 1.],\n",
      "        [0., 1., 0.],\n",
      "        [0., 1., 0.],\n",
      "        [0., 1., 0.],\n",
      "        [1., 0., 0.],\n",
      "        [0., 0., 1.],\n",
      "        [0., 0., 1.],\n",
      "        [0., 0., 1.],\n",
      "        [1., 0., 0.],\n",
      "        [0., 1., 0.],\n",
      "        [0., 0., 1.],\n",
      "        [0., 0., 1.],\n",
      "        [0., 1., 0.],\n",
      "        [0., 0., 1.],\n",
      "        [0., 1., 0.]], device='cuda:0')\n",
      "tensor([[-8.8380e-02, -8.0310e-02,  7.7786e-01],\n",
      "        [-5.8291e-01,  1.0712e-01,  3.3018e-01],\n",
      "        [-3.2130e-01, -3.7513e-01,  4.3221e-01],\n",
      "        [-6.1708e-01,  3.9686e-01,  2.6225e-01],\n",
      "        [-3.6216e-02,  8.6249e-02,  1.9945e-01],\n",
      "        [-6.3807e-01,  3.9758e-01, -2.1558e-01],\n",
      "        [-4.3269e-01, -4.0118e-01,  2.3759e-01],\n",
      "        [-5.3009e-01,  4.3830e-01,  2.7906e-02],\n",
      "        [-1.0204e+00,  1.0469e+00,  1.4901e-01],\n",
      "        [-1.0266e-01,  8.4204e-02,  2.3811e-01],\n",
      "        [-4.2384e-02, -3.2046e-01,  3.9657e-01],\n",
      "        [ 1.3163e-01,  1.4436e-01,  2.6724e-01],\n",
      "        [-3.4253e-01,  3.7518e-01,  4.7604e-01],\n",
      "        [ 1.4249e-01,  2.3780e-01,  6.1701e-01],\n",
      "        [ 8.1668e-02, -2.9338e-01,  5.3630e-01],\n",
      "        [-1.2893e+00,  1.4305e+00,  8.8814e-01],\n",
      "        [-5.2234e-01,  3.1693e-01,  6.7147e-02],\n",
      "        [-5.0206e-01, -3.8223e-01,  9.1336e-01],\n",
      "        [-1.3899e+00,  5.3341e-01,  5.4048e-01],\n",
      "        [-2.5363e-01, -5.0619e-02,  2.1437e-02],\n",
      "        [ 9.7480e-02, -3.1180e-01,  5.4718e-01],\n",
      "        [ 2.9097e-01, -2.3072e-04, -2.2039e-01],\n",
      "        [-4.9870e-01,  3.0022e-01, -2.8011e-01],\n",
      "        [-1.5609e+00, -9.9480e-02,  1.0009e+00],\n",
      "        [-1.4543e+00, -1.7651e-01,  9.7033e-01],\n",
      "        [-4.2578e-01,  2.5131e-01,  4.0633e-01],\n",
      "        [-3.2871e-01, -1.5370e-01,  4.1463e-01],\n",
      "        [-6.1365e-01, -1.8753e-01,  6.8207e-01],\n",
      "        [-9.3140e-01,  5.0644e-01,  1.6427e-01],\n",
      "        [-2.0599e-01,  8.0496e-03,  4.2737e-01],\n",
      "        [-1.1258e-01,  4.0927e-01, -2.2549e-01],\n",
      "        [-1.0936e+00,  2.2252e-01,  1.2168e+00],\n",
      "        [-2.5668e-01,  4.1561e-01,  1.2205e-01],\n",
      "        [-1.1526e+00,  9.3778e-03,  5.9536e-01],\n",
      "        [-5.5624e-01, -2.8877e-01,  2.4642e-01],\n",
      "        [-1.4101e+00,  2.2343e-01,  1.0845e+00],\n",
      "        [ 6.0952e-03, -4.1207e-01, -2.0077e-02],\n",
      "        [-1.8461e-01, -1.6747e-02,  5.2537e-01],\n",
      "        [-1.3829e+00,  6.6909e-01,  1.1278e+00],\n",
      "        [-6.1434e-01,  2.3743e-01,  5.2659e-01],\n",
      "        [-8.2946e-01,  7.4024e-01,  4.8619e-01],\n",
      "        [-6.8514e-01,  5.6954e-01,  4.1238e-01],\n",
      "        [-3.5928e-01,  6.6003e-02,  2.4981e-01],\n",
      "        [-1.1943e-01,  1.0494e-01,  5.0358e-01],\n",
      "        [-3.2988e-01, -6.1316e-03, -5.7270e-02],\n",
      "        [-6.0381e-01, -2.6966e-01,  1.6644e-01],\n",
      "        [-5.7028e-01, -2.4659e-01,  6.5011e-01],\n",
      "        [-9.1226e-01,  8.3006e-02,  4.4642e-01],\n",
      "        [-1.0266e+00,  5.3139e-01,  7.3605e-01],\n",
      "        [-4.6183e-01,  5.8764e-01,  3.2992e-01]], device='cuda:0',\n",
      "       grad_fn=<AddmmBackward0>) tensor([[1., 0., 0.],\n",
      "        [0., 0., 1.],\n",
      "        [0., 1., 0.],\n",
      "        [0., 0., 1.],\n",
      "        [0., 1., 0.],\n",
      "        [0., 0., 1.],\n",
      "        [0., 0., 1.],\n",
      "        [0., 1., 0.],\n",
      "        [0., 1., 0.],\n",
      "        [0., 0., 1.],\n",
      "        [0., 0., 1.],\n",
      "        [0., 1., 0.],\n",
      "        [0., 1., 0.],\n",
      "        [0., 1., 0.],\n",
      "        [0., 0., 1.],\n",
      "        [0., 1., 0.],\n",
      "        [0., 1., 0.],\n",
      "        [0., 1., 0.],\n",
      "        [0., 1., 0.],\n",
      "        [1., 0., 0.],\n",
      "        [0., 0., 1.],\n",
      "        [0., 1., 0.],\n",
      "        [0., 0., 1.],\n",
      "        [0., 0., 1.],\n",
      "        [0., 0., 1.],\n",
      "        [0., 0., 1.],\n",
      "        [0., 0., 1.],\n",
      "        [0., 0., 1.],\n",
      "        [0., 1., 0.],\n",
      "        [0., 0., 1.],\n",
      "        [0., 0., 1.],\n",
      "        [0., 0., 1.],\n",
      "        [0., 1., 0.],\n",
      "        [0., 0., 1.],\n",
      "        [0., 1., 0.],\n",
      "        [0., 1., 0.],\n",
      "        [0., 0., 1.],\n",
      "        [1., 0., 0.],\n",
      "        [0., 0., 1.],\n",
      "        [0., 1., 0.],\n",
      "        [0., 0., 1.],\n",
      "        [0., 0., 1.],\n",
      "        [0., 0., 1.],\n",
      "        [0., 0., 1.],\n",
      "        [0., 0., 1.],\n",
      "        [0., 0., 1.],\n",
      "        [0., 0., 1.],\n",
      "        [1., 0., 0.],\n",
      "        [0., 1., 0.],\n",
      "        [0., 1., 0.]], device='cuda:0')\n",
      "tensor([[-3.9319e-01,  3.1014e-01, -1.9168e-01],\n",
      "        [-1.3305e-01,  3.0151e-01,  7.0922e-01],\n",
      "        [-1.6715e+00, -1.4791e-01,  1.4056e+00],\n",
      "        [-7.9354e-01,  1.1298e+00,  2.0428e-02],\n",
      "        [-3.7798e-01,  3.2330e-01,  2.0875e-01],\n",
      "        [-1.9667e-01,  4.8656e-01, -3.8067e-02],\n",
      "        [-8.5922e-01,  4.3592e-01, -6.2382e-03],\n",
      "        [-7.4284e-01,  8.2795e-01,  4.1198e-01],\n",
      "        [-3.6736e-01,  3.2953e-01, -3.0772e-01],\n",
      "        [-7.3645e-01,  3.3666e-01,  1.5447e-01],\n",
      "        [-5.5335e-01,  3.4154e-01,  8.4065e-01],\n",
      "        [-2.0055e-01,  2.2356e-01,  3.3943e-01],\n",
      "        [-7.4835e-01, -1.6527e-01,  7.1564e-01],\n",
      "        [-1.7144e-01,  1.9190e-01, -4.7040e-01],\n",
      "        [-6.9899e-01,  1.2435e+00,  1.4219e-01],\n",
      "        [-5.5388e-02,  3.0036e-01,  4.4641e-01],\n",
      "        [-5.4766e-01, -2.2172e-01,  1.4564e-01],\n",
      "        [-8.6322e-01,  2.2137e-02,  4.7083e-01],\n",
      "        [-6.1187e-01, -3.7759e-02,  5.6640e-01],\n",
      "        [-4.5231e-01,  3.1463e-01,  6.8625e-02],\n",
      "        [-6.3997e-01,  3.5097e-01,  5.1236e-01],\n",
      "        [ 8.7624e-03, -3.7787e-02,  2.5497e-01],\n",
      "        [-9.7857e-01,  4.3429e-01,  5.8821e-01],\n",
      "        [-3.2895e-01, -1.7996e-01,  5.9360e-01],\n",
      "        [-8.3006e-01, -2.9678e-01,  6.8143e-01],\n",
      "        [-1.4351e+00,  7.1517e-01,  8.9415e-01],\n",
      "        [-1.3677e+00,  7.2403e-01,  9.9209e-01],\n",
      "        [-1.4150e+00,  8.9316e-01, -3.6167e-02],\n",
      "        [-8.2398e-01, -2.6807e-01,  3.9784e-01],\n",
      "        [-1.1946e+00, -4.0948e-02,  2.2207e-01],\n",
      "        [-1.0831e+00, -2.6266e-01,  4.8382e-02],\n",
      "        [-7.6753e-03, -2.4313e-02,  1.2927e-01],\n",
      "        [-1.8197e-01, -4.0906e-02,  4.0023e-01],\n",
      "        [-8.9074e-01,  4.7391e-01,  5.2657e-02],\n",
      "        [-5.6119e-01, -4.0195e-01, -5.0222e-02],\n",
      "        [ 8.0880e-04, -4.3796e-03, -3.0139e-02],\n",
      "        [-2.3763e-02,  4.6896e-01,  8.4239e-03],\n",
      "        [-3.6165e-01,  3.1070e-01, -2.5506e-01],\n",
      "        [-1.1078e+00,  1.4324e+00, -1.2199e-01],\n",
      "        [-6.5763e-01, -2.5254e-02,  1.1451e-01],\n",
      "        [-3.9279e-01, -3.9567e-01,  1.0302e+00],\n",
      "        [ 1.4229e-01,  2.7247e-01,  1.2349e-01],\n",
      "        [-1.1493e+00, -1.4146e-01,  5.1195e-01],\n",
      "        [-1.0654e+00,  1.0076e+00, -2.2576e-01],\n",
      "        [-4.9039e-02, -1.8810e-02,  4.7186e-01],\n",
      "        [-9.6943e-01,  8.1552e-01,  1.1457e+00],\n",
      "        [-7.6721e-01,  1.5559e-01,  9.8174e-01],\n",
      "        [-8.5764e-02, -1.2355e-01,  2.0483e-01],\n",
      "        [-2.7071e-01,  3.2004e-01,  4.1502e-01],\n",
      "        [-1.4613e+00,  1.2553e+00,  5.8086e-01]], device='cuda:0',\n",
      "       grad_fn=<AddmmBackward0>) tensor([[0., 1., 0.],\n",
      "        [0., 0., 1.],\n",
      "        [0., 0., 1.],\n",
      "        [0., 0., 1.],\n",
      "        [0., 0., 1.],\n",
      "        [0., 1., 0.],\n",
      "        [1., 0., 0.],\n",
      "        [0., 0., 1.],\n",
      "        [0., 0., 1.],\n",
      "        [0., 0., 1.],\n",
      "        [0., 1., 0.],\n",
      "        [0., 1., 0.],\n",
      "        [0., 0., 1.],\n",
      "        [1., 0., 0.],\n",
      "        [0., 1., 0.],\n",
      "        [1., 0., 0.],\n",
      "        [0., 0., 1.],\n",
      "        [0., 1., 0.],\n",
      "        [0., 0., 1.],\n",
      "        [0., 1., 0.],\n",
      "        [1., 0., 0.],\n",
      "        [0., 0., 1.],\n",
      "        [1., 0., 0.],\n",
      "        [0., 0., 1.],\n",
      "        [0., 1., 0.],\n",
      "        [0., 1., 0.],\n",
      "        [0., 0., 1.],\n",
      "        [0., 1., 0.],\n",
      "        [0., 1., 0.],\n",
      "        [0., 0., 1.],\n",
      "        [0., 0., 1.],\n",
      "        [0., 1., 0.],\n",
      "        [0., 1., 0.],\n",
      "        [0., 1., 0.],\n",
      "        [1., 0., 0.],\n",
      "        [1., 0., 0.],\n",
      "        [0., 1., 0.],\n",
      "        [0., 0., 1.],\n",
      "        [0., 1., 0.],\n",
      "        [0., 0., 1.],\n",
      "        [0., 0., 1.],\n",
      "        [1., 0., 0.],\n",
      "        [0., 1., 0.],\n",
      "        [0., 1., 0.],\n",
      "        [0., 1., 0.],\n",
      "        [0., 0., 1.],\n",
      "        [0., 0., 1.],\n",
      "        [0., 1., 0.],\n",
      "        [0., 0., 1.],\n",
      "        [0., 0., 1.]], device='cuda:0')\n",
      "tensor([[-0.6454,  0.2324, -0.0038],\n",
      "        [-0.3227,  0.7224,  0.6352],\n",
      "        [-0.6261,  0.3773,  0.1779],\n",
      "        [-0.8939,  0.3710,  0.0936],\n",
      "        [-1.3230,  0.0845,  0.8670],\n",
      "        [-1.2897,  0.8051,  1.0900],\n",
      "        [-1.1513,  0.5954,  0.3601],\n",
      "        [-0.7138,  0.2398,  0.6420],\n",
      "        [-0.5979,  0.0616,  0.0105],\n",
      "        [-0.5088, -0.1321,  0.2878],\n",
      "        [-0.3482,  0.1421,  0.4219],\n",
      "        [-1.4840, -0.0414,  2.1427],\n",
      "        [-0.2082, -0.0893,  0.0395],\n",
      "        [-0.4856, -0.1626, -0.0117],\n",
      "        [-1.2792,  0.4662,  0.6432],\n",
      "        [-0.0732,  0.0972,  0.8654],\n",
      "        [-1.4424,  0.3844,  0.7151],\n",
      "        [-1.4667, -0.1593,  1.0437],\n",
      "        [-0.0514,  0.0310, -0.0091],\n",
      "        [-0.7825,  0.2181,  1.3310],\n",
      "        [-0.7975,  0.0071,  0.1716],\n",
      "        [-0.5322,  0.1762,  0.1919],\n",
      "        [-0.2835,  0.1179,  0.1056],\n",
      "        [-1.2476,  0.7069,  0.8557],\n",
      "        [-0.6630, -0.2342,  1.1906],\n",
      "        [-1.2005,  1.1689,  0.0534],\n",
      "        [-0.8953,  0.7809,  0.5923],\n",
      "        [-1.7467,  0.6716,  0.7658],\n",
      "        [-0.3428,  0.1450,  0.4832],\n",
      "        [-1.1290,  0.2795,  0.5041],\n",
      "        [-0.0092,  0.3046,  0.2261],\n",
      "        [-1.1728,  0.1331,  0.8346],\n",
      "        [-0.7145,  0.4166,  1.4191],\n",
      "        [-0.8685,  0.4213,  0.7142],\n",
      "        [-0.0112,  0.2491,  0.3168],\n",
      "        [-0.4838,  0.0035,  0.2898],\n",
      "        [-1.8051,  0.2172,  1.1269],\n",
      "        [-1.3668,  0.6163,  1.1097],\n",
      "        [-1.3330,  0.1763,  1.5995],\n",
      "        [-0.4440,  1.0778, -0.0615],\n",
      "        [-1.8208,  0.8732,  1.0288],\n",
      "        [-0.9707,  0.3370,  0.7565],\n",
      "        [-0.5599,  0.2736,  0.1941],\n",
      "        [-0.5144,  1.4675,  0.0533],\n",
      "        [-2.0055, -0.1714,  1.2364],\n",
      "        [-0.8408,  0.3746,  0.5636],\n",
      "        [-1.5499,  0.3140,  1.4732],\n",
      "        [-1.3080,  0.9889,  0.4681],\n",
      "        [-0.9234,  0.1237,  1.1126],\n",
      "        [-0.1575,  0.6813,  0.1724]], device='cuda:0',\n",
      "       grad_fn=<AddmmBackward0>) tensor([[0., 0., 1.],\n",
      "        [0., 1., 0.],\n",
      "        [0., 1., 0.],\n",
      "        [0., 0., 1.],\n",
      "        [0., 0., 1.],\n",
      "        [0., 0., 1.],\n",
      "        [0., 0., 1.],\n",
      "        [0., 1., 0.],\n",
      "        [0., 0., 1.],\n",
      "        [0., 1., 0.],\n",
      "        [0., 0., 1.],\n",
      "        [0., 0., 1.],\n",
      "        [0., 1., 0.],\n",
      "        [0., 0., 1.],\n",
      "        [0., 0., 1.],\n",
      "        [0., 1., 0.],\n",
      "        [0., 1., 0.],\n",
      "        [0., 0., 1.],\n",
      "        [0., 1., 0.],\n",
      "        [0., 0., 1.],\n",
      "        [0., 0., 1.],\n",
      "        [0., 0., 1.],\n",
      "        [0., 0., 1.],\n",
      "        [0., 0., 1.],\n",
      "        [0., 1., 0.],\n",
      "        [0., 1., 0.],\n",
      "        [0., 1., 0.],\n",
      "        [0., 1., 0.],\n",
      "        [0., 1., 0.],\n",
      "        [0., 0., 1.],\n",
      "        [1., 0., 0.],\n",
      "        [0., 0., 1.],\n",
      "        [0., 0., 1.],\n",
      "        [0., 1., 0.],\n",
      "        [0., 0., 1.],\n",
      "        [0., 0., 1.],\n",
      "        [0., 0., 1.],\n",
      "        [0., 0., 1.],\n",
      "        [0., 0., 1.],\n",
      "        [0., 0., 1.],\n",
      "        [0., 0., 1.],\n",
      "        [0., 1., 0.],\n",
      "        [0., 1., 0.],\n",
      "        [0., 1., 0.],\n",
      "        [0., 0., 1.],\n",
      "        [0., 0., 1.],\n",
      "        [0., 0., 1.],\n",
      "        [0., 0., 1.],\n",
      "        [0., 0., 1.],\n",
      "        [0., 1., 0.]], device='cuda:0')\n",
      "tensor([[-1.8220,  0.6506,  0.6168],\n",
      "        [-0.9011, -0.0227,  1.0450],\n",
      "        [-0.1430,  0.6135,  0.4259],\n",
      "        [-2.1421,  0.0364,  1.6813],\n",
      "        [-1.1905,  0.7988,  0.8237],\n",
      "        [-2.1016,  0.2825,  1.9883],\n",
      "        [-0.4271,  0.0539,  0.7976],\n",
      "        [-1.2714,  0.1693,  0.8533],\n",
      "        [-1.2434,  0.4774,  0.6254],\n",
      "        [-1.4031,  0.6696,  1.0102],\n",
      "        [-1.6293,  0.3601,  1.1205],\n",
      "        [-1.6133,  0.5115,  0.7106],\n",
      "        [-1.7676,  1.2795,  0.4472],\n",
      "        [-1.5309,  0.4307,  0.4933],\n",
      "        [-1.3783,  0.6978,  0.9479],\n",
      "        [-0.5091,  0.5659,  0.5930],\n",
      "        [-1.9096,  1.0439,  0.8175],\n",
      "        [-0.9220,  0.3445,  0.8498],\n",
      "        [-1.3135,  0.3075,  0.4037],\n",
      "        [-1.2917,  0.0368,  1.2319],\n",
      "        [-1.9257,  0.8737,  1.5751],\n",
      "        [-1.3985,  1.4568,  0.1858],\n",
      "        [-1.8085,  0.0235,  0.3976],\n",
      "        [-0.4187, -0.2896,  0.6055],\n",
      "        [-1.0554,  0.6436,  0.7661],\n",
      "        [-1.6285,  1.4440,  0.6037],\n",
      "        [-1.5252,  0.7602,  1.1653],\n",
      "        [-0.3822,  0.2331,  0.8527],\n",
      "        [-1.6590,  0.3099,  0.7540],\n",
      "        [-2.0284,  1.0502,  1.1183],\n",
      "        [-1.4296,  0.5055,  0.9311],\n",
      "        [-0.5779, -0.1889,  0.5055],\n",
      "        [-0.7354,  0.7510,  0.5283],\n",
      "        [-0.7546,  0.0768,  0.9529],\n",
      "        [-0.5929, -0.0421,  0.7449],\n",
      "        [-1.2767,  0.3565,  0.8734],\n",
      "        [-1.1237,  0.8410,  0.3744],\n",
      "        [-1.3465,  0.4764,  0.8685],\n",
      "        [-0.7794,  0.5609,  0.5726],\n",
      "        [-1.9802,  0.6634,  2.1947],\n",
      "        [-1.9543,  0.4629,  1.4108],\n",
      "        [-1.2114,  0.9028,  0.8869],\n",
      "        [-1.4851,  0.2761,  0.6420],\n",
      "        [-1.5303, -0.0427,  0.6650],\n",
      "        [-2.5938,  0.3174,  1.9155],\n",
      "        [-1.8889,  0.3626,  0.8596],\n",
      "        [-1.2625,  0.0116,  0.2742],\n",
      "        [-1.4633,  0.4066,  0.6047],\n",
      "        [-0.8016, -0.0107,  0.3661],\n",
      "        [-1.2102,  0.6899,  0.0972]], device='cuda:0',\n",
      "       grad_fn=<AddmmBackward0>) tensor([[0., 0., 1.],\n",
      "        [0., 1., 0.],\n",
      "        [1., 0., 0.],\n",
      "        [0., 1., 0.],\n",
      "        [0., 1., 0.],\n",
      "        [0., 0., 1.],\n",
      "        [0., 0., 1.],\n",
      "        [0., 1., 0.],\n",
      "        [1., 0., 0.],\n",
      "        [0., 0., 1.],\n",
      "        [0., 0., 1.],\n",
      "        [0., 1., 0.],\n",
      "        [0., 1., 0.],\n",
      "        [0., 1., 0.],\n",
      "        [0., 0., 1.],\n",
      "        [0., 1., 0.],\n",
      "        [0., 1., 0.],\n",
      "        [0., 0., 1.],\n",
      "        [0., 1., 0.],\n",
      "        [0., 0., 1.],\n",
      "        [0., 1., 0.],\n",
      "        [0., 1., 0.],\n",
      "        [0., 0., 1.],\n",
      "        [0., 1., 0.],\n",
      "        [1., 0., 0.],\n",
      "        [0., 0., 1.],\n",
      "        [0., 0., 1.],\n",
      "        [0., 0., 1.],\n",
      "        [0., 0., 1.],\n",
      "        [0., 0., 1.],\n",
      "        [0., 1., 0.],\n",
      "        [0., 0., 1.],\n",
      "        [0., 0., 1.],\n",
      "        [1., 0., 0.],\n",
      "        [0., 0., 1.],\n",
      "        [0., 0., 1.],\n",
      "        [0., 0., 1.],\n",
      "        [0., 0., 1.],\n",
      "        [0., 1., 0.],\n",
      "        [0., 1., 0.],\n",
      "        [0., 0., 1.],\n",
      "        [0., 1., 0.],\n",
      "        [0., 0., 1.],\n",
      "        [0., 0., 1.],\n",
      "        [0., 0., 1.],\n",
      "        [0., 1., 0.],\n",
      "        [0., 0., 1.],\n",
      "        [0., 0., 1.],\n",
      "        [0., 1., 0.],\n",
      "        [0., 1., 0.]], device='cuda:0')\n",
      "tensor([[-1.2597,  0.3954,  0.8519],\n",
      "        [-1.6605,  0.1428,  0.7376],\n",
      "        [-1.8460,  1.5069,  1.1550],\n",
      "        [-1.2851,  1.4645,  1.4137],\n",
      "        [-1.9503,  1.0664,  0.7141],\n",
      "        [-1.4505, -0.3514,  1.6747],\n",
      "        [-0.8504,  0.1804,  0.9446],\n",
      "        [-2.0062,  1.1692,  1.2545],\n",
      "        [-1.6549,  1.1889,  1.4774],\n",
      "        [-0.9398,  0.2327,  0.5172],\n",
      "        [-2.0217,  0.7511,  0.7461],\n",
      "        [-1.0765,  1.0878,  0.6732],\n",
      "        [-0.7344,  0.0684,  0.6062],\n",
      "        [-1.0283,  0.3843,  0.7316],\n",
      "        [-2.3667,  1.0252,  1.6917],\n",
      "        [-1.1213,  0.5176,  1.0335],\n",
      "        [-0.5082,  0.5845,  0.3906],\n",
      "        [-0.8416,  0.2152,  0.7086],\n",
      "        [-1.4433,  0.3270,  1.0254],\n",
      "        [-1.7263,  0.4128,  1.2395],\n",
      "        [-0.7256,  0.0333,  0.8718],\n",
      "        [-1.3060,  0.8773,  0.9491],\n",
      "        [-1.0272,  0.4018,  1.5465],\n",
      "        [-1.4005,  0.9732,  1.3981],\n",
      "        [-1.7879,  1.0608,  0.9905],\n",
      "        [-0.6460,  0.4649,  0.4527],\n",
      "        [-1.1766, -0.2389,  0.9111],\n",
      "        [-1.2543,  0.4808,  0.5540],\n",
      "        [-1.8948, -0.0947,  0.9333],\n",
      "        [-0.2492, -0.4316,  0.1544],\n",
      "        [-0.8938,  0.7330,  0.9248],\n",
      "        [-1.6196,  0.2447,  1.1925],\n",
      "        [-1.4411,  0.0262,  1.2564],\n",
      "        [-2.4145, -0.0273,  1.7589],\n",
      "        [-1.2772,  0.9104,  0.4551],\n",
      "        [-1.4112,  0.4623,  1.0592],\n",
      "        [-1.3404,  0.2777,  0.9413],\n",
      "        [-0.8610,  0.7085,  0.6069],\n",
      "        [-1.2049,  0.1711,  0.5727],\n",
      "        [-2.7231,  0.7270,  1.2348],\n",
      "        [-1.7585,  0.7387,  2.3686],\n",
      "        [-1.5897, -0.0078,  1.8630],\n",
      "        [-0.5780,  0.4932,  0.6198],\n",
      "        [-0.6267, -0.1011,  0.5211],\n",
      "        [-1.4125,  0.5430,  1.2462],\n",
      "        [-2.4601,  0.8956,  1.2933],\n",
      "        [-1.9098,  0.2602,  2.0299],\n",
      "        [-1.6706,  0.8794,  1.2679],\n",
      "        [-2.0527,  0.1049,  0.6425],\n",
      "        [-1.5635, -0.4621,  1.2757]], device='cuda:0',\n",
      "       grad_fn=<AddmmBackward0>) tensor([[0., 0., 1.],\n",
      "        [0., 0., 1.],\n",
      "        [1., 0., 0.],\n",
      "        [0., 0., 1.],\n",
      "        [0., 1., 0.],\n",
      "        [0., 0., 1.],\n",
      "        [0., 0., 1.],\n",
      "        [0., 0., 1.],\n",
      "        [0., 0., 1.],\n",
      "        [0., 1., 0.],\n",
      "        [0., 1., 0.],\n",
      "        [1., 0., 0.],\n",
      "        [0., 0., 1.],\n",
      "        [0., 1., 0.],\n",
      "        [0., 0., 1.],\n",
      "        [0., 0., 1.],\n",
      "        [0., 0., 1.],\n",
      "        [1., 0., 0.],\n",
      "        [0., 1., 0.],\n",
      "        [0., 1., 0.],\n",
      "        [0., 1., 0.],\n",
      "        [1., 0., 0.],\n",
      "        [0., 1., 0.],\n",
      "        [0., 0., 1.],\n",
      "        [0., 1., 0.],\n",
      "        [0., 0., 1.],\n",
      "        [0., 0., 1.],\n",
      "        [0., 0., 1.],\n",
      "        [0., 0., 1.],\n",
      "        [0., 1., 0.],\n",
      "        [0., 0., 1.],\n",
      "        [0., 0., 1.],\n",
      "        [0., 0., 1.],\n",
      "        [0., 0., 1.],\n",
      "        [0., 1., 0.],\n",
      "        [0., 0., 1.],\n",
      "        [0., 0., 1.],\n",
      "        [0., 0., 1.],\n",
      "        [0., 1., 0.],\n",
      "        [0., 1., 0.],\n",
      "        [1., 0., 0.],\n",
      "        [0., 0., 1.],\n",
      "        [1., 0., 0.],\n",
      "        [0., 0., 1.],\n",
      "        [0., 0., 1.],\n",
      "        [0., 0., 1.],\n",
      "        [0., 0., 1.],\n",
      "        [0., 0., 1.],\n",
      "        [0., 0., 1.],\n",
      "        [0., 1., 0.]], device='cuda:0')\n"
     ]
    },
    {
     "ename": "KeyboardInterrupt",
     "evalue": "",
     "output_type": "error",
     "traceback": [
      "\u001B[0;31m---------------------------------------------------------------------------\u001B[0m",
      "\u001B[0;31mKeyboardInterrupt\u001B[0m                         Traceback (most recent call last)",
      "Cell \u001B[0;32mIn[28], line 2\u001B[0m\n\u001B[1;32m      1\u001B[0m \u001B[38;5;28mprint\u001B[39m(\u001B[38;5;124m'\u001B[39m\u001B[38;5;124mRNN Start Training:\u001B[39m\u001B[38;5;124m'\u001B[39m)\n\u001B[0;32m----> 2\u001B[0m rnn_train_losses, rnn_val_losses, rnn_val_accs \u001B[38;5;241m=\u001B[39m \u001B[43mtrain_and_validate\u001B[49m\u001B[43m(\u001B[49m\u001B[43mmodel\u001B[49m\u001B[43m,\u001B[49m\u001B[43m \u001B[49m\u001B[43mrnn_optimizer\u001B[49m\u001B[43m,\u001B[49m\u001B[43m \u001B[49m\u001B[43mcriterion\u001B[49m\u001B[43m,\u001B[49m\u001B[43m \u001B[49m\u001B[43mtrain_loader\u001B[49m\u001B[43m,\u001B[49m\n\u001B[1;32m      3\u001B[0m \u001B[43m                                                                    \u001B[49m\u001B[43mval_loader\u001B[49m\u001B[43m,\u001B[49m\u001B[43m \u001B[49m\u001B[43mepochs\u001B[49m\u001B[43m,\u001B[49m\u001B[43m \u001B[49m\u001B[43mdevice\u001B[49m\u001B[43m)\u001B[49m\n",
      "Cell \u001B[0;32mIn[24], line 9\u001B[0m, in \u001B[0;36mtrain_and_validate\u001B[0;34m(model_, optimizer, criterion_, train_loader_, val_loader_, epochs_, device_)\u001B[0m\n\u001B[1;32m      7\u001B[0m \u001B[38;5;28;01mfor\u001B[39;00m inputs, labels_ \u001B[38;5;129;01min\u001B[39;00m train_loader_:\n\u001B[1;32m      8\u001B[0m     inputs, labels_ \u001B[38;5;241m=\u001B[39m inputs\u001B[38;5;241m.\u001B[39mto(device_), labels_\u001B[38;5;241m.\u001B[39mto(device_)\n\u001B[0;32m----> 9\u001B[0m     output \u001B[38;5;241m=\u001B[39m \u001B[43mmodel_\u001B[49m\u001B[43m(\u001B[49m\u001B[43minputs\u001B[49m\u001B[43m)\u001B[49m\n\u001B[1;32m     10\u001B[0m     \u001B[38;5;28mprint\u001B[39m(output, labels_)\n\u001B[1;32m     11\u001B[0m     loss \u001B[38;5;241m=\u001B[39m criterion_(output, torch\u001B[38;5;241m.\u001B[39mmax(labels_, \u001B[38;5;241m1\u001B[39m)[\u001B[38;5;241m1\u001B[39m])\n",
      "File \u001B[0;32m~/my_projects/NaturalLanguageProcessingTasks/.venv/lib/python3.10/site-packages/torch/nn/modules/module.py:1751\u001B[0m, in \u001B[0;36mModule._wrapped_call_impl\u001B[0;34m(self, *args, **kwargs)\u001B[0m\n\u001B[1;32m   1749\u001B[0m     \u001B[38;5;28;01mreturn\u001B[39;00m \u001B[38;5;28mself\u001B[39m\u001B[38;5;241m.\u001B[39m_compiled_call_impl(\u001B[38;5;241m*\u001B[39margs, \u001B[38;5;241m*\u001B[39m\u001B[38;5;241m*\u001B[39mkwargs)  \u001B[38;5;66;03m# type: ignore[misc]\u001B[39;00m\n\u001B[1;32m   1750\u001B[0m \u001B[38;5;28;01melse\u001B[39;00m:\n\u001B[0;32m-> 1751\u001B[0m     \u001B[38;5;28;01mreturn\u001B[39;00m \u001B[38;5;28;43mself\u001B[39;49m\u001B[38;5;241;43m.\u001B[39;49m\u001B[43m_call_impl\u001B[49m\u001B[43m(\u001B[49m\u001B[38;5;241;43m*\u001B[39;49m\u001B[43margs\u001B[49m\u001B[43m,\u001B[49m\u001B[43m \u001B[49m\u001B[38;5;241;43m*\u001B[39;49m\u001B[38;5;241;43m*\u001B[39;49m\u001B[43mkwargs\u001B[49m\u001B[43m)\u001B[49m\n",
      "File \u001B[0;32m~/my_projects/NaturalLanguageProcessingTasks/.venv/lib/python3.10/site-packages/torch/nn/modules/module.py:1762\u001B[0m, in \u001B[0;36mModule._call_impl\u001B[0;34m(self, *args, **kwargs)\u001B[0m\n\u001B[1;32m   1757\u001B[0m \u001B[38;5;66;03m# If we don't have any hooks, we want to skip the rest of the logic in\u001B[39;00m\n\u001B[1;32m   1758\u001B[0m \u001B[38;5;66;03m# this function, and just call forward.\u001B[39;00m\n\u001B[1;32m   1759\u001B[0m \u001B[38;5;28;01mif\u001B[39;00m \u001B[38;5;129;01mnot\u001B[39;00m (\u001B[38;5;28mself\u001B[39m\u001B[38;5;241m.\u001B[39m_backward_hooks \u001B[38;5;129;01mor\u001B[39;00m \u001B[38;5;28mself\u001B[39m\u001B[38;5;241m.\u001B[39m_backward_pre_hooks \u001B[38;5;129;01mor\u001B[39;00m \u001B[38;5;28mself\u001B[39m\u001B[38;5;241m.\u001B[39m_forward_hooks \u001B[38;5;129;01mor\u001B[39;00m \u001B[38;5;28mself\u001B[39m\u001B[38;5;241m.\u001B[39m_forward_pre_hooks\n\u001B[1;32m   1760\u001B[0m         \u001B[38;5;129;01mor\u001B[39;00m _global_backward_pre_hooks \u001B[38;5;129;01mor\u001B[39;00m _global_backward_hooks\n\u001B[1;32m   1761\u001B[0m         \u001B[38;5;129;01mor\u001B[39;00m _global_forward_hooks \u001B[38;5;129;01mor\u001B[39;00m _global_forward_pre_hooks):\n\u001B[0;32m-> 1762\u001B[0m     \u001B[38;5;28;01mreturn\u001B[39;00m \u001B[43mforward_call\u001B[49m\u001B[43m(\u001B[49m\u001B[38;5;241;43m*\u001B[39;49m\u001B[43margs\u001B[49m\u001B[43m,\u001B[49m\u001B[43m \u001B[49m\u001B[38;5;241;43m*\u001B[39;49m\u001B[38;5;241;43m*\u001B[39;49m\u001B[43mkwargs\u001B[49m\u001B[43m)\u001B[49m\n\u001B[1;32m   1764\u001B[0m result \u001B[38;5;241m=\u001B[39m \u001B[38;5;28;01mNone\u001B[39;00m\n\u001B[1;32m   1765\u001B[0m called_always_called_hooks \u001B[38;5;241m=\u001B[39m \u001B[38;5;28mset\u001B[39m()\n",
      "File \u001B[0;32m~/my_projects/NaturalLanguageProcessingTasks/text_classification/rnn.py:94\u001B[0m, in \u001B[0;36mRNN.forward\u001B[0;34m(self, x)\u001B[0m\n\u001B[1;32m     92\u001B[0m \u001B[38;5;28;01mdef\u001B[39;00m\u001B[38;5;250m \u001B[39m\u001B[38;5;21mforward\u001B[39m(\u001B[38;5;28mself\u001B[39m, x):\n\u001B[1;32m     93\u001B[0m     embedded \u001B[38;5;241m=\u001B[39m \u001B[38;5;28mself\u001B[39m\u001B[38;5;241m.\u001B[39membedding(x)\n\u001B[0;32m---> 94\u001B[0m     out, hidden \u001B[38;5;241m=\u001B[39m \u001B[38;5;28;43mself\u001B[39;49m\u001B[38;5;241;43m.\u001B[39;49m\u001B[43mrnn\u001B[49m\u001B[43m(\u001B[49m\u001B[43membedded\u001B[49m\u001B[43m)\u001B[49m\n\u001B[1;32m     95\u001B[0m     out \u001B[38;5;241m=\u001B[39m \u001B[38;5;28mself\u001B[39m\u001B[38;5;241m.\u001B[39mdropout(out)\n\u001B[1;32m     96\u001B[0m     out \u001B[38;5;241m=\u001B[39m \u001B[38;5;28mself\u001B[39m\u001B[38;5;241m.\u001B[39mfc(out[:, \u001B[38;5;241m-\u001B[39m\u001B[38;5;241m1\u001B[39m])\n",
      "File \u001B[0;32m~/my_projects/NaturalLanguageProcessingTasks/.venv/lib/python3.10/site-packages/torch/nn/modules/module.py:1751\u001B[0m, in \u001B[0;36mModule._wrapped_call_impl\u001B[0;34m(self, *args, **kwargs)\u001B[0m\n\u001B[1;32m   1749\u001B[0m     \u001B[38;5;28;01mreturn\u001B[39;00m \u001B[38;5;28mself\u001B[39m\u001B[38;5;241m.\u001B[39m_compiled_call_impl(\u001B[38;5;241m*\u001B[39margs, \u001B[38;5;241m*\u001B[39m\u001B[38;5;241m*\u001B[39mkwargs)  \u001B[38;5;66;03m# type: ignore[misc]\u001B[39;00m\n\u001B[1;32m   1750\u001B[0m \u001B[38;5;28;01melse\u001B[39;00m:\n\u001B[0;32m-> 1751\u001B[0m     \u001B[38;5;28;01mreturn\u001B[39;00m \u001B[38;5;28;43mself\u001B[39;49m\u001B[38;5;241;43m.\u001B[39;49m\u001B[43m_call_impl\u001B[49m\u001B[43m(\u001B[49m\u001B[38;5;241;43m*\u001B[39;49m\u001B[43margs\u001B[49m\u001B[43m,\u001B[49m\u001B[43m \u001B[49m\u001B[38;5;241;43m*\u001B[39;49m\u001B[38;5;241;43m*\u001B[39;49m\u001B[43mkwargs\u001B[49m\u001B[43m)\u001B[49m\n",
      "File \u001B[0;32m~/my_projects/NaturalLanguageProcessingTasks/.venv/lib/python3.10/site-packages/torch/nn/modules/module.py:1762\u001B[0m, in \u001B[0;36mModule._call_impl\u001B[0;34m(self, *args, **kwargs)\u001B[0m\n\u001B[1;32m   1757\u001B[0m \u001B[38;5;66;03m# If we don't have any hooks, we want to skip the rest of the logic in\u001B[39;00m\n\u001B[1;32m   1758\u001B[0m \u001B[38;5;66;03m# this function, and just call forward.\u001B[39;00m\n\u001B[1;32m   1759\u001B[0m \u001B[38;5;28;01mif\u001B[39;00m \u001B[38;5;129;01mnot\u001B[39;00m (\u001B[38;5;28mself\u001B[39m\u001B[38;5;241m.\u001B[39m_backward_hooks \u001B[38;5;129;01mor\u001B[39;00m \u001B[38;5;28mself\u001B[39m\u001B[38;5;241m.\u001B[39m_backward_pre_hooks \u001B[38;5;129;01mor\u001B[39;00m \u001B[38;5;28mself\u001B[39m\u001B[38;5;241m.\u001B[39m_forward_hooks \u001B[38;5;129;01mor\u001B[39;00m \u001B[38;5;28mself\u001B[39m\u001B[38;5;241m.\u001B[39m_forward_pre_hooks\n\u001B[1;32m   1760\u001B[0m         \u001B[38;5;129;01mor\u001B[39;00m _global_backward_pre_hooks \u001B[38;5;129;01mor\u001B[39;00m _global_backward_hooks\n\u001B[1;32m   1761\u001B[0m         \u001B[38;5;129;01mor\u001B[39;00m _global_forward_hooks \u001B[38;5;129;01mor\u001B[39;00m _global_forward_pre_hooks):\n\u001B[0;32m-> 1762\u001B[0m     \u001B[38;5;28;01mreturn\u001B[39;00m \u001B[43mforward_call\u001B[49m\u001B[43m(\u001B[49m\u001B[38;5;241;43m*\u001B[39;49m\u001B[43margs\u001B[49m\u001B[43m,\u001B[49m\u001B[43m \u001B[49m\u001B[38;5;241;43m*\u001B[39;49m\u001B[38;5;241;43m*\u001B[39;49m\u001B[43mkwargs\u001B[49m\u001B[43m)\u001B[49m\n\u001B[1;32m   1764\u001B[0m result \u001B[38;5;241m=\u001B[39m \u001B[38;5;28;01mNone\u001B[39;00m\n\u001B[1;32m   1765\u001B[0m called_always_called_hooks \u001B[38;5;241m=\u001B[39m \u001B[38;5;28mset\u001B[39m()\n",
      "File \u001B[0;32m~/my_projects/NaturalLanguageProcessingTasks/text_classification/rnn.py:75\u001B[0m, in \u001B[0;36mRNNBlock.forward\u001B[0;34m(self, x)\u001B[0m\n\u001B[1;32m     73\u001B[0m     \u001B[38;5;28;01mif\u001B[39;00m hidden_state \u001B[38;5;129;01mis\u001B[39;00m \u001B[38;5;28;01mNone\u001B[39;00m:\n\u001B[1;32m     74\u001B[0m         hidden_state \u001B[38;5;241m=\u001B[39m layer\u001B[38;5;241m.\u001B[39minit_zero_hidden(x\u001B[38;5;241m.\u001B[39msize(\u001B[38;5;241m0\u001B[39m))\n\u001B[0;32m---> 75\u001B[0m     x, hidden_state \u001B[38;5;241m=\u001B[39m \u001B[43mlayer\u001B[49m\u001B[43m(\u001B[49m\u001B[43mx\u001B[49m\u001B[43m,\u001B[49m\u001B[43m \u001B[49m\u001B[43mhidden_state\u001B[49m\u001B[43m)\u001B[49m\n\u001B[1;32m     76\u001B[0m \u001B[38;5;28;01mreturn\u001B[39;00m x, hidden_state\n",
      "File \u001B[0;32m~/my_projects/NaturalLanguageProcessingTasks/.venv/lib/python3.10/site-packages/torch/nn/modules/module.py:1751\u001B[0m, in \u001B[0;36mModule._wrapped_call_impl\u001B[0;34m(self, *args, **kwargs)\u001B[0m\n\u001B[1;32m   1749\u001B[0m     \u001B[38;5;28;01mreturn\u001B[39;00m \u001B[38;5;28mself\u001B[39m\u001B[38;5;241m.\u001B[39m_compiled_call_impl(\u001B[38;5;241m*\u001B[39margs, \u001B[38;5;241m*\u001B[39m\u001B[38;5;241m*\u001B[39mkwargs)  \u001B[38;5;66;03m# type: ignore[misc]\u001B[39;00m\n\u001B[1;32m   1750\u001B[0m \u001B[38;5;28;01melse\u001B[39;00m:\n\u001B[0;32m-> 1751\u001B[0m     \u001B[38;5;28;01mreturn\u001B[39;00m \u001B[38;5;28;43mself\u001B[39;49m\u001B[38;5;241;43m.\u001B[39;49m\u001B[43m_call_impl\u001B[49m\u001B[43m(\u001B[49m\u001B[38;5;241;43m*\u001B[39;49m\u001B[43margs\u001B[49m\u001B[43m,\u001B[49m\u001B[43m \u001B[49m\u001B[38;5;241;43m*\u001B[39;49m\u001B[38;5;241;43m*\u001B[39;49m\u001B[43mkwargs\u001B[49m\u001B[43m)\u001B[49m\n",
      "File \u001B[0;32m~/my_projects/NaturalLanguageProcessingTasks/.venv/lib/python3.10/site-packages/torch/nn/modules/module.py:1762\u001B[0m, in \u001B[0;36mModule._call_impl\u001B[0;34m(self, *args, **kwargs)\u001B[0m\n\u001B[1;32m   1757\u001B[0m \u001B[38;5;66;03m# If we don't have any hooks, we want to skip the rest of the logic in\u001B[39;00m\n\u001B[1;32m   1758\u001B[0m \u001B[38;5;66;03m# this function, and just call forward.\u001B[39;00m\n\u001B[1;32m   1759\u001B[0m \u001B[38;5;28;01mif\u001B[39;00m \u001B[38;5;129;01mnot\u001B[39;00m (\u001B[38;5;28mself\u001B[39m\u001B[38;5;241m.\u001B[39m_backward_hooks \u001B[38;5;129;01mor\u001B[39;00m \u001B[38;5;28mself\u001B[39m\u001B[38;5;241m.\u001B[39m_backward_pre_hooks \u001B[38;5;129;01mor\u001B[39;00m \u001B[38;5;28mself\u001B[39m\u001B[38;5;241m.\u001B[39m_forward_hooks \u001B[38;5;129;01mor\u001B[39;00m \u001B[38;5;28mself\u001B[39m\u001B[38;5;241m.\u001B[39m_forward_pre_hooks\n\u001B[1;32m   1760\u001B[0m         \u001B[38;5;129;01mor\u001B[39;00m _global_backward_pre_hooks \u001B[38;5;129;01mor\u001B[39;00m _global_backward_hooks\n\u001B[1;32m   1761\u001B[0m         \u001B[38;5;129;01mor\u001B[39;00m _global_forward_hooks \u001B[38;5;129;01mor\u001B[39;00m _global_forward_pre_hooks):\n\u001B[0;32m-> 1762\u001B[0m     \u001B[38;5;28;01mreturn\u001B[39;00m \u001B[43mforward_call\u001B[49m\u001B[43m(\u001B[49m\u001B[38;5;241;43m*\u001B[39;49m\u001B[43margs\u001B[49m\u001B[43m,\u001B[49m\u001B[43m \u001B[49m\u001B[38;5;241;43m*\u001B[39;49m\u001B[38;5;241;43m*\u001B[39;49m\u001B[43mkwargs\u001B[49m\u001B[43m)\u001B[49m\n\u001B[1;32m   1764\u001B[0m result \u001B[38;5;241m=\u001B[39m \u001B[38;5;28;01mNone\u001B[39;00m\n\u001B[1;32m   1765\u001B[0m called_always_called_hooks \u001B[38;5;241m=\u001B[39m \u001B[38;5;28mset\u001B[39m()\n",
      "File \u001B[0;32m~/my_projects/NaturalLanguageProcessingTasks/text_classification/rnn.py:21\u001B[0m, in \u001B[0;36mRNNLayer.forward\u001B[0;34m(self, x, hidden_state)\u001B[0m\n\u001B[1;32m     19\u001B[0m \u001B[38;5;28;01mdef\u001B[39;00m\u001B[38;5;250m \u001B[39m\u001B[38;5;21mforward\u001B[39m(\u001B[38;5;28mself\u001B[39m, x, hidden_state):\n\u001B[1;32m     20\u001B[0m     b, seq_len, embed_size \u001B[38;5;241m=\u001B[39m x\u001B[38;5;241m.\u001B[39msize()\n\u001B[0;32m---> 21\u001B[0m     out_forward \u001B[38;5;241m=\u001B[39m \u001B[43mtorch\u001B[49m\u001B[38;5;241;43m.\u001B[39;49m\u001B[43mzeros\u001B[49m\u001B[43m(\u001B[49m\u001B[43mb\u001B[49m\u001B[43m,\u001B[49m\u001B[43m \u001B[49m\u001B[43mseq_len\u001B[49m\u001B[43m,\u001B[49m\u001B[43m \u001B[49m\u001B[38;5;28;43mself\u001B[39;49m\u001B[38;5;241;43m.\u001B[39;49m\u001B[43mhidden_size\u001B[49m\u001B[43m)\u001B[49m\u001B[38;5;241m.\u001B[39mto(device)\n\u001B[1;32m     22\u001B[0m     hidden_state_f \u001B[38;5;241m=\u001B[39m hidden_state\n\u001B[1;32m     23\u001B[0m     \u001B[38;5;28;01mfor\u001B[39;00m t \u001B[38;5;129;01min\u001B[39;00m \u001B[38;5;28mrange\u001B[39m(seq_len):\n",
      "\u001B[0;31mKeyboardInterrupt\u001B[0m: "
     ]
    }
   ],
   "execution_count": 28
  },
  {
   "metadata": {
    "ExecuteTime": {
     "end_time": "2025-05-16T17:12:43.742340Z",
     "start_time": "2025-05-16T17:12:43.679316Z"
    }
   },
   "cell_type": "code",
   "source": "plot_losses('RNN', rnn_train_losses, rnn_val_losses, epochs)",
   "id": "bce15f98aa283cee",
   "outputs": [
    {
     "data": {
      "text/plain": [
       "<Figure size 640x480 with 1 Axes>"
      ],
      "image/png": "[encoded data removed]"
     },
     "metadata": {},
     "output_type": "display_data"
    }
   ],
   "execution_count": 100
  },
  {
   "metadata": {},
   "cell_type": "markdown",
   "source": "# BiDirectional RNN",
   "id": "aa8d264f674cc44d"
  },
  {
   "metadata": {
    "ExecuteTime": {
     "end_time": "2025-05-17T07:19:06.179006Z",
     "start_time": "2025-05-17T07:19:06.160726Z"
    }
   },
   "cell_type": "code",
   "source": [
    "epochs = 20\n",
    "output_size_ = 3\n",
    "embedding_dim_ = 400\n",
    "hidden_dim_ = 256\n",
    "n_layers_ = 2\n",
    "vocab_size = len(tokenizer.word_index) + 1\n",
    "modes = 'sum'\n",
    "\n",
    "model = RNN(output_size_, embedding_dim_, hidden_dim_, n_layers_, vocab_size, modes).to(device)"
   ],
   "id": "2e658ceedb5b2660",
   "outputs": [],
   "execution_count": 21
  },
  {
   "metadata": {
    "ExecuteTime": {
     "end_time": "2025-05-17T07:19:06.666514Z",
     "start_time": "2025-05-17T07:19:06.663681Z"
    }
   },
   "cell_type": "code",
   "source": [
    "rnn_optimizer = optim.Adam(model.parameters(), lr=1e-3)\n",
    "criterion = nn.CrossEntropyLoss()"
   ],
   "id": "1147813ebd17f325",
   "outputs": [],
   "execution_count": 22
  },
  {
   "metadata": {
    "ExecuteTime": {
     "end_time": "2025-05-17T08:06:30.506171Z",
     "start_time": "2025-05-17T07:19:07.215348Z"
    }
   },
   "cell_type": "code",
   "source": [
    "print('BiDirRNN Start Training:')\n",
    "rnn_train_losses, rnn_val_losses, rnn_val_accs = train_and_validate(model, rnn_optimizer, criterion, train_loader,\n",
    "                                                                    val_loader, epochs, device)"
   ],
   "id": "e208817bbe825316",
   "outputs": [
    {
     "name": "stdout",
     "output_type": "stream",
     "text": [
      "BiDirRNN Start Training:\n",
      "Epoch: 1/20, Train loss: 0.706047852155116, Val loss: 0.6156641142708915, Val acc: 0.7589523826326643\n",
      "Epoch: 2/20, Train loss: 0.5575437590801459, Val loss: 0.5987467893532344, Val acc: 0.7499682545661926\n",
      "Epoch: 3/20, Train loss: 0.5070622556929966, Val loss: 0.5726200448615211, Val acc: 0.7794920572212765\n",
      "Epoch: 4/20, Train loss: 0.4255317833891018, Val loss: 0.5494497028844697, Val acc: 0.7888888827392033\n",
      "Epoch: 5/20, Train loss: 0.33835845159219324, Val loss: 0.5130739808082581, Val acc: 0.8167618981429509\n",
      "Epoch: 6/20, Train loss: 0.27198457688414795, Val loss: 0.5232140077011925, Val acc: 0.8276190417153495\n",
      "Epoch: 7/20, Train loss: 0.23328696502868435, Val loss: 0.5379830398729869, Val acc: 0.814317455462047\n",
      "Epoch: 8/20, Train loss: 0.30940960227049513, Val loss: 0.5635801196098328, Val acc: 0.8185396816049303\n",
      "Epoch: 9/20, Train loss: 0.21225806966209584, Val loss: 0.572207046193736, Val acc: 0.8364761863436018\n",
      "Epoch: 10/20, Train loss: 0.1266857984093882, Val loss: 0.6600194064634187, Val acc: 0.8418412625789642\n",
      "Epoch: 11/20, Train loss: 0.09017312739265533, Val loss: 0.7121219319956643, Val acc: 0.8473968233380998\n",
      "Epoch: 12/20, Train loss: 0.07379291978121984, Val loss: 0.756052916603429, Val acc: 0.8544761879103524\n",
      "Epoch: 13/20, Train loss: 0.07499141916431648, Val loss: 0.8334054710609572, Val acc: 0.8131745994091034\n",
      "Epoch: 14/20, Train loss: 0.09821870168269002, Val loss: 0.7643789742674146, Val acc: 0.8447618995394025\n",
      "Epoch: 15/20, Train loss: 0.05920693877558458, Val loss: 0.8085844372000013, Val acc: 0.8549841225147248\n",
      "Epoch: 16/20, Train loss: 0.03176054177075464, Val loss: 0.9101345185722624, Val acc: 0.8549206265381404\n",
      "Epoch: 17/20, Train loss: 0.026721892308061875, Val loss: 0.9512069597840309, Val acc: 0.8593333278383527\n",
      "Epoch: 18/20, Train loss: 0.02659593877259461, Val loss: 1.0458748310804367, Val acc: 0.8438412632261004\n",
      "Epoch: 19/20, Train loss: 0.09133954959412327, Val loss: 0.7971862946237837, Val acc: 0.825460307938712\n",
      "Epoch: 20/20, Train loss: 0.06266362089563242, Val loss: 0.8533504522272519, Val acc: 0.85006348831313\n"
     ]
    }
   ],
   "execution_count": 23
  },
  {
   "metadata": {
    "ExecuteTime": {
     "end_time": "2025-05-17T10:19:57.869543Z",
     "start_time": "2025-05-17T10:19:57.799123Z"
    }
   },
   "cell_type": "code",
   "source": "plot_losses('RNN', rnn_train_losses, rnn_val_losses, epochs)",
   "id": "37a7a4e79466734d",
   "outputs": [
    {
     "data": {
      "text/plain": [
       "<Figure size 640x480 with 1 Axes>"
      ],
      "image/png": "[encoded data removed]"
     },
     "metadata": {},
     "output_type": "display_data"
    }
   ],
   "execution_count": 26
  },
  {
   "metadata": {},
   "cell_type": "markdown",
   "source": "# LSTM ",
   "id": "7eb4c1ce4b38b3a8"
  },
  {
   "metadata": {
    "ExecuteTime": {
     "end_time": "2025-05-19T11:09:03.442860Z",
     "start_time": "2025-05-19T11:09:03.417129Z"
    }
   },
   "cell_type": "code",
   "source": [
    "epochs = 20\n",
    "output_size_ = 3\n",
    "embedding_dim_ = 400\n",
    "hidden_dim_ = 256\n",
    "n_layers_ = 2\n",
    "vocab_size = len(tokenizer.word_index) + 1\n",
    "\n",
    "model = LSTM(output_size_, embedding_dim_, hidden_dim_, n_layers_, vocab_size).to(device)"
   ],
   "id": "f35d7bb9e80130e5",
   "outputs": [],
   "execution_count": 24
  },
  {
   "metadata": {
    "ExecuteTime": {
     "end_time": "2025-05-19T11:09:03.825066Z",
     "start_time": "2025-05-19T11:09:03.822128Z"
    }
   },
   "cell_type": "code",
   "source": [
    "lstm_optimizer = optim.Adam(model.parameters(), lr=1e-4)\n",
    "criterion = nn.CrossEntropyLoss()"
   ],
   "id": "6a01969ffa0507dc",
   "outputs": [],
   "execution_count": 25
  },
  {
   "metadata": {
    "ExecuteTime": {
     "end_time": "2025-05-19T11:37:52.397550Z",
     "start_time": "2025-05-19T11:09:04.086626Z"
    }
   },
   "cell_type": "code",
   "source": [
    "print('LSTM Start Training:')\n",
    "lstm_train_losses, lstm_val_losses, lstm_val_accs = train_and_validate(model, lstm_optimizer, criterion, train_loader,\n",
    "                                                                       val_loader, epochs, device)"
   ],
   "id": "eb5622ff894b2a02",
   "outputs": [
    {
     "name": "stdout",
     "output_type": "stream",
     "text": [
      "LSTM Start Training:\n",
      "Epoch: 1/20, Train loss: 0.8340027875823083, Val loss: 0.6650721899100712, Val acc: 0.6973333375794547\n",
      "Epoch: 2/20, Train loss: 0.5644878321628777, Val loss: 0.533589471238, Val acc: 0.7635238093989236\n",
      "Epoch: 3/20, Train loss: 0.4672482982813883, Val loss: 0.47270879532609666, Val acc: 0.7973333299160004\n",
      "Epoch: 4/20, Train loss: 0.37573757103021194, Val loss: 0.42697300825800216, Val acc: 0.8260952293872833\n",
      "Epoch: 5/20, Train loss: 0.3157996447395078, Val loss: 0.43204993328877855, Val acc: 0.8340634856905256\n",
      "Epoch: 6/20, Train loss: 0.2300288919091439, Val loss: 0.4264995181134769, Val acc: 0.8464126936026982\n",
      "Epoch: 7/20, Train loss: 0.16399338858858717, Val loss: 0.39828311928680965, Val acc: 0.8667618972914559\n",
      "Epoch: 8/20, Train loss: 0.11010866477857713, Val loss: 0.40983255548136577, Val acc: 0.8766984071050371\n",
      "Epoch: 9/20, Train loss: 0.07396430832588469, Val loss: 0.5148160934448243, Val acc: 0.8710476125989641\n",
      "Epoch: 10/20, Train loss: 0.04938577149874068, Val loss: 0.5062203705310822, Val acc: 0.8772698334285192\n",
      "Epoch: 11/20, Train loss: 0.042881055211601446, Val loss: 0.6356404855847358, Val acc: 0.8761904733521598\n",
      "Epoch: 12/20, Train loss: 0.032048393958817714, Val loss: 0.5155039380171469, Val acc: 0.8759047550814493\n",
      "Epoch: 13/20, Train loss: 0.029517409370553836, Val loss: 0.5845871268904634, Val acc: 0.8841269842215946\n",
      "Epoch: 14/20, Train loss: 0.02402377846397848, Val loss: 0.6178811165903296, Val acc: 0.8859999963215419\n",
      "Epoch: 15/20, Train loss: 0.01944087052687654, Val loss: 0.6875262839453561, Val acc: 0.8833333287920271\n",
      "Epoch: 16/20, Train loss: 0.01225416356695166, Val loss: 0.7028155871800014, Val acc: 0.8778412665639604\n",
      "Epoch: 17/20, Train loss: 0.012353499921923587, Val loss: 0.7280858986079692, Val acc: 0.8856825385774885\n",
      "Epoch: 18/20, Train loss: 0.010939697544946815, Val loss: 0.7690006110285009, Val acc: 0.8826984098979405\n",
      "Epoch: 19/20, Train loss: 0.01222779483020577, Val loss: 0.6968208692801584, Val acc: 0.8790476151875087\n",
      "Epoch: 20/20, Train loss: 0.013934212575615099, Val loss: 0.6617443793586322, Val acc: 0.8854920591626848\n"
     ]
    }
   ],
   "execution_count": 26
  },
  {
   "metadata": {
    "ExecuteTime": {
     "end_time": "2025-05-19T14:05:16.966162Z",
     "start_time": "2025-05-19T14:05:16.897798Z"
    }
   },
   "cell_type": "code",
   "source": "plot_losses('LSTM', lstm_train_losses, lstm_val_losses, epochs)",
   "id": "fad413cbc185721f",
   "outputs": [
    {
     "data": {
      "text/plain": [
       "<Figure size 640x480 with 1 Axes>"
      ],
      "image/png": "[encoded data removed]"
     },
     "metadata": {},
     "output_type": "display_data"
    }
   ],
   "execution_count": 27
  },
  {
   "metadata": {},
   "cell_type": "markdown",
   "source": "#  BiDirectional LSTM ",
   "id": "88999264d9501726"
  },
  {
   "metadata": {
    "ExecuteTime": {
     "end_time": "2025-05-19T14:05:21.827612Z",
     "start_time": "2025-05-19T14:05:21.800262Z"
    }
   },
   "cell_type": "code",
   "source": [
    "epochs = 20\n",
    "output_size_ = 3\n",
    "embedding_dim_ = 400\n",
    "hidden_dim_ = 256\n",
    "n_layers_ = 2\n",
    "vocab_size = len(tokenizer.word_index) + 1\n",
    "modes = 'sum'\n",
    "\n",
    "model = LSTM(output_size_, embedding_dim_, hidden_dim_, n_layers_, vocab_size, modes).to(device)"
   ],
   "id": "1e044b2653872a0f",
   "outputs": [],
   "execution_count": 28
  },
  {
   "metadata": {
    "ExecuteTime": {
     "end_time": "2025-05-19T14:05:24.467229Z",
     "start_time": "2025-05-19T14:05:24.464755Z"
    }
   },
   "cell_type": "code",
   "source": [
    "lstm_optimizer = optim.Adam(model.parameters(), lr=1e-4)\n",
    "criterion = nn.CrossEntropyLoss()"
   ],
   "id": "5850b79e60528af",
   "outputs": [],
   "execution_count": 29
  },
  {
   "metadata": {
    "ExecuteTime": {
     "end_time": "2025-05-19T15:02:12.337454Z",
     "start_time": "2025-05-19T14:05:34.833320Z"
    }
   },
   "cell_type": "code",
   "source": [
    "print('BiDirLSTM Start Training:')\n",
    "lstm_train_losses, lstm_val_losses, lstm_val_accs = train_and_validate(model, lstm_optimizer, criterion, train_loader,\n",
    "                                                                       val_loader, epochs, device)"
   ],
   "id": "5ee270a786f85d77",
   "outputs": [
    {
     "name": "stdout",
     "output_type": "stream",
     "text": [
      "BiDirLSTM Start Training:\n",
      "Epoch: 1/20, Train loss: 0.77959238796783, Val loss: 0.599071261712483, Val acc: 0.7286031808171953\n",
      "Epoch: 2/20, Train loss: 0.5122967211784218, Val loss: 0.49750981756619045, Val acc: 0.7913968205451966\n",
      "Epoch: 3/20, Train loss: 0.4067765812543656, Val loss: 0.43472453228064944, Val acc: 0.8252698370388576\n",
      "Epoch: 4/20, Train loss: 0.32031224215094994, Val loss: 0.39086121576172966, Val acc: 0.8488253934042794\n",
      "Epoch: 5/20, Train loss: 0.2336415573284566, Val loss: 0.3962119279163224, Val acc: 0.8524126921381269\n",
      "Epoch: 6/20, Train loss: 0.16348970205717378, Val loss: 0.412863898064409, Val acc: 0.8742857098579406\n",
      "Epoch: 7/20, Train loss: 0.11209425051435293, Val loss: 0.41074513622692654, Val acc: 0.8817777752876281\n",
      "Epoch: 8/20, Train loss: 0.0784030460682195, Val loss: 0.45013914917196546, Val acc: 0.873841266972678\n",
      "Epoch: 9/20, Train loss: 0.04886390931616209, Val loss: 0.6097617111035756, Val acc: 0.8788888803550176\n",
      "Epoch: 10/20, Train loss: 0.0423440407633299, Val loss: 0.524354074043887, Val acc: 0.8929841228893824\n",
      "Epoch: 11/20, Train loss: 0.020588599374474246, Val loss: 0.5846642459077495, Val acc: 0.8881904721260071\n",
      "Epoch: 12/20, Train loss: 0.019898704849032806, Val loss: 0.6291432101811681, Val acc: 0.8897777710642133\n",
      "Epoch: 13/20, Train loss: 0.019232896512136426, Val loss: 0.5887550251824515, Val acc: 0.8909841247967312\n",
      "Epoch: 14/20, Train loss: 0.01705256810059215, Val loss: 0.6633723586797714, Val acc: 0.8906984073775155\n",
      "Epoch: 15/20, Train loss: 0.013743390067875814, Val loss: 0.6309959196618625, Val acc: 0.8944126921040672\n",
      "Epoch: 16/20, Train loss: 0.018464907073217324, Val loss: 0.6627859902568162, Val acc: 0.8946984103747777\n",
      "Epoch: 17/20, Train loss: 0.014547541590571644, Val loss: 0.6771010837384632, Val acc: 0.8980634868144989\n",
      "Epoch: 18/20, Train loss: 0.010079460014848133, Val loss: 0.6948781003909451, Val acc: 0.8926984080246516\n",
      "Epoch: 19/20, Train loss: 0.011185038772990789, Val loss: 0.6650934798376901, Val acc: 0.891555552823203\n",
      "Epoch: 20/20, Train loss: 0.011708292530097064, Val loss: 0.6940526661350824, Val acc: 0.890285712480545\n"
     ]
    }
   ],
   "execution_count": 31
  },
  {
   "metadata": {
    "ExecuteTime": {
     "end_time": "2025-05-19T17:29:39.608931Z",
     "start_time": "2025-05-19T17:29:39.544910Z"
    }
   },
   "cell_type": "code",
   "source": "plot_losses('BiDirLSTM', lstm_train_losses, lstm_val_losses, epochs)",
   "id": "e711c304f26b3739",
   "outputs": [
    {
     "data": {
      "text/plain": [
       "<Figure size 640x480 with 1 Axes>"
      ],
      "image/png": "[encoded data removed]"
     },
     "metadata": {},
     "output_type": "display_data"
    }
   ],
   "execution_count": 32
  },
  {
   "metadata": {},
   "cell_type": "markdown",
   "source": "# GRU ",
   "id": "9ff3797d79c7213"
  },
  {
   "metadata": {
    "ExecuteTime": {
     "end_time": "2025-05-20T06:49:31.050056Z",
     "start_time": "2025-05-20T06:49:31.021387Z"
    }
   },
   "cell_type": "code",
   "source": [
    "epochs = 20\n",
    "output_size_ = 3\n",
    "embedding_dim_ = 400\n",
    "hidden_dim_ = 256\n",
    "n_layers_ = 2\n",
    "vocab_size = len(tokenizer.word_index) + 1\n",
    "\n",
    "model = GRU(output_size_, embedding_dim_, hidden_dim_, n_layers_, vocab_size).to(device)"
   ],
   "id": "995aee5e34242a87",
   "outputs": [],
   "execution_count": 24
  },
  {
   "metadata": {
    "ExecuteTime": {
     "end_time": "2025-05-20T06:49:31.321033Z",
     "start_time": "2025-05-20T06:49:31.318692Z"
    }
   },
   "cell_type": "code",
   "source": [
    "gru_optimizer = optim.Adam(model.parameters(), lr=1e-4)\n",
    "criterion = nn.CrossEntropyLoss()"
   ],
   "id": "d3708dd0735d98ee",
   "outputs": [],
   "execution_count": 25
  },
  {
   "metadata": {
    "ExecuteTime": {
     "end_time": "2025-05-20T07:21:54.809405Z",
     "start_time": "2025-05-20T06:49:31.578912Z"
    }
   },
   "cell_type": "code",
   "source": [
    "print('GRU Start Training:')\n",
    "gru_train_losses, gru_val_losses, gru_val_accs = train_and_validate(model, gru_optimizer, criterion, train_loader,\n",
    "                                                                    val_loader, epochs, device)"
   ],
   "id": "420d4a4a5cb507e8",
   "outputs": [
    {
     "name": "stdout",
     "output_type": "stream",
     "text": [
      "GRU Start Training:\n",
      "Epoch: 1/20, Train loss: 0.6993926118174902, Val loss: 0.574567129782268, Val acc: 0.7643809497356415\n",
      "Epoch: 2/20, Train loss: 0.5103194901197077, Val loss: 0.4972050845623016, Val acc: 0.8041269821780068\n",
      "Epoch: 3/20, Train loss: 0.43413157016038895, Val loss: 0.45873730182647704, Val acc: 0.8216825331960406\n",
      "Epoch: 4/20, Train loss: 0.37321872333828493, Val loss: 0.4628149564777102, Val acc: 0.8235555512564523\n",
      "Epoch: 5/20, Train loss: 0.3217005652489422, Val loss: 0.41260091279234207, Val acc: 0.8449206301144191\n",
      "Epoch: 6/20, Train loss: 0.2678161750433685, Val loss: 0.42042651772499084, Val acc: 0.8470476124967847\n",
      "Epoch: 7/20, Train loss: 0.22248248761291983, Val loss: 0.4309091436011451, Val acc: 0.85628570829119\n",
      "Epoch: 8/20, Train loss: 0.17305162992569612, Val loss: 0.4375724877629961, Val acc: 0.8645396743501935\n",
      "Epoch: 9/20, Train loss: 0.1334296471151195, Val loss: 0.4569305383733341, Val acc: 0.8725396743842534\n",
      "Epoch: 10/20, Train loss: 0.09604672485252293, Val loss: 0.4874449892767838, Val acc: 0.8709206300122397\n",
      "Epoch: 11/20, Train loss: 0.07118305787377113, Val loss: 0.543914951809815, Val acc: 0.8732063412666321\n",
      "Epoch: 12/20, Train loss: 0.05982084297441053, Val loss: 0.5454414903053215, Val acc: 0.8803491975579943\n",
      "Epoch: 13/20, Train loss: 0.04179831671364364, Val loss: 0.6088784461574895, Val acc: 0.8772063442638942\n",
      "Epoch: 14/20, Train loss: 0.0409411413908313, Val loss: 0.6398093624838761, Val acc: 0.8768571402345385\n",
      "Epoch: 15/20, Train loss: 0.030453351493790852, Val loss: 0.6749559487083129, Val acc: 0.8760634890624455\n",
      "Epoch: 16/20, Train loss: 0.02568260572554222, Val loss: 0.670468865015677, Val acc: 0.8820634884493691\n",
      "Epoch: 17/20, Train loss: 0.026466195441852827, Val loss: 0.6764171071649928, Val acc: 0.8882857058729444\n",
      "Epoch: 18/20, Train loss: 0.015452164790815869, Val loss: 0.7409515346799578, Val acc: 0.8801269786698478\n",
      "Epoch: 19/20, Train loss: 0.01301342360401047, Val loss: 0.742733682692051, Val acc: 0.8847618997097015\n",
      "Epoch: 20/20, Train loss: 0.010967446243844377, Val loss: 0.7551472795861108, Val acc: 0.882063490152359\n"
     ]
    }
   ],
   "execution_count": 26
  },
  {
   "metadata": {
    "ExecuteTime": {
     "end_time": "2025-05-20T08:28:12.419770Z",
     "start_time": "2025-05-20T08:28:12.347700Z"
    }
   },
   "cell_type": "code",
   "source": "plot_losses('GRU', gru_train_losses, gru_val_losses, epochs)",
   "id": "4853a57a123d9207",
   "outputs": [
    {
     "data": {
      "text/plain": [
       "<Figure size 640x480 with 1 Axes>"
      ],
      "image/png": "[encoded data removed]"
     },
     "metadata": {},
     "output_type": "display_data"
    }
   ],
   "execution_count": 27
  },
  {
   "metadata": {},
   "cell_type": "markdown",
   "source": "#  BiDirectional GRU ",
   "id": "d5902b52e2dabd84"
  },
  {
   "metadata": {
    "ExecuteTime": {
     "end_time": "2025-05-20T08:28:25.975214Z",
     "start_time": "2025-05-20T08:28:25.942245Z"
    }
   },
   "cell_type": "code",
   "source": [
    "epochs = 20\n",
    "output_size_ = 3\n",
    "embedding_dim_ = 400\n",
    "hidden_dim_ = 256\n",
    "n_layers_ = 2\n",
    "vocab_size = len(tokenizer.word_index) + 1\n",
    "modes = 'sum'\n",
    "\n",
    "model = GRU(output_size_, embedding_dim_, hidden_dim_, n_layers_, vocab_size, modes).to(device)"
   ],
   "id": "4e327f616bd2e631",
   "outputs": [],
   "execution_count": 28
  },
  {
   "metadata": {
    "ExecuteTime": {
     "end_time": "2025-05-20T08:28:26.503252Z",
     "start_time": "2025-05-20T08:28:26.500637Z"
    }
   },
   "cell_type": "code",
   "source": [
    "gru_optimizer = optim.Adam(model.parameters(), lr=1e-4)\n",
    "criterion = nn.CrossEntropyLoss()"
   ],
   "id": "65eb9fdd3db5bb20",
   "outputs": [],
   "execution_count": 29
  },
  {
   "metadata": {
    "ExecuteTime": {
     "end_time": "2025-05-20T09:30:59.461793Z",
     "start_time": "2025-05-20T08:28:28.745886Z"
    }
   },
   "cell_type": "code",
   "source": [
    "print('BiDirGRU Start Training:')\n",
    "gru_train_losses, gru_val_losses, gru_val_accs = train_and_validate(model, gru_optimizer, criterion, train_loader,\n",
    "                                                                    val_loader, epochs, device)"
   ],
   "id": "f4d059ffff5ec7b2",
   "outputs": [
    {
     "name": "stdout",
     "output_type": "stream",
     "text": [
      "BiDirGRU Start Training:\n",
      "Epoch: 1/20, Train loss: 0.6982696109967266, Val loss: 0.5653119117021561, Val acc: 0.7829206330435616\n",
      "Epoch: 2/20, Train loss: 0.5053787685448318, Val loss: 0.4998053393193654, Val acc: 0.8080317429133824\n",
      "Epoch: 3/20, Train loss: 0.43354337978706087, Val loss: 0.45221791182245524, Val acc: 0.8232063429696219\n",
      "Epoch: 4/20, Train loss: 0.3805149297276847, Val loss: 0.43734365488801685, Val acc: 0.833174593108041\n",
      "Epoch: 5/20, Train loss: 0.33205192814842405, Val loss: 0.4286359035543033, Val acc: 0.8355555491788047\n",
      "Epoch: 6/20, Train loss: 0.2909802966784659, Val loss: 0.4331833344485079, Val acc: 0.8516825352396283\n",
      "Epoch: 7/20, Train loss: 0.25118796945475846, Val loss: 0.43298286284719195, Val acc: 0.8488888851233891\n",
      "Epoch: 8/20, Train loss: 0.20893801377563598, Val loss: 0.41970257056610927, Val acc: 0.8614920565060207\n",
      "Epoch: 9/20, Train loss: 0.1779072313777191, Val loss: 0.436081617644855, Val acc: 0.8586349121161869\n",
      "Epoch: 10/20, Train loss: 0.15038511634757407, Val loss: 0.4394515753856727, Val acc: 0.8669841187340873\n",
      "Epoch: 11/20, Train loss: 0.12260808856662014, Val loss: 0.48262195331709723, Val acc: 0.8666666609900339\n",
      "Epoch: 12/20, Train loss: 0.0998658388149556, Val loss: 0.4797740265727043, Val acc: 0.8746349130358014\n",
      "Epoch: 13/20, Train loss: 0.08289402009410074, Val loss: 0.5211265358541693, Val acc: 0.8743492032800402\n",
      "Epoch: 14/20, Train loss: 0.07628941577490714, Val loss: 0.5399527576352868, Val acc: 0.876476183959416\n",
      "Epoch: 15/20, Train loss: 0.05461752124251329, Val loss: 0.5706842524664743, Val acc: 0.8764126930918013\n",
      "Epoch: 16/20, Train loss: 0.07132934451960832, Val loss: 0.5446515979511397, Val acc: 0.8809206281389509\n",
      "Epoch: 17/20, Train loss: 0.03883743025957131, Val loss: 0.5935673245361873, Val acc: 0.8863492003508977\n",
      "Epoch: 18/20, Train loss: 0.0384229957084205, Val loss: 0.5874097960335868, Val acc: 0.8758095230375017\n",
      "Epoch: 19/20, Train loss: 0.02963416022081062, Val loss: 0.6274133540689946, Val acc: 0.8826984090464456\n",
      "Epoch: 20/20, Train loss: 0.028918245167843328, Val loss: 0.6502044139163835, Val acc: 0.8811111041477748\n"
     ]
    }
   ],
   "execution_count": 30
  },
  {
   "metadata": {
    "ExecuteTime": {
     "end_time": "2025-05-20T10:28:21.178504Z",
     "start_time": "2025-05-20T10:28:21.119017Z"
    }
   },
   "cell_type": "code",
   "source": "plot_losses('BiDirGRU', gru_train_losses, gru_val_losses, epochs)",
   "id": "b0929eefd49ff7e5",
   "outputs": [
    {
     "data": {
      "text/plain": [
       "<Figure size 640x480 with 1 Axes>"
      ],
      "image/png": "[encoded data removed]"
     },
     "metadata": {},
     "output_type": "display_data"
    }
   ],
   "execution_count": 33
  },
  {
   "metadata": {},
   "cell_type": "markdown",
   "source": "#  Transformer ",
   "id": "c13d2779c2d8c94a"
  },
  {
   "metadata": {
    "ExecuteTime": {
     "end_time": "2025-05-21T10:09:05.615376Z",
     "start_time": "2025-05-21T10:09:04.149688Z"
    }
   },
   "cell_type": "code",
   "source": [
    "epochs = 20\n",
    "output_size_ = 3\n",
    "embedding_dim_ = 400\n",
    "n_layers_ = 4\n",
    "vocab_size = len(tokenizer.word_index) + 1\n",
    "\n",
    "model = TransformerClassifier(vocab_size, max_len, embedding_dim_, enc_depth=n_layers_, nb_classes=output_size_).to(device)"
   ],
   "id": "ba2c4118c4b7eeb9",
   "outputs": [],
   "execution_count": 26
  },
  {
   "metadata": {
    "ExecuteTime": {
     "end_time": "2025-05-21T10:09:06.509730Z",
     "start_time": "2025-05-21T10:09:06.507168Z"
    }
   },
   "cell_type": "code",
   "source": [
    "transformer_optimizer = optim.Adam(model.parameters(), lr=1e-4)\n",
    "criterion = nn.CrossEntropyLoss()"
   ],
   "id": "36bc84672ac042a0",
   "outputs": [],
   "execution_count": 27
  },
  {
   "metadata": {
    "ExecuteTime": {
     "end_time": "2025-05-21T10:17:45.260681Z",
     "start_time": "2025-05-21T10:09:06.870689Z"
    }
   },
   "cell_type": "code",
   "source": [
    "print('Transformer Start Training:')\n",
    "transformer_train_losses, transformer_val_losses, transformer_val_accs = train_and_validate(model, transformer_optimizer, criterion, train_loader,\n",
    "                                                                    val_loader, epochs, device)"
   ],
   "id": "7090dca628597ab5",
   "outputs": [
    {
     "name": "stdout",
     "output_type": "stream",
     "text": [
      "Transformer Start Training:\n",
      "Epoch: 1/20, Train loss: 0.8390450218169809, Val loss: 0.6900117473942893, Val acc: 0.7178730181285313\n",
      "Epoch: 2/20, Train loss: 0.6222459829325299, Val loss: 0.5999750311885561, Val acc: 0.7636190465518407\n",
      "Epoch: 3/20, Train loss: 0.5846622257138328, Val loss: 0.550015680704798, Val acc: 0.7783174557345254\n",
      "Epoch: 4/20, Train loss: 0.4981162909337943, Val loss: 0.4664200676339013, Val acc: 0.8173333295754024\n",
      "Epoch: 5/20, Train loss: 0.45352049595374855, Val loss: 0.5062308468988963, Val acc: 0.7812380961009434\n",
      "Epoch: 6/20, Train loss: 0.4227334161242135, Val loss: 0.42930548169783184, Val acc: 0.8288888803550175\n",
      "Epoch: 7/20, Train loss: 0.38481671111189203, Val loss: 0.4072585878627641, Val acc: 0.839682537317276\n",
      "Epoch: 8/20, Train loss: 0.36267952304735457, Val loss: 0.4128485185759408, Val acc: 0.8386031653199877\n",
      "Epoch: 9/20, Train loss: 0.32461511405359067, Val loss: 0.3914913705417088, Val acc: 0.8546984093529838\n",
      "Epoch: 10/20, Train loss: 0.28995787818654833, Val loss: 0.4207694976457528, Val acc: 0.8451745969908578\n",
      "Epoch: 11/20, Train loss: 0.253986962407613, Val loss: 0.38780118141855513, Val acc: 0.8640634860311236\n",
      "Epoch: 12/20, Train loss: 0.22207742378705267, Val loss: 0.460904370035444, Val acc: 0.8350476120199476\n",
      "Epoch: 13/20, Train loss: 0.1941997390910447, Val loss: 0.36730579520974843, Val acc: 0.8705714217254094\n",
      "Epoch: 14/20, Train loss: 0.16956610414836046, Val loss: 0.39332442060112954, Val acc: 0.8741269835403987\n",
      "Epoch: 15/20, Train loss: 0.13825480773937787, Val loss: 0.4609812027641705, Val acc: 0.8719047554901668\n",
      "Epoch: 16/20, Train loss: 0.12508581963990875, Val loss: 0.4970318078994751, Val acc: 0.8529523806912559\n",
      "Epoch: 17/20, Train loss: 0.11215446456569991, Val loss: 0.5249601599361216, Val acc: 0.8718412620680672\n",
      "Epoch: 18/20, Train loss: 0.08730322966626812, Val loss: 0.5255493553621429, Val acc: 0.8559999942779541\n",
      "Epoch: 19/20, Train loss: 0.08773251529112994, Val loss: 0.46912654297692435, Val acc: 0.8816190464156014\n",
      "Epoch: 20/20, Train loss: 0.0687547532871714, Val loss: 0.5294629125190633, Val acc: 0.8748571387359074\n"
     ]
    }
   ],
   "execution_count": 28
  },
  {
   "metadata": {
    "ExecuteTime": {
     "end_time": "2025-05-21T10:18:22.081265Z",
     "start_time": "2025-05-21T10:18:22.008399Z"
    }
   },
   "cell_type": "code",
   "source": "plot_losses('BiDirGRU', transformer_train_losses, transformer_val_losses, epochs)",
   "id": "265525cc760f341",
   "outputs": [
    {
     "data": {
      "text/plain": [
       "<Figure size 640x480 with 1 Axes>"
      ],
      "image/png": "[encoded data removed]"
     },
     "metadata": {},
     "output_type": "display_data"
    }
   ],
   "execution_count": 29
  },
  {
   "metadata": {},
   "cell_type": "code",
   "outputs": [],
   "execution_count": null,
   "source": "",
   "id": "47f17ef38d3ba0c8"
  }
 ],
 "metadata": {
  "kernelspec": {
   "display_name": "Python 3",
   "language": "python",
   "name": "python3"
  },
  "language_info": {
   "codemirror_mode": {
    "name": "ipython",
    "version": 2
   },
   "file_extension": ".py",
   "mimetype": "text/x-python",
   "name": "python",
   "nbconvert_exporter": "python",
   "pygments_lexer": "ipython2",
   "version": "2.7.6"
  }
 },
 "nbformat": 4,
 "nbformat_minor": 5
}
