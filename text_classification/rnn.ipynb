{
 "cells": [
  {
   "cell_type": "code",
   "id": "initial_id",
   "metadata": {
    "collapsed": true,
    "ExecuteTime": {
     "end_time": "2025-05-16T13:43:54.298483Z",
     "start_time": "2025-05-16T13:43:51.810517Z"
    }
   },
   "source": [
    "import re\n",
    "\n",
    "import matplotlib.pyplot as plt\n",
    "import nltk\n",
    "import pandas as pd\n",
    "import torch\n",
    "import torch.nn as nn\n",
    "import torch.nn.functional as F\n",
    "import torch.optim as optim\n",
    "from nltk.corpus import stopwords\n",
    "from nltk.stem import WordNetLemmatizer\n",
    "from nltk.tokenize import word_tokenize\n",
    "from sklearn.model_selection import train_test_split\n",
    "from tensorflow.keras.preprocessing.sequence import pad_sequences\n",
    "from tensorflow.keras.preprocessing.text import Tokenizer\n",
    "from torch.utils.data import DataLoader, TensorDataset"
   ],
   "outputs": [
    {
     "name": "stderr",
     "output_type": "stream",
     "text": [
      "2025-05-16 16:43:53.269429: I tensorflow/core/util/port.cc:153] oneDNN custom operations are on. You may see slightly different numerical results due to floating-point round-off errors from different computation orders. To turn them off, set the environment variable `TF_ENABLE_ONEDNN_OPTS=0`.\n",
      "2025-05-16 16:43:53.289047: E external/local_xla/xla/stream_executor/cuda/cuda_fft.cc:467] Unable to register cuFFT factory: Attempting to register factory for plugin cuFFT when one has already been registered\n",
      "WARNING: All log messages before absl::InitializeLog() is called are written to STDERR\n",
      "E0000 00:00:1747403033.298448   68082 cuda_dnn.cc:8579] Unable to register cuDNN factory: Attempting to register factory for plugin cuDNN when one has already been registered\n",
      "E0000 00:00:1747403033.301118   68082 cuda_blas.cc:1407] Unable to register cuBLAS factory: Attempting to register factory for plugin cuBLAS when one has already been registered\n",
      "W0000 00:00:1747403033.313725   68082 computation_placer.cc:177] computation placer already registered. Please check linkage and avoid linking the same target more than once.\n",
      "W0000 00:00:1747403033.313733   68082 computation_placer.cc:177] computation placer already registered. Please check linkage and avoid linking the same target more than once.\n",
      "W0000 00:00:1747403033.313733   68082 computation_placer.cc:177] computation placer already registered. Please check linkage and avoid linking the same target more than once.\n",
      "W0000 00:00:1747403033.313734   68082 computation_placer.cc:177] computation placer already registered. Please check linkage and avoid linking the same target more than once.\n",
      "2025-05-16 16:43:53.316316: I tensorflow/core/platform/cpu_feature_guard.cc:210] This TensorFlow binary is optimized to use available CPU instructions in performance-critical operations.\n",
      "To enable the following instructions: AVX2 AVX_VNNI FMA, in other operations, rebuild TensorFlow with the appropriate compiler flags.\n"
     ]
    }
   ],
   "execution_count": 1
  },
  {
   "metadata": {
    "ExecuteTime": {
     "end_time": "2025-05-16T13:43:54.840535Z",
     "start_time": "2025-05-16T13:43:54.299081Z"
    }
   },
   "cell_type": "code",
   "source": [
    "nltk.download('punkt_tab')\n",
    "nltk.download('stopwords')"
   ],
   "id": "7fd3ab7e1119bab0",
   "outputs": [
    {
     "name": "stderr",
     "output_type": "stream",
     "text": [
      "[nltk_data] Downloading package punkt_tab to /home/rafkat/nltk_data...\n",
      "[nltk_data]   Package punkt_tab is already up-to-date!\n",
      "[nltk_data] Downloading package stopwords to /home/rafkat/nltk_data...\n",
      "[nltk_data]   Package stopwords is already up-to-date!\n"
     ]
    },
    {
     "data": {
      "text/plain": [
       "True"
      ]
     },
     "execution_count": 2,
     "metadata": {},
     "output_type": "execute_result"
    }
   ],
   "execution_count": 2
  },
  {
   "metadata": {
    "ExecuteTime": {
     "end_time": "2025-05-16T13:43:54.908635Z",
     "start_time": "2025-05-16T13:43:54.841344Z"
    }
   },
   "cell_type": "code",
   "source": [
    "device = torch.device('cuda' if torch.cuda.is_available() else 'cpu')\n",
    "print(device)"
   ],
   "id": "f0d225d5e81b9482",
   "outputs": [
    {
     "name": "stdout",
     "output_type": "stream",
     "text": [
      "cuda\n"
     ]
    }
   ],
   "execution_count": 3
  },
  {
   "metadata": {
    "ExecuteTime": {
     "end_time": "2025-05-16T13:43:54.933021Z",
     "start_time": "2025-05-16T13:43:54.909325Z"
    }
   },
   "cell_type": "code",
   "source": [
    "df = pd.read_csv('../data/amazon_reviews.csv')\n",
    "df.head(10)"
   ],
   "id": "c26a9eae5532ef2d",
   "outputs": [
    {
     "data": {
      "text/plain": [
       "  sentiments                                     cleaned_review  \\\n",
       "0   positive  i wish would have gotten one earlier love it a...   \n",
       "1    neutral  i ve learned this lesson again open the packag...   \n",
       "2    neutral          it is so slow and lags find better option   \n",
       "3    neutral  roller ball stopped working within months of m...   \n",
       "4    neutral  i like the color and size but it few days out ...   \n",
       "5   positive  overall love this mouse the size weight clicki...   \n",
       "6    neutral                                 it stopped working   \n",
       "7   positive  my son uses school issued chromebook for schoo...   \n",
       "8   negative  loved this cute little mouse but it broke afte...   \n",
       "9   negative  should ve spent the money to get quality produ...   \n",
       "\n",
       "   cleaned_review_length  review_score  \n",
       "0                     19           5.0  \n",
       "1                     88           1.0  \n",
       "2                      9           2.0  \n",
       "3                     12           1.0  \n",
       "4                     21           1.0  \n",
       "5                     68           3.0  \n",
       "6                      3           1.0  \n",
       "7                    170           1.0  \n",
       "8                     17           1.0  \n",
       "9                     17           1.0  "
      ],
      "text/html": [
       "<div>\n",
       "<style scoped>\n",
       "    .dataframe tbody tr th:only-of-type {\n",
       "        vertical-align: middle;\n",
       "    }\n",
       "\n",
       "    .dataframe tbody tr th {\n",
       "        vertical-align: top;\n",
       "    }\n",
       "\n",
       "    .dataframe thead th {\n",
       "        text-align: right;\n",
       "    }\n",
       "</style>\n",
       "<table border=\"1\" class=\"dataframe\">\n",
       "  <thead>\n",
       "    <tr style=\"text-align: right;\">\n",
       "      <th></th>\n",
       "      <th>sentiments</th>\n",
       "      <th>cleaned_review</th>\n",
       "      <th>cleaned_review_length</th>\n",
       "      <th>review_score</th>\n",
       "    </tr>\n",
       "  </thead>\n",
       "  <tbody>\n",
       "    <tr>\n",
       "      <th>0</th>\n",
       "      <td>positive</td>\n",
       "      <td>i wish would have gotten one earlier love it a...</td>\n",
       "      <td>19</td>\n",
       "      <td>5.0</td>\n",
       "    </tr>\n",
       "    <tr>\n",
       "      <th>1</th>\n",
       "      <td>neutral</td>\n",
       "      <td>i ve learned this lesson again open the packag...</td>\n",
       "      <td>88</td>\n",
       "      <td>1.0</td>\n",
       "    </tr>\n",
       "    <tr>\n",
       "      <th>2</th>\n",
       "      <td>neutral</td>\n",
       "      <td>it is so slow and lags find better option</td>\n",
       "      <td>9</td>\n",
       "      <td>2.0</td>\n",
       "    </tr>\n",
       "    <tr>\n",
       "      <th>3</th>\n",
       "      <td>neutral</td>\n",
       "      <td>roller ball stopped working within months of m...</td>\n",
       "      <td>12</td>\n",
       "      <td>1.0</td>\n",
       "    </tr>\n",
       "    <tr>\n",
       "      <th>4</th>\n",
       "      <td>neutral</td>\n",
       "      <td>i like the color and size but it few days out ...</td>\n",
       "      <td>21</td>\n",
       "      <td>1.0</td>\n",
       "    </tr>\n",
       "    <tr>\n",
       "      <th>5</th>\n",
       "      <td>positive</td>\n",
       "      <td>overall love this mouse the size weight clicki...</td>\n",
       "      <td>68</td>\n",
       "      <td>3.0</td>\n",
       "    </tr>\n",
       "    <tr>\n",
       "      <th>6</th>\n",
       "      <td>neutral</td>\n",
       "      <td>it stopped working</td>\n",
       "      <td>3</td>\n",
       "      <td>1.0</td>\n",
       "    </tr>\n",
       "    <tr>\n",
       "      <th>7</th>\n",
       "      <td>positive</td>\n",
       "      <td>my son uses school issued chromebook for schoo...</td>\n",
       "      <td>170</td>\n",
       "      <td>1.0</td>\n",
       "    </tr>\n",
       "    <tr>\n",
       "      <th>8</th>\n",
       "      <td>negative</td>\n",
       "      <td>loved this cute little mouse but it broke afte...</td>\n",
       "      <td>17</td>\n",
       "      <td>1.0</td>\n",
       "    </tr>\n",
       "    <tr>\n",
       "      <th>9</th>\n",
       "      <td>negative</td>\n",
       "      <td>should ve spent the money to get quality produ...</td>\n",
       "      <td>17</td>\n",
       "      <td>1.0</td>\n",
       "    </tr>\n",
       "  </tbody>\n",
       "</table>\n",
       "</div>"
      ]
     },
     "execution_count": 4,
     "metadata": {},
     "output_type": "execute_result"
    }
   ],
   "execution_count": 4
  },
  {
   "metadata": {
    "ExecuteTime": {
     "end_time": "2025-05-16T13:43:54.936110Z",
     "start_time": "2025-05-16T13:43:54.933521Z"
    }
   },
   "cell_type": "code",
   "source": "print(df.isna().sum())",
   "id": "5b82fe8be10235e3",
   "outputs": [
    {
     "name": "stdout",
     "output_type": "stream",
     "text": [
      "sentiments               0\n",
      "cleaned_review           3\n",
      "cleaned_review_length    0\n",
      "review_score             0\n",
      "dtype: int64\n"
     ]
    }
   ],
   "execution_count": 5
  },
  {
   "metadata": {
    "ExecuteTime": {
     "end_time": "2025-05-16T13:43:54.940929Z",
     "start_time": "2025-05-16T13:43:54.936522Z"
    }
   },
   "cell_type": "code",
   "source": "df = df.dropna()",
   "id": "f7ae281cbd7b2d3d",
   "outputs": [],
   "execution_count": 6
  },
  {
   "metadata": {
    "ExecuteTime": {
     "end_time": "2025-05-16T13:43:54.945199Z",
     "start_time": "2025-05-16T13:43:54.941342Z"
    }
   },
   "cell_type": "code",
   "source": "print(df.isna().sum())",
   "id": "cebe738fc72ed007",
   "outputs": [
    {
     "name": "stdout",
     "output_type": "stream",
     "text": [
      "sentiments               0\n",
      "cleaned_review           0\n",
      "cleaned_review_length    0\n",
      "review_score             0\n",
      "dtype: int64\n"
     ]
    }
   ],
   "execution_count": 7
  },
  {
   "metadata": {
    "ExecuteTime": {
     "end_time": "2025-05-16T13:43:56.359098Z",
     "start_time": "2025-05-16T13:43:54.945607Z"
    }
   },
   "cell_type": "code",
   "source": [
    "test_text = df['cleaned_review'][0]\n",
    "print('Initial state: ', test_text)\n",
    "regexped_text = re.sub(r'[^a-zA-Z\\s]', '', test_text)\n",
    "print('Used regexp: ', regexped_text)  # for cleaning text from \n",
    "tokenized_text = word_tokenize(regexped_text.lower())\n",
    "print('Tokenized text: ', tokenized_text)\n",
    "stop_words = set(stopwords.words('english'))\n",
    "# print('Stop words: ', stop_words)\n",
    "cleaned_text = [token for token in tokenized_text if token not in stop_words]\n",
    "print('Cleaned text: ', cleaned_text)\n",
    "lemmatizer = WordNetLemmatizer()\n",
    "tokens = [lemmatizer.lemmatize(token) for token in cleaned_text]\n",
    "print('Lemmatized text: ', tokens)"
   ],
   "id": "a989374f2a1dcc82",
   "outputs": [
    {
     "name": "stdout",
     "output_type": "stream",
     "text": [
      "Initial state:  i wish would have gotten one earlier love it and it makes working in my laptop so much easier\n",
      "Used regexp:  i wish would have gotten one earlier love it and it makes working in my laptop so much easier\n",
      "Tokenized text:  ['i', 'wish', 'would', 'have', 'gotten', 'one', 'earlier', 'love', 'it', 'and', 'it', 'makes', 'working', 'in', 'my', 'laptop', 'so', 'much', 'easier']\n",
      "Cleaned text:  ['wish', 'would', 'gotten', 'one', 'earlier', 'love', 'makes', 'working', 'laptop', 'much', 'easier']\n",
      "Lemmatized text:  ['wish', 'would', 'gotten', 'one', 'earlier', 'love', 'make', 'working', 'laptop', 'much', 'easier']\n"
     ]
    }
   ],
   "execution_count": 8
  },
  {
   "metadata": {
    "ExecuteTime": {
     "end_time": "2025-05-16T13:43:56.361887Z",
     "start_time": "2025-05-16T13:43:56.359855Z"
    }
   },
   "cell_type": "code",
   "source": [
    "def text_preprocessing(text):\n",
    "    text = re.sub(r'[^a-zA-Z\\s]', '', text)\n",
    "    tokens = word_tokenize(text.lower())\n",
    "    stop_words = set(stopwords.words('english'))\n",
    "    tokens = [token for token in tokens if token not in stop_words]\n",
    "    lemmatizer = WordNetLemmatizer()\n",
    "    tokens = [lemmatizer.lemmatize(token) for token in tokens]\n",
    "    return ' '.join(tokens)"
   ],
   "id": "52b687d33cc1f432",
   "outputs": [],
   "execution_count": 9
  },
  {
   "metadata": {
    "ExecuteTime": {
     "end_time": "2025-05-16T13:43:58.304319Z",
     "start_time": "2025-05-16T13:43:56.362320Z"
    }
   },
   "cell_type": "code",
   "source": "df.loc[:, 'cleaned_review'] = df['cleaned_review'].apply(text_preprocessing)",
   "id": "b31fc6208336e7e8",
   "outputs": [],
   "execution_count": 10
  },
  {
   "metadata": {
    "ExecuteTime": {
     "end_time": "2025-05-16T13:43:58.307925Z",
     "start_time": "2025-05-16T13:43:58.305184Z"
    }
   },
   "cell_type": "code",
   "source": "df['cleaned_review']",
   "id": "c723bda153a08e65",
   "outputs": [
    {
     "data": {
      "text/plain": [
       "0        wish would gotten one earlier love make workin...\n",
       "1        learned lesson open package use product right ...\n",
       "2                              slow lag find better option\n",
       "3        roller ball stopped working within month minim...\n",
       "4            like color size day return period hold charge\n",
       "                               ...                        \n",
       "17335    love speaker love take anywhere charge phone w...\n",
       "17336              use house easy connect loud clear music\n",
       "17337    bass good battery amazing much better charge t...\n",
       "17338                                                 love\n",
       "17339                                         mono speaker\n",
       "Name: cleaned_review, Length: 17337, dtype: object"
      ]
     },
     "execution_count": 11,
     "metadata": {},
     "output_type": "execute_result"
    }
   ],
   "execution_count": 11
  },
  {
   "metadata": {
    "ExecuteTime": {
     "end_time": "2025-05-16T13:43:58.491261Z",
     "start_time": "2025-05-16T13:43:58.309086Z"
    }
   },
   "cell_type": "code",
   "source": [
    "tokenizer = Tokenizer()\n",
    "tokenizer.fit_on_texts(df['cleaned_review'])\n",
    "sequences = tokenizer.texts_to_sequences(df['cleaned_review'])"
   ],
   "id": "49aa8996b6335f3e",
   "outputs": [],
   "execution_count": 12
  },
  {
   "metadata": {
    "ExecuteTime": {
     "end_time": "2025-05-16T13:43:58.513891Z",
     "start_time": "2025-05-16T13:43:58.491984Z"
    }
   },
   "cell_type": "code",
   "source": [
    "max_len = max(len(seq) for seq in sequences)\n",
    "padded_sequences = pad_sequences(sequences, maxlen=max_len)\n",
    "labels = pd.get_dummies(df['sentiments']).values\n",
    "labels"
   ],
   "id": "dbfb8ba073526f97",
   "outputs": [
    {
     "data": {
      "text/plain": [
       "array([[False, False,  True],\n",
       "       [False,  True, False],\n",
       "       [False,  True, False],\n",
       "       ...,\n",
       "       [False, False,  True],\n",
       "       [False, False,  True],\n",
       "       [False,  True, False]])"
      ]
     },
     "execution_count": 13,
     "metadata": {},
     "output_type": "execute_result"
    }
   ],
   "execution_count": 13
  },
  {
   "metadata": {
    "ExecuteTime": {
     "end_time": "2025-05-16T13:43:58.520720Z",
     "start_time": "2025-05-16T13:43:58.514590Z"
    }
   },
   "cell_type": "code",
   "source": "X_train, X_val, y_train, y_val = train_test_split(padded_sequences, labels, test_size=0.2, random_state=42)",
   "id": "d778b96562b2305a",
   "outputs": [],
   "execution_count": 14
  },
  {
   "metadata": {
    "ExecuteTime": {
     "end_time": "2025-05-16T13:43:58.546161Z",
     "start_time": "2025-05-16T13:43:58.521233Z"
    }
   },
   "cell_type": "code",
   "source": [
    "train_data = TensorDataset(torch.from_numpy(X_train).long(), torch.from_numpy(y_train).float())\n",
    "val_data = TensorDataset(torch.from_numpy(X_val).long(), torch.from_numpy(y_val).float())\n",
    "train_loader = DataLoader(train_data, batch_size=50, shuffle=True)\n",
    "val_loader = DataLoader(val_data, batch_size=50, shuffle=True)"
   ],
   "id": "abc0d8b8214c4a07",
   "outputs": [],
   "execution_count": 15
  },
  {
   "metadata": {
    "ExecuteTime": {
     "end_time": "2025-05-16T13:43:58.551836Z",
     "start_time": "2025-05-16T13:43:58.547445Z"
    }
   },
   "cell_type": "code",
   "source": [
    "res = next(iter(train_loader))\n",
    "res[0].shape, res[1].shape"
   ],
   "id": "6d365060cf992de5",
   "outputs": [
    {
     "data": {
      "text/plain": [
       "(torch.Size([50, 313]), torch.Size([50, 3]))"
      ]
     },
     "execution_count": 16,
     "metadata": {},
     "output_type": "execute_result"
    }
   ],
   "execution_count": 16
  },
  {
   "metadata": {
    "ExecuteTime": {
     "end_time": "2025-05-16T16:31:33.070890Z",
     "start_time": "2025-05-16T16:31:33.068086Z"
    }
   },
   "cell_type": "code",
   "source": [
    "class RNNLayer(nn.Module):\n",
    "    def __init__(self, input_size, hidden_size):\n",
    "        super(RNNLayer, self).__init__()\n",
    "        self.input_size = input_size\n",
    "        self.hidden_size = hidden_size\n",
    "        self.i2h = nn.Linear(input_size, hidden_size)\n",
    "        self.h2h = nn.Linear(hidden_size, hidden_size)\n",
    "\n",
    "    def forward(self, x, hidden_state):\n",
    "        b, seq_len, embed_size = x.size()\n",
    "        out = torch.zeros(b, seq_len, self.hidden_size).to(device)\n",
    "        for t in range(seq_len):\n",
    "            x_t = x[:, t, :]\n",
    "            x_t = self.i2h(x_t)\n",
    "            hidden_state = self.h2h(hidden_state)\n",
    "            hidden_state = F.tanh(x_t + hidden_state)\n",
    "            out[:, t, :] = hidden_state\n",
    "        return out, hidden_state\n",
    "\n",
    "    def init_zero_hidden(self, batch_size):\n",
    "        return torch.zeros(batch_size, self.hidden_size, requires_grad=False).to(device)"
   ],
   "id": "b106fc5cf0cf50e1",
   "outputs": [],
   "execution_count": 92
  },
  {
   "metadata": {
    "ExecuteTime": {
     "end_time": "2025-05-16T16:31:33.418044Z",
     "start_time": "2025-05-16T16:31:33.414461Z"
    }
   },
   "cell_type": "code",
   "source": [
    "class RNNBlock(nn.Module):\n",
    "    def __init__(self, input_size, hidden_size, n_layers=2):\n",
    "        super(RNNBlock, self).__init__()\n",
    "        self.input_size = input_size\n",
    "        self.hidden_size = hidden_size\n",
    "        self.layers = nn.ModuleList(\n",
    "            [RNNLayer(input_size, hidden_size)] +\n",
    "            [RNNLayer(hidden_size, hidden_size) for _ in range(n_layers - 1)]\n",
    "        )\n",
    "\n",
    "    def forward(self, x):\n",
    "        hidden_state = None\n",
    "        for layer in self.layers:\n",
    "            if hidden_state is None:\n",
    "                hidden_state = layer.init_zero_hidden(x.size(0))\n",
    "            x, hidden_state = layer(x, hidden_state)\n",
    "        return x, hidden_state"
   ],
   "id": "6aa14416e5f0e0eb",
   "outputs": [],
   "execution_count": 93
  },
  {
   "metadata": {
    "ExecuteTime": {
     "end_time": "2025-05-16T16:31:34.284390Z",
     "start_time": "2025-05-16T16:31:34.281039Z"
    }
   },
   "cell_type": "code",
   "source": [
    "class RNN(nn.Module):\n",
    "    def __init__(self, output_size, embedding_dim, hidden_dim, n_layers, drop_prob=0.5):\n",
    "        super(RNN, self).__init__()\n",
    "        self.output_size = output_size\n",
    "        self.n_layers = n_layers\n",
    "        self.hidden_dim = hidden_dim\n",
    "\n",
    "        self.embedding = nn.Embedding(len(tokenizer.word_index) + 1, embedding_dim)\n",
    "        self.rnn = RNNBlock(embedding_dim, hidden_dim, n_layers)\n",
    "        # self.rnn = nn.RNN(embedding_dim, hidden_dim, n_layers,dropout=drop_prob, batch_first=True)\n",
    "        self.dropout = nn.Dropout(drop_prob)\n",
    "        self.fc = nn.Linear(hidden_dim, output_size)\n",
    "\n",
    "    def forward(self, x):\n",
    "        embedded = self.embedding(x)\n",
    "        out, hidden = self.rnn(embedded)\n",
    "        out = self.dropout(out)\n",
    "        out = self.fc(out[:, -1])\n",
    "        return out"
   ],
   "id": "2977aa6164d4fc3b",
   "outputs": [],
   "execution_count": 94
  },
  {
   "metadata": {
    "ExecuteTime": {
     "end_time": "2025-05-16T16:31:36.876683Z",
     "start_time": "2025-05-16T16:31:36.873805Z"
    }
   },
   "cell_type": "code",
   "source": [
    "def accuracy(outputs, labels):\n",
    "    _, preds = torch.max(outputs, dim=1)\n",
    "    return torch.tensor(torch.sum(preds == labels).item() / len(preds))"
   ],
   "id": "401d9805ac09921",
   "outputs": [],
   "execution_count": 95
  },
  {
   "metadata": {
    "ExecuteTime": {
     "end_time": "2025-05-16T16:31:37.215941Z",
     "start_time": "2025-05-16T16:31:37.199147Z"
    }
   },
   "cell_type": "code",
   "source": [
    "epochs = 20\n",
    "output_size_ = 3\n",
    "embedding_dim_ = 400\n",
    "hidden_dim_ = 256\n",
    "n_layers_ = 2\n",
    "vocab_size = len(tokenizer.word_index) + 1\n",
    "\n",
    "model = RNN(output_size_, embedding_dim_, hidden_dim_, n_layers_).to(device)"
   ],
   "id": "70ab8569f3fe20db",
   "outputs": [],
   "execution_count": 96
  },
  {
   "metadata": {
    "ExecuteTime": {
     "end_time": "2025-05-16T16:31:37.503063Z",
     "start_time": "2025-05-16T16:31:37.499661Z"
    }
   },
   "cell_type": "code",
   "source": [
    "rnn_optimizer = optim.Adam(model.parameters(), lr=1e-3)\n",
    "criterion = nn.CrossEntropyLoss()"
   ],
   "id": "bc25d9bd98747cf7",
   "outputs": [],
   "execution_count": 97
  },
  {
   "metadata": {
    "ExecuteTime": {
     "end_time": "2025-05-16T16:56:19.589031Z",
     "start_time": "2025-05-16T16:31:40.279992Z"
    }
   },
   "cell_type": "code",
   "source": [
    "def train_and_validate(model_, optimizer, criterion_, train_loader_, val_loader_, epochs_, device_):\n",
    "    train_losses, val_losses, val_accs = [], [], []\n",
    "\n",
    "    for epoch in range(epochs_):\n",
    "        model_.train()\n",
    "        total_train_loss = 0\n",
    "        for inputs, labels_ in train_loader_:\n",
    "            inputs, labels_ = inputs.to(device_), labels_.to(device_)\n",
    "            output = model_(inputs)\n",
    "            loss = criterion_(output, torch.max(labels_, 1)[1])\n",
    "            optimizer.zero_grad()\n",
    "            loss.backward()\n",
    "            optimizer.step()\n",
    "            total_train_loss += loss.item()\n",
    "\n",
    "        model_.eval()\n",
    "        total_val_loss, total_acc = 0, 0\n",
    "        with torch.no_grad():\n",
    "            for inputs, labels_ in val_loader_:\n",
    "                inputs, labels_ = inputs.to(device_), labels_.to(device_)\n",
    "                output = model_(inputs)\n",
    "                val_loss = criterion_(output, torch.max(labels_, 1)[1])\n",
    "                total_val_loss += val_loss.item()\n",
    "                acc = accuracy(output, torch.max(labels_, 1)[1])\n",
    "                total_acc += acc.item()\n",
    "\n",
    "        avg_train_loss = total_train_loss / len(train_loader_)\n",
    "        avg_val_loss = total_val_loss / len(val_loader_)\n",
    "        avg_acc = total_acc / len(val_loader)\n",
    "\n",
    "        train_losses.append(avg_train_loss)\n",
    "        val_losses.append(avg_val_loss)\n",
    "        val_accs.append(avg_acc)\n",
    "        print(\n",
    "            f'Epoch: {epoch + 1}/{epochs_}, Train loss: {avg_train_loss}, Val loss: {avg_val_loss}, Val acc: {avg_acc}')\n",
    "    return train_losses, val_losses, val_accs\n",
    "\n",
    "\n",
    "print('RNN Start Training:')\n",
    "rnn_train_losses, rnn_val_losses, rnn_val_accs = train_and_validate(model, rnn_optimizer, criterion, train_loader,\n",
    "                                                                    val_loader, epochs, device)"
   ],
   "id": "cfcd0c950de88000",
   "outputs": [
    {
     "name": "stdout",
     "output_type": "stream",
     "text": [
      "RNN Start Training:\n",
      "Epoch: 1/20, Train loss: 0.677280747954794, Val loss: 0.5986615470477513, Val acc: 0.7533968235765185\n",
      "Epoch: 2/20, Train loss: 0.5997500964741913, Val loss: 0.6561658688953944, Val acc: 0.7508888874735151\n",
      "Epoch: 3/20, Train loss: 0.5494460878397921, Val loss: 0.5338915365082877, Val acc: 0.7985396776880537\n",
      "Epoch: 4/20, Train loss: 0.41575903997575636, Val loss: 0.5102392477648598, Val acc: 0.8033968235765184\n",
      "Epoch: 5/20, Train loss: 0.3511437181946185, Val loss: 0.539395032610212, Val acc: 0.7990476122924259\n",
      "Epoch: 6/20, Train loss: 0.31498999269210176, Val loss: 0.5207363860947746, Val acc: 0.8360634871891567\n",
      "Epoch: 7/20, Train loss: 0.23471685555234229, Val loss: 0.560442379968507, Val acc: 0.8193333251135689\n",
      "Epoch: 8/20, Train loss: 0.18876429665967714, Val loss: 0.49565848112106325, Val acc: 0.8544126919337681\n",
      "Epoch: 9/20, Train loss: 0.13283521979176205, Val loss: 0.5532120455588613, Val acc: 0.8508888832160405\n",
      "Epoch: 10/20, Train loss: 0.11345665461028652, Val loss: 0.5615971893072128, Val acc: 0.8579047569206782\n",
      "Epoch: 11/20, Train loss: 0.0920608789264727, Val loss: 0.6067749121359416, Val acc: 0.8582539643560138\n",
      "Epoch: 12/20, Train loss: 0.060073713679871646, Val loss: 0.704901730801378, Val acc: 0.8593968195574624\n",
      "Epoch: 13/20, Train loss: 0.056196923838365526, Val loss: 0.7280330455728939, Val acc: 0.854412693636758\n",
      "Epoch: 14/20, Train loss: 0.07821039775915765, Val loss: 0.6440333462187222, Val acc: 0.8599047567163195\n",
      "Epoch: 15/20, Train loss: 0.07312735003124414, Val loss: 0.6634237855672837, Val acc: 0.8619047539574759\n",
      "Epoch: 16/20, Train loss: 0.06780263103574863, Val loss: 0.6958960407546588, Val acc: 0.862349202803203\n",
      "Epoch: 17/20, Train loss: 0.050171583822238255, Val loss: 0.7553245659385409, Val acc: 0.8666984098298209\n",
      "Epoch: 18/20, Train loss: 0.04911950656645027, Val loss: 0.788168799664293, Val acc: 0.8529206275939941\n",
      "Epoch: 19/20, Train loss: 0.0396048911510491, Val loss: 0.7731378448860986, Val acc: 0.8639047563076019\n",
      "Epoch: 20/20, Train loss: 0.08023536551480764, Val loss: 0.6882319744144167, Val acc: 0.8400634876319341\n"
     ]
    }
   ],
   "execution_count": 98
  },
  {
   "metadata": {
    "ExecuteTime": {
     "end_time": "2025-05-16T17:12:42.435070Z",
     "start_time": "2025-05-16T17:12:42.432355Z"
    }
   },
   "cell_type": "code",
   "source": [
    "def plot_losses(model_name, train_losses, val_losses, epochs):\n",
    "    plt.plot(range(1, epochs + 1), train_losses, label='Training Loss')\n",
    "    plt.plot(range(1, epochs + 1), val_losses, label='Validation Loss')\n",
    "    plt.title(f'Training and Validation Losses for {model_name}')\n",
    "    plt.xlabel('Epochs')\n",
    "    plt.ylabel('Loss')\n",
    "    plt.legend()\n",
    "    plt.show()"
   ],
   "id": "b0c903d9987e1f73",
   "outputs": [],
   "execution_count": 99
  },
  {
   "metadata": {
    "ExecuteTime": {
     "end_time": "2025-05-16T17:12:43.742340Z",
     "start_time": "2025-05-16T17:12:43.679316Z"
    }
   },
   "cell_type": "code",
   "source": "plot_losses('RNN', rnn_train_losses, rnn_val_losses, epochs)",
   "id": "bce15f98aa283cee",
   "outputs": [
    {
     "data": {
      "text/plain": [
       "<Figure size 640x480 with 1 Axes>"
      ],
      "image/png": "[encoded data removed]"
     },
     "metadata": {},
     "output_type": "display_data"
    }
   ],
   "execution_count": 100
  }
 ],
 "metadata": {
  "kernelspec": {
   "display_name": "Python 3",
   "language": "python",
   "name": "python3"
  },
  "language_info": {
   "codemirror_mode": {
    "name": "ipython",
    "version": 2
   },
   "file_extension": ".py",
   "mimetype": "text/x-python",
   "name": "python",
   "nbconvert_exporter": "python",
   "pygments_lexer": "ipython2",
   "version": "2.7.6"
  }
 },
 "nbformat": 4,
 "nbformat_minor": 5
}
