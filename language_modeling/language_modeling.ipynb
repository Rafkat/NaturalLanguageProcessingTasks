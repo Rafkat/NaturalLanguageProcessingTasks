{
 "cells": [
  {
   "cell_type": "code",
   "id": "initial_id",
   "metadata": {
    "collapsed": true,
    "ExecuteTime": {
     "end_time": "2025-06-09T14:31:40.765276Z",
     "start_time": "2025-06-09T14:31:39.597849Z"
    }
   },
   "source": [
    "from functools import partial\n",
    "\n",
    "import pandas as pd\n",
    "from torch.utils.data import DataLoader\n",
    "from torchtext.data.utils import get_tokenizer\n",
    "from torchtext.vocab import build_vocab_from_iterator\n",
    "from tqdm import tqdm\n",
    "import numpy as np\n",
    "from sklearn.model_selection import train_test_split\n",
    "import torch\n",
    "import matplotlib.pyplot as plt\n",
    "\n",
    "from models.generation_models.rnn import RNN\n",
    "from models.generation_models.transformer import Transformer"
   ],
   "outputs": [],
   "execution_count": 1
  },
  {
   "metadata": {
    "ExecuteTime": {
     "end_time": "2025-06-09T14:31:40.768299Z",
     "start_time": "2025-06-09T14:31:40.766260Z"
    }
   },
   "cell_type": "code",
   "source": "device = torch.device('cuda' if torch.cuda.is_available() else 'cpu')",
   "id": "edd16cd5693239d5",
   "outputs": [],
   "execution_count": 2
  },
  {
   "metadata": {
    "ExecuteTime": {
     "end_time": "2025-06-09T14:31:40.809537Z",
     "start_time": "2025-06-09T14:31:40.769108Z"
    }
   },
   "cell_type": "code",
   "source": "data = pd.read_csv('reddit-comments-2015-08.csv')",
   "id": "2fed88b8af171220",
   "outputs": [],
   "execution_count": 3
  },
  {
   "metadata": {
    "ExecuteTime": {
     "end_time": "2025-06-09T14:31:40.815038Z",
     "start_time": "2025-06-09T14:31:40.810190Z"
    }
   },
   "cell_type": "code",
   "source": "data",
   "id": "8c97d526ef384bc5",
   "outputs": [
    {
     "data": {
      "text/plain": [
       "                                                    body\n",
       "0      I joined a new league this year and they have ...\n",
       "1      In your scenario, a person could just not run ...\n",
       "2      They don't get paid for how much time you spen...\n",
       "3      I dunno, back before the August update in an A...\n",
       "4      No, but Toriyama sometimes would draw himself ...\n",
       "...                                                  ...\n",
       "14995  I've got such a good feeling about this season...\n",
       "14996  insider rank (no cute sign cuz that will make ...\n",
       "14997  See here for why this isn't as clear a compari...\n",
       "14998  &gt;  If you cannot stop the bleeding by apply...\n",
       "14999  Just got denied with POID BUIU 0001 and offer ...\n",
       "\n",
       "[15000 rows x 1 columns]"
      ],
      "text/html": [
       "<div>\n",
       "<style scoped>\n",
       "    .dataframe tbody tr th:only-of-type {\n",
       "        vertical-align: middle;\n",
       "    }\n",
       "\n",
       "    .dataframe tbody tr th {\n",
       "        vertical-align: top;\n",
       "    }\n",
       "\n",
       "    .dataframe thead th {\n",
       "        text-align: right;\n",
       "    }\n",
       "</style>\n",
       "<table border=\"1\" class=\"dataframe\">\n",
       "  <thead>\n",
       "    <tr style=\"text-align: right;\">\n",
       "      <th></th>\n",
       "      <th>body</th>\n",
       "    </tr>\n",
       "  </thead>\n",
       "  <tbody>\n",
       "    <tr>\n",
       "      <th>0</th>\n",
       "      <td>I joined a new league this year and they have ...</td>\n",
       "    </tr>\n",
       "    <tr>\n",
       "      <th>1</th>\n",
       "      <td>In your scenario, a person could just not run ...</td>\n",
       "    </tr>\n",
       "    <tr>\n",
       "      <th>2</th>\n",
       "      <td>They don't get paid for how much time you spen...</td>\n",
       "    </tr>\n",
       "    <tr>\n",
       "      <th>3</th>\n",
       "      <td>I dunno, back before the August update in an A...</td>\n",
       "    </tr>\n",
       "    <tr>\n",
       "      <th>4</th>\n",
       "      <td>No, but Toriyama sometimes would draw himself ...</td>\n",
       "    </tr>\n",
       "    <tr>\n",
       "      <th>...</th>\n",
       "      <td>...</td>\n",
       "    </tr>\n",
       "    <tr>\n",
       "      <th>14995</th>\n",
       "      <td>I've got such a good feeling about this season...</td>\n",
       "    </tr>\n",
       "    <tr>\n",
       "      <th>14996</th>\n",
       "      <td>insider rank (no cute sign cuz that will make ...</td>\n",
       "    </tr>\n",
       "    <tr>\n",
       "      <th>14997</th>\n",
       "      <td>See here for why this isn't as clear a compari...</td>\n",
       "    </tr>\n",
       "    <tr>\n",
       "      <th>14998</th>\n",
       "      <td>&amp;gt;  If you cannot stop the bleeding by apply...</td>\n",
       "    </tr>\n",
       "    <tr>\n",
       "      <th>14999</th>\n",
       "      <td>Just got denied with POID BUIU 0001 and offer ...</td>\n",
       "    </tr>\n",
       "  </tbody>\n",
       "</table>\n",
       "<p>15000 rows × 1 columns</p>\n",
       "</div>"
      ]
     },
     "execution_count": 4,
     "metadata": {},
     "output_type": "execute_result"
    }
   ],
   "execution_count": 4
  },
  {
   "metadata": {
    "ExecuteTime": {
     "end_time": "2025-06-09T14:31:44.254644Z",
     "start_time": "2025-06-09T14:31:40.815472Z"
    }
   },
   "cell_type": "code",
   "source": [
    "tokenizer = get_tokenizer('spacy', 'en_core_web_sm')\n",
    "data = data['body'].apply(lambda x: tokenizer(x))\n",
    "data.head()"
   ],
   "id": "7cfd544b02801723",
   "outputs": [
    {
     "data": {
      "text/plain": [
       "0    [I, joined, a, new, league, this, year, and, t...\n",
       "1    [In, your, scenario, ,, a, person, could, just...\n",
       "2    [They, do, n't, get, paid, for, how, much, tim...\n",
       "3    [I, dunno, ,, back, before, the, August, updat...\n",
       "4    [No, ,, but, Toriyama, sometimes, would, draw,...\n",
       "Name: body, dtype: object"
      ]
     },
     "execution_count": 5,
     "metadata": {},
     "output_type": "execute_result"
    }
   ],
   "execution_count": 5
  },
  {
   "metadata": {
    "ExecuteTime": {
     "end_time": "2025-06-09T14:31:44.260845Z",
     "start_time": "2025-06-09T14:31:44.255598Z"
    }
   },
   "cell_type": "code",
   "source": [
    "max_len = 0\n",
    "for row in data:\n",
    "    max_len = max(max_len, len(row))\n",
    "max_len"
   ],
   "id": "9fb4c525901604e8",
   "outputs": [
    {
     "data": {
      "text/plain": [
       "2218"
      ]
     },
     "execution_count": 6,
     "metadata": {},
     "output_type": "execute_result"
    }
   ],
   "execution_count": 6
  },
  {
   "metadata": {
    "ExecuteTime": {
     "end_time": "2025-06-09T14:31:44.265072Z",
     "start_time": "2025-06-09T14:31:44.261250Z"
    }
   },
   "cell_type": "code",
   "source": [
    "vocab_size = 10_000\n",
    "max_len = 2000\n",
    "\n",
    "PAD_IDX = 0\n",
    "UNK_IDX = 1\n",
    "SOS_IDX = 2\n",
    "EOS_IDX = 3\n",
    "special_tokens = ['PAD', 'UNK', 'SOS', 'EOS']"
   ],
   "id": "f2f90e9d5dbefb72",
   "outputs": [],
   "execution_count": 7
  },
  {
   "metadata": {
    "ExecuteTime": {
     "end_time": "2025-06-09T14:31:44.268950Z",
     "start_time": "2025-06-09T14:31:44.265467Z"
    }
   },
   "cell_type": "code",
   "source": [
    "def yield_tokens(dataset):\n",
    "    n = len(dataset)\n",
    "    i = 0\n",
    "    while i < n:\n",
    "        yield dataset[i]\n",
    "        i += 1"
   ],
   "id": "ff2fdeebaad8d9f9",
   "outputs": [],
   "execution_count": 8
  },
  {
   "metadata": {
    "ExecuteTime": {
     "end_time": "2025-06-09T14:31:44.272856Z",
     "start_time": "2025-06-09T14:31:44.270180Z"
    }
   },
   "cell_type": "code",
   "source": "data_iterator = yield_tokens(data)",
   "id": "4bffb167077981bd",
   "outputs": [],
   "execution_count": 9
  },
  {
   "metadata": {
    "ExecuteTime": {
     "end_time": "2025-06-09T14:31:44.431249Z",
     "start_time": "2025-06-09T14:31:44.273248Z"
    }
   },
   "cell_type": "code",
   "source": "vocab = build_vocab_from_iterator(data_iterator, min_freq=1, specials=special_tokens, special_first=True, max_tokens=vocab_size)",
   "id": "cda2e565ac20a3e5",
   "outputs": [],
   "execution_count": 10
  },
  {
   "metadata": {
    "ExecuteTime": {
     "end_time": "2025-06-09T14:31:44.433771Z",
     "start_time": "2025-06-09T14:31:44.431986Z"
    }
   },
   "cell_type": "code",
   "source": "vocab.set_default_index(UNK_IDX)",
   "id": "266453befa711fc4",
   "outputs": [],
   "execution_count": 11
  },
  {
   "metadata": {
    "ExecuteTime": {
     "end_time": "2025-06-09T14:31:44.437640Z",
     "start_time": "2025-06-09T14:31:44.434171Z"
    }
   },
   "cell_type": "code",
   "source": [
    "def collate_fn(batch, vocabulary):\n",
    "    batch_size = len(batch)\n",
    "    sentence_vectors = torch.zeros((batch_size, max_len), dtype=torch.long, device=device)\n",
    "    \n",
    "    for i in range(batch_size):\n",
    "        sentence_vectors[i] = torch.tensor(([SOS_IDX] + vocabulary(batch[i]) + [EOS_IDX] + [0] * (max_len - len(batch[i])))[:max_len], dtype=torch.long, device=device)\n",
    "    return sentence_vectors"
   ],
   "id": "cf23108e57f35b9f",
   "outputs": [],
   "execution_count": 12
  },
  {
   "metadata": {
    "ExecuteTime": {
     "end_time": "2025-06-09T14:31:44.441729Z",
     "start_time": "2025-06-09T14:31:44.438079Z"
    }
   },
   "cell_type": "code",
   "source": [
    "class SentencesDataset(torch.nn.Module):\n",
    "    def __init__(self, ds):\n",
    "        super(SentencesDataset, self).__init__()\n",
    "        self.data = ds\n",
    "        \n",
    "    def __len__(self):\n",
    "        return len(self.data)\n",
    "    \n",
    "    def __getitem__(self, idx):\n",
    "        return self.data[idx]"
   ],
   "id": "5b0960c53958d56a",
   "outputs": [],
   "execution_count": 13
  },
  {
   "metadata": {
    "ExecuteTime": {
     "end_time": "2025-06-09T14:31:44.445717Z",
     "start_time": "2025-06-09T14:31:44.442116Z"
    }
   },
   "cell_type": "code",
   "source": "train_data, val_data = train_test_split(data, test_size=0.2)",
   "id": "eba89abfa849d7e3",
   "outputs": [],
   "execution_count": 14
  },
  {
   "metadata": {
    "ExecuteTime": {
     "end_time": "2025-06-09T14:31:44.448135Z",
     "start_time": "2025-06-09T14:31:44.446118Z"
    }
   },
   "cell_type": "code",
   "source": "train_data.reset_index(drop=True, inplace=True)",
   "id": "d0e4a4f946c06553",
   "outputs": [],
   "execution_count": 15
  },
  {
   "metadata": {
    "ExecuteTime": {
     "end_time": "2025-06-09T14:31:44.451579Z",
     "start_time": "2025-06-09T14:31:44.448508Z"
    }
   },
   "cell_type": "code",
   "source": "val_data.reset_index(drop=True, inplace=True)",
   "id": "d5b3bc2b4e8d65e8",
   "outputs": [],
   "execution_count": 16
  },
  {
   "metadata": {
    "ExecuteTime": {
     "end_time": "2025-06-09T14:31:44.455943Z",
     "start_time": "2025-06-09T14:31:44.451962Z"
    }
   },
   "cell_type": "code",
   "source": [
    "train_loader = SentencesDataset(train_data)\n",
    "val_loader = SentencesDataset(val_data)\n",
    "train_dataloader = DataLoader(train_loader, batch_size=4, shuffle=True, collate_fn=partial(collate_fn, vocabulary=vocab))\n",
    "val_dataloader = DataLoader(val_loader, batch_size=4, shuffle=True, collate_fn=partial(collate_fn, vocabulary=vocab))"
   ],
   "id": "944ea36964eb8283",
   "outputs": [],
   "execution_count": 17
  },
  {
   "metadata": {
    "ExecuteTime": {
     "end_time": "2025-06-09T14:31:44.792167Z",
     "start_time": "2025-06-09T14:31:44.456338Z"
    }
   },
   "cell_type": "code",
   "source": "next(iter(train_dataloader))",
   "id": "223a0b29afba1ba7",
   "outputs": [
    {
     "data": {
      "text/plain": [
       "tensor([[   2, 2498,   21,  ...,    0,    0,    0],\n",
       "        [   2,    8,   70,  ...,    0,    0,    0],\n",
       "        [   2,  134,   11,  ...,    0,    0,    0],\n",
       "        [   2,   82,  146,  ...,    0,    0,    0]], device='cuda:0')"
      ]
     },
     "execution_count": 18,
     "metadata": {},
     "output_type": "execute_result"
    }
   ],
   "execution_count": 18
  },
  {
   "metadata": {
    "ExecuteTime": {
     "end_time": "2025-06-09T14:31:44.795125Z",
     "start_time": "2025-06-09T14:31:44.792673Z"
    }
   },
   "cell_type": "code",
   "source": "len(vocab)",
   "id": "6807c082c753e35d",
   "outputs": [
    {
     "data": {
      "text/plain": [
       "10000"
      ]
     },
     "execution_count": 19,
     "metadata": {},
     "output_type": "execute_result"
    }
   ],
   "execution_count": 19
  },
  {
   "metadata": {
    "ExecuteTime": {
     "end_time": "2025-06-09T14:31:44.798790Z",
     "start_time": "2025-06-09T14:31:44.795786Z"
    }
   },
   "cell_type": "code",
   "source": [
    "def accuracy(outputs, targets):\n",
    "    flattened_outputs = outputs.argmax(dim=-1).flatten()\n",
    "    flattened_targets = targets.flatten()\n",
    "    accuracies = flattened_outputs.eq(flattened_targets)\n",
    "    mask = torch.logical_not(flattened_outputs.eq(0))\n",
    "    accuracies = torch.logical_and(mask, accuracies)\n",
    "    return (accuracies.sum() / mask.sum()).item()"
   ],
   "id": "cef14d238bc2ac9",
   "outputs": [],
   "execution_count": 20
  },
  {
   "metadata": {
    "ExecuteTime": {
     "end_time": "2025-06-09T14:31:44.803091Z",
     "start_time": "2025-06-09T14:31:44.799327Z"
    }
   },
   "cell_type": "code",
   "source": [
    "def train_and_validate(model_, optimizer_, criterion_, train_loader_, val_loader_, epochs_, device_, model_type='rnn'):\n",
    "    train_losses, val_losses, val_accs = [], [], []\n",
    "\n",
    "    for epoch in range(epochs_):\n",
    "        model_.train()\n",
    "        total_train_loss = 0\n",
    "        for inputs in tqdm(train_loader_, total=len(train_loader_)):\n",
    "            inputs = inputs.to(device_)\n",
    "            outputs = model_(inputs[:, :-1])\n",
    "            loss = criterion_(outputs.flatten(start_dim=0, end_dim=1), inputs[:, 1:].flatten())\n",
    "            total_train_loss += loss.item()\n",
    "            optimizer_.zero_grad()\n",
    "            loss.backward()\n",
    "            torch.nn.utils.clip_grad_norm_(model_.parameters(), 1.0)\n",
    "            optimizer_.step()\n",
    "\n",
    "        model_.eval()\n",
    "        total_val_loss = 0\n",
    "        total_val_acc = 0\n",
    "        with torch.no_grad():\n",
    "            for inputs in val_loader_:\n",
    "                inputs = inputs.to(device_)\n",
    "                outputs = model_(inputs[:, :-1])\n",
    "                loss = criterion_(outputs.flatten(start_dim=0, end_dim=1), inputs[:, 1:].flatten())\n",
    "                total_val_loss += loss.item()\n",
    "                total_val_acc += accuracy(outputs, inputs[:, 1:])\n",
    "\n",
    "        total_train_loss = total_train_loss / len(train_loader_)\n",
    "        total_val_loss = total_val_loss / len(val_loader_)\n",
    "        total_val_acc = total_val_acc / len(val_loader_)\n",
    "\n",
    "        train_losses.append(total_train_loss)\n",
    "        val_losses.append(total_val_loss)\n",
    "        val_accs.append(total_val_acc)\n",
    "        print(\n",
    "            f'Epoch: {epoch + 1} / {epochs_} | Train loss: {total_train_loss} | Val loss: {total_val_loss} | Val acc: {total_val_acc}')\n",
    "    return train_losses, val_losses, val_accs\n"
   ],
   "id": "33c6c4885b580d88",
   "outputs": [],
   "execution_count": 21
  },
  {
   "metadata": {
    "ExecuteTime": {
     "end_time": "2025-06-09T14:31:44.807954Z",
     "start_time": "2025-06-09T14:31:44.803516Z"
    }
   },
   "cell_type": "code",
   "source": [
    "def plot_losses(model_name, train_losses, val_losses, epochs):\n",
    "    plt.plot(range(1, epochs + 1), train_losses, label='Training Loss')\n",
    "    plt.plot(range(1, epochs + 1), val_losses, label='Validation Loss')\n",
    "    plt.title(f'Training and Validation Losses for {model_name}')\n",
    "    plt.xlabel('Epochs')\n",
    "    plt.ylabel('Loss')\n",
    "    plt.legend()\n",
    "    plt.show()"
   ],
   "id": "e7172ace7ffc8952",
   "outputs": [],
   "execution_count": 22
  },
  {
   "metadata": {},
   "cell_type": "markdown",
   "source": "# RNN ",
   "id": "54132f0479b88897"
  },
  {
   "metadata": {
    "ExecuteTime": {
     "end_time": "2025-06-09T13:00:10.239081Z",
     "start_time": "2025-06-09T13:00:09.838847Z"
    }
   },
   "cell_type": "code",
   "source": [
    "epochs = 3\n",
    "embedding_dim = 512\n",
    "hidden_dim = 2048\n",
    "n_layers = 6\n",
    "vocab_size = len(vocab)\n",
    "\n",
    "device = torch.device('cuda' if torch.cuda.is_available() else 'cpu')\n",
    "model = RNN(vocab_size, embedding_dim, hidden_dim, n_layers).to(device)\n",
    "optimizer = torch.optim.Adam(model.parameters(), lr=1e-4, betas=(0.9, 0.98), eps=1e-9)\n",
    "criterion = torch.nn.CrossEntropyLoss(ignore_index=0)"
   ],
   "id": "2dc5eef8a44ed71b",
   "outputs": [],
   "execution_count": 45
  },
  {
   "metadata": {
    "ExecuteTime": {
     "end_time": "2025-06-09T13:32:39.144868Z",
     "start_time": "2025-06-09T13:00:11.584741Z"
    }
   },
   "cell_type": "code",
   "source": [
    "print('RNN Start Training:')\n",
    "rnn_train_losses, rnn_val_losses, rnn_val_accs = train_and_validate(model, optimizer, criterion, train_dataloader, val_dataloader, epochs, device)"
   ],
   "id": "293a0b500b46a149",
   "outputs": [
    {
     "name": "stdout",
     "output_type": "stream",
     "text": [
      "RNN Start Training:\n"
     ]
    },
    {
     "name": "stderr",
     "output_type": "stream",
     "text": [
      "100%|██████████| 375/375 [10:39<00:00,  1.71s/it]\n"
     ]
    },
    {
     "name": "stdout",
     "output_type": "stream",
     "text": [
      "Epoch: 1 / 3 | Train loss: 6.3360949236551924 | Val loss: 5.923882362690378 | Val acc: 0.045486742115401206\n"
     ]
    },
    {
     "name": "stderr",
     "output_type": "stream",
     "text": [
      "100%|██████████| 375/375 [10:34<00:00,  1.69s/it]\n"
     ]
    },
    {
     "name": "stdout",
     "output_type": "stream",
     "text": [
      "Epoch: 2 / 3 | Train loss: 5.518440032958984 | Val loss: 5.289752523949805 | Val acc: 0.07235980406403542\n"
     ]
    },
    {
     "name": "stderr",
     "output_type": "stream",
     "text": [
      "100%|██████████| 375/375 [10:34<00:00,  1.69s/it]\n"
     ]
    },
    {
     "name": "stdout",
     "output_type": "stream",
     "text": [
      "Epoch: 3 / 3 | Train loss: 5.170816029866536 | Val loss: 5.11584416856157 | Val acc: 0.08115433112896503\n"
     ]
    }
   ],
   "execution_count": 46
  },
  {
   "metadata": {},
   "cell_type": "code",
   "outputs": [
    {
     "data": {
      "text/plain": [
       "<Figure size 640x480 with 1 Axes>"
      ],
      "image/png": "[encoded data removed]"
     },
     "metadata": {},
     "output_type": "display_data"
    }
   ],
   "execution_count": 49,
   "source": "plot_losses('RNN', rnn_train_losses, rnn_val_losses, epochs)",
   "id": "67cee0e0ca900e6b"
  },
  {
   "metadata": {},
   "cell_type": "markdown",
   "source": "# Transformer ",
   "id": "1554ab94a50147e6"
  },
  {
   "metadata": {
    "ExecuteTime": {
     "end_time": "2025-06-09T14:31:58.482516Z",
     "start_time": "2025-06-09T14:31:47.169885Z"
    }
   },
   "cell_type": "code",
   "source": [
    "epochs = 3\n",
    "embedding_dim = 512\n",
    "hidden_dim = 2048\n",
    "n_layers = 6\n",
    "vocab_size = len(vocab)\n",
    "\n",
    "device = torch.device('cuda' if torch.cuda.is_available() else 'cpu')\n",
    "model = Transformer(vocab_size, max_len - 1, embedding_dim, n_layers, hidden_dim).to(device)\n",
    "optimizer = torch.optim.Adam(model.parameters(), lr=1e-4, betas=(0.9, 0.98), eps=1e-9)\n",
    "criterion = torch.nn.CrossEntropyLoss(ignore_index=0)"
   ],
   "id": "d29ecb7358f42e70",
   "outputs": [],
   "execution_count": 23
  },
  {
   "metadata": {
    "ExecuteTime": {
     "end_time": "2025-06-09T15:11:30.336173Z",
     "start_time": "2025-06-09T14:31:59.144535Z"
    }
   },
   "cell_type": "code",
   "source": [
    "print('Transformer Start Training:')\n",
    "transformer_train_losses, transformer_val_losses, transformer_val_accs = train_and_validate(model, optimizer, criterion, train_dataloader, val_dataloader, epochs, device)"
   ],
   "id": "716335c2e2ce5622",
   "outputs": [
    {
     "name": "stdout",
     "output_type": "stream",
     "text": [
      "Transformer Start Training:\n"
     ]
    },
    {
     "name": "stderr",
     "output_type": "stream",
     "text": [
      "100%|██████████| 3000/3000 [12:15<00:00,  4.08it/s]\n"
     ]
    },
    {
     "name": "stdout",
     "output_type": "stream",
     "text": [
      "Epoch: 1 / 3 | Train loss: 4.087197321534156 | Val loss: 2.0016034146149955 | Val acc: 0.038688344125946364\n"
     ]
    },
    {
     "name": "stderr",
     "output_type": "stream",
     "text": [
      "100%|██████████| 3000/3000 [12:09<00:00,  4.11it/s]\n"
     ]
    },
    {
     "name": "stdout",
     "output_type": "stream",
     "text": [
      "Epoch: 2 / 3 | Train loss: 1.1987009354829787 | Val loss: 0.7651228793263435 | Val acc: 0.04857346707085768\n"
     ]
    },
    {
     "name": "stderr",
     "output_type": "stream",
     "text": [
      "100%|██████████| 3000/3000 [12:09<00:00,  4.11it/s]\n"
     ]
    },
    {
     "name": "stdout",
     "output_type": "stream",
     "text": [
      "Epoch: 3 / 3 | Train loss: 0.5216861844062806 | Val loss: 0.4162361569503943 | Val acc: 0.0513848590751489\n"
     ]
    }
   ],
   "execution_count": 24
  },
  {
   "metadata": {
    "ExecuteTime": {
     "end_time": "2025-06-09T15:41:05.793700Z",
     "start_time": "2025-06-09T15:41:05.712092Z"
    }
   },
   "cell_type": "code",
   "source": "plot_losses('Transformer', transformer_train_losses, transformer_val_losses, epochs)",
   "id": "ecb6f5fc0ec615e9",
   "outputs": [
    {
     "data": {
      "text/plain": [
       "<Figure size 640x480 with 1 Axes>"
      ],
      "image/png": "[encoded data removed]"
     },
     "metadata": {},
     "output_type": "display_data"
    }
   ],
   "execution_count": 25
  },
  {
   "metadata": {
    "ExecuteTime": {
     "end_time": "2025-06-09T15:48:54.208369Z",
     "start_time": "2025-06-09T15:48:54.199324Z"
    }
   },
   "cell_type": "code",
   "source": [
    "def generate_sequence(model_):\n",
    "    model_.eval()\n",
    "    with torch.no_grad():\n",
    "        input_seq = torch.zeros((1,1), dtype=torch.int64).to(device)\n",
    "        input_seq = input_seq.to(device)\n",
    "        input_seq[:, 0] = vocab['SOS']\n",
    "        padding = torch.zeros((1, max_len - 2), dtype=torch.int64).to(device)\n",
    "        target_seq = torch.cat((input_seq, padding), 1)\n",
    "    \n",
    "        for idx in range(max_len - 2):\n",
    "            prediction = model_(input_seq)\n",
    "            prediction_index = prediction.argmax(dim=-1)[0][idx].item()\n",
    "            predicted_word = vocab.lookup_token(prediction_index)\n",
    "    \n",
    "            if predicted_word != 'EOS':\n",
    "                target_seq[:, idx + 1] = prediction_index\n",
    "                print(predicted_word, end=' ')\n",
    "    \n",
    "            if predicted_word == 'EOS':\n",
    "                break"
   ],
   "id": "13eec5477f5057d5",
   "outputs": [],
   "execution_count": 30
  },
  {
   "metadata": {
    "ExecuteTime": {
     "end_time": "2025-06-09T15:49:11.257353Z",
     "start_time": "2025-06-09T15:48:54.763436Z"
    }
   },
   "cell_type": "code",
   "source": "print(generate_sequence(model))",
   "id": "2edf2a687b9c8824",
   "outputs": [
    {
     "name": "stdout",
     "output_type": "stream",
     "text": [
      "Sorry Sorry Sorry . . . . . . . . . . . . . . the . . . . . . . . . . the the . . the . . . . . . the the the . . . . . . . . . . . . . . . . . the the the the the the . . . . . . . the the the the the the the . . . . . . . . . . . a . . . . the . the . . . 30 30 30 30 30 30 30 . . . . . . . . . . . . . . . . . . . . . . . . . . . . . . . . . . . . . . . . . . . . . . . . . . . . . . . . . . . . . . . . . . \n",
      "\n",
      " . . . . . . . . . . . . . . . . . . . . . . . . . . . . . . . . . . . . . . . . . . . . . . . . . . . . . . . . . . . . 30 30 30 30 . . . . . 30 . a . . . . . 30 30 30 . . the 30 30 30 30 30 the the the 30 . 30 30 30 . . . . . . . 30 30 30 . . . . . . . . . . . . . . . . . . . . . . . . . . . . . . . . 30 30 . 30 30 30 . . . 30 30 30 . . . . 30 . . . . . . . . . . . . . . . . . . . . . . . . . . 30 30 30 30 30 . . . . . . . . . . . . . . . . . . . . . . . . . . . . . . . . . . . . . . . . . . . . . . . . . . . . . . . . . . . . . . . . . . . . . . . . . . . . . . . . . . . . . . . . . . . . . . . \n",
      "\n",
      " \n",
      "\n",
      " \n",
      "\n",
      " . . . . . . . . . . . . . . . . . . . . . . . . . . . . . . . . . . . . . . . . . . . . . . . . . . . . . . . . . . . . . . . . . . . . . . . . . \n",
      "\n",
      " . . . . . . . . . . . . . . . . . . . . . . . . . 30 30 . . . . . . . . . . . . . . . . . . . . . . . . . . . . . . . 30 30 30 30 . . . the the . . . . . . . . . . . . . . . . . . . . . . . . . . . . . . . . . ) ) ) ) ) . ) ) ) ) ) . . . . 30 30 30 ) ) ) ) ) ) ) . 30 30 30 30 30 the the the . . ) ) ) \n",
      "\n",
      " \n",
      "\n",
      " \n",
      "\n",
      " \n",
      "\n",
      " ) ) ) ) UNK UNK . . . . . . . . . . . . . . . . . . . . . . . \n",
      "\n",
      " \n",
      "\n",
      " \n",
      "\n",
      " \n",
      "\n",
      " . . . \n",
      "\n",
      " \n",
      "\n",
      " \n",
      "\n",
      " . . . . . . \n",
      "\n",
      " . . . . \n",
      "\n",
      " \n",
      "\n",
      " \n",
      "\n",
      " ) . . . . . \n",
      "\n",
      " 30 30 30 30 30 30 30 . . . . . . . . . . . . . . . . . . . . . . . . . . . . . . . . . . . . . . . 30 . . . . . . ) 30 . . . . ) ) ) ) ) 30 None\n"
     ]
    }
   ],
   "execution_count": 31
  },
  {
   "metadata": {},
   "cell_type": "code",
   "outputs": [],
   "execution_count": null,
   "source": "",
   "id": "b98d3ed9cb6ff9fb"
  }
 ],
 "metadata": {
  "kernelspec": {
   "display_name": "Python 3",
   "language": "python",
   "name": "python3"
  },
  "language_info": {
   "codemirror_mode": {
    "name": "ipython",
    "version": 2
   },
   "file_extension": ".py",
   "mimetype": "text/x-python",
   "name": "python",
   "nbconvert_exporter": "python",
   "pygments_lexer": "ipython2",
   "version": "2.7.6"
  }
 },
 "nbformat": 4,
 "nbformat_minor": 5
}
