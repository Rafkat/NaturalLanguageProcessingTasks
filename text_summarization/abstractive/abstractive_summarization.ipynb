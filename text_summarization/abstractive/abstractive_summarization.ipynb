{
 "cells": [
  {
   "cell_type": "code",
   "id": "initial_id",
   "metadata": {
    "collapsed": true,
    "ExecuteTime": {
     "end_time": "2025-05-30T11:33:43.443764Z",
     "start_time": "2025-05-30T11:33:41.650178Z"
    }
   },
   "source": [
    "import re\n",
    "import warnings\n",
    "\n",
    "import matplotlib.pyplot as plt\n",
    "import numpy as np\n",
    "import pandas as pd\n",
    "import torch\n",
    "from bs4 import BeautifulSoup\n",
    "from nltk.corpus import stopwords\n",
    "from sklearn.model_selection import train_test_split\n",
    "from tensorflow.keras.preprocessing.sequence import pad_sequences\n",
    "from tensorflow.keras.preprocessing.text import Tokenizer\n",
    "from torch.utils.data import DataLoader, TensorDataset\n",
    "\n",
    "from gru_seq2seq import GRUSeq2Seq\n",
    "from lstm_seq2seq import LSTMSeq2Seq\n",
    "from rnn_seq2seq import RNNSeq2Seq\n",
    "from transformer import Transformer, Utils\n",
    "\n",
    "pd.set_option('display.max_colwidth', 200)\n",
    "warnings.filterwarnings('ignore')"
   ],
   "outputs": [
    {
     "name": "stderr",
     "output_type": "stream",
     "text": [
      "2025-05-30 14:33:42.606173: I tensorflow/core/util/port.cc:153] oneDNN custom operations are on. You may see slightly different numerical results due to floating-point round-off errors from different computation orders. To turn them off, set the environment variable `TF_ENABLE_ONEDNN_OPTS=0`.\n",
      "2025-05-30 14:33:42.613521: E external/local_xla/xla/stream_executor/cuda/cuda_fft.cc:467] Unable to register cuFFT factory: Attempting to register factory for plugin cuFFT when one has already been registered\n",
      "WARNING: All log messages before absl::InitializeLog() is called are written to STDERR\n",
      "E0000 00:00:1748604822.622091   28751 cuda_dnn.cc:8579] Unable to register cuDNN factory: Attempting to register factory for plugin cuDNN when one has already been registered\n",
      "E0000 00:00:1748604822.624632   28751 cuda_blas.cc:1407] Unable to register cuBLAS factory: Attempting to register factory for plugin cuBLAS when one has already been registered\n",
      "W0000 00:00:1748604822.631384   28751 computation_placer.cc:177] computation placer already registered. Please check linkage and avoid linking the same target more than once.\n",
      "W0000 00:00:1748604822.631392   28751 computation_placer.cc:177] computation placer already registered. Please check linkage and avoid linking the same target more than once.\n",
      "W0000 00:00:1748604822.631393   28751 computation_placer.cc:177] computation placer already registered. Please check linkage and avoid linking the same target more than once.\n",
      "W0000 00:00:1748604822.631393   28751 computation_placer.cc:177] computation placer already registered. Please check linkage and avoid linking the same target more than once.\n",
      "2025-05-30 14:33:42.633965: I tensorflow/core/platform/cpu_feature_guard.cc:210] This TensorFlow binary is optimized to use available CPU instructions in performance-critical operations.\n",
      "To enable the following instructions: AVX2 AVX_VNNI FMA, in other operations, rebuild TensorFlow with the appropriate compiler flags.\n"
     ]
    }
   ],
   "execution_count": 1
  },
  {
   "metadata": {
    "ExecuteTime": {
     "end_time": "2025-05-30T11:33:43.716433Z",
     "start_time": "2025-05-30T11:33:43.445094Z"
    }
   },
   "cell_type": "code",
   "source": "data = pd.read_csv('Reviews.csv', nrows=100000)",
   "id": "90827b69b3ec5d99",
   "outputs": [],
   "execution_count": 2
  },
  {
   "metadata": {
    "ExecuteTime": {
     "end_time": "2025-05-30T11:33:43.756869Z",
     "start_time": "2025-05-30T11:33:43.717022Z"
    }
   },
   "cell_type": "code",
   "source": [
    "data.drop_duplicates(subset=['Text'], inplace=True)\n",
    "data.dropna(axis=0, inplace=True)"
   ],
   "id": "bc31ce9eaf2fc185",
   "outputs": [],
   "execution_count": 3
  },
  {
   "metadata": {
    "ExecuteTime": {
     "end_time": "2025-05-30T11:33:43.761361Z",
     "start_time": "2025-05-30T11:33:43.757448Z"
    }
   },
   "cell_type": "code",
   "source": [
    "contraction_mapping = {\"ain't\": \"is not\", \"aren't\": \"are not\", \"can't\": \"cannot\", \"'cause\": \"because\",\n",
    "                       \"could've\": \"could have\", \"couldn't\": \"could not\", \"didn't\": \"did not\", \"doesn't\": \"does not\",\n",
    "                       \"don't\": \"do not\", \"hadn't\": \"had not\", \"hasn't\": \"has not\", \"haven't\": \"have not\",\n",
    "                       \"he'd\": \"he would\", \"he'll\": \"he will\", \"he's\": \"he is\", \"how'd\": \"how did\",\n",
    "                       \"how'd'y\": \"how do you\", \"how'll\": \"how will\", \"how's\": \"how is\", \"I'd\": \"I would\",\n",
    "                       \"I'd've\": \"I would have\", \"I'll\": \"I will\", \"I'll've\": \"I will have\", \"I'm\": \"I am\",\n",
    "                       \"I've\": \"I have\", \"i'd\": \"i would\", \"i'd've\": \"i would have\", \"i'll\": \"i will\",\n",
    "                       \"i'll've\": \"i will have\", \"i'm\": \"i am\", \"i've\": \"i have\", \"isn't\": \"is not\", \"it'd\": \"it would\",\n",
    "                       \"it'd've\": \"it would have\", \"it'll\": \"it will\", \"it'll've\": \"it will have\", \"it's\": \"it is\",\n",
    "                       \"let's\": \"let us\", \"ma'am\": \"madam\", \"mayn't\": \"may not\", \"might've\": \"might have\",\n",
    "                       \"mightn't\": \"might not\", \"mightn't've\": \"might not have\", \"must've\": \"must have\",\n",
    "                       \"mustn't\": \"must not\", \"mustn't've\": \"must not have\", \"needn't\": \"need not\",\n",
    "                       \"needn't've\": \"need not have\", \"o'clock\": \"of the clock\", \"oughtn't\": \"ought not\",\n",
    "                       \"oughtn't've\": \"ought not have\", \"shan't\": \"shall not\", \"sha'n't\": \"shall not\",\n",
    "                       \"shan't've\": \"shall not have\", \"she'd\": \"she would\", \"she'd've\": \"she would have\",\n",
    "                       \"she'll\": \"she will\", \"she'll've\": \"she will have\", \"she's\": \"she is\",\n",
    "                       \"should've\": \"should have\", \"shouldn't\": \"should not\", \"shouldn't've\": \"should not have\",\n",
    "                       \"so've\": \"so have\", \"so's\": \"so as\", \"this's\": \"this is\", \"that'd\": \"that would\",\n",
    "                       \"that'd've\": \"that would have\", \"that's\": \"that is\", \"there'd\": \"there would\",\n",
    "                       \"there'd've\": \"there would have\", \"there's\": \"there is\", \"here's\": \"here is\",\n",
    "                       \"they'd\": \"they would\", \"they'd've\": \"they would have\", \"they'll\": \"they will\",\n",
    "                       \"they'll've\": \"they will have\", \"they're\": \"they are\", \"they've\": \"they have\",\n",
    "                       \"to've\": \"to have\", \"wasn't\": \"was not\", \"we'd\": \"we would\", \"we'd've\": \"we would have\",\n",
    "                       \"we'll\": \"we will\", \"we'll've\": \"we will have\", \"we're\": \"we are\", \"we've\": \"we have\",\n",
    "                       \"weren't\": \"were not\", \"what'll\": \"what will\", \"what'll've\": \"what will have\",\n",
    "                       \"what're\": \"what are\", \"what's\": \"what is\", \"what've\": \"what have\", \"when's\": \"when is\",\n",
    "                       \"when've\": \"when have\", \"where'd\": \"where did\", \"where's\": \"where is\", \"where've\": \"where have\",\n",
    "                       \"who'll\": \"who will\", \"who'll've\": \"who will have\", \"who's\": \"who is\", \"who've\": \"who have\",\n",
    "                       \"why's\": \"why is\", \"why've\": \"why have\", \"will've\": \"will have\", \"won't\": \"will not\",\n",
    "                       \"won't've\": \"will not have\", \"would've\": \"would have\", \"wouldn't\": \"would not\",\n",
    "                       \"wouldn't've\": \"would not have\", \"y'all\": \"you all\", \"y'all'd\": \"you all would\",\n",
    "                       \"y'all'd've\": \"you all would have\", \"y'all're\": \"you all are\", \"y'all've\": \"you all have\",\n",
    "                       \"you'd\": \"you would\", \"you'd've\": \"you would have\", \"you'll\": \"you will\",\n",
    "                       \"you'll've\": \"you will have\", \"you're\": \"you are\", \"you've\": \"you have\"}"
   ],
   "id": "78fa1a164db531d4",
   "outputs": [],
   "execution_count": 4
  },
  {
   "metadata": {
    "ExecuteTime": {
     "end_time": "2025-05-30T11:33:43.768618Z",
     "start_time": "2025-05-30T11:33:43.761982Z"
    }
   },
   "cell_type": "code",
   "source": "data['Text'][:10]",
   "id": "20ccd10c8f6e21d4",
   "outputs": [
    {
     "data": {
      "text/plain": [
       "0    I have bought several of the Vitality canned dog food products and have found them all to be of good quality. The product looks more like a stew than a processed meat and it smells better. My Labr...\n",
       "1             Product arrived labeled as Jumbo Salted Peanuts...the peanuts were actually small sized unsalted. Not sure if this was an error or if the vendor intended to represent the product as \"Jumbo\".\n",
       "2    This is a confection that has been around a few centuries.  It is a light, pillowy citrus gelatin with nuts - in this case Filberts. And it is cut into tiny squares and then liberally coated with ...\n",
       "3    If you are looking for the secret ingredient in Robitussin I believe I have found it.  I got this in addition to the Root Beer Extract I ordered (which was good) and made some cherry soda.  The fl...\n",
       "4                                                               Great taffy at a great price.  There was a wide assortment of yummy taffy.  Delivery was very quick.  If your a taffy lover, this is a deal.\n",
       "5    I got a wild hair for taffy and ordered this five pound bag. The taffy was all very enjoyable with many flavors: watermelon, root beer, melon, peppermint, grape, etc. My only complaint is there wa...\n",
       "6    This saltwater taffy had great flavors and was very soft and chewy.  Each candy was individually wrapped well.  None of the candies were stuck together, which did happen in the expensive version, ...\n",
       "7                                                               This taffy is so good.  It is very soft and chewy.  The flavors are amazing.  I would definitely recommend you buying it.  Very satisfying!!\n",
       "8                                                                        Right now I'm mostly just sprouting this so my cats can eat the grass. They love it. I rotate it around with Wheatgrass and Rye too\n",
       "9                                                                  This is a very healthy dog food. Good for their digestion. Also good for small puppies. My dog eats her required amount at every feeding.\n",
       "Name: Text, dtype: object"
      ]
     },
     "execution_count": 5,
     "metadata": {},
     "output_type": "execute_result"
    }
   ],
   "execution_count": 5
  },
  {
   "metadata": {
    "ExecuteTime": {
     "end_time": "2025-05-30T11:33:52.010692Z",
     "start_time": "2025-05-30T11:33:43.769019Z"
    }
   },
   "cell_type": "code",
   "source": [
    "stop_words = set(stopwords.words('english'))\n",
    "\n",
    "\n",
    "def text_cleaner(text):\n",
    "    new_string = text.lower()\n",
    "    new_string = BeautifulSoup(new_string, 'lxml').text\n",
    "    new_string = re.sub(r'\\([^)]*\\)', '', new_string)\n",
    "    new_string = re.sub('\"', '', new_string)\n",
    "    new_string = ' '.join([contraction_mapping[t] if t in contraction_mapping else t for t in new_string.split(\" \")])\n",
    "    new_string = re.sub(r\"'s\\b\", \"\", new_string)\n",
    "    new_string = re.sub(\"[^a-zA-Z]\", \" \", new_string)\n",
    "    tokens = [w for w in new_string.split() if not w in stop_words]\n",
    "    long_words = []\n",
    "    for i in tokens:\n",
    "        if len(i) >= 3:\n",
    "            long_words.append(i)\n",
    "    return (\" \".join(long_words)).strip()\n",
    "\n",
    "\n",
    "cleaned_text = []\n",
    "for t in data['Text']:\n",
    "    cleaned_text.append(text_cleaner(t))"
   ],
   "id": "36bae2526c2f6a7b",
   "outputs": [],
   "execution_count": 6
  },
  {
   "metadata": {
    "ExecuteTime": {
     "end_time": "2025-05-30T11:33:52.014876Z",
     "start_time": "2025-05-30T11:33:52.012041Z"
    }
   },
   "cell_type": "code",
   "source": "data['Summary'][:10]",
   "id": "2e26031d0c789365",
   "outputs": [
    {
     "data": {
      "text/plain": [
       "0                            Good Quality Dog Food\n",
       "1                                Not as Advertised\n",
       "2                            \"Delight\" says it all\n",
       "3                                   Cough Medicine\n",
       "4                                      Great taffy\n",
       "5                                       Nice Taffy\n",
       "6    Great!  Just as good as the expensive brands!\n",
       "7                           Wonderful, tasty taffy\n",
       "8                                       Yay Barley\n",
       "9                                 Healthy Dog Food\n",
       "Name: Summary, dtype: object"
      ]
     },
     "execution_count": 7,
     "metadata": {},
     "output_type": "execute_result"
    }
   ],
   "execution_count": 7
  },
  {
   "metadata": {
    "ExecuteTime": {
     "end_time": "2025-05-30T11:33:52.214870Z",
     "start_time": "2025-05-30T11:33:52.015427Z"
    }
   },
   "cell_type": "code",
   "source": [
    "def summary_cleaner(text):\n",
    "    new_string = re.sub('\"', '', text)\n",
    "    new_string = ' '.join([contraction_mapping[t] if t in contraction_mapping else t for t in new_string.split(\" \")])\n",
    "    new_string = re.sub(r\"'s\\b\", \"\", new_string)\n",
    "    new_string = re.sub(\"[^a-zA-Z]\", \" \", new_string)\n",
    "    new_string = new_string.lower()\n",
    "    tokens = new_string.split()\n",
    "    new_string = ''\n",
    "    for i in tokens:\n",
    "        if len(i) > 1:\n",
    "            new_string = new_string + i + ' '\n",
    "    return new_string\n",
    "\n",
    "\n",
    "cleaned_summary = []\n",
    "for t in data['Summary']:\n",
    "    cleaned_summary.append(summary_cleaner(t))"
   ],
   "id": "c932edfcad16ef7d",
   "outputs": [],
   "execution_count": 8
  },
  {
   "metadata": {
    "ExecuteTime": {
     "end_time": "2025-05-30T11:33:52.248719Z",
     "start_time": "2025-05-30T11:33:52.215569Z"
    }
   },
   "cell_type": "code",
   "source": [
    "data['cleaned_text'] = cleaned_text\n",
    "data['cleaned_summary'] = cleaned_summary\n",
    "data['cleaned_summary'].replace('', np.nan, inplace=True)\n",
    "data.dropna(axis=0, inplace=True)"
   ],
   "id": "a3ac67be35813ae",
   "outputs": [],
   "execution_count": 9
  },
  {
   "metadata": {
    "ExecuteTime": {
     "end_time": "2025-05-30T11:33:52.279075Z",
     "start_time": "2025-05-30T11:33:52.249369Z"
    }
   },
   "cell_type": "code",
   "source": [
    "data['cleaned_summary'] = data['cleaned_summary'].apply(lambda x: '_START_ ' + x + '_END_')\n",
    "data['cleaned_text'] = data['cleaned_text'].apply(lambda x: '_START_ ' + x + ' _END_')"
   ],
   "id": "86520e2e775d5a0b",
   "outputs": [],
   "execution_count": 10
  },
  {
   "metadata": {
    "ExecuteTime": {
     "end_time": "2025-05-30T11:33:52.281994Z",
     "start_time": "2025-05-30T11:33:52.279731Z"
    }
   },
   "cell_type": "code",
   "source": "len(data['cleaned_text']), len(data['cleaned_summary'])",
   "id": "a6ff94450b7e5fc6",
   "outputs": [
    {
     "data": {
      "text/plain": [
       "(88350, 88350)"
      ]
     },
     "execution_count": 11,
     "metadata": {},
     "output_type": "execute_result"
    }
   ],
   "execution_count": 11
  },
  {
   "metadata": {
    "ExecuteTime": {
     "end_time": "2025-05-30T11:33:52.287347Z",
     "start_time": "2025-05-30T11:33:52.282647Z"
    }
   },
   "cell_type": "code",
   "source": [
    "for i in range(5):\n",
    "    print('Review: ', data['cleaned_text'][i])\n",
    "    print('Summary: ', data['cleaned_summary'][i])\n",
    "    print('\\n')"
   ],
   "id": "177d7dbae4f9a3e5",
   "outputs": [
    {
     "name": "stdout",
     "output_type": "stream",
     "text": [
      "Review:  _START_ bought several vitality canned dog food products found good quality product looks like stew processed meat smells better labrador finicky appreciates product better _END_\n",
      "Summary:  _START_ good quality dog food _END_\n",
      "\n",
      "\n",
      "Review:  _START_ product arrived labeled jumbo salted peanuts peanuts actually small sized unsalted sure error vendor intended represent product jumbo _END_\n",
      "Summary:  _START_ not as advertised _END_\n",
      "\n",
      "\n",
      "Review:  _START_ confection around centuries light pillowy citrus gelatin nuts case filberts cut tiny squares liberally coated powdered sugar tiny mouthful heaven chewy flavorful highly recommend yummy treat familiar story lewis lion witch wardrobe treat seduces edmund selling brother sisters witch _END_\n",
      "Summary:  _START_ delight says it all _END_\n",
      "\n",
      "\n",
      "Review:  _START_ looking secret ingredient robitussin believe found got addition root beer extract ordered made cherry soda flavor medicinal _END_\n",
      "Summary:  _START_ cough medicine _END_\n",
      "\n",
      "\n",
      "Review:  _START_ great taffy great price wide assortment yummy taffy delivery quick taffy lover deal _END_\n",
      "Summary:  _START_ great taffy _END_\n",
      "\n",
      "\n"
     ]
    }
   ],
   "execution_count": 12
  },
  {
   "metadata": {
    "ExecuteTime": {
     "end_time": "2025-05-30T11:33:52.310243Z",
     "start_time": "2025-05-30T11:33:52.287760Z"
    }
   },
   "cell_type": "code",
   "source": "data = data.reset_index()",
   "id": "dcf9e8ed60d16766",
   "outputs": [],
   "execution_count": 13
  },
  {
   "metadata": {
    "ExecuteTime": {
     "end_time": "2025-05-30T11:33:52.317508Z",
     "start_time": "2025-05-30T11:33:52.310779Z"
    }
   },
   "cell_type": "code",
   "source": "data",
   "id": "5877bfda36375c08",
   "outputs": [
    {
     "data": {
      "text/plain": [
       "       index      Id   ProductId          UserId  \\\n",
       "0          0       1  B001E4KFG0  A3SGXH7AUHU8GW   \n",
       "1          1       2  B00813GRG4  A1D87F6ZCVE5NK   \n",
       "2          2       3  B000LQOCH0   ABXLMWJIXXAIN   \n",
       "3          3       4  B000UA0QIQ  A395BORC6FGVXV   \n",
       "4          4       5  B006K2ZZ7K  A1UQRSCLF8GW1T   \n",
       "...      ...     ...         ...             ...   \n",
       "88345  99995   99996  B000LQORDE  A2P7HIRYYWVOBD   \n",
       "88346  99996   99997  B000LQORDE  A1K0ZH5MQFBA77   \n",
       "88347  99997   99998  B000LQORDE  A29FRN2O7LWINL   \n",
       "88348  99998   99999  B000LQORDE   A9Q950IPXJR1D   \n",
       "88349  99999  100000  B000LQORDE  A19W47CXJJP1MI   \n",
       "\n",
       "                           ProfileName  HelpfulnessNumerator  \\\n",
       "0                           delmartian                     1   \n",
       "1                               dll pa                     0   \n",
       "2      Natalia Corres \"Natalia Corres\"                     1   \n",
       "3                                 Karl                     3   \n",
       "4        Michael D. Bigham \"M. Wassir\"                     0   \n",
       "...                                ...                   ...   \n",
       "88345                            Mason                     2   \n",
       "88346                       jennilight                     2   \n",
       "88347                          T. Tsai                     2   \n",
       "88348          Lynda \"casual customer\"                     2   \n",
       "88349               Amazonian Consumer                     2   \n",
       "\n",
       "       HelpfulnessDenominator  Score        Time  \\\n",
       "0                           1      5  1303862400   \n",
       "1                           0      1  1346976000   \n",
       "2                           1      4  1219017600   \n",
       "3                           3      2  1307923200   \n",
       "4                           0      5  1350777600   \n",
       "...                       ...    ...         ...   \n",
       "88345                       5      5  1254096000   \n",
       "88346                       5      4  1250985600   \n",
       "88347                       5      5  1237766400   \n",
       "88348                       5      4  1237161600   \n",
       "88349                       5      5  1235088000   \n",
       "\n",
       "                                                                        Summary  \\\n",
       "0                                                         Good Quality Dog Food   \n",
       "1                                                             Not as Advertised   \n",
       "2                                                         \"Delight\" says it all   \n",
       "3                                                                Cough Medicine   \n",
       "4                                                                   Great taffy   \n",
       "...                                                                         ...   \n",
       "88345                                                                    yummy!   \n",
       "88346                                                         Tastes like More!   \n",
       "88347                                                               Great ramen   \n",
       "88348                                                                   Spicy!!   \n",
       "88349  This spicy noodle cures my cold, upset stomach, and headache every time!   \n",
       "\n",
       "                                                                                                                                                                                                          Text  \\\n",
       "0      I have bought several of the Vitality canned dog food products and have found them all to be of good quality. The product looks more like a stew than a processed meat and it smells better. My Labr...   \n",
       "1               Product arrived labeled as Jumbo Salted Peanuts...the peanuts were actually small sized unsalted. Not sure if this was an error or if the vendor intended to represent the product as \"Jumbo\".   \n",
       "2      This is a confection that has been around a few centuries.  It is a light, pillowy citrus gelatin with nuts - in this case Filberts. And it is cut into tiny squares and then liberally coated with ...   \n",
       "3      If you are looking for the secret ingredient in Robitussin I believe I have found it.  I got this in addition to the Root Beer Extract I ordered (which was good) and made some cherry soda.  The fl...   \n",
       "4                                                                 Great taffy at a great price.  There was a wide assortment of yummy taffy.  Delivery was very quick.  If your a taffy lover, this is a deal.   \n",
       "...                                                                                                                                                                                                        ...   \n",
       "88345                                                                                                                                     I just love it and will buy another box when I'm done with last one!   \n",
       "88346  My late father in law used to have a rating system for meals: if it was particularly tasty, he'd say \"This tastes like more!\" That's exactly how I felt the first time I tried a spicy picante ramyu...   \n",
       "88347  This is my favorite brand of Korean ramen. It is spicy so if you are not used to eating spicy food, make sure you don't use all of the spice pack. If you add an egg to the soup, it makes a great s...   \n",
       "88348  I do like these noodles although, to say they are spicy is somewhat of an understatement. No one else in the family tolerates spicy very well so, seeing these, I was looking forward to an extra li...   \n",
       "88349  I love this noodle and have it once or twice a week. The amazing thing is that when I don't feel well because of a cold, a hot bowl of this noodle will cure my upset stomach, headache, and running...   \n",
       "\n",
       "                                                                                                                                                                                                  cleaned_text  \\\n",
       "0                           _START_ bought several vitality canned dog food products found good quality product looks like stew processed meat smells better labrador finicky appreciates product better _END_   \n",
       "1                                                          _START_ product arrived labeled jumbo salted peanuts peanuts actually small sized unsalted sure error vendor intended represent product jumbo _END_   \n",
       "2      _START_ confection around centuries light pillowy citrus gelatin nuts case filberts cut tiny squares liberally coated powdered sugar tiny mouthful heaven chewy flavorful highly recommend yummy tre...   \n",
       "3                                                                    _START_ looking secret ingredient robitussin believe found got addition root beer extract ordered made cherry soda flavor medicinal _END_   \n",
       "4                                                                                                            _START_ great taffy great price wide assortment yummy taffy delivery quick taffy lover deal _END_   \n",
       "...                                                                                                                                                                                                        ...   \n",
       "88345                                                                                                                                                         _START_ love buy another box done last one _END_   \n",
       "88346  _START_ late father law used rating system meals particularly tasty would say tastes like exactly felt first time tried spicy picante ramyun ordered whim featured gold box deal would enjoyed ramen...   \n",
       "88347                                                                           _START_ favorite brand korean ramen spicy used eating spicy food make sure use spice pack add egg soup makes great snack _END_   \n",
       "88348  _START_ like noodles although say spicy somewhat understatement one else family tolerates spicy well seeing looking forward extra little something palate disappointed completely honest usually dra...   \n",
       "88349                                                       _START_ love noodle twice week amazing thing feel well cold hot bowl noodle cure upset stomach headache running nose may work definitely try _END_   \n",
       "\n",
       "                                                                           cleaned_summary  \n",
       "0                                                      _START_ good quality dog food _END_  \n",
       "1                                                          _START_ not as advertised _END_  \n",
       "2                                                        _START_ delight says it all _END_  \n",
       "3                                                             _START_ cough medicine _END_  \n",
       "4                                                                _START_ great taffy _END_  \n",
       "...                                                                                    ...  \n",
       "88345                                                                  _START_ yummy _END_  \n",
       "88346                                                       _START_ tastes like more _END_  \n",
       "88347                                                            _START_ great ramen _END_  \n",
       "88348                                                                  _START_ spicy _END_  \n",
       "88349  _START_ this spicy noodle cures my cold upset stomach and headache every time _END_  \n",
       "\n",
       "[88350 rows x 13 columns]"
      ],
      "text/html": [
       "<div>\n",
       "<style scoped>\n",
       "    .dataframe tbody tr th:only-of-type {\n",
       "        vertical-align: middle;\n",
       "    }\n",
       "\n",
       "    .dataframe tbody tr th {\n",
       "        vertical-align: top;\n",
       "    }\n",
       "\n",
       "    .dataframe thead th {\n",
       "        text-align: right;\n",
       "    }\n",
       "</style>\n",
       "<table border=\"1\" class=\"dataframe\">\n",
       "  <thead>\n",
       "    <tr style=\"text-align: right;\">\n",
       "      <th></th>\n",
       "      <th>index</th>\n",
       "      <th>Id</th>\n",
       "      <th>ProductId</th>\n",
       "      <th>UserId</th>\n",
       "      <th>ProfileName</th>\n",
       "      <th>HelpfulnessNumerator</th>\n",
       "      <th>HelpfulnessDenominator</th>\n",
       "      <th>Score</th>\n",
       "      <th>Time</th>\n",
       "      <th>Summary</th>\n",
       "      <th>Text</th>\n",
       "      <th>cleaned_text</th>\n",
       "      <th>cleaned_summary</th>\n",
       "    </tr>\n",
       "  </thead>\n",
       "  <tbody>\n",
       "    <tr>\n",
       "      <th>0</th>\n",
       "      <td>0</td>\n",
       "      <td>1</td>\n",
       "      <td>B001E4KFG0</td>\n",
       "      <td>A3SGXH7AUHU8GW</td>\n",
       "      <td>delmartian</td>\n",
       "      <td>1</td>\n",
       "      <td>1</td>\n",
       "      <td>5</td>\n",
       "      <td>1303862400</td>\n",
       "      <td>Good Quality Dog Food</td>\n",
       "      <td>I have bought several of the Vitality canned dog food products and have found them all to be of good quality. The product looks more like a stew than a processed meat and it smells better. My Labr...</td>\n",
       "      <td>_START_ bought several vitality canned dog food products found good quality product looks like stew processed meat smells better labrador finicky appreciates product better _END_</td>\n",
       "      <td>_START_ good quality dog food _END_</td>\n",
       "    </tr>\n",
       "    <tr>\n",
       "      <th>1</th>\n",
       "      <td>1</td>\n",
       "      <td>2</td>\n",
       "      <td>B00813GRG4</td>\n",
       "      <td>A1D87F6ZCVE5NK</td>\n",
       "      <td>dll pa</td>\n",
       "      <td>0</td>\n",
       "      <td>0</td>\n",
       "      <td>1</td>\n",
       "      <td>1346976000</td>\n",
       "      <td>Not as Advertised</td>\n",
       "      <td>Product arrived labeled as Jumbo Salted Peanuts...the peanuts were actually small sized unsalted. Not sure if this was an error or if the vendor intended to represent the product as \"Jumbo\".</td>\n",
       "      <td>_START_ product arrived labeled jumbo salted peanuts peanuts actually small sized unsalted sure error vendor intended represent product jumbo _END_</td>\n",
       "      <td>_START_ not as advertised _END_</td>\n",
       "    </tr>\n",
       "    <tr>\n",
       "      <th>2</th>\n",
       "      <td>2</td>\n",
       "      <td>3</td>\n",
       "      <td>B000LQOCH0</td>\n",
       "      <td>ABXLMWJIXXAIN</td>\n",
       "      <td>Natalia Corres \"Natalia Corres\"</td>\n",
       "      <td>1</td>\n",
       "      <td>1</td>\n",
       "      <td>4</td>\n",
       "      <td>1219017600</td>\n",
       "      <td>\"Delight\" says it all</td>\n",
       "      <td>This is a confection that has been around a few centuries.  It is a light, pillowy citrus gelatin with nuts - in this case Filberts. And it is cut into tiny squares and then liberally coated with ...</td>\n",
       "      <td>_START_ confection around centuries light pillowy citrus gelatin nuts case filberts cut tiny squares liberally coated powdered sugar tiny mouthful heaven chewy flavorful highly recommend yummy tre...</td>\n",
       "      <td>_START_ delight says it all _END_</td>\n",
       "    </tr>\n",
       "    <tr>\n",
       "      <th>3</th>\n",
       "      <td>3</td>\n",
       "      <td>4</td>\n",
       "      <td>B000UA0QIQ</td>\n",
       "      <td>A395BORC6FGVXV</td>\n",
       "      <td>Karl</td>\n",
       "      <td>3</td>\n",
       "      <td>3</td>\n",
       "      <td>2</td>\n",
       "      <td>1307923200</td>\n",
       "      <td>Cough Medicine</td>\n",
       "      <td>If you are looking for the secret ingredient in Robitussin I believe I have found it.  I got this in addition to the Root Beer Extract I ordered (which was good) and made some cherry soda.  The fl...</td>\n",
       "      <td>_START_ looking secret ingredient robitussin believe found got addition root beer extract ordered made cherry soda flavor medicinal _END_</td>\n",
       "      <td>_START_ cough medicine _END_</td>\n",
       "    </tr>\n",
       "    <tr>\n",
       "      <th>4</th>\n",
       "      <td>4</td>\n",
       "      <td>5</td>\n",
       "      <td>B006K2ZZ7K</td>\n",
       "      <td>A1UQRSCLF8GW1T</td>\n",
       "      <td>Michael D. Bigham \"M. Wassir\"</td>\n",
       "      <td>0</td>\n",
       "      <td>0</td>\n",
       "      <td>5</td>\n",
       "      <td>1350777600</td>\n",
       "      <td>Great taffy</td>\n",
       "      <td>Great taffy at a great price.  There was a wide assortment of yummy taffy.  Delivery was very quick.  If your a taffy lover, this is a deal.</td>\n",
       "      <td>_START_ great taffy great price wide assortment yummy taffy delivery quick taffy lover deal _END_</td>\n",
       "      <td>_START_ great taffy _END_</td>\n",
       "    </tr>\n",
       "    <tr>\n",
       "      <th>...</th>\n",
       "      <td>...</td>\n",
       "      <td>...</td>\n",
       "      <td>...</td>\n",
       "      <td>...</td>\n",
       "      <td>...</td>\n",
       "      <td>...</td>\n",
       "      <td>...</td>\n",
       "      <td>...</td>\n",
       "      <td>...</td>\n",
       "      <td>...</td>\n",
       "      <td>...</td>\n",
       "      <td>...</td>\n",
       "      <td>...</td>\n",
       "    </tr>\n",
       "    <tr>\n",
       "      <th>88345</th>\n",
       "      <td>99995</td>\n",
       "      <td>99996</td>\n",
       "      <td>B000LQORDE</td>\n",
       "      <td>A2P7HIRYYWVOBD</td>\n",
       "      <td>Mason</td>\n",
       "      <td>2</td>\n",
       "      <td>5</td>\n",
       "      <td>5</td>\n",
       "      <td>1254096000</td>\n",
       "      <td>yummy!</td>\n",
       "      <td>I just love it and will buy another box when I'm done with last one!</td>\n",
       "      <td>_START_ love buy another box done last one _END_</td>\n",
       "      <td>_START_ yummy _END_</td>\n",
       "    </tr>\n",
       "    <tr>\n",
       "      <th>88346</th>\n",
       "      <td>99996</td>\n",
       "      <td>99997</td>\n",
       "      <td>B000LQORDE</td>\n",
       "      <td>A1K0ZH5MQFBA77</td>\n",
       "      <td>jennilight</td>\n",
       "      <td>2</td>\n",
       "      <td>5</td>\n",
       "      <td>4</td>\n",
       "      <td>1250985600</td>\n",
       "      <td>Tastes like More!</td>\n",
       "      <td>My late father in law used to have a rating system for meals: if it was particularly tasty, he'd say \"This tastes like more!\" That's exactly how I felt the first time I tried a spicy picante ramyu...</td>\n",
       "      <td>_START_ late father law used rating system meals particularly tasty would say tastes like exactly felt first time tried spicy picante ramyun ordered whim featured gold box deal would enjoyed ramen...</td>\n",
       "      <td>_START_ tastes like more _END_</td>\n",
       "    </tr>\n",
       "    <tr>\n",
       "      <th>88347</th>\n",
       "      <td>99997</td>\n",
       "      <td>99998</td>\n",
       "      <td>B000LQORDE</td>\n",
       "      <td>A29FRN2O7LWINL</td>\n",
       "      <td>T. Tsai</td>\n",
       "      <td>2</td>\n",
       "      <td>5</td>\n",
       "      <td>5</td>\n",
       "      <td>1237766400</td>\n",
       "      <td>Great ramen</td>\n",
       "      <td>This is my favorite brand of Korean ramen. It is spicy so if you are not used to eating spicy food, make sure you don't use all of the spice pack. If you add an egg to the soup, it makes a great s...</td>\n",
       "      <td>_START_ favorite brand korean ramen spicy used eating spicy food make sure use spice pack add egg soup makes great snack _END_</td>\n",
       "      <td>_START_ great ramen _END_</td>\n",
       "    </tr>\n",
       "    <tr>\n",
       "      <th>88348</th>\n",
       "      <td>99998</td>\n",
       "      <td>99999</td>\n",
       "      <td>B000LQORDE</td>\n",
       "      <td>A9Q950IPXJR1D</td>\n",
       "      <td>Lynda \"casual customer\"</td>\n",
       "      <td>2</td>\n",
       "      <td>5</td>\n",
       "      <td>4</td>\n",
       "      <td>1237161600</td>\n",
       "      <td>Spicy!!</td>\n",
       "      <td>I do like these noodles although, to say they are spicy is somewhat of an understatement. No one else in the family tolerates spicy very well so, seeing these, I was looking forward to an extra li...</td>\n",
       "      <td>_START_ like noodles although say spicy somewhat understatement one else family tolerates spicy well seeing looking forward extra little something palate disappointed completely honest usually dra...</td>\n",
       "      <td>_START_ spicy _END_</td>\n",
       "    </tr>\n",
       "    <tr>\n",
       "      <th>88349</th>\n",
       "      <td>99999</td>\n",
       "      <td>100000</td>\n",
       "      <td>B000LQORDE</td>\n",
       "      <td>A19W47CXJJP1MI</td>\n",
       "      <td>Amazonian Consumer</td>\n",
       "      <td>2</td>\n",
       "      <td>5</td>\n",
       "      <td>5</td>\n",
       "      <td>1235088000</td>\n",
       "      <td>This spicy noodle cures my cold, upset stomach, and headache every time!</td>\n",
       "      <td>I love this noodle and have it once or twice a week. The amazing thing is that when I don't feel well because of a cold, a hot bowl of this noodle will cure my upset stomach, headache, and running...</td>\n",
       "      <td>_START_ love noodle twice week amazing thing feel well cold hot bowl noodle cure upset stomach headache running nose may work definitely try _END_</td>\n",
       "      <td>_START_ this spicy noodle cures my cold upset stomach and headache every time _END_</td>\n",
       "    </tr>\n",
       "  </tbody>\n",
       "</table>\n",
       "<p>88350 rows × 13 columns</p>\n",
       "</div>"
      ]
     },
     "execution_count": 14,
     "metadata": {},
     "output_type": "execute_result"
    }
   ],
   "execution_count": 14
  },
  {
   "metadata": {
    "ExecuteTime": {
     "end_time": "2025-05-30T11:33:52.533469Z",
     "start_time": "2025-05-30T11:33:52.317937Z"
    }
   },
   "cell_type": "code",
   "source": [
    "text_word_count = []\n",
    "summary_word_count = []\n",
    "\n",
    "for i in data['cleaned_text']:\n",
    "    text_word_count.append(len(i.split()))\n",
    "\n",
    "for i in data['cleaned_summary']:\n",
    "    summary_word_count.append(len(i.split()))\n",
    "\n",
    "length_df = pd.DataFrame({'Text': text_word_count, 'Summary': summary_word_count})\n",
    "length_df.hist(bins=30)\n",
    "plt.show()"
   ],
   "id": "82a65e393e8e8aa0",
   "outputs": [
    {
     "data": {
      "text/plain": [
       "<Figure size 640x480 with 2 Axes>"
      ],
      "image/png": "[encoded data removed]"
     },
     "metadata": {},
     "output_type": "display_data"
    }
   ],
   "execution_count": 15
  },
  {
   "metadata": {
    "ExecuteTime": {
     "end_time": "2025-05-30T11:33:52.540407Z",
     "start_time": "2025-05-30T11:33:52.534182Z"
    }
   },
   "cell_type": "code",
   "source": [
    "text_word_count = np.array(text_word_count)\n",
    "summary_word_count = np.array(summary_word_count)\n",
    "print(f'Text | Mean: {text_word_count.mean()} | Std: {text_word_count.std()} | Min: {text_word_count.min()} | Max: {text_word_count.max()}')\n",
    "print(f'Summary | Mean: {summary_word_count.mean()} | Std: {summary_word_count.std()} | Min: {summary_word_count.min()} | Max: {summary_word_count.max()}')"
   ],
   "id": "71017688bf693c1a",
   "outputs": [
    {
     "name": "stdout",
     "output_type": "stream",
     "text": [
      "Text | Mean: 40.46041878890775 | Std: 36.31676975625999 | Min: 4 | Max: 1214\n",
      "Summary | Mean: 6.013050367855121 | Std: 2.4854800821068084 | Min: 3 | Max: 29\n"
     ]
    }
   ],
   "execution_count": 16
  },
  {
   "metadata": {
    "ExecuteTime": {
     "end_time": "2025-05-30T11:33:52.543884Z",
     "start_time": "2025-05-30T11:33:52.540972Z"
    }
   },
   "cell_type": "code",
   "source": [
    "max_len_text = 100\n",
    "max_len_summary = 10"
   ],
   "id": "1bfcb70f17841dfb",
   "outputs": [],
   "execution_count": 17
  },
  {
   "metadata": {
    "ExecuteTime": {
     "end_time": "2025-05-30T11:33:52.551429Z",
     "start_time": "2025-05-30T11:33:52.544398Z"
    }
   },
   "cell_type": "code",
   "source": "data[['cleaned_text', 'cleaned_summary']]",
   "id": "5021eaa023b650a",
   "outputs": [
    {
     "data": {
      "text/plain": [
       "                                                                                                                                                                                                  cleaned_text  \\\n",
       "0                           _START_ bought several vitality canned dog food products found good quality product looks like stew processed meat smells better labrador finicky appreciates product better _END_   \n",
       "1                                                          _START_ product arrived labeled jumbo salted peanuts peanuts actually small sized unsalted sure error vendor intended represent product jumbo _END_   \n",
       "2      _START_ confection around centuries light pillowy citrus gelatin nuts case filberts cut tiny squares liberally coated powdered sugar tiny mouthful heaven chewy flavorful highly recommend yummy tre...   \n",
       "3                                                                    _START_ looking secret ingredient robitussin believe found got addition root beer extract ordered made cherry soda flavor medicinal _END_   \n",
       "4                                                                                                            _START_ great taffy great price wide assortment yummy taffy delivery quick taffy lover deal _END_   \n",
       "...                                                                                                                                                                                                        ...   \n",
       "88345                                                                                                                                                         _START_ love buy another box done last one _END_   \n",
       "88346  _START_ late father law used rating system meals particularly tasty would say tastes like exactly felt first time tried spicy picante ramyun ordered whim featured gold box deal would enjoyed ramen...   \n",
       "88347                                                                           _START_ favorite brand korean ramen spicy used eating spicy food make sure use spice pack add egg soup makes great snack _END_   \n",
       "88348  _START_ like noodles although say spicy somewhat understatement one else family tolerates spicy well seeing looking forward extra little something palate disappointed completely honest usually dra...   \n",
       "88349                                                       _START_ love noodle twice week amazing thing feel well cold hot bowl noodle cure upset stomach headache running nose may work definitely try _END_   \n",
       "\n",
       "                                                                           cleaned_summary  \n",
       "0                                                      _START_ good quality dog food _END_  \n",
       "1                                                          _START_ not as advertised _END_  \n",
       "2                                                        _START_ delight says it all _END_  \n",
       "3                                                             _START_ cough medicine _END_  \n",
       "4                                                                _START_ great taffy _END_  \n",
       "...                                                                                    ...  \n",
       "88345                                                                  _START_ yummy _END_  \n",
       "88346                                                       _START_ tastes like more _END_  \n",
       "88347                                                            _START_ great ramen _END_  \n",
       "88348                                                                  _START_ spicy _END_  \n",
       "88349  _START_ this spicy noodle cures my cold upset stomach and headache every time _END_  \n",
       "\n",
       "[88350 rows x 2 columns]"
      ],
      "text/html": [
       "<div>\n",
       "<style scoped>\n",
       "    .dataframe tbody tr th:only-of-type {\n",
       "        vertical-align: middle;\n",
       "    }\n",
       "\n",
       "    .dataframe tbody tr th {\n",
       "        vertical-align: top;\n",
       "    }\n",
       "\n",
       "    .dataframe thead th {\n",
       "        text-align: right;\n",
       "    }\n",
       "</style>\n",
       "<table border=\"1\" class=\"dataframe\">\n",
       "  <thead>\n",
       "    <tr style=\"text-align: right;\">\n",
       "      <th></th>\n",
       "      <th>cleaned_text</th>\n",
       "      <th>cleaned_summary</th>\n",
       "    </tr>\n",
       "  </thead>\n",
       "  <tbody>\n",
       "    <tr>\n",
       "      <th>0</th>\n",
       "      <td>_START_ bought several vitality canned dog food products found good quality product looks like stew processed meat smells better labrador finicky appreciates product better _END_</td>\n",
       "      <td>_START_ good quality dog food _END_</td>\n",
       "    </tr>\n",
       "    <tr>\n",
       "      <th>1</th>\n",
       "      <td>_START_ product arrived labeled jumbo salted peanuts peanuts actually small sized unsalted sure error vendor intended represent product jumbo _END_</td>\n",
       "      <td>_START_ not as advertised _END_</td>\n",
       "    </tr>\n",
       "    <tr>\n",
       "      <th>2</th>\n",
       "      <td>_START_ confection around centuries light pillowy citrus gelatin nuts case filberts cut tiny squares liberally coated powdered sugar tiny mouthful heaven chewy flavorful highly recommend yummy tre...</td>\n",
       "      <td>_START_ delight says it all _END_</td>\n",
       "    </tr>\n",
       "    <tr>\n",
       "      <th>3</th>\n",
       "      <td>_START_ looking secret ingredient robitussin believe found got addition root beer extract ordered made cherry soda flavor medicinal _END_</td>\n",
       "      <td>_START_ cough medicine _END_</td>\n",
       "    </tr>\n",
       "    <tr>\n",
       "      <th>4</th>\n",
       "      <td>_START_ great taffy great price wide assortment yummy taffy delivery quick taffy lover deal _END_</td>\n",
       "      <td>_START_ great taffy _END_</td>\n",
       "    </tr>\n",
       "    <tr>\n",
       "      <th>...</th>\n",
       "      <td>...</td>\n",
       "      <td>...</td>\n",
       "    </tr>\n",
       "    <tr>\n",
       "      <th>88345</th>\n",
       "      <td>_START_ love buy another box done last one _END_</td>\n",
       "      <td>_START_ yummy _END_</td>\n",
       "    </tr>\n",
       "    <tr>\n",
       "      <th>88346</th>\n",
       "      <td>_START_ late father law used rating system meals particularly tasty would say tastes like exactly felt first time tried spicy picante ramyun ordered whim featured gold box deal would enjoyed ramen...</td>\n",
       "      <td>_START_ tastes like more _END_</td>\n",
       "    </tr>\n",
       "    <tr>\n",
       "      <th>88347</th>\n",
       "      <td>_START_ favorite brand korean ramen spicy used eating spicy food make sure use spice pack add egg soup makes great snack _END_</td>\n",
       "      <td>_START_ great ramen _END_</td>\n",
       "    </tr>\n",
       "    <tr>\n",
       "      <th>88348</th>\n",
       "      <td>_START_ like noodles although say spicy somewhat understatement one else family tolerates spicy well seeing looking forward extra little something palate disappointed completely honest usually dra...</td>\n",
       "      <td>_START_ spicy _END_</td>\n",
       "    </tr>\n",
       "    <tr>\n",
       "      <th>88349</th>\n",
       "      <td>_START_ love noodle twice week amazing thing feel well cold hot bowl noodle cure upset stomach headache running nose may work definitely try _END_</td>\n",
       "      <td>_START_ this spicy noodle cures my cold upset stomach and headache every time _END_</td>\n",
       "    </tr>\n",
       "  </tbody>\n",
       "</table>\n",
       "<p>88350 rows × 2 columns</p>\n",
       "</div>"
      ]
     },
     "execution_count": 18,
     "metadata": {},
     "output_type": "execute_result"
    }
   ],
   "execution_count": 18
  },
  {
   "metadata": {
    "ExecuteTime": {
     "end_time": "2025-05-30T11:33:52.944412Z",
     "start_time": "2025-05-30T11:33:52.552012Z"
    }
   },
   "cell_type": "code",
   "source": [
    "reduced_data = data[data['cleaned_text'].str.split().str.len() <= max_len_text]\n",
    "reduced_data = reduced_data[reduced_data['cleaned_summary'].str.split().str.len() <= max_len_summary]\n",
    "reduced_data"
   ],
   "id": "f4e289d6e49e8454",
   "outputs": [
    {
     "data": {
      "text/plain": [
       "       index     Id   ProductId          UserId  \\\n",
       "0          0      1  B001E4KFG0  A3SGXH7AUHU8GW   \n",
       "1          1      2  B00813GRG4  A1D87F6ZCVE5NK   \n",
       "2          2      3  B000LQOCH0   ABXLMWJIXXAIN   \n",
       "3          3      4  B000UA0QIQ  A395BORC6FGVXV   \n",
       "4          4      5  B006K2ZZ7K  A1UQRSCLF8GW1T   \n",
       "...      ...    ...         ...             ...   \n",
       "88344  99994  99995  B000LQORDE   AL22WN8RBBOW7   \n",
       "88345  99995  99996  B000LQORDE  A2P7HIRYYWVOBD   \n",
       "88346  99996  99997  B000LQORDE  A1K0ZH5MQFBA77   \n",
       "88347  99997  99998  B000LQORDE  A29FRN2O7LWINL   \n",
       "88348  99998  99999  B000LQORDE   A9Q950IPXJR1D   \n",
       "\n",
       "                           ProfileName  HelpfulnessNumerator  \\\n",
       "0                           delmartian                     1   \n",
       "1                               dll pa                     0   \n",
       "2      Natalia Corres \"Natalia Corres\"                     1   \n",
       "3                                 Karl                     3   \n",
       "4        Michael D. Bigham \"M. Wassir\"                     0   \n",
       "...                                ...                   ...   \n",
       "88344            LifeInTheCity \"trogg\"                     2   \n",
       "88345                            Mason                     2   \n",
       "88346                       jennilight                     2   \n",
       "88347                          T. Tsai                     2   \n",
       "88348          Lynda \"casual customer\"                     2   \n",
       "\n",
       "       HelpfulnessDenominator  Score        Time                Summary  \\\n",
       "0                           1      5  1303862400  Good Quality Dog Food   \n",
       "1                           0      1  1346976000      Not as Advertised   \n",
       "2                           1      4  1219017600  \"Delight\" says it all   \n",
       "3                           3      2  1307923200         Cough Medicine   \n",
       "4                           0      5  1350777600            Great taffy   \n",
       "...                       ...    ...         ...                    ...   \n",
       "88344                       5      5  1256428800             Good Stuff   \n",
       "88345                       5      5  1254096000                 yummy!   \n",
       "88346                       5      4  1250985600      Tastes like More!   \n",
       "88347                       5      5  1237766400            Great ramen   \n",
       "88348                       5      4  1237161600                Spicy!!   \n",
       "\n",
       "                                                                                                                                                                                                          Text  \\\n",
       "0      I have bought several of the Vitality canned dog food products and have found them all to be of good quality. The product looks more like a stew than a processed meat and it smells better. My Labr...   \n",
       "1               Product arrived labeled as Jumbo Salted Peanuts...the peanuts were actually small sized unsalted. Not sure if this was an error or if the vendor intended to represent the product as \"Jumbo\".   \n",
       "2      This is a confection that has been around a few centuries.  It is a light, pillowy citrus gelatin with nuts - in this case Filberts. And it is cut into tiny squares and then liberally coated with ...   \n",
       "3      If you are looking for the secret ingredient in Robitussin I believe I have found it.  I got this in addition to the Root Beer Extract I ordered (which was good) and made some cherry soda.  The fl...   \n",
       "4                                                                 Great taffy at a great price.  There was a wide assortment of yummy taffy.  Delivery was very quick.  If your a taffy lover, this is a deal.   \n",
       "...                                                                                                                                                                                                        ...   \n",
       "88344                                                                                                                                  I love these noodle.  A little to spicy for the wife but perfct for me.   \n",
       "88345                                                                                                                                     I just love it and will buy another box when I'm done with last one!   \n",
       "88346  My late father in law used to have a rating system for meals: if it was particularly tasty, he'd say \"This tastes like more!\" That's exactly how I felt the first time I tried a spicy picante ramyu...   \n",
       "88347  This is my favorite brand of Korean ramen. It is spicy so if you are not used to eating spicy food, make sure you don't use all of the spice pack. If you add an egg to the soup, it makes a great s...   \n",
       "88348  I do like these noodles although, to say they are spicy is somewhat of an understatement. No one else in the family tolerates spicy very well so, seeing these, I was looking forward to an extra li...   \n",
       "\n",
       "                                                                                                                                                                                                  cleaned_text  \\\n",
       "0                           _START_ bought several vitality canned dog food products found good quality product looks like stew processed meat smells better labrador finicky appreciates product better _END_   \n",
       "1                                                          _START_ product arrived labeled jumbo salted peanuts peanuts actually small sized unsalted sure error vendor intended represent product jumbo _END_   \n",
       "2      _START_ confection around centuries light pillowy citrus gelatin nuts case filberts cut tiny squares liberally coated powdered sugar tiny mouthful heaven chewy flavorful highly recommend yummy tre...   \n",
       "3                                                                    _START_ looking secret ingredient robitussin believe found got addition root beer extract ordered made cherry soda flavor medicinal _END_   \n",
       "4                                                                                                            _START_ great taffy great price wide assortment yummy taffy delivery quick taffy lover deal _END_   \n",
       "...                                                                                                                                                                                                        ...   \n",
       "88344                                                                                                                                                       _START_ love noodle little spicy wife perfct _END_   \n",
       "88345                                                                                                                                                         _START_ love buy another box done last one _END_   \n",
       "88346  _START_ late father law used rating system meals particularly tasty would say tastes like exactly felt first time tried spicy picante ramyun ordered whim featured gold box deal would enjoyed ramen...   \n",
       "88347                                                                           _START_ favorite brand korean ramen spicy used eating spicy food make sure use spice pack add egg soup makes great snack _END_   \n",
       "88348  _START_ like noodles although say spicy somewhat understatement one else family tolerates spicy well seeing looking forward extra little something palate disappointed completely honest usually dra...   \n",
       "\n",
       "                           cleaned_summary  \n",
       "0      _START_ good quality dog food _END_  \n",
       "1          _START_ not as advertised _END_  \n",
       "2        _START_ delight says it all _END_  \n",
       "3             _START_ cough medicine _END_  \n",
       "4                _START_ great taffy _END_  \n",
       "...                                    ...  \n",
       "88344             _START_ good stuff _END_  \n",
       "88345                  _START_ yummy _END_  \n",
       "88346       _START_ tastes like more _END_  \n",
       "88347            _START_ great ramen _END_  \n",
       "88348                  _START_ spicy _END_  \n",
       "\n",
       "[79177 rows x 13 columns]"
      ],
      "text/html": [
       "<div>\n",
       "<style scoped>\n",
       "    .dataframe tbody tr th:only-of-type {\n",
       "        vertical-align: middle;\n",
       "    }\n",
       "\n",
       "    .dataframe tbody tr th {\n",
       "        vertical-align: top;\n",
       "    }\n",
       "\n",
       "    .dataframe thead th {\n",
       "        text-align: right;\n",
       "    }\n",
       "</style>\n",
       "<table border=\"1\" class=\"dataframe\">\n",
       "  <thead>\n",
       "    <tr style=\"text-align: right;\">\n",
       "      <th></th>\n",
       "      <th>index</th>\n",
       "      <th>Id</th>\n",
       "      <th>ProductId</th>\n",
       "      <th>UserId</th>\n",
       "      <th>ProfileName</th>\n",
       "      <th>HelpfulnessNumerator</th>\n",
       "      <th>HelpfulnessDenominator</th>\n",
       "      <th>Score</th>\n",
       "      <th>Time</th>\n",
       "      <th>Summary</th>\n",
       "      <th>Text</th>\n",
       "      <th>cleaned_text</th>\n",
       "      <th>cleaned_summary</th>\n",
       "    </tr>\n",
       "  </thead>\n",
       "  <tbody>\n",
       "    <tr>\n",
       "      <th>0</th>\n",
       "      <td>0</td>\n",
       "      <td>1</td>\n",
       "      <td>B001E4KFG0</td>\n",
       "      <td>A3SGXH7AUHU8GW</td>\n",
       "      <td>delmartian</td>\n",
       "      <td>1</td>\n",
       "      <td>1</td>\n",
       "      <td>5</td>\n",
       "      <td>1303862400</td>\n",
       "      <td>Good Quality Dog Food</td>\n",
       "      <td>I have bought several of the Vitality canned dog food products and have found them all to be of good quality. The product looks more like a stew than a processed meat and it smells better. My Labr...</td>\n",
       "      <td>_START_ bought several vitality canned dog food products found good quality product looks like stew processed meat smells better labrador finicky appreciates product better _END_</td>\n",
       "      <td>_START_ good quality dog food _END_</td>\n",
       "    </tr>\n",
       "    <tr>\n",
       "      <th>1</th>\n",
       "      <td>1</td>\n",
       "      <td>2</td>\n",
       "      <td>B00813GRG4</td>\n",
       "      <td>A1D87F6ZCVE5NK</td>\n",
       "      <td>dll pa</td>\n",
       "      <td>0</td>\n",
       "      <td>0</td>\n",
       "      <td>1</td>\n",
       "      <td>1346976000</td>\n",
       "      <td>Not as Advertised</td>\n",
       "      <td>Product arrived labeled as Jumbo Salted Peanuts...the peanuts were actually small sized unsalted. Not sure if this was an error or if the vendor intended to represent the product as \"Jumbo\".</td>\n",
       "      <td>_START_ product arrived labeled jumbo salted peanuts peanuts actually small sized unsalted sure error vendor intended represent product jumbo _END_</td>\n",
       "      <td>_START_ not as advertised _END_</td>\n",
       "    </tr>\n",
       "    <tr>\n",
       "      <th>2</th>\n",
       "      <td>2</td>\n",
       "      <td>3</td>\n",
       "      <td>B000LQOCH0</td>\n",
       "      <td>ABXLMWJIXXAIN</td>\n",
       "      <td>Natalia Corres \"Natalia Corres\"</td>\n",
       "      <td>1</td>\n",
       "      <td>1</td>\n",
       "      <td>4</td>\n",
       "      <td>1219017600</td>\n",
       "      <td>\"Delight\" says it all</td>\n",
       "      <td>This is a confection that has been around a few centuries.  It is a light, pillowy citrus gelatin with nuts - in this case Filberts. And it is cut into tiny squares and then liberally coated with ...</td>\n",
       "      <td>_START_ confection around centuries light pillowy citrus gelatin nuts case filberts cut tiny squares liberally coated powdered sugar tiny mouthful heaven chewy flavorful highly recommend yummy tre...</td>\n",
       "      <td>_START_ delight says it all _END_</td>\n",
       "    </tr>\n",
       "    <tr>\n",
       "      <th>3</th>\n",
       "      <td>3</td>\n",
       "      <td>4</td>\n",
       "      <td>B000UA0QIQ</td>\n",
       "      <td>A395BORC6FGVXV</td>\n",
       "      <td>Karl</td>\n",
       "      <td>3</td>\n",
       "      <td>3</td>\n",
       "      <td>2</td>\n",
       "      <td>1307923200</td>\n",
       "      <td>Cough Medicine</td>\n",
       "      <td>If you are looking for the secret ingredient in Robitussin I believe I have found it.  I got this in addition to the Root Beer Extract I ordered (which was good) and made some cherry soda.  The fl...</td>\n",
       "      <td>_START_ looking secret ingredient robitussin believe found got addition root beer extract ordered made cherry soda flavor medicinal _END_</td>\n",
       "      <td>_START_ cough medicine _END_</td>\n",
       "    </tr>\n",
       "    <tr>\n",
       "      <th>4</th>\n",
       "      <td>4</td>\n",
       "      <td>5</td>\n",
       "      <td>B006K2ZZ7K</td>\n",
       "      <td>A1UQRSCLF8GW1T</td>\n",
       "      <td>Michael D. Bigham \"M. Wassir\"</td>\n",
       "      <td>0</td>\n",
       "      <td>0</td>\n",
       "      <td>5</td>\n",
       "      <td>1350777600</td>\n",
       "      <td>Great taffy</td>\n",
       "      <td>Great taffy at a great price.  There was a wide assortment of yummy taffy.  Delivery was very quick.  If your a taffy lover, this is a deal.</td>\n",
       "      <td>_START_ great taffy great price wide assortment yummy taffy delivery quick taffy lover deal _END_</td>\n",
       "      <td>_START_ great taffy _END_</td>\n",
       "    </tr>\n",
       "    <tr>\n",
       "      <th>...</th>\n",
       "      <td>...</td>\n",
       "      <td>...</td>\n",
       "      <td>...</td>\n",
       "      <td>...</td>\n",
       "      <td>...</td>\n",
       "      <td>...</td>\n",
       "      <td>...</td>\n",
       "      <td>...</td>\n",
       "      <td>...</td>\n",
       "      <td>...</td>\n",
       "      <td>...</td>\n",
       "      <td>...</td>\n",
       "      <td>...</td>\n",
       "    </tr>\n",
       "    <tr>\n",
       "      <th>88344</th>\n",
       "      <td>99994</td>\n",
       "      <td>99995</td>\n",
       "      <td>B000LQORDE</td>\n",
       "      <td>AL22WN8RBBOW7</td>\n",
       "      <td>LifeInTheCity \"trogg\"</td>\n",
       "      <td>2</td>\n",
       "      <td>5</td>\n",
       "      <td>5</td>\n",
       "      <td>1256428800</td>\n",
       "      <td>Good Stuff</td>\n",
       "      <td>I love these noodle.  A little to spicy for the wife but perfct for me.</td>\n",
       "      <td>_START_ love noodle little spicy wife perfct _END_</td>\n",
       "      <td>_START_ good stuff _END_</td>\n",
       "    </tr>\n",
       "    <tr>\n",
       "      <th>88345</th>\n",
       "      <td>99995</td>\n",
       "      <td>99996</td>\n",
       "      <td>B000LQORDE</td>\n",
       "      <td>A2P7HIRYYWVOBD</td>\n",
       "      <td>Mason</td>\n",
       "      <td>2</td>\n",
       "      <td>5</td>\n",
       "      <td>5</td>\n",
       "      <td>1254096000</td>\n",
       "      <td>yummy!</td>\n",
       "      <td>I just love it and will buy another box when I'm done with last one!</td>\n",
       "      <td>_START_ love buy another box done last one _END_</td>\n",
       "      <td>_START_ yummy _END_</td>\n",
       "    </tr>\n",
       "    <tr>\n",
       "      <th>88346</th>\n",
       "      <td>99996</td>\n",
       "      <td>99997</td>\n",
       "      <td>B000LQORDE</td>\n",
       "      <td>A1K0ZH5MQFBA77</td>\n",
       "      <td>jennilight</td>\n",
       "      <td>2</td>\n",
       "      <td>5</td>\n",
       "      <td>4</td>\n",
       "      <td>1250985600</td>\n",
       "      <td>Tastes like More!</td>\n",
       "      <td>My late father in law used to have a rating system for meals: if it was particularly tasty, he'd say \"This tastes like more!\" That's exactly how I felt the first time I tried a spicy picante ramyu...</td>\n",
       "      <td>_START_ late father law used rating system meals particularly tasty would say tastes like exactly felt first time tried spicy picante ramyun ordered whim featured gold box deal would enjoyed ramen...</td>\n",
       "      <td>_START_ tastes like more _END_</td>\n",
       "    </tr>\n",
       "    <tr>\n",
       "      <th>88347</th>\n",
       "      <td>99997</td>\n",
       "      <td>99998</td>\n",
       "      <td>B000LQORDE</td>\n",
       "      <td>A29FRN2O7LWINL</td>\n",
       "      <td>T. Tsai</td>\n",
       "      <td>2</td>\n",
       "      <td>5</td>\n",
       "      <td>5</td>\n",
       "      <td>1237766400</td>\n",
       "      <td>Great ramen</td>\n",
       "      <td>This is my favorite brand of Korean ramen. It is spicy so if you are not used to eating spicy food, make sure you don't use all of the spice pack. If you add an egg to the soup, it makes a great s...</td>\n",
       "      <td>_START_ favorite brand korean ramen spicy used eating spicy food make sure use spice pack add egg soup makes great snack _END_</td>\n",
       "      <td>_START_ great ramen _END_</td>\n",
       "    </tr>\n",
       "    <tr>\n",
       "      <th>88348</th>\n",
       "      <td>99998</td>\n",
       "      <td>99999</td>\n",
       "      <td>B000LQORDE</td>\n",
       "      <td>A9Q950IPXJR1D</td>\n",
       "      <td>Lynda \"casual customer\"</td>\n",
       "      <td>2</td>\n",
       "      <td>5</td>\n",
       "      <td>4</td>\n",
       "      <td>1237161600</td>\n",
       "      <td>Spicy!!</td>\n",
       "      <td>I do like these noodles although, to say they are spicy is somewhat of an understatement. No one else in the family tolerates spicy very well so, seeing these, I was looking forward to an extra li...</td>\n",
       "      <td>_START_ like noodles although say spicy somewhat understatement one else family tolerates spicy well seeing looking forward extra little something palate disappointed completely honest usually dra...</td>\n",
       "      <td>_START_ spicy _END_</td>\n",
       "    </tr>\n",
       "  </tbody>\n",
       "</table>\n",
       "<p>79177 rows × 13 columns</p>\n",
       "</div>"
      ]
     },
     "execution_count": 19,
     "metadata": {},
     "output_type": "execute_result"
    }
   ],
   "execution_count": 19
  },
  {
   "metadata": {
    "ExecuteTime": {
     "end_time": "2025-05-30T11:33:52.950609Z",
     "start_time": "2025-05-30T11:33:52.945255Z"
    }
   },
   "cell_type": "code",
   "source": [
    "x_tr, x_val, y_tr, y_val = train_test_split(reduced_data['cleaned_text'], reduced_data['cleaned_summary'], test_size=0.1,\n",
    "                                            random_state=0, shuffle=True)"
   ],
   "id": "62fb129ee28d1a0e",
   "outputs": [],
   "execution_count": 20
  },
  {
   "metadata": {
    "ExecuteTime": {
     "end_time": "2025-05-30T11:33:52.953353Z",
     "start_time": "2025-05-30T11:33:52.951168Z"
    }
   },
   "cell_type": "code",
   "source": "x_tr.index, y_tr.index",
   "id": "472a16dd029177f5",
   "outputs": [
    {
     "data": {
      "text/plain": [
       "(Index([34613, 71147, 32344, 25319, 65515, 38981, 88308, 47549, 85139, 82569,\n",
       "        ...\n",
       "        58456, 43855, 53888, 61166, 46551, 23642, 50867, 47249, 48301, 76073],\n",
       "       dtype='int64', length=71259),\n",
       " Index([34613, 71147, 32344, 25319, 65515, 38981, 88308, 47549, 85139, 82569,\n",
       "        ...\n",
       "        58456, 43855, 53888, 61166, 46551, 23642, 50867, 47249, 48301, 76073],\n",
       "       dtype='int64', length=71259))"
      ]
     },
     "execution_count": 21,
     "metadata": {},
     "output_type": "execute_result"
    }
   ],
   "execution_count": 21
  },
  {
   "metadata": {
    "ExecuteTime": {
     "end_time": "2025-05-30T11:33:54.388727Z",
     "start_time": "2025-05-30T11:33:52.954608Z"
    }
   },
   "cell_type": "code",
   "source": [
    "x_tokenizer = Tokenizer()\n",
    "x_tokenizer.fit_on_texts(list(x_tr))\n",
    "\n",
    "x_tr = x_tokenizer.texts_to_sequences(x_tr)\n",
    "x_val = x_tokenizer.texts_to_sequences(x_val)\n",
    "\n",
    "x_tr = pad_sequences(x_tr, maxlen=max_len_text, padding='post')\n",
    "x_val = pad_sequences(x_val, maxlen=max_len_text, padding='post')\n",
    "\n",
    "x_voc_size = len(x_tokenizer.word_index) + 1"
   ],
   "id": "50719e1ebb67e767",
   "outputs": [],
   "execution_count": 22
  },
  {
   "metadata": {
    "ExecuteTime": {
     "end_time": "2025-05-30T11:33:55.053528Z",
     "start_time": "2025-05-30T11:33:54.389471Z"
    }
   },
   "cell_type": "code",
   "source": [
    "y_tokenizer = Tokenizer()\n",
    "y_tokenizer.fit_on_texts(list(y_tr))\n",
    "\n",
    "y_tr = y_tokenizer.texts_to_sequences(y_tr)\n",
    "y_val = y_tokenizer.texts_to_sequences(y_val)\n",
    "\n",
    "y_tr = pad_sequences(y_tr, maxlen=max_len_summary, padding='post')\n",
    "y_val = pad_sequences(y_val, maxlen=max_len_summary, padding='post')\n",
    "\n",
    "y_voc_size = len(y_tokenizer.word_index) + 1"
   ],
   "id": "c205701f503095df",
   "outputs": [],
   "execution_count": 23
  },
  {
   "metadata": {
    "ExecuteTime": {
     "end_time": "2025-05-30T11:33:55.056661Z",
     "start_time": "2025-05-30T11:33:55.054447Z"
    }
   },
   "cell_type": "code",
   "source": "y_tokenizer.index_word[5]",
   "id": "8def35796dc04136",
   "outputs": [
    {
     "data": {
      "text/plain": [
       "'the'"
      ]
     },
     "execution_count": 24,
     "metadata": {},
     "output_type": "execute_result"
    }
   ],
   "execution_count": 24
  },
  {
   "metadata": {
    "ExecuteTime": {
     "end_time": "2025-05-30T11:33:55.061623Z",
     "start_time": "2025-05-30T11:33:55.057163Z"
    }
   },
   "cell_type": "code",
   "source": "y_tr",
   "id": "7c987360e5638392",
   "outputs": [
    {
     "data": {
      "text/plain": [
       "array([[   1,   11,   34, ...,    0,    0,    0],\n",
       "       [   1, 1459,  856, ...,    0,    0,    0],\n",
       "       [   1,  572,  220, ...,  225,    2,    0],\n",
       "       ...,\n",
       "       [   1,   27,    9, ...,    0,    0,    0],\n",
       "       [   1,    8,   73, ...,    0,    0,    0],\n",
       "       [   1,    3,   71, ...,    0,    0,    0]], dtype=int32)"
      ]
     },
     "execution_count": 25,
     "metadata": {},
     "output_type": "execute_result"
    }
   ],
   "execution_count": 25
  },
  {
   "metadata": {
    "ExecuteTime": {
     "end_time": "2025-05-30T13:26:07.500090Z",
     "start_time": "2025-05-30T13:26:07.495033Z"
    }
   },
   "cell_type": "code",
   "source": [
    "train_data = TensorDataset(torch.from_numpy(x_tr).long(), torch.from_numpy(y_tr).long())\n",
    "val_data = TensorDataset(torch.from_numpy(x_val).long(), torch.from_numpy(y_val).long())\n",
    "train_loader = DataLoader(train_data, batch_size=128, shuffle=True)\n",
    "val_loader = DataLoader(val_data, batch_size=128, shuffle=True)"
   ],
   "id": "7e10fe83dac2936c",
   "outputs": [],
   "execution_count": 75
  },
  {
   "metadata": {
    "ExecuteTime": {
     "end_time": "2025-05-30T11:33:55.091132Z",
     "start_time": "2025-05-30T11:33:55.088530Z"
    }
   },
   "cell_type": "code",
   "source": [
    "def accuracy(outputs, targets):\n",
    "    flattened_outputs = outputs.argmax(dim=-1).flatten()\n",
    "    flattened_targets = targets[:, 1:].flatten()\n",
    "    accuracies = flattened_outputs.eq(flattened_targets)\n",
    "    mask = torch.logical_not(flattened_outputs.eq(0))\n",
    "    accuracies = torch.logical_and(mask, accuracies)\n",
    "    return (accuracies.sum() / mask.sum()).item()"
   ],
   "id": "e370e4572a7d244d",
   "outputs": [],
   "execution_count": 27
  },
  {
   "metadata": {
    "ExecuteTime": {
     "end_time": "2025-05-30T11:33:55.095935Z",
     "start_time": "2025-05-30T11:33:55.091755Z"
    }
   },
   "cell_type": "code",
   "source": [
    "def train_and_validate(model_, optimizer_, criterion_, train_loader_, val_loader_, epochs_, device_, model_type='rnn'):\n",
    "    train_losses, val_losses, val_accs = [], [], []\n",
    "\n",
    "    for epoch in range(epochs_):\n",
    "        model_.train()\n",
    "        total_train_loss = 0\n",
    "        for (inputs, targets) in train_loader_:\n",
    "            inputs, targets = inputs.to(device_), targets.to(device_)\n",
    "            outputs = model_(inputs, targets[:, :-1])\n",
    "            loss = criterion_(outputs.flatten(start_dim=0, end_dim=1), targets[:, 1:].flatten())\n",
    "            total_train_loss += loss.item()\n",
    "            optimizer_.zero_grad()\n",
    "            loss.backward()\n",
    "            torch.nn.utils.clip_grad_norm_(model_.parameters(), 1.0)\n",
    "            optimizer_.step()\n",
    "\n",
    "        model_.eval()\n",
    "        total_val_loss = 0\n",
    "        total_val_acc = 0\n",
    "        with torch.no_grad():\n",
    "            for (inputs, targets) in val_loader_:\n",
    "                inputs, targets = inputs.to(device_), targets.to(device_)\n",
    "                if model_type == 'transformer':\n",
    "                    outputs = model_(inputs, targets[:, :-1])\n",
    "                else:\n",
    "                    outputs = model_(inputs, targets[:, :-1], 0)\n",
    "                loss = criterion_(outputs.flatten(start_dim=0, end_dim=1), targets[:, 1:].flatten())\n",
    "                total_val_loss += loss.item()\n",
    "                total_val_acc += accuracy(outputs, targets)\n",
    "\n",
    "        total_train_loss = total_train_loss / len(train_loader_)\n",
    "        total_val_loss = total_val_loss / len(val_loader_)\n",
    "        total_val_acc = total_val_acc / len(val_loader_)\n",
    "\n",
    "        train_losses.append(total_train_loss)\n",
    "        val_losses.append(total_val_loss)\n",
    "        val_accs.append(total_val_acc)\n",
    "        print(\n",
    "            f'Epoch: {epoch + 1} / {epochs_} | Train loss: {total_train_loss} | Val loss: {total_val_loss} | Val acc: {total_val_acc}')\n",
    "    return train_losses, val_losses, val_accs\n"
   ],
   "id": "1c1e654b4bac2c36",
   "outputs": [],
   "execution_count": 28
  },
  {
   "metadata": {
    "ExecuteTime": {
     "end_time": "2025-05-30T11:33:55.101072Z",
     "start_time": "2025-05-30T11:33:55.096424Z"
    }
   },
   "cell_type": "code",
   "source": [
    "def plot_losses(model_name, train_losses, val_losses, epochs):\n",
    "    plt.plot(range(1, epochs + 1), train_losses, label='Training Loss')\n",
    "    plt.plot(range(1, epochs + 1), val_losses, label='Validation Loss')\n",
    "    plt.title(f'Training and Validation Losses for {model_name}')\n",
    "    plt.xlabel('Epochs')\n",
    "    plt.ylabel('Loss')\n",
    "    plt.legend()\n",
    "    plt.show()"
   ],
   "id": "4ed82bfb9a3ea318",
   "outputs": [],
   "execution_count": 29
  },
  {
   "metadata": {
    "ExecuteTime": {
     "end_time": "2025-05-30T11:33:55.105989Z",
     "start_time": "2025-05-30T11:33:55.101586Z"
    }
   },
   "cell_type": "code",
   "source": [
    "target_word_index = y_tokenizer.word_index\n",
    "reverse_target_word_index = y_tokenizer.index_word\n",
    "reverse_source_word_index = x_tokenizer.index_word"
   ],
   "id": "630cfed146b74f02",
   "outputs": [],
   "execution_count": 30
  },
  {
   "metadata": {
    "ExecuteTime": {
     "end_time": "2025-05-30T11:33:55.110696Z",
     "start_time": "2025-05-30T11:33:55.106824Z"
    }
   },
   "cell_type": "code",
   "source": [
    "def decode_sequence(input_seq, model_, rnn_type='rnn'):\n",
    "    model_.eval()\n",
    "    with torch.no_grad():\n",
    "        if rnn_type == 'lstm':\n",
    "            enc_output, hidden, cell_state = model_.encoder(torch.IntTensor(input_seq).to(device))\n",
    "        else:\n",
    "            enc_output, hidden = model_.encoder(torch.IntTensor(input_seq).to(device))\n",
    "    \n",
    "        target_seq = torch.zeros(1, dtype=torch.int64).to(device)\n",
    "        target_seq[0] = target_word_index['start']\n",
    "    \n",
    "        stop_condition = False\n",
    "        decoded_sentence = ''\n",
    "        while not stop_condition:\n",
    "            if rnn_type == 'lstm':\n",
    "                prediction, hidden, _ = model_.decoder(target_seq, enc_output, hidden, cell_state)\n",
    "            else:\n",
    "                prediction, hidden = model_.decoder(target_seq, enc_output, hidden)\n",
    "            prediction_index = prediction.argmax(dim=-1)[0].item()\n",
    "            predicted_word = reverse_target_word_index[prediction_index]\n",
    "    \n",
    "            if predicted_word != 'end':\n",
    "                decoded_sentence += ' ' + predicted_word\n",
    "    \n",
    "            if predicted_word == 'end' or len(decoded_sentence.split()) >= max_len_summary - 1:\n",
    "                stop_condition = True\n",
    "    \n",
    "            target_seq = torch.zeros(1, dtype=torch.int64).to(device)\n",
    "            target_seq[0] = prediction_index\n",
    "    \n",
    "        return decoded_sentence\n"
   ],
   "id": "154d057e13fee1b3",
   "outputs": [],
   "execution_count": 31
  },
  {
   "metadata": {
    "ExecuteTime": {
     "end_time": "2025-05-30T11:33:55.114984Z",
     "start_time": "2025-05-30T11:33:55.111465Z"
    }
   },
   "cell_type": "code",
   "source": [
    "def seq2summary(input_seq):\n",
    "    new_string = ''\n",
    "    for i in input_seq:\n",
    "        if (i != 0 and i != target_word_index['start']) and i != target_word_index['end']:\n",
    "            new_string = new_string + reverse_target_word_index[i] + ' '\n",
    "    return new_string\n",
    "\n",
    "\n",
    "def seq2text(input_seq):\n",
    "    new_string = ''\n",
    "    for i in input_seq:\n",
    "        if i != 0:\n",
    "            new_string = new_string + reverse_source_word_index[i] + ' '\n",
    "    return new_string\n"
   ],
   "id": "520b50aa6548bd01",
   "outputs": [],
   "execution_count": 32
  },
  {
   "metadata": {},
   "cell_type": "markdown",
   "source": "# RNN Seq2Seq",
   "id": "b46f922961209f7"
  },
  {
   "metadata": {
    "ExecuteTime": {
     "end_time": "2025-05-30T11:33:58.602574Z",
     "start_time": "2025-05-30T11:33:57.855184Z"
    }
   },
   "cell_type": "code",
   "source": [
    "epochs = 10\n",
    "embedding_dim = 400\n",
    "hidden_dim = 512\n",
    "enc_layers = 1\n",
    "dec_layers = 1\n",
    "enc_vocab_size = x_voc_size\n",
    "dec_vocab_size = y_voc_size\n",
    "\n",
    "device = torch.device('cuda' if torch.cuda.is_available() else 'cpu')\n",
    "model = RNNSeq2Seq(embedding_dim, hidden_dim, enc_layers, dec_layers, enc_vocab_size, dec_vocab_size).to(device)\n",
    "optimizer = torch.optim.Adam(model.parameters(), lr=0.001)\n",
    "criterion = torch.nn.CrossEntropyLoss(ignore_index=0)"
   ],
   "id": "c90528499fdafb0a",
   "outputs": [],
   "execution_count": 33
  },
  {
   "metadata": {
    "ExecuteTime": {
     "end_time": "2025-05-30T11:39:36.510289Z",
     "start_time": "2025-05-30T11:33:59.164536Z"
    }
   },
   "cell_type": "code",
   "source": [
    "print('RNNSeq2Seq Start Training:')\n",
    "rnn_train_losses, rnn_val_losses, rnn_val_accs = train_and_validate(model, optimizer, criterion, train_loader,\n",
    "                                                                    val_loader, epochs, device)"
   ],
   "id": "bb95edf138fbf350",
   "outputs": [
    {
     "name": "stdout",
     "output_type": "stream",
     "text": [
      "RNNSeq2Seq Start Training:\n",
      "Epoch: 1 / 10 | Train loss: 5.78255431992667 | Val loss: 5.469281911849976 | Val acc: 0.12214542413130403\n",
      "Epoch: 2 / 10 | Train loss: 5.526162212235587 | Val loss: 5.459406107664108 | Val acc: 0.12220788514241576\n",
      "Epoch: 3 / 10 | Train loss: 5.457312648636954 | Val loss: 5.475294500589371 | Val acc: 0.12211419409140944\n",
      "Epoch: 4 / 10 | Train loss: 5.428636387416295 | Val loss: 5.462756097316742 | Val acc: 0.12216104008257389\n",
      "Epoch: 5 / 10 | Train loss: 5.367075511387417 | Val loss: 5.465065032243729 | Val acc: 0.1220048894174397\n",
      "Epoch: 6 / 10 | Train loss: 5.332634234428406 | Val loss: 5.465446352958679 | Val acc: 0.12187997018918395\n",
      "Epoch: 7 / 10 | Train loss: 5.304453934941973 | Val loss: 5.46784633398056 | Val acc: 0.1220361185260117\n",
      "Epoch: 8 / 10 | Train loss: 5.261818824495588 | Val loss: 5.483280301094055 | Val acc: 0.12191120069473982\n",
      "Epoch: 9 / 10 | Train loss: 5.245754078456334 | Val loss: 5.529431909322739 | Val acc: 0.12225472927093506\n",
      "Epoch: 10 / 10 | Train loss: 5.227977912766593 | Val loss: 5.48146179318428 | Val acc: 0.12198927579447627\n"
     ]
    }
   ],
   "execution_count": 34
  },
  {
   "metadata": {
    "ExecuteTime": {
     "end_time": "2025-05-30T11:39:45.738669Z",
     "start_time": "2025-05-30T11:39:45.686456Z"
    }
   },
   "cell_type": "code",
   "source": "plot_losses('RNN', rnn_train_losses, rnn_val_losses, epochs)",
   "id": "6f8c48e4d12473ab",
   "outputs": [
    {
     "data": {
      "text/plain": [
       "<Figure size 640x480 with 1 Axes>"
      ],
      "image/png": "[encoded data removed]"
     },
     "metadata": {},
     "output_type": "display_data"
    }
   ],
   "execution_count": 35
  },
  {
   "metadata": {
    "ExecuteTime": {
     "end_time": "2025-05-30T11:39:49.693258Z",
     "start_time": "2025-05-30T11:39:49.683627Z"
    }
   },
   "cell_type": "code",
   "source": [
    "for i in range(len(x_val)):\n",
    "    print('Review: ', seq2text(x_val[i]))\n",
    "    print('Original summary: ', seq2summary(y_val[i]))\n",
    "    print('Predicted summary: ', decode_sequence(x_val[i].reshape(1, max_len_text), model))\n",
    "    break"
   ],
   "id": "6fb4a456c0f07d76",
   "outputs": [
    {
     "name": "stdout",
     "output_type": "stream",
     "text": [
      "Review:  start family loves popcorn amish country popcorn wonderful tender tasty delightful love nearly hull less kernels tiny size popped product good enjoy watching movies even curling reading good book end \n",
      "Original summary:  to die for \n",
      "Predicted summary:   great\n"
     ]
    }
   ],
   "execution_count": 36
  },
  {
   "metadata": {},
   "cell_type": "markdown",
   "source": "# RNN Seq2Seq With Attention",
   "id": "a2ca518372dca0e6"
  },
  {
   "metadata": {
    "ExecuteTime": {
     "end_time": "2025-05-30T11:39:55.519415Z",
     "start_time": "2025-05-30T11:39:55.402610Z"
    }
   },
   "cell_type": "code",
   "source": [
    "epochs = 10\n",
    "embedding_dim = 400\n",
    "hidden_dim = 512\n",
    "enc_layers = 1\n",
    "dec_layers = 1\n",
    "enc_vocab_size = x_voc_size\n",
    "dec_vocab_size = y_voc_size\n",
    "\n",
    "device = torch.device('cuda' if torch.cuda.is_available() else 'cpu')\n",
    "model = RNNSeq2Seq(embedding_dim, hidden_dim, enc_layers, dec_layers, enc_vocab_size, dec_vocab_size, attention=True).to(device)\n",
    "optimizer = torch.optim.Adam(model.parameters(), lr=1e-3)\n",
    "criterion = torch.nn.CrossEntropyLoss(ignore_index=0)"
   ],
   "id": "6f6a2e6abac4fb3a",
   "outputs": [],
   "execution_count": 37
  },
  {
   "metadata": {
    "ExecuteTime": {
     "end_time": "2025-05-30T11:48:52.730102Z",
     "start_time": "2025-05-30T11:39:56.509686Z"
    }
   },
   "cell_type": "code",
   "source": [
    "print('RNNSeq2Seq Start Training:')\n",
    "rnn_train_losses, rnn_val_losses, rnn_val_accs = train_and_validate(model, optimizer, criterion, train_loader,\n",
    "                                                                    val_loader, epochs, device)"
   ],
   "id": "f1c75d0ed04e5c95",
   "outputs": [
    {
     "name": "stdout",
     "output_type": "stream",
     "text": [
      "RNNSeq2Seq Start Training:\n",
      "Epoch: 1 / 10 | Train loss: 5.745921312059675 | Val loss: 5.456003487110138 | Val acc: 0.12206734949722886\n",
      "Epoch: 2 / 10 | Train loss: 5.519576552936009 | Val loss: 5.447171658277512 | Val acc: 0.12186435423791409\n",
      "Epoch: 3 / 10 | Train loss: 5.418209297316415 | Val loss: 5.365699499845505 | Val acc: 0.12154168309643865\n",
      "Epoch: 4 / 10 | Train loss: 5.249141849790301 | Val loss: 5.28247344493866 | Val acc: 0.12292389292269945\n",
      "Epoch: 5 / 10 | Train loss: 5.120085488046919 | Val loss: 5.190268695354462 | Val acc: 0.12421606108546257\n",
      "Epoch: 6 / 10 | Train loss: 4.994033425194877 | Val loss: 5.145455151796341 | Val acc: 0.12362793507054448\n",
      "Epoch: 7 / 10 | Train loss: 4.858292760167803 | Val loss: 5.101897448301315 | Val acc: 0.1242687189951539\n",
      "Epoch: 8 / 10 | Train loss: 4.741607672827584 | Val loss: 5.076484650373459 | Val acc: 0.1249563479796052\n",
      "Epoch: 9 / 10 | Train loss: 4.643611689976283 | Val loss: 5.048025846481323 | Val acc: 0.12445985851809382\n",
      "Epoch: 10 / 10 | Train loss: 4.54786981514522 | Val loss: 5.033736735582352 | Val acc: 0.12453793408349156\n"
     ]
    }
   ],
   "execution_count": 38
  },
  {
   "metadata": {
    "ExecuteTime": {
     "end_time": "2025-05-30T11:48:57.081112Z",
     "start_time": "2025-05-30T11:48:57.026540Z"
    }
   },
   "cell_type": "code",
   "source": "plot_losses('RNN', rnn_train_losses, rnn_val_losses, epochs)",
   "id": "4349f82da3485a90",
   "outputs": [
    {
     "data": {
      "text/plain": [
       "<Figure size 640x480 with 1 Axes>"
      ],
      "image/png": "[encoded data removed]"
     },
     "metadata": {},
     "output_type": "display_data"
    }
   ],
   "execution_count": 39
  },
  {
   "metadata": {
    "ExecuteTime": {
     "end_time": "2025-05-30T11:49:05.576166Z",
     "start_time": "2025-05-30T11:49:05.565808Z"
    }
   },
   "cell_type": "code",
   "source": [
    "for i in range(len(x_val)):\n",
    "    print('Review: ', seq2text(x_val[i]))\n",
    "    print('Original summary: ', seq2summary(y_val[i]))\n",
    "    print('Predicted summary: ', decode_sequence(x_val[i].reshape(1, max_len_text), model))\n",
    "    break"
   ],
   "id": "5c1ef96ca297dec1",
   "outputs": [
    {
     "name": "stdout",
     "output_type": "stream",
     "text": [
      "Review:  start family loves popcorn amish country popcorn wonderful tender tasty delightful love nearly hull less kernels tiny size popped product good enjoy watching movies even curling reading good book end \n",
      "Original summary:  to die for \n",
      "Predicted summary:   great popcorn\n"
     ]
    }
   ],
   "execution_count": 40
  },
  {
   "metadata": {},
   "cell_type": "markdown",
   "source": "# RNN Seq2Seq With Attention and BiDirectional Encoder",
   "id": "8ac9f100c4e533ee"
  },
  {
   "metadata": {
    "ExecuteTime": {
     "end_time": "2025-05-30T11:49:23.975536Z",
     "start_time": "2025-05-30T11:49:23.858024Z"
    }
   },
   "cell_type": "code",
   "source": [
    "epochs = 10\n",
    "embedding_dim = 400\n",
    "hidden_dim = 512\n",
    "enc_layers = 1\n",
    "dec_layers = 1\n",
    "enc_vocab_size = x_voc_size\n",
    "dec_vocab_size = y_voc_size\n",
    "\n",
    "device = torch.device('cuda' if torch.cuda.is_available() else 'cpu')\n",
    "model = RNNSeq2Seq(embedding_dim, hidden_dim, enc_layers, dec_layers, enc_vocab_size, dec_vocab_size, attention=True, encoder_modes='sum').to(device)\n",
    "optimizer = torch.optim.Adam(model.parameters(), lr=1e-3)\n",
    "criterion = torch.nn.CrossEntropyLoss(ignore_index=0)"
   ],
   "id": "ad785dafa52718c5",
   "outputs": [],
   "execution_count": 41
  },
  {
   "metadata": {
    "ExecuteTime": {
     "end_time": "2025-05-30T12:03:22.925057Z",
     "start_time": "2025-05-30T11:49:24.694345Z"
    }
   },
   "cell_type": "code",
   "source": [
    "print('RNNSeq2Seq Start Training:')\n",
    "rnn_train_losses, rnn_val_losses, rnn_val_accs = train_and_validate(model, optimizer, criterion, train_loader,\n",
    "                                                                    val_loader, epochs, device)"
   ],
   "id": "520b33f19f0d0f96",
   "outputs": [
    {
     "name": "stdout",
     "output_type": "stream",
     "text": [
      "RNNSeq2Seq Start Training:\n",
      "Epoch: 1 / 10 | Train loss: 5.759944418498448 | Val loss: 5.45758992433548 | Val acc: 0.12205173401162028\n",
      "Epoch: 2 / 10 | Train loss: 5.530748976979937 | Val loss: 5.424539715051651 | Val acc: 0.1219736598432064\n",
      "Epoch: 3 / 10 | Train loss: 5.359778336116245 | Val loss: 5.230713129043579 | Val acc: 0.12421982223168015\n",
      "Epoch: 4 / 10 | Train loss: 5.13455479826246 | Val loss: 5.0956085324287415 | Val acc: 0.12537555675953627\n",
      "Epoch: 5 / 10 | Train loss: 4.942108086177281 | Val loss: 5.008881747722626 | Val acc: 0.12659626174718142\n",
      "Epoch: 6 / 10 | Train loss: 4.74485547542572 | Val loss: 4.953882694244385 | Val acc: 0.1273261746391654\n",
      "Epoch: 7 / 10 | Train loss: 4.585215932982308 | Val loss: 4.9344914853572845 | Val acc: 0.12632419541478157\n",
      "Epoch: 8 / 10 | Train loss: 4.408898898533413 | Val loss: 4.8966653645038605 | Val acc: 0.1273138653486967\n",
      "Epoch: 9 / 10 | Train loss: 4.25297931262425 | Val loss: 4.922308653593063 | Val acc: 0.12636363180354238\n",
      "Epoch: 10 / 10 | Train loss: 4.0752953393118725 | Val loss: 4.953900396823883 | Val acc: 0.12501174118369818\n"
     ]
    }
   ],
   "execution_count": 42
  },
  {
   "metadata": {
    "ExecuteTime": {
     "end_time": "2025-05-30T12:03:26.116975Z",
     "start_time": "2025-05-30T12:03:26.059841Z"
    }
   },
   "cell_type": "code",
   "source": "plot_losses('RNN', rnn_train_losses, rnn_val_losses, epochs)",
   "id": "4c97b82f8d32d589",
   "outputs": [
    {
     "data": {
      "text/plain": [
       "<Figure size 640x480 with 1 Axes>"
      ],
      "image/png": "[encoded data removed]"
     },
     "metadata": {},
     "output_type": "display_data"
    }
   ],
   "execution_count": 43
  },
  {
   "metadata": {
    "ExecuteTime": {
     "end_time": "2025-05-30T12:03:30.596789Z",
     "start_time": "2025-05-30T12:03:30.570592Z"
    }
   },
   "cell_type": "code",
   "source": [
    "for i in range(len(x_val)):\n",
    "    print('Review: ', seq2text(x_val[i]))\n",
    "    print('Original summary: ', seq2summary(y_val[i]))\n",
    "    print('Predicted summary: ', decode_sequence(x_val[i].reshape(1, max_len_text), model))\n",
    "    break"
   ],
   "id": "9ca9cf23d79e35c0",
   "outputs": [
    {
     "name": "stdout",
     "output_type": "stream",
     "text": [
      "Review:  start family loves popcorn amish country popcorn wonderful tender tasty delightful love nearly hull less kernels tiny size popped product good enjoy watching movies even curling reading good book end \n",
      "Original summary:  to die for \n",
      "Predicted summary:   great popcorn\n"
     ]
    }
   ],
   "execution_count": 44
  },
  {
   "metadata": {},
   "cell_type": "markdown",
   "source": "# LSTM Seq2Seq",
   "id": "e52fc3960afce4f1"
  },
  {
   "metadata": {
    "ExecuteTime": {
     "end_time": "2025-05-30T12:08:27.472874Z",
     "start_time": "2025-05-30T12:08:27.345634Z"
    }
   },
   "cell_type": "code",
   "source": [
    "epochs = 10\n",
    "embedding_dim = 400\n",
    "hidden_dim = 512\n",
    "enc_layers = 1\n",
    "dec_layers = 1\n",
    "enc_vocab_size = x_voc_size\n",
    "dec_vocab_size = y_voc_size\n",
    "\n",
    "device = torch.device('cuda' if torch.cuda.is_available() else 'cpu')\n",
    "model = LSTMSeq2Seq(embedding_dim, hidden_dim, enc_layers, dec_layers, enc_vocab_size, dec_vocab_size).to(device)\n",
    "optimizer = torch.optim.Adam(model.parameters(), lr=1e-4)\n",
    "criterion = torch.nn.CrossEntropyLoss(ignore_index=0)"
   ],
   "id": "1bbf45426daa174d",
   "outputs": [],
   "execution_count": 50
  },
  {
   "metadata": {
    "ExecuteTime": {
     "end_time": "2025-05-30T12:15:11.842502Z",
     "start_time": "2025-05-30T12:08:27.884749Z"
    }
   },
   "cell_type": "code",
   "source": [
    "print('LSTMSeq2Seq Start Training:')\n",
    "lstm_train_losses, lstm_val_losses, lstm_val_accs = train_and_validate(model, optimizer, criterion, train_loader,\n",
    "                                                                    val_loader, epochs, device)"
   ],
   "id": "34d997bf7f3f98c",
   "outputs": [
    {
     "name": "stdout",
     "output_type": "stream",
     "text": [
      "LSTMSeq2Seq Start Training:\n",
      "Epoch: 1 / 10 | Train loss: 6.400410570417132 | Val loss: 5.410135179758072 | Val acc: 0.12202050443738699\n",
      "Epoch: 2 / 10 | Train loss: 5.492473173141479 | Val loss: 5.391184598207474 | Val acc: 0.12197365937754512\n",
      "Epoch: 3 / 10 | Train loss: 5.436134723254613 | Val loss: 5.393121749162674 | Val acc: 0.12203611945733428\n",
      "Epoch: 4 / 10 | Train loss: 5.400390519414629 | Val loss: 5.387248277664185 | Val acc: 0.1220205039717257\n",
      "Epoch: 5 / 10 | Train loss: 5.366744562557765 | Val loss: 5.386561304330826 | Val acc: 0.12206734856590629\n",
      "Epoch: 6 / 10 | Train loss: 5.348261213302612 | Val loss: 5.381038308143616 | Val acc: 0.12195804389193654\n",
      "Epoch: 7 / 10 | Train loss: 5.322901480538505 | Val loss: 5.3919177651405334 | Val acc: 0.12213926902040839\n",
      "Epoch: 8 / 10 | Train loss: 5.282323152678353 | Val loss: 5.3833969831466675 | Val acc: 0.12215078063309193\n",
      "Epoch: 9 / 10 | Train loss: 5.241410616465977 | Val loss: 5.3906384110450745 | Val acc: 0.12211088836193085\n",
      "Epoch: 10 / 10 | Train loss: 5.220860321181161 | Val loss: 5.388572663068771 | Val acc: 0.12186595005914569\n"
     ]
    }
   ],
   "execution_count": 51
  },
  {
   "metadata": {
    "ExecuteTime": {
     "end_time": "2025-05-30T12:15:16.188647Z",
     "start_time": "2025-05-30T12:15:16.134875Z"
    }
   },
   "cell_type": "code",
   "source": "plot_losses('LSTM', lstm_train_losses, lstm_val_losses, epochs)",
   "id": "d782a80be6bb2c58",
   "outputs": [
    {
     "data": {
      "text/plain": [
       "<Figure size 640x480 with 1 Axes>"
      ],
      "image/png": "[encoded data removed]"
     },
     "metadata": {},
     "output_type": "display_data"
    }
   ],
   "execution_count": 52
  },
  {
   "metadata": {
    "ExecuteTime": {
     "end_time": "2025-05-30T12:15:20.905084Z",
     "start_time": "2025-05-30T12:15:20.891856Z"
    }
   },
   "cell_type": "code",
   "source": [
    "for i in range(len(x_val)):\n",
    "    print('Review: ', seq2text(x_val[i]))\n",
    "    print('Original summary: ', seq2summary(y_val[i]))\n",
    "    print('Predicted summary: ', decode_sequence(x_val[i].reshape(1, max_len_text), model, rnn_type='lstm'))\n",
    "    break"
   ],
   "id": "edd129fbf85095e2",
   "outputs": [
    {
     "name": "stdout",
     "output_type": "stream",
     "text": [
      "Review:  start family loves popcorn amish country popcorn wonderful tender tasty delightful love nearly hull less kernels tiny size popped product good enjoy watching movies even curling reading good book end \n",
      "Original summary:  to die for \n",
      "Predicted summary:   great\n"
     ]
    }
   ],
   "execution_count": 53
  },
  {
   "metadata": {},
   "cell_type": "markdown",
   "source": "# LSTM Seq2Seq With Attention",
   "id": "ba3b261faf3fd5a0"
  },
  {
   "metadata": {
    "ExecuteTime": {
     "end_time": "2025-05-30T12:15:27.612345Z",
     "start_time": "2025-05-30T12:15:27.485368Z"
    }
   },
   "cell_type": "code",
   "source": [
    "epochs = 10\n",
    "embedding_dim = 400\n",
    "hidden_dim = 512\n",
    "enc_layers = 1\n",
    "dec_layers = 1\n",
    "enc_vocab_size = x_voc_size\n",
    "dec_vocab_size = y_voc_size\n",
    "\n",
    "device = torch.device('cuda' if torch.cuda.is_available() else 'cpu')\n",
    "model = LSTMSeq2Seq(embedding_dim, hidden_dim, enc_layers, dec_layers, enc_vocab_size, dec_vocab_size, attention=True).to(device)\n",
    "optimizer = torch.optim.Adam(model.parameters(), lr=1e-4)\n",
    "criterion = torch.nn.CrossEntropyLoss(ignore_index=0)"
   ],
   "id": "7deb4f792e5988cd",
   "outputs": [],
   "execution_count": 54
  },
  {
   "metadata": {
    "ExecuteTime": {
     "end_time": "2025-05-30T12:25:10.504815Z",
     "start_time": "2025-05-30T12:15:28.150885Z"
    }
   },
   "cell_type": "code",
   "source": [
    "print('LSTMSeq2Seq Start Training:')\n",
    "lstm_train_losses, lstm_val_losses, lstm_val_accs = train_and_validate(model, optimizer, criterion, train_loader,\n",
    "                                                                    val_loader, epochs, device)"
   ],
   "id": "c991634e8046e3e3",
   "outputs": [
    {
     "name": "stdout",
     "output_type": "stream",
     "text": [
      "LSTMSeq2Seq Start Training:\n",
      "Epoch: 1 / 10 | Train loss: 6.1537390777042935 | Val loss: 5.412853002548218 | Val acc: 0.12194242933765054\n",
      "Epoch: 2 / 10 | Train loss: 5.47398943901062 | Val loss: 5.384585022926331 | Val acc: 0.12226213794201612\n",
      "Epoch: 3 / 10 | Train loss: 5.422789175169808 | Val loss: 5.388170212507248 | Val acc: 0.12197160767391324\n",
      "Epoch: 4 / 10 | Train loss: 5.383300420216152 | Val loss: 5.375735580921173 | Val acc: 0.12223295960575342\n",
      "Epoch: 5 / 10 | Train loss: 5.343223432132176 | Val loss: 5.370975971221924 | Val acc: 0.12206450011581182\n",
      "Epoch: 6 / 10 | Train loss: 5.28203295639583 | Val loss: 5.327404707670212 | Val acc: 0.12306613754481077\n",
      "Epoch: 7 / 10 | Train loss: 5.193006093161447 | Val loss: 5.268360495567322 | Val acc: 0.12345696706324816\n",
      "Epoch: 8 / 10 | Train loss: 5.105946506772723 | Val loss: 5.227414965629578 | Val acc: 0.12439739890396595\n",
      "Epoch: 9 / 10 | Train loss: 5.012731535094125 | Val loss: 5.207829535007477 | Val acc: 0.12381086824461818\n",
      "Epoch: 10 / 10 | Train loss: 4.922220642226083 | Val loss: 5.203313052654266 | Val acc: 0.12379605183377862\n"
     ]
    }
   ],
   "execution_count": 55
  },
  {
   "metadata": {
    "ExecuteTime": {
     "end_time": "2025-05-30T12:25:18.942954Z",
     "start_time": "2025-05-30T12:25:18.889501Z"
    }
   },
   "cell_type": "code",
   "source": "plot_losses('LSTM', lstm_train_losses, lstm_val_losses, epochs)",
   "id": "5b2a0c2520b297de",
   "outputs": [
    {
     "data": {
      "text/plain": [
       "<Figure size 640x480 with 1 Axes>"
      ],
      "image/png": "[encoded data removed]"
     },
     "metadata": {},
     "output_type": "display_data"
    }
   ],
   "execution_count": 56
  },
  {
   "metadata": {
    "ExecuteTime": {
     "end_time": "2025-05-30T12:25:29.628597Z",
     "start_time": "2025-05-30T12:25:29.601721Z"
    }
   },
   "cell_type": "code",
   "source": [
    "for i in range(len(x_val)):\n",
    "    print('Review: ', seq2text(x_val[i]))\n",
    "    print('Original summary: ', seq2summary(y_val[i]))\n",
    "    print('Predicted summary: ', decode_sequence(x_val[i].reshape(1, max_len_text), model, 'lstm'))\n",
    "    break"
   ],
   "id": "bf823ed3991b67f8",
   "outputs": [
    {
     "name": "stdout",
     "output_type": "stream",
     "text": [
      "Review:  start family loves popcorn amish country popcorn wonderful tender tasty delightful love nearly hull less kernels tiny size popped product good enjoy watching movies even curling reading good book end \n",
      "Original summary:  to die for \n",
      "Predicted summary:   great\n"
     ]
    }
   ],
   "execution_count": 57
  },
  {
   "metadata": {},
   "cell_type": "markdown",
   "source": "# LSTM Seq2Seq With Attention and BiDirectional Encoder",
   "id": "8f319a616bae8c1e"
  },
  {
   "metadata": {
    "ExecuteTime": {
     "end_time": "2025-05-30T12:25:55.557245Z",
     "start_time": "2025-05-30T12:25:55.412982Z"
    }
   },
   "cell_type": "code",
   "source": [
    "epochs = 10\n",
    "embedding_dim = 400\n",
    "hidden_dim = 512\n",
    "enc_layers = 1\n",
    "dec_layers = 1\n",
    "enc_vocab_size = x_voc_size\n",
    "dec_vocab_size = y_voc_size\n",
    "\n",
    "device = torch.device('cuda' if torch.cuda.is_available() else 'cpu')\n",
    "model = LSTMSeq2Seq(embedding_dim, hidden_dim, enc_layers, dec_layers, enc_vocab_size, dec_vocab_size, attention=True, encoder_modes='sum').to(device)\n",
    "optimizer = torch.optim.Adam(model.parameters(), lr=1e-4)\n",
    "criterion = torch.nn.CrossEntropyLoss(ignore_index=0)"
   ],
   "id": "b0ff0cb198062e3e",
   "outputs": [],
   "execution_count": 58
  },
  {
   "metadata": {
    "ExecuteTime": {
     "end_time": "2025-05-30T12:41:14.758819Z",
     "start_time": "2025-05-30T12:25:56.197070Z"
    }
   },
   "cell_type": "code",
   "source": [
    "print('LSTMSeq2Seq Start Training:')\n",
    "lstm_train_losses, lstm_val_losses, lstm_val_accs = train_and_validate(model, optimizer, criterion, train_loader,\n",
    "                                                                    val_loader, epochs, device)"
   ],
   "id": "d3eb0326a0151a8e",
   "outputs": [
    {
     "name": "stdout",
     "output_type": "stream",
     "text": [
      "LSTMSeq2Seq Start Training:\n",
      "Epoch: 1 / 10 | Train loss: 6.10033083643232 | Val loss: 5.413976550102234 | Val acc: 0.12205378524959087\n",
      "Epoch: 2 / 10 | Train loss: 5.486262052399772 | Val loss: 5.388089567422867 | Val acc: 0.12204968323931098\n",
      "Epoch: 3 / 10 | Train loss: 5.433105635643005 | Val loss: 5.372571796178818 | Val acc: 0.1220340677537024\n",
      "Epoch: 4 / 10 | Train loss: 5.390601461274283 | Val loss: 5.357751250267029 | Val acc: 0.12225393205881119\n",
      "Epoch: 5 / 10 | Train loss: 5.30722918169839 | Val loss: 5.3043016493320465 | Val acc: 0.12335381796583533\n",
      "Epoch: 6 / 10 | Train loss: 5.21559567792075 | Val loss: 5.259382635354996 | Val acc: 0.1232568216510117\n",
      "Epoch: 7 / 10 | Train loss: 5.117054581642151 | Val loss: 5.2217116355896 | Val acc: 0.12355111353099346\n",
      "Epoch: 8 / 10 | Train loss: 5.031202738625662 | Val loss: 5.194064944982529 | Val acc: 0.1241059573367238\n",
      "Epoch: 9 / 10 | Train loss: 4.924704074859619 | Val loss: 5.189961820840836 | Val acc: 0.12386797228828073\n",
      "Epoch: 10 / 10 | Train loss: 4.817088082858494 | Val loss: 5.199658751487732 | Val acc: 0.12329090340062976\n"
     ]
    }
   ],
   "execution_count": 59
  },
  {
   "metadata": {
    "ExecuteTime": {
     "end_time": "2025-05-30T12:41:18.237136Z",
     "start_time": "2025-05-30T12:41:18.183480Z"
    }
   },
   "cell_type": "code",
   "source": "plot_losses('LSTM', lstm_train_losses, lstm_val_losses, epochs)",
   "id": "be168eccbf191ce7",
   "outputs": [
    {
     "data": {
      "text/plain": [
       "<Figure size 640x480 with 1 Axes>"
      ],
      "image/png": "[encoded data removed]"
     },
     "metadata": {},
     "output_type": "display_data"
    }
   ],
   "execution_count": 60
  },
  {
   "metadata": {
    "ExecuteTime": {
     "end_time": "2025-05-30T12:41:24.110018Z",
     "start_time": "2025-05-30T12:41:24.080746Z"
    }
   },
   "cell_type": "code",
   "source": [
    "for i in range(len(x_val)):\n",
    "    print('Review: ', seq2text(x_val[i]))\n",
    "    print('Original summary: ', seq2summary(y_val[i]))\n",
    "    print('Predicted summary: ', decode_sequence(x_val[i].reshape(1, max_len_text), model, 'lstm'))\n",
    "    break"
   ],
   "id": "9811079ba4909884",
   "outputs": [
    {
     "name": "stdout",
     "output_type": "stream",
     "text": [
      "Review:  start family loves popcorn amish country popcorn wonderful tender tasty delightful love nearly hull less kernels tiny size popped product good enjoy watching movies even curling reading good book end \n",
      "Original summary:  to die for \n",
      "Predicted summary:   great\n"
     ]
    }
   ],
   "execution_count": 61
  },
  {
   "metadata": {},
   "cell_type": "markdown",
   "source": "# GRU Seq2Seq",
   "id": "9848f9738530eb67"
  },
  {
   "metadata": {
    "ExecuteTime": {
     "end_time": "2025-05-30T12:41:32.468887Z",
     "start_time": "2025-05-30T12:41:32.366536Z"
    }
   },
   "cell_type": "code",
   "source": [
    "epochs = 10\n",
    "embedding_dim = 400\n",
    "hidden_dim = 512\n",
    "enc_layers = 1\n",
    "dec_layers = 1\n",
    "enc_vocab_size = x_voc_size\n",
    "dec_vocab_size = y_voc_size\n",
    "\n",
    "device = torch.device('cuda' if torch.cuda.is_available() else 'cpu')\n",
    "model = GRUSeq2Seq(embedding_dim, hidden_dim, enc_layers, dec_layers, enc_vocab_size, dec_vocab_size).to(device)\n",
    "optimizer = torch.optim.Adam(model.parameters(), lr=1e-3)\n",
    "criterion = torch.nn.CrossEntropyLoss(ignore_index=0)"
   ],
   "id": "5ea8b53145a4fbc",
   "outputs": [],
   "execution_count": 63
  },
  {
   "metadata": {
    "ExecuteTime": {
     "end_time": "2025-05-30T12:47:54.631031Z",
     "start_time": "2025-05-30T12:41:40.359095Z"
    }
   },
   "cell_type": "code",
   "source": [
    "print('GRUSeq2Seq Start Training:')\n",
    "gru_train_losses, gru_val_losses, gru_val_accs = train_and_validate(model, optimizer, criterion, train_loader,\n",
    "                                                                    val_loader, epochs, device)"
   ],
   "id": "5dece6ffa85d21ba",
   "outputs": [
    {
     "name": "stdout",
     "output_type": "stream",
     "text": [
      "GRUSeq2Seq Start Training:\n",
      "Epoch: 1 / 10 | Train loss: 5.711017417907715 | Val loss: 5.305397570133209 | Val acc: 0.12372493045404553\n",
      "Epoch: 2 / 10 | Train loss: 5.264680882862636 | Val loss: 5.130396753549576 | Val acc: 0.12546104192733765\n",
      "Epoch: 3 / 10 | Train loss: 5.023152991703578 | Val loss: 5.0335904359817505 | Val acc: 0.1252181543968618\n",
      "Epoch: 4 / 10 | Train loss: 4.801872846058437 | Val loss: 4.954943090677261 | Val acc: 0.12609441624954343\n",
      "Epoch: 5 / 10 | Train loss: 4.566464604650225 | Val loss: 4.9375859797000885 | Val acc: 0.12540063308551908\n",
      "Epoch: 6 / 10 | Train loss: 4.3334012167794365 | Val loss: 4.96597558259964 | Val acc: 0.12411952065303922\n",
      "Epoch: 7 / 10 | Train loss: 4.094708119119916 | Val loss: 5.03686785697937 | Val acc: 0.12110925046727061\n",
      "Epoch: 8 / 10 | Train loss: 3.8575166889599393 | Val loss: 5.140838444232941 | Val acc: 0.12026877794414759\n",
      "Epoch: 9 / 10 | Train loss: 3.587763489995684 | Val loss: 5.30442351102829 | Val acc: 0.11514638364315033\n",
      "Epoch: 10 / 10 | Train loss: 3.3392929911613463 | Val loss: 5.474449157714844 | Val acc: 0.11093193665146828\n"
     ]
    }
   ],
   "execution_count": 64
  },
  {
   "metadata": {
    "ExecuteTime": {
     "end_time": "2025-05-30T12:59:00.500782Z",
     "start_time": "2025-05-30T12:59:00.449492Z"
    }
   },
   "cell_type": "code",
   "source": "plot_losses('GRU', gru_train_losses, gru_val_losses, epochs)",
   "id": "14a9cfffcb4b9737",
   "outputs": [
    {
     "data": {
      "text/plain": [
       "<Figure size 640x480 with 1 Axes>"
      ],
      "image/png": "[encoded data removed]"
     },
     "metadata": {},
     "output_type": "display_data"
    }
   ],
   "execution_count": 65
  },
  {
   "metadata": {
    "ExecuteTime": {
     "end_time": "2025-05-30T12:59:07.912433Z",
     "start_time": "2025-05-30T12:59:07.889091Z"
    }
   },
   "cell_type": "code",
   "source": [
    "for i in range(len(x_val)):\n",
    "    print('Review: ', seq2text(x_val[i]))\n",
    "    print('Original summary: ', seq2summary(y_val[i]))\n",
    "    print('Predicted summary: ', decode_sequence(x_val[i].reshape(1, max_len_text), model, rnn_type='gru'))\n",
    "    break"
   ],
   "id": "33d9663cde597afd",
   "outputs": [
    {
     "name": "stdout",
     "output_type": "stream",
     "text": [
      "Review:  start family loves popcorn amish country popcorn wonderful tender tasty delightful love nearly hull less kernels tiny size popped product good enjoy watching movies even curling reading good book end \n",
      "Original summary:  to die for \n",
      "Predicted summary:   great popcorn popcorn\n"
     ]
    }
   ],
   "execution_count": 66
  },
  {
   "metadata": {},
   "cell_type": "markdown",
   "source": "# GRU Seq2Seq With Attention",
   "id": "72b745e22f73ce2e"
  },
  {
   "metadata": {
    "ExecuteTime": {
     "end_time": "2025-05-30T12:59:42.567418Z",
     "start_time": "2025-05-30T12:59:42.448256Z"
    }
   },
   "cell_type": "code",
   "source": [
    "epochs = 10\n",
    "embedding_dim = 400\n",
    "hidden_dim = 512\n",
    "enc_layers = 1\n",
    "dec_layers = 1\n",
    "enc_vocab_size = x_voc_size\n",
    "dec_vocab_size = y_voc_size\n",
    "\n",
    "device = torch.device('cuda' if torch.cuda.is_available() else 'cpu')\n",
    "model = GRUSeq2Seq(embedding_dim, hidden_dim, enc_layers, dec_layers, enc_vocab_size, dec_vocab_size, attention=True).to(device)\n",
    "optimizer = torch.optim.Adam(model.parameters(), lr=1e-3)\n",
    "criterion = torch.nn.CrossEntropyLoss(ignore_index=0)"
   ],
   "id": "92d035b81780ad77",
   "outputs": [],
   "execution_count": 67
  },
  {
   "metadata": {
    "ExecuteTime": {
     "end_time": "2025-05-30T13:09:19.591021Z",
     "start_time": "2025-05-30T12:59:44.613125Z"
    }
   },
   "cell_type": "code",
   "source": [
    "print('GRUSeq2Seq Start Training:')\n",
    "gru_train_losses, gru_val_losses, gru_val_accs = train_and_validate(model, optimizer, criterion, train_loader,\n",
    "                                                                    val_loader, epochs, device)"
   ],
   "id": "9adc8ca5a4db4a8",
   "outputs": [
    {
     "name": "stdout",
     "output_type": "stream",
     "text": [
      "GRUSeq2Seq Start Training:\n",
      "Epoch: 1 / 10 | Train loss: 5.699107193946839 | Val loss: 5.287706941366196 | Val acc: 0.12540598819032311\n",
      "Epoch: 2 / 10 | Train loss: 5.224365745271955 | Val loss: 5.073332250118256 | Val acc: 0.12619220884516835\n",
      "Epoch: 3 / 10 | Train loss: 4.929001270021711 | Val loss: 4.926406383514404 | Val acc: 0.12707918416708708\n",
      "Epoch: 4 / 10 | Train loss: 4.673541695731027 | Val loss: 4.874302059412003 | Val acc: 0.12813427858054638\n",
      "Epoch: 5 / 10 | Train loss: 4.423537758418492 | Val loss: 4.8594871163368225 | Val acc: 0.12601634208112955\n",
      "Epoch: 6 / 10 | Train loss: 4.152772121770042 | Val loss: 4.892521560192108 | Val acc: 0.1256846645846963\n",
      "Epoch: 7 / 10 | Train loss: 3.889962043081011 | Val loss: 4.955537706613541 | Val acc: 0.12336943252012134\n",
      "Epoch: 8 / 10 | Train loss: 3.5582361936569216 | Val loss: 5.0775492787361145 | Val acc: 0.12000366533175111\n",
      "Epoch: 9 / 10 | Train loss: 3.2687686681747437 | Val loss: 5.200219571590424 | Val acc: 0.11260957783088088\n",
      "Epoch: 10 / 10 | Train loss: 2.968310330595289 | Val loss: 5.413669228553772 | Val acc: 0.10934046469628811\n"
     ]
    }
   ],
   "execution_count": 68
  },
  {
   "metadata": {
    "ExecuteTime": {
     "end_time": "2025-05-30T13:09:29.548216Z",
     "start_time": "2025-05-30T13:09:29.495242Z"
    }
   },
   "cell_type": "code",
   "source": "plot_losses('GRU', gru_train_losses, gru_val_losses, epochs)",
   "id": "85721dc2e31a643e",
   "outputs": [
    {
     "data": {
      "text/plain": [
       "<Figure size 640x480 with 1 Axes>"
      ],
      "image/png": "[encoded data removed]"
     },
     "metadata": {},
     "output_type": "display_data"
    }
   ],
   "execution_count": 69
  },
  {
   "metadata": {
    "ExecuteTime": {
     "end_time": "2025-05-30T13:09:34.208482Z",
     "start_time": "2025-05-30T13:09:34.193977Z"
    }
   },
   "cell_type": "code",
   "source": [
    "for i in range(len(x_val)):\n",
    "    print('Review: ', seq2text(x_val[i]))\n",
    "    print('Original summary: ', seq2summary(y_val[i]))\n",
    "    print('Predicted summary: ', decode_sequence(x_val[i].reshape(1, max_len_text), model, 'gru'))\n",
    "    break"
   ],
   "id": "47b7dd35bc18b531",
   "outputs": [
    {
     "name": "stdout",
     "output_type": "stream",
     "text": [
      "Review:  start family loves popcorn amish country popcorn wonderful tender tasty delightful love nearly hull less kernels tiny size popped product good enjoy watching movies even curling reading good book end \n",
      "Original summary:  to die for \n",
      "Predicted summary:   best popcorn\n"
     ]
    }
   ],
   "execution_count": 70
  },
  {
   "metadata": {},
   "cell_type": "markdown",
   "source": "# GRU Seq2Seq With Attention and BiDirectional Encoder",
   "id": "3ae753c2dd5543db"
  },
  {
   "metadata": {
    "ExecuteTime": {
     "end_time": "2025-05-30T13:09:42.216786Z",
     "start_time": "2025-05-30T13:09:42.110223Z"
    }
   },
   "cell_type": "code",
   "source": [
    "epochs = 10\n",
    "embedding_dim = 400\n",
    "hidden_dim = 512\n",
    "enc_layers = 1\n",
    "dec_layers = 1\n",
    "enc_vocab_size = x_voc_size\n",
    "dec_vocab_size = y_voc_size\n",
    "\n",
    "device = torch.device('cuda' if torch.cuda.is_available() else 'cpu')\n",
    "model = GRUSeq2Seq(embedding_dim, hidden_dim, enc_layers, dec_layers, enc_vocab_size, dec_vocab_size, attention=True, encoder_modes='sum').to(device)\n",
    "optimizer = torch.optim.Adam(model.parameters(), lr=1e-3)\n",
    "criterion = torch.nn.CrossEntropyLoss(ignore_index=0)"
   ],
   "id": "4989afbae177e93d",
   "outputs": [],
   "execution_count": 71
  },
  {
   "metadata": {
    "ExecuteTime": {
     "end_time": "2025-05-30T13:24:48.039700Z",
     "start_time": "2025-05-30T13:09:43.931071Z"
    }
   },
   "cell_type": "code",
   "source": [
    "print('GRUSeq2Seq Start Training:')\n",
    "gru_train_losses, gru_val_losses, gru_val_accs = train_and_validate(model, optimizer, criterion, train_loader,\n",
    "                                                                    val_loader, epochs, device)"
   ],
   "id": "e12071cf9df31bce",
   "outputs": [
    {
     "name": "stdout",
     "output_type": "stream",
     "text": [
      "GRUSeq2Seq Start Training:\n",
      "Epoch: 1 / 10 | Train loss: 5.755894902774266 | Val loss: 5.434788882732391 | Val acc: 0.12209857907146215\n",
      "Epoch: 2 / 10 | Train loss: 5.456667944363185 | Val loss: 5.288819283246994 | Val acc: 0.12304391292855144\n",
      "Epoch: 3 / 10 | Train loss: 5.250741938182286 | Val loss: 5.144938141107559 | Val acc: 0.12518977280706167\n",
      "Epoch: 4 / 10 | Train loss: 5.023391209329877 | Val loss: 5.017102152109146 | Val acc: 0.12629250809550285\n",
      "Epoch: 5 / 10 | Train loss: 4.791238651956831 | Val loss: 4.932515263557434 | Val acc: 0.12719179596751928\n",
      "Epoch: 6 / 10 | Train loss: 4.582245574678693 | Val loss: 4.880279511213303 | Val acc: 0.12633935594931245\n",
      "Epoch: 7 / 10 | Train loss: 4.347327055249895 | Val loss: 4.887166053056717 | Val acc: 0.12581824837252498\n",
      "Epoch: 8 / 10 | Train loss: 4.092859751837594 | Val loss: 4.941044420003891 | Val acc: 0.12385691609233618\n",
      "Epoch: 9 / 10 | Train loss: 3.8125469054494587 | Val loss: 5.017619878053665 | Val acc: 0.12027447763830423\n",
      "Epoch: 10 / 10 | Train loss: 3.5396095207759313 | Val loss: 5.145078778266907 | Val acc: 0.11832431564107537\n"
     ]
    }
   ],
   "execution_count": 72
  },
  {
   "metadata": {
    "ExecuteTime": {
     "end_time": "2025-05-30T13:25:44.013460Z",
     "start_time": "2025-05-30T13:25:43.951321Z"
    }
   },
   "cell_type": "code",
   "source": "plot_losses('GRU', gru_train_losses, gru_val_losses, epochs)",
   "id": "3652c23993a03232",
   "outputs": [
    {
     "data": {
      "text/plain": [
       "<Figure size 640x480 with 1 Axes>"
      ],
      "image/png": "[encoded data removed]"
     },
     "metadata": {},
     "output_type": "display_data"
    }
   ],
   "execution_count": 73
  },
  {
   "metadata": {
    "ExecuteTime": {
     "end_time": "2025-05-30T13:25:50.670146Z",
     "start_time": "2025-05-30T13:25:50.635201Z"
    }
   },
   "cell_type": "code",
   "source": [
    "for i in range(len(x_val)):\n",
    "    print('Review: ', seq2text(x_val[i]))\n",
    "    print('Original summary: ', seq2summary(y_val[i]))\n",
    "    print('Predicted summary: ', decode_sequence(x_val[i].reshape(1, max_len_text), model))\n",
    "    break"
   ],
   "id": "cc6596772041c66f",
   "outputs": [
    {
     "name": "stdout",
     "output_type": "stream",
     "text": [
      "Review:  start family loves popcorn amish country popcorn wonderful tender tasty delightful love nearly hull less kernels tiny size popped product good enjoy watching movies even curling reading good book end \n",
      "Original summary:  to die for \n",
      "Predicted summary:   great popcorn popcorn\n"
     ]
    }
   ],
   "execution_count": 74
  },
  {
   "metadata": {},
   "cell_type": "markdown",
   "source": "# Transformer",
   "id": "10a0f33e59ac6195"
  },
  {
   "metadata": {
    "ExecuteTime": {
     "end_time": "2025-05-30T13:26:09.706271Z",
     "start_time": "2025-05-30T13:26:09.702255Z"
    }
   },
   "cell_type": "code",
   "source": [
    "def decode_sequence(input_seq, model_):\n",
    "    model_.eval()\n",
    "    with torch.no_grad():\n",
    "        input_seq = torch.IntTensor(input_seq).to(device)\n",
    "        target_seq = torch.zeros((1,1), dtype=torch.int64).to(device)\n",
    "        target_seq[0] = target_word_index['start']\n",
    "    \n",
    "        stop_condition = False\n",
    "        decoded_sentence = ''\n",
    "        while not stop_condition:\n",
    "            trg_mask = Utils.make_combined_mask(target_seq)\n",
    "            prediction = model_(input_seq, target_seq, look_ahead_mask=trg_mask)\n",
    "            print(prediction.argmax(dim=-1))\n",
    "            prediction_index = prediction[:, -1:, :].argmax(dim=-1)[0].item()\n",
    "            predicted_word = reverse_target_word_index[prediction_index]\n",
    "    \n",
    "            if predicted_word != 'end':\n",
    "                decoded_sentence += ' ' + predicted_word\n",
    "    \n",
    "            if predicted_word == 'end' or len(decoded_sentence.split()) >= max_len_summary - 1:\n",
    "                stop_condition = True\n",
    "    \n",
    "            target_seq = torch.zeros((1, 1), dtype=torch.int64).to(device)\n",
    "            target_seq[0] = prediction_index\n",
    "    \n",
    "        return decoded_sentence"
   ],
   "id": "7860854fb848c768",
   "outputs": [],
   "execution_count": 76
  },
  {
   "metadata": {
    "ExecuteTime": {
     "end_time": "2025-05-30T13:26:14.024822Z",
     "start_time": "2025-05-30T13:26:13.408411Z"
    }
   },
   "cell_type": "code",
   "source": [
    "epochs = 10\n",
    "embedding_dim = 400\n",
    "hidden_dim = 512\n",
    "enc_layers = 1\n",
    "dec_layers = 1\n",
    "enc_vocab_size = x_voc_size\n",
    "dec_vocab_size = y_voc_size\n",
    "\n",
    "device = torch.device('cuda' if torch.cuda.is_available() else 'cpu')\n",
    "model = Transformer(enc_vocab_size=enc_vocab_size, \n",
    "                    dec_vocab_size=dec_vocab_size, \n",
    "                    enc_len_seq=max_len_text, \n",
    "                    dec_len_seq=max_len_summary - 1, \n",
    "                    embedding_dim=embedding_dim, \n",
    "                    enc_depth=enc_layers, \n",
    "                    dec_depth=dec_layers).to(device)\n",
    "optimizer = torch.optim.Adam(model.parameters(), lr=1e-3)\n",
    "criterion = torch.nn.CrossEntropyLoss(ignore_index=0)"
   ],
   "id": "5fa67915eeba471f",
   "outputs": [],
   "execution_count": 77
  },
  {
   "metadata": {
    "ExecuteTime": {
     "end_time": "2025-05-30T13:29:02.075934Z",
     "start_time": "2025-05-30T13:26:16.245599Z"
    }
   },
   "cell_type": "code",
   "source": [
    "print('Transformer Start Training:')\n",
    "transformer_train_losses, transformer_val_losses, transformer_val_accs = train_and_validate(model, optimizer, criterion, train_loader,\n",
    "                                                                    val_loader, epochs, device, model_type='transformer')"
   ],
   "id": "9cdb497f9f8e2179",
   "outputs": [
    {
     "name": "stdout",
     "output_type": "stream",
     "text": [
      "Transformer Start Training:\n",
      "Epoch: 1 / 10 | Train loss: 1.9015001943017251 | Val loss: 0.2962221234075485 | Val acc: 0.4798351473385288\n",
      "Epoch: 2 / 10 | Train loss: 0.2203443624761417 | Val loss: 0.08754551119261211 | Val acc: 0.49305963083620996\n",
      "Epoch: 3 / 10 | Train loss: 0.018063836671659454 | Val loss: 0.05755095161317337 | Val acc: 0.49445589655830013\n",
      "Epoch: 4 / 10 | Train loss: 0.001850357044156293 | Val loss: 0.04624995777022935 | Val acc: 0.4950070285028027\n",
      "Epoch: 5 / 10 | Train loss: 0.0007819181811432329 | Val loss: 0.03856654370564126 | Val acc: 0.4955617179793696\n",
      "Epoch: 6 / 10 | Train loss: 0.0004846401133489272 | Val loss: 0.035475239946296616 | Val acc: 0.49567906894991476\n",
      "Epoch: 7 / 10 | Train loss: 0.00030929976693355385 | Val loss: 0.03318026637838733 | Val acc: 0.495899774855183\n",
      "Epoch: 8 / 10 | Train loss: 0.00022309875708592544 | Val loss: 0.03130969702596626 | Val acc: 0.4959789442439233\n",
      "Epoch: 9 / 10 | Train loss: 0.0001652685107269928 | Val loss: 0.029612029504571712 | Val acc: 0.49597715610458004\n",
      "Epoch: 10 / 10 | Train loss: 0.0001237497886558585 | Val loss: 0.027987698416015314 | Val acc: 0.49595501634382433\n"
     ]
    }
   ],
   "execution_count": 78
  },
  {
   "metadata": {
    "ExecuteTime": {
     "end_time": "2025-05-30T13:29:06.093359Z",
     "start_time": "2025-05-30T13:29:06.033988Z"
    }
   },
   "cell_type": "code",
   "source": "plot_losses('Transformer', transformer_train_losses, transformer_val_losses, epochs)",
   "id": "613cd063e1d8b3",
   "outputs": [
    {
     "data": {
      "text/plain": [
       "<Figure size 640x480 with 1 Axes>"
      ],
      "image/png": "[encoded data removed]"
     },
     "metadata": {},
     "output_type": "display_data"
    }
   ],
   "execution_count": 79
  },
  {
   "metadata": {
    "ExecuteTime": {
     "end_time": "2025-05-30T13:29:10.076970Z",
     "start_time": "2025-05-30T13:29:10.071579Z"
    }
   },
   "cell_type": "code",
   "source": [
    "for i in range(len(x_val)):\n",
    "    print('Review: ', seq2text(x_val[i]))\n",
    "    print('Original summary: ', seq2summary(y_val[i]))\n",
    "    print('Predicted summary: ', decode_sequence(x_val[i].reshape(1, max_len_text), model))\n",
    "    print('\\n')\n",
    "    if i == 0:\n",
    "        break"
   ],
   "id": "6d6d87d6e8d83302",
   "outputs": [
    {
     "name": "stdout",
     "output_type": "stream",
     "text": [
      "Review:  start family loves popcorn amish country popcorn wonderful tender tasty delightful love nearly hull less kernels tiny size popped product good enjoy watching movies even curling reading good book end \n",
      "Original summary:  to die for \n",
      "tensor([[   1,    1,    1,    1,    1,    1, 4745, 5525,    2]],\n",
      "       device='cuda:0')\n",
      "Predicted summary:  \n",
      "\n",
      "\n"
     ]
    }
   ],
   "execution_count": 80
  },
  {
   "metadata": {
    "ExecuteTime": {
     "end_time": "2025-05-30T13:29:31.644900Z",
     "start_time": "2025-05-30T13:29:31.641953Z"
    }
   },
   "cell_type": "code",
   "source": "reverse_target_word_index[4745], reverse_target_word_index[5525]",
   "id": "9a6ab1ab53db8d64",
   "outputs": [
    {
     "data": {
      "text/plain": [
       "('candycane', 'satay')"
      ]
     },
     "execution_count": 81,
     "metadata": {},
     "output_type": "execute_result"
    }
   ],
   "execution_count": 81
  },
  {
   "metadata": {},
   "cell_type": "code",
   "outputs": [],
   "execution_count": null,
   "source": "",
   "id": "8b1611360744b616"
  }
 ],
 "metadata": {
  "kernelspec": {
   "display_name": "Python 3",
   "language": "python",
   "name": "python3"
  },
  "language_info": {
   "codemirror_mode": {
    "name": "ipython",
    "version": 2
   },
   "file_extension": ".py",
   "mimetype": "text/x-python",
   "name": "python",
   "nbconvert_exporter": "python",
   "pygments_lexer": "ipython2",
   "version": "2.7.6"
  }
 },
 "nbformat": 4,
 "nbformat_minor": 5
}
