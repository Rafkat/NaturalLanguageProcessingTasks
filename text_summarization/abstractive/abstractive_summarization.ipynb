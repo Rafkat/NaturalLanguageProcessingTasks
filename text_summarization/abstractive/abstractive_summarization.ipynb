{
 "cells": [
  {
   "cell_type": "code",
   "id": "initial_id",
   "metadata": {
    "collapsed": true,
    "ExecuteTime": {
     "end_time": "2025-06-04T20:17:06.335097Z",
     "start_time": "2025-06-04T20:17:03.199905Z"
    }
   },
   "source": [
    "import re\n",
    "import warnings\n",
    "\n",
    "import matplotlib.pyplot as plt\n",
    "import numpy as np\n",
    "import pandas as pd\n",
    "import torch\n",
    "from bs4 import BeautifulSoup\n",
    "from nltk.corpus import stopwords\n",
    "from sklearn.model_selection import train_test_split\n",
    "from tensorflow.keras.preprocessing.sequence import pad_sequences\n",
    "from tensorflow.keras.preprocessing.text import Tokenizer\n",
    "from torch.utils.data import DataLoader, TensorDataset\n",
    "\n",
    "from models.seq2seq_models.gru_seq2seq import GRUSeq2Seq\n",
    "from models.seq2seq_models.lstm_seq2seq import LSTMSeq2Seq\n",
    "from models.seq2seq_models.rnn_seq2seq import RNNSeq2Seq\n",
    "from models.seq2seq_models.transformer import Transformer, Utils\n",
    "\n",
    "pd.set_option('display.max_colwidth', 200)\n",
    "warnings.filterwarnings('ignore')"
   ],
   "outputs": [
    {
     "name": "stderr",
     "output_type": "stream",
     "text": [
      "2025-06-04 23:17:04.868375: I tensorflow/core/util/port.cc:153] oneDNN custom operations are on. You may see slightly different numerical results due to floating-point round-off errors from different computation orders. To turn them off, set the environment variable `TF_ENABLE_ONEDNN_OPTS=0`.\n",
      "2025-06-04 23:17:05.039759: E external/local_xla/xla/stream_executor/cuda/cuda_fft.cc:467] Unable to register cuFFT factory: Attempting to register factory for plugin cuFFT when one has already been registered\n",
      "WARNING: All log messages before absl::InitializeLog() is called are written to STDERR\n",
      "E0000 00:00:1749068225.101862   20114 cuda_dnn.cc:8579] Unable to register cuDNN factory: Attempting to register factory for plugin cuDNN when one has already been registered\n",
      "E0000 00:00:1749068225.122303   20114 cuda_blas.cc:1407] Unable to register cuBLAS factory: Attempting to register factory for plugin cuBLAS when one has already been registered\n",
      "W0000 00:00:1749068225.264823   20114 computation_placer.cc:177] computation placer already registered. Please check linkage and avoid linking the same target more than once.\n",
      "W0000 00:00:1749068225.264858   20114 computation_placer.cc:177] computation placer already registered. Please check linkage and avoid linking the same target more than once.\n",
      "W0000 00:00:1749068225.264865   20114 computation_placer.cc:177] computation placer already registered. Please check linkage and avoid linking the same target more than once.\n",
      "W0000 00:00:1749068225.264868   20114 computation_placer.cc:177] computation placer already registered. Please check linkage and avoid linking the same target more than once.\n",
      "2025-06-04 23:17:05.285640: I tensorflow/core/platform/cpu_feature_guard.cc:210] This TensorFlow binary is optimized to use available CPU instructions in performance-critical operations.\n",
      "To enable the following instructions: AVX2 AVX_VNNI FMA, in other operations, rebuild TensorFlow with the appropriate compiler flags.\n"
     ]
    }
   ],
   "execution_count": 1
  },
  {
   "metadata": {
    "ExecuteTime": {
     "end_time": "2025-06-04T20:17:08.487604Z",
     "start_time": "2025-06-04T20:17:06.336383Z"
    }
   },
   "cell_type": "code",
   "source": "data = pd.read_excel('Inshorts Cleaned Data.xlsx', engine='openpyxl')",
   "id": "90827b69b3ec5d99",
   "outputs": [],
   "execution_count": 2
  },
  {
   "metadata": {
    "ExecuteTime": {
     "end_time": "2025-06-04T20:17:08.496815Z",
     "start_time": "2025-06-04T20:17:08.488260Z"
    }
   },
   "cell_type": "code",
   "source": "data.head()",
   "id": "42dbad05fc60fd94",
   "outputs": [
    {
     "data": {
      "text/plain": [
       "                                                       Headline  \\\n",
       "0    4 ex-bank officials booked for cheating bank of ₹209 crore   \n",
       "1                Supreme Court to go paperless in 6 months: CJI   \n",
       "2  At least 3 killed, 30 injured in blast in Sylhet, Bangladesh   \n",
       "3         Why has Reliance been barred from trading in futures?   \n",
       "4   Was stopped from entering my own studio at Times Now: Arnab   \n",
       "\n",
       "                                                                                                                                                                                                     Short  \\\n",
       "0  The CBI on Saturday booked four former officials of Syndicate Bank and six others for cheating, forgery, criminal conspiracy and causing ₹209 crore loss to the state-run bank. The accused had avai...   \n",
       "1  Chief Justice JS Khehar has said the Supreme Court will go paperless in six to seven months in a bid to save funds and make the judiciary eco-friendly. He further said the apex court will collect ...   \n",
       "2  At least three people were killed, including a policeman, while 30 others were wounded on Saturday evening in two explosions in Sylhet, Bangladesh. The explosions were targetted at people and poli...   \n",
       "3  Mukesh Ambani-led Reliance Industries (RIL) was barred from trading in futures market for a year over stake sale in Reliance Petroleum (RPL). In 2007, RIL sold 4.1% stake in RPL, but shares were f...   \n",
       "4  TV news anchor Arnab Goswami has said he was told he could not do the programme two days before leaving Times Now. &#34;18th November was my last day, I was not allowed to enter my own studio,&#34...   \n",
       "\n",
       "                  Source      Time  Publish Date  \n",
       "0  The New Indian Express  09:25:00   2017-03-26  \n",
       "1                 Outlook  22:18:00   2017-03-25  \n",
       "2         Hindustan Times  23:39:00   2017-03-25  \n",
       "3                Livemint  23:08:00   2017-03-25  \n",
       "4                 YouTube  23:24:00   2017-03-25  "
      ],
      "text/html": [
       "<div>\n",
       "<style scoped>\n",
       "    .dataframe tbody tr th:only-of-type {\n",
       "        vertical-align: middle;\n",
       "    }\n",
       "\n",
       "    .dataframe tbody tr th {\n",
       "        vertical-align: top;\n",
       "    }\n",
       "\n",
       "    .dataframe thead th {\n",
       "        text-align: right;\n",
       "    }\n",
       "</style>\n",
       "<table border=\"1\" class=\"dataframe\">\n",
       "  <thead>\n",
       "    <tr style=\"text-align: right;\">\n",
       "      <th></th>\n",
       "      <th>Headline</th>\n",
       "      <th>Short</th>\n",
       "      <th>Source</th>\n",
       "      <th>Time</th>\n",
       "      <th>Publish Date</th>\n",
       "    </tr>\n",
       "  </thead>\n",
       "  <tbody>\n",
       "    <tr>\n",
       "      <th>0</th>\n",
       "      <td>4 ex-bank officials booked for cheating bank of ₹209 crore</td>\n",
       "      <td>The CBI on Saturday booked four former officials of Syndicate Bank and six others for cheating, forgery, criminal conspiracy and causing ₹209 crore loss to the state-run bank. The accused had avai...</td>\n",
       "      <td>The New Indian Express</td>\n",
       "      <td>09:25:00</td>\n",
       "      <td>2017-03-26</td>\n",
       "    </tr>\n",
       "    <tr>\n",
       "      <th>1</th>\n",
       "      <td>Supreme Court to go paperless in 6 months: CJI</td>\n",
       "      <td>Chief Justice JS Khehar has said the Supreme Court will go paperless in six to seven months in a bid to save funds and make the judiciary eco-friendly. He further said the apex court will collect ...</td>\n",
       "      <td>Outlook</td>\n",
       "      <td>22:18:00</td>\n",
       "      <td>2017-03-25</td>\n",
       "    </tr>\n",
       "    <tr>\n",
       "      <th>2</th>\n",
       "      <td>At least 3 killed, 30 injured in blast in Sylhet, Bangladesh</td>\n",
       "      <td>At least three people were killed, including a policeman, while 30 others were wounded on Saturday evening in two explosions in Sylhet, Bangladesh. The explosions were targetted at people and poli...</td>\n",
       "      <td>Hindustan Times</td>\n",
       "      <td>23:39:00</td>\n",
       "      <td>2017-03-25</td>\n",
       "    </tr>\n",
       "    <tr>\n",
       "      <th>3</th>\n",
       "      <td>Why has Reliance been barred from trading in futures?</td>\n",
       "      <td>Mukesh Ambani-led Reliance Industries (RIL) was barred from trading in futures market for a year over stake sale in Reliance Petroleum (RPL). In 2007, RIL sold 4.1% stake in RPL, but shares were f...</td>\n",
       "      <td>Livemint</td>\n",
       "      <td>23:08:00</td>\n",
       "      <td>2017-03-25</td>\n",
       "    </tr>\n",
       "    <tr>\n",
       "      <th>4</th>\n",
       "      <td>Was stopped from entering my own studio at Times Now: Arnab</td>\n",
       "      <td>TV news anchor Arnab Goswami has said he was told he could not do the programme two days before leaving Times Now. &amp;#34;18th November was my last day, I was not allowed to enter my own studio,&amp;#34...</td>\n",
       "      <td>YouTube</td>\n",
       "      <td>23:24:00</td>\n",
       "      <td>2017-03-25</td>\n",
       "    </tr>\n",
       "  </tbody>\n",
       "</table>\n",
       "</div>"
      ]
     },
     "execution_count": 3,
     "metadata": {},
     "output_type": "execute_result"
    }
   ],
   "execution_count": 3
  },
  {
   "metadata": {
    "ExecuteTime": {
     "end_time": "2025-06-04T20:17:08.501194Z",
     "start_time": "2025-06-04T20:17:08.497524Z"
    }
   },
   "cell_type": "code",
   "source": [
    "data.drop(['Source ', 'Time ', 'Publish Date'], axis=1, inplace=True)\n",
    "data.head()"
   ],
   "id": "bc31ce9eaf2fc185",
   "outputs": [
    {
     "data": {
      "text/plain": [
       "                                                       Headline  \\\n",
       "0    4 ex-bank officials booked for cheating bank of ₹209 crore   \n",
       "1                Supreme Court to go paperless in 6 months: CJI   \n",
       "2  At least 3 killed, 30 injured in blast in Sylhet, Bangladesh   \n",
       "3         Why has Reliance been barred from trading in futures?   \n",
       "4   Was stopped from entering my own studio at Times Now: Arnab   \n",
       "\n",
       "                                                                                                                                                                                                     Short  \n",
       "0  The CBI on Saturday booked four former officials of Syndicate Bank and six others for cheating, forgery, criminal conspiracy and causing ₹209 crore loss to the state-run bank. The accused had avai...  \n",
       "1  Chief Justice JS Khehar has said the Supreme Court will go paperless in six to seven months in a bid to save funds and make the judiciary eco-friendly. He further said the apex court will collect ...  \n",
       "2  At least three people were killed, including a policeman, while 30 others were wounded on Saturday evening in two explosions in Sylhet, Bangladesh. The explosions were targetted at people and poli...  \n",
       "3  Mukesh Ambani-led Reliance Industries (RIL) was barred from trading in futures market for a year over stake sale in Reliance Petroleum (RPL). In 2007, RIL sold 4.1% stake in RPL, but shares were f...  \n",
       "4  TV news anchor Arnab Goswami has said he was told he could not do the programme two days before leaving Times Now. &#34;18th November was my last day, I was not allowed to enter my own studio,&#34...  "
      ],
      "text/html": [
       "<div>\n",
       "<style scoped>\n",
       "    .dataframe tbody tr th:only-of-type {\n",
       "        vertical-align: middle;\n",
       "    }\n",
       "\n",
       "    .dataframe tbody tr th {\n",
       "        vertical-align: top;\n",
       "    }\n",
       "\n",
       "    .dataframe thead th {\n",
       "        text-align: right;\n",
       "    }\n",
       "</style>\n",
       "<table border=\"1\" class=\"dataframe\">\n",
       "  <thead>\n",
       "    <tr style=\"text-align: right;\">\n",
       "      <th></th>\n",
       "      <th>Headline</th>\n",
       "      <th>Short</th>\n",
       "    </tr>\n",
       "  </thead>\n",
       "  <tbody>\n",
       "    <tr>\n",
       "      <th>0</th>\n",
       "      <td>4 ex-bank officials booked for cheating bank of ₹209 crore</td>\n",
       "      <td>The CBI on Saturday booked four former officials of Syndicate Bank and six others for cheating, forgery, criminal conspiracy and causing ₹209 crore loss to the state-run bank. The accused had avai...</td>\n",
       "    </tr>\n",
       "    <tr>\n",
       "      <th>1</th>\n",
       "      <td>Supreme Court to go paperless in 6 months: CJI</td>\n",
       "      <td>Chief Justice JS Khehar has said the Supreme Court will go paperless in six to seven months in a bid to save funds and make the judiciary eco-friendly. He further said the apex court will collect ...</td>\n",
       "    </tr>\n",
       "    <tr>\n",
       "      <th>2</th>\n",
       "      <td>At least 3 killed, 30 injured in blast in Sylhet, Bangladesh</td>\n",
       "      <td>At least three people were killed, including a policeman, while 30 others were wounded on Saturday evening in two explosions in Sylhet, Bangladesh. The explosions were targetted at people and poli...</td>\n",
       "    </tr>\n",
       "    <tr>\n",
       "      <th>3</th>\n",
       "      <td>Why has Reliance been barred from trading in futures?</td>\n",
       "      <td>Mukesh Ambani-led Reliance Industries (RIL) was barred from trading in futures market for a year over stake sale in Reliance Petroleum (RPL). In 2007, RIL sold 4.1% stake in RPL, but shares were f...</td>\n",
       "    </tr>\n",
       "    <tr>\n",
       "      <th>4</th>\n",
       "      <td>Was stopped from entering my own studio at Times Now: Arnab</td>\n",
       "      <td>TV news anchor Arnab Goswami has said he was told he could not do the programme two days before leaving Times Now. &amp;#34;18th November was my last day, I was not allowed to enter my own studio,&amp;#34...</td>\n",
       "    </tr>\n",
       "  </tbody>\n",
       "</table>\n",
       "</div>"
      ]
     },
     "execution_count": 4,
     "metadata": {},
     "output_type": "execute_result"
    }
   ],
   "execution_count": 4
  },
  {
   "metadata": {
    "ExecuteTime": {
     "end_time": "2025-06-04T20:17:08.505623Z",
     "start_time": "2025-06-04T20:17:08.501870Z"
    }
   },
   "cell_type": "code",
   "source": [
    "contraction_mapping = {\"ain't\": \"is not\", \"aren't\": \"are not\", \"can't\": \"cannot\", \"'cause\": \"because\",\n",
    "                       \"could've\": \"could have\", \"couldn't\": \"could not\", \"didn't\": \"did not\", \"doesn't\": \"does not\",\n",
    "                       \"don't\": \"do not\", \"hadn't\": \"had not\", \"hasn't\": \"has not\", \"haven't\": \"have not\",\n",
    "                       \"he'd\": \"he would\", \"he'll\": \"he will\", \"he's\": \"he is\", \"how'd\": \"how did\",\n",
    "                       \"how'd'y\": \"how do you\", \"how'll\": \"how will\", \"how's\": \"how is\", \"I'd\": \"I would\",\n",
    "                       \"I'd've\": \"I would have\", \"I'll\": \"I will\", \"I'll've\": \"I will have\", \"I'm\": \"I am\",\n",
    "                       \"I've\": \"I have\", \"i'd\": \"i would\", \"i'd've\": \"i would have\", \"i'll\": \"i will\",\n",
    "                       \"i'll've\": \"i will have\", \"i'm\": \"i am\", \"i've\": \"i have\", \"isn't\": \"is not\", \"it'd\": \"it would\",\n",
    "                       \"it'd've\": \"it would have\", \"it'll\": \"it will\", \"it'll've\": \"it will have\", \"it's\": \"it is\",\n",
    "                       \"let's\": \"let us\", \"ma'am\": \"madam\", \"mayn't\": \"may not\", \"might've\": \"might have\",\n",
    "                       \"mightn't\": \"might not\", \"mightn't've\": \"might not have\", \"must've\": \"must have\",\n",
    "                       \"mustn't\": \"must not\", \"mustn't've\": \"must not have\", \"needn't\": \"need not\",\n",
    "                       \"needn't've\": \"need not have\", \"o'clock\": \"of the clock\", \"oughtn't\": \"ought not\",\n",
    "                       \"oughtn't've\": \"ought not have\", \"shan't\": \"shall not\", \"sha'n't\": \"shall not\",\n",
    "                       \"shan't've\": \"shall not have\", \"she'd\": \"she would\", \"she'd've\": \"she would have\",\n",
    "                       \"she'll\": \"she will\", \"she'll've\": \"she will have\", \"she's\": \"she is\",\n",
    "                       \"should've\": \"should have\", \"shouldn't\": \"should not\", \"shouldn't've\": \"should not have\",\n",
    "                       \"so've\": \"so have\", \"so's\": \"so as\", \"this's\": \"this is\", \"that'd\": \"that would\",\n",
    "                       \"that'd've\": \"that would have\", \"that's\": \"that is\", \"there'd\": \"there would\",\n",
    "                       \"there'd've\": \"there would have\", \"there's\": \"there is\", \"here's\": \"here is\",\n",
    "                       \"they'd\": \"they would\", \"they'd've\": \"they would have\", \"they'll\": \"they will\",\n",
    "                       \"they'll've\": \"they will have\", \"they're\": \"they are\", \"they've\": \"they have\",\n",
    "                       \"to've\": \"to have\", \"wasn't\": \"was not\", \"we'd\": \"we would\", \"we'd've\": \"we would have\",\n",
    "                       \"we'll\": \"we will\", \"we'll've\": \"we will have\", \"we're\": \"we are\", \"we've\": \"we have\",\n",
    "                       \"weren't\": \"were not\", \"what'll\": \"what will\", \"what'll've\": \"what will have\",\n",
    "                       \"what're\": \"what are\", \"what's\": \"what is\", \"what've\": \"what have\", \"when's\": \"when is\",\n",
    "                       \"when've\": \"when have\", \"where'd\": \"where did\", \"where's\": \"where is\", \"where've\": \"where have\",\n",
    "                       \"who'll\": \"who will\", \"who'll've\": \"who will have\", \"who's\": \"who is\", \"who've\": \"who have\",\n",
    "                       \"why's\": \"why is\", \"why've\": \"why have\", \"will've\": \"will have\", \"won't\": \"will not\",\n",
    "                       \"won't've\": \"will not have\", \"would've\": \"would have\", \"wouldn't\": \"would not\",\n",
    "                       \"wouldn't've\": \"would not have\", \"y'all\": \"you all\", \"y'all'd\": \"you all would\",\n",
    "                       \"y'all'd've\": \"you all would have\", \"y'all're\": \"you all are\", \"y'all've\": \"you all have\",\n",
    "                       \"you'd\": \"you would\", \"you'd've\": \"you would have\", \"you'll\": \"you will\",\n",
    "                       \"you'll've\": \"you will have\", \"you're\": \"you are\", \"you've\": \"you have\"}"
   ],
   "id": "78fa1a164db531d4",
   "outputs": [],
   "execution_count": 5
  },
  {
   "metadata": {
    "ExecuteTime": {
     "end_time": "2025-06-04T20:17:12.798747Z",
     "start_time": "2025-06-04T20:17:08.506051Z"
    }
   },
   "cell_type": "code",
   "source": [
    "stop_words = set(stopwords.words('english'))\n",
    "\n",
    "\n",
    "def text_cleaner(text):\n",
    "    new_string = text.lower()\n",
    "    new_string = BeautifulSoup(new_string, 'lxml').text\n",
    "    new_string = re.sub(r'\\([^)]*\\)', '', new_string)\n",
    "    new_string = re.sub('\"', '', new_string)\n",
    "    new_string = ' '.join([contraction_mapping[t] if t in contraction_mapping else t for t in new_string.split(\" \")])\n",
    "    new_string = re.sub(r\"'s\\b\", \"\", new_string)\n",
    "    new_string = re.sub(\"[^a-zA-Z]\", \" \", new_string)\n",
    "    tokens = [w for w in new_string.split() if not w in stop_words]\n",
    "    long_words = []\n",
    "    for i in tokens:\n",
    "        if len(i) >= 3:\n",
    "            long_words.append(i)\n",
    "    return (\" \".join(long_words)).strip()\n",
    "\n",
    "\n",
    "cleaned_text = []\n",
    "for t in data['Short']:\n",
    "    cleaned_text.append(text_cleaner(t))"
   ],
   "id": "36bae2526c2f6a7b",
   "outputs": [],
   "execution_count": 6
  },
  {
   "metadata": {
    "ExecuteTime": {
     "end_time": "2025-06-04T20:17:12.802042Z",
     "start_time": "2025-06-04T20:17:12.799353Z"
    }
   },
   "cell_type": "code",
   "source": "data['Headline'][:10]",
   "id": "2e26031d0c789365",
   "outputs": [
    {
     "data": {
      "text/plain": [
       "0      4 ex-bank officials booked for cheating bank of ₹209 crore\n",
       "1                  Supreme Court to go paperless in 6 months: CJI\n",
       "2    At least 3 killed, 30 injured in blast in Sylhet, Bangladesh\n",
       "3           Why has Reliance been barred from trading in futures?\n",
       "4     Was stopped from entering my own studio at Times Now: Arnab\n",
       "5                New trailer of &#39;Justice League&#39; released\n",
       "6     His touch was not right: Shilpa Shinde on sexual harassment\n",
       "7      Anti-Romeo squads must not trouble consenting youths: Yogi\n",
       "8        Both Romeo and Juliet are welcome in Delhi: AAP Minister\n",
       "9         30 blasts occur at ordnance factory in MP,  20 injured \n",
       "Name: Headline, dtype: object"
      ]
     },
     "execution_count": 7,
     "metadata": {},
     "output_type": "execute_result"
    }
   ],
   "execution_count": 7
  },
  {
   "metadata": {
    "ExecuteTime": {
     "end_time": "2025-06-04T20:17:13.006100Z",
     "start_time": "2025-06-04T20:17:12.802445Z"
    }
   },
   "cell_type": "code",
   "source": [
    "def summary_cleaner(text):\n",
    "    new_string = re.sub('\"', '', text)\n",
    "    new_string = ' '.join([contraction_mapping[t] if t in contraction_mapping else t for t in new_string.split(\" \")])\n",
    "    new_string = re.sub(r\"'s\\b\", \"\", new_string)\n",
    "    new_string = re.sub(\"[^a-zA-Z]\", \" \", new_string)\n",
    "    new_string = new_string.lower()\n",
    "    tokens = new_string.split()\n",
    "    new_string = ''\n",
    "    for i in tokens:\n",
    "        if len(i) > 1:\n",
    "            new_string = new_string + i + ' '\n",
    "    return new_string\n",
    "\n",
    "\n",
    "cleaned_summary = []\n",
    "for t in data['Headline']:\n",
    "    cleaned_summary.append(summary_cleaner(t))"
   ],
   "id": "c932edfcad16ef7d",
   "outputs": [],
   "execution_count": 8
  },
  {
   "metadata": {
    "ExecuteTime": {
     "end_time": "2025-06-04T20:17:13.023772Z",
     "start_time": "2025-06-04T20:17:13.006885Z"
    }
   },
   "cell_type": "code",
   "source": [
    "data['cleaned_text'] = cleaned_text\n",
    "data['cleaned_summary'] = cleaned_summary\n",
    "data['cleaned_summary'].replace('', np.nan, inplace=True)\n",
    "data.dropna(axis=0, inplace=True)"
   ],
   "id": "a3ac67be35813ae",
   "outputs": [],
   "execution_count": 9
  },
  {
   "metadata": {
    "ExecuteTime": {
     "end_time": "2025-06-04T20:17:13.043141Z",
     "start_time": "2025-06-04T20:17:13.024795Z"
    }
   },
   "cell_type": "code",
   "source": [
    "data['cleaned_summary'] = data['cleaned_summary'].apply(lambda x: '_START_ ' + x + '_END_')\n",
    "data['cleaned_text'] = data['cleaned_text'].apply(lambda x: '_START_ ' + x + ' _END_')"
   ],
   "id": "86520e2e775d5a0b",
   "outputs": [],
   "execution_count": 10
  },
  {
   "metadata": {
    "ExecuteTime": {
     "end_time": "2025-06-04T20:17:13.046226Z",
     "start_time": "2025-06-04T20:17:13.043673Z"
    }
   },
   "cell_type": "code",
   "source": "len(data['cleaned_text']), len(data['cleaned_summary'])",
   "id": "a6ff94450b7e5fc6",
   "outputs": [
    {
     "data": {
      "text/plain": [
       "(55101, 55101)"
      ]
     },
     "execution_count": 11,
     "metadata": {},
     "output_type": "execute_result"
    }
   ],
   "execution_count": 11
  },
  {
   "metadata": {
    "ExecuteTime": {
     "end_time": "2025-06-04T20:17:13.050785Z",
     "start_time": "2025-06-04T20:17:13.046710Z"
    }
   },
   "cell_type": "code",
   "source": [
    "for i in range(5):\n",
    "    print('Review: ', data['cleaned_text'][i])\n",
    "    print('Summary: ', data['cleaned_summary'][i])\n",
    "    print('\\n')"
   ],
   "id": "177d7dbae4f9a3e5",
   "outputs": [
    {
     "name": "stdout",
     "output_type": "stream",
     "text": [
      "Review:  _START_ cbi saturday booked four former officials syndicate bank six others cheating forgery criminal conspiracy causing crore loss state run bank accused availed home loans credit syndicate bank basis forged fabricated documents funds fraudulently transferred companies owned accused persons _END_\n",
      "Summary:  _START_ ex bank officials booked for cheating bank of crore _END_\n",
      "\n",
      "\n",
      "Review:  _START_ chief justice khehar said supreme court paperless six seven months bid save funds make judiciary eco friendly said apex court collect records electronically lower courts high courts need file hard copies _END_\n",
      "Summary:  _START_ supreme court to go paperless in months cji _END_\n",
      "\n",
      "\n",
      "Review:  _START_ least three people killed including policeman others wounded saturday evening two explosions sylhet bangladesh explosions targetted people police officials witnessing hour long gunfight extremists commandos earlier friday man blown front checkpoint near dhaka airport _END_\n",
      "Summary:  _START_ at least killed injured in blast in sylhet bangladesh _END_\n",
      "\n",
      "\n",
      "Review:  _START_ mukesh ambani led reliance industries barred trading futures market year stake sale reliance petroleum ril sold stake rpl shares first short sold futures market avoid fall rpl stocks short sale means selling shares plans buy back later lower prices _END_\n",
      "Summary:  _START_ why has reliance been barred from trading in futures _END_\n",
      "\n",
      "\n",
      "Review:  _START_ news anchor arnab goswami said told could programme two days leaving times november last day allowed enter studio goswami added build institution allowed enter studio feel sad journalist said _END_\n",
      "Summary:  _START_ was stopped from entering my own studio at times now arnab _END_\n",
      "\n",
      "\n"
     ]
    }
   ],
   "execution_count": 12
  },
  {
   "metadata": {
    "ExecuteTime": {
     "end_time": "2025-06-04T20:17:13.061026Z",
     "start_time": "2025-06-04T20:17:13.051196Z"
    }
   },
   "cell_type": "code",
   "source": "data = data.reset_index()",
   "id": "dcf9e8ed60d16766",
   "outputs": [],
   "execution_count": 13
  },
  {
   "metadata": {
    "ExecuteTime": {
     "end_time": "2025-06-04T20:17:13.066096Z",
     "start_time": "2025-06-04T20:17:13.061550Z"
    }
   },
   "cell_type": "code",
   "source": "data",
   "id": "5877bfda36375c08",
   "outputs": [
    {
     "data": {
      "text/plain": [
       "       index                                                      Headline  \\\n",
       "0          0    4 ex-bank officials booked for cheating bank of ₹209 crore   \n",
       "1          1                Supreme Court to go paperless in 6 months: CJI   \n",
       "2          2  At least 3 killed, 30 injured in blast in Sylhet, Bangladesh   \n",
       "3          3         Why has Reliance been barred from trading in futures?   \n",
       "4          4   Was stopped from entering my own studio at Times Now: Arnab   \n",
       "...      ...                                                           ...   \n",
       "55096  55099                    Sensex loses 400 points to hit 52-week low   \n",
       "55097  55100                 China to inject $91 bn into the money markets   \n",
       "55098  55101              Ghulam Ali set to make acting debut in Bollywood   \n",
       "55099  55102                  IS acknowledges death of Jihadi John: Report   \n",
       "55100  55103                   Cairn to seek $600 mn from India in damages   \n",
       "\n",
       "                                                                                                                                                                                                         Short  \\\n",
       "0      The CBI on Saturday booked four former officials of Syndicate Bank and six others for cheating, forgery, criminal conspiracy and causing ₹209 crore loss to the state-run bank. The accused had avai...   \n",
       "1      Chief Justice JS Khehar has said the Supreme Court will go paperless in six to seven months in a bid to save funds and make the judiciary eco-friendly. He further said the apex court will collect ...   \n",
       "2      At least three people were killed, including a policeman, while 30 others were wounded on Saturday evening in two explosions in Sylhet, Bangladesh. The explosions were targetted at people and poli...   \n",
       "3      Mukesh Ambani-led Reliance Industries (RIL) was barred from trading in futures market for a year over stake sale in Reliance Petroleum (RPL). In 2007, RIL sold 4.1% stake in RPL, but shares were f...   \n",
       "4      TV news anchor Arnab Goswami has said he was told he could not do the programme two days before leaving Times Now. &#34;18th November was my last day, I was not allowed to enter my own studio,&#34...   \n",
       "...                                                                                                                                                                                                        ...   \n",
       "55096  Tracking weak cues from the Asian markets, the benchmark Sensex on Wednesday slipped by around 400 points during early trade to hit a 52-week low of 24101.50. Meanwhile, the broader Nifty tanked b...   \n",
       "55097  Amid growing concerns about China&#39;s economic growth rate, the country&#39;s central bank, the People&#39;s Bank of China, said on Tuesday it would inject over $91.22 billion into the money mar...   \n",
       "55098  Pakistani Ghazal singer Ghulam Ali will soon make his acting debut in Bollywood with the film &#39;Ghar Wapsi&#39;, directed by Suhaib Ilyasi. The singer, who was in Delhi on Tuesday to dub for th...   \n",
       "55099  The Islamic State (IS) has acknowledged the death of &#39;Jihadi John&#39;, the British masked-militant appearing in videos depicting the beheadings of Western hostages, the SITE intelligence grou...   \n",
       "55100  UK-based oil firm Cairn Energy on Tuesday said that it will seek over $600 million (around ₹4,000 crore) from the Indian government for losses it incurred owing to the ₹10,247 crore tax demand lev...   \n",
       "\n",
       "                                                                                                                                                                                                  cleaned_text  \\\n",
       "0      _START_ cbi saturday booked four former officials syndicate bank six others cheating forgery criminal conspiracy causing crore loss state run bank accused availed home loans credit syndicate bank ...   \n",
       "1      _START_ chief justice khehar said supreme court paperless six seven months bid save funds make judiciary eco friendly said apex court collect records electronically lower courts high courts need f...   \n",
       "2      _START_ least three people killed including policeman others wounded saturday evening two explosions sylhet bangladesh explosions targetted people police officials witnessing hour long gunfight ex...   \n",
       "3      _START_ mukesh ambani led reliance industries barred trading futures market year stake sale reliance petroleum ril sold stake rpl shares first short sold futures market avoid fall rpl stocks short...   \n",
       "4      _START_ news anchor arnab goswami said told could programme two days leaving times november last day allowed enter studio goswami added build institution allowed enter studio feel sad journalist s...   \n",
       "...                                                                                                                                                                                                        ...   \n",
       "55096  _START_ tracking weak cues asian markets benchmark sensex wednesday slipped around points early trade hit week low meanwhile broader nifty tanked points lowest level since june rupee tumbled paise...   \n",
       "55097  _START_ amid growing concerns china economic growth rate country central bank people bank china said tuesday would inject billion money markets comes china reported weakest economic growth years c...   \n",
       "55098  _START_ pakistani ghazal singer ghulam ali soon make acting debut bollywood film ghar wapsi directed suhaib ilyasi singer delhi tuesday dub film said keep three four days actor guess singing easy ...   \n",
       "55099  _START_ islamic state acknowledged death jihadi john british masked militant appearing videos depicting beheadings western hostages site intelligence group reported tuesday published eulogy englis...   \n",
       "55100  _START_ based oil firm cairn energy tuesday said seek million indian government losses incurred owing crore tax demand levied income tax department company added initiated arbitration challenging ...   \n",
       "\n",
       "                                                                cleaned_summary  \n",
       "0             _START_ ex bank officials booked for cheating bank of crore _END_  \n",
       "1                     _START_ supreme court to go paperless in months cji _END_  \n",
       "2           _START_ at least killed injured in blast in sylhet bangladesh _END_  \n",
       "3            _START_ why has reliance been barred from trading in futures _END_  \n",
       "4      _START_ was stopped from entering my own studio at times now arnab _END_  \n",
       "...                                                                         ...  \n",
       "55096                         _START_ sensex loses points to hit week low _END_  \n",
       "55097                   _START_ china to inject bn into the money markets _END_  \n",
       "55098            _START_ ghulam ali set to make acting debut in bollywood _END_  \n",
       "55099                 _START_ is acknowledges death of jihadi john report _END_  \n",
       "55100                      _START_ cairn to seek mn from india in damages _END_  \n",
       "\n",
       "[55101 rows x 5 columns]"
      ],
      "text/html": [
       "<div>\n",
       "<style scoped>\n",
       "    .dataframe tbody tr th:only-of-type {\n",
       "        vertical-align: middle;\n",
       "    }\n",
       "\n",
       "    .dataframe tbody tr th {\n",
       "        vertical-align: top;\n",
       "    }\n",
       "\n",
       "    .dataframe thead th {\n",
       "        text-align: right;\n",
       "    }\n",
       "</style>\n",
       "<table border=\"1\" class=\"dataframe\">\n",
       "  <thead>\n",
       "    <tr style=\"text-align: right;\">\n",
       "      <th></th>\n",
       "      <th>index</th>\n",
       "      <th>Headline</th>\n",
       "      <th>Short</th>\n",
       "      <th>cleaned_text</th>\n",
       "      <th>cleaned_summary</th>\n",
       "    </tr>\n",
       "  </thead>\n",
       "  <tbody>\n",
       "    <tr>\n",
       "      <th>0</th>\n",
       "      <td>0</td>\n",
       "      <td>4 ex-bank officials booked for cheating bank of ₹209 crore</td>\n",
       "      <td>The CBI on Saturday booked four former officials of Syndicate Bank and six others for cheating, forgery, criminal conspiracy and causing ₹209 crore loss to the state-run bank. The accused had avai...</td>\n",
       "      <td>_START_ cbi saturday booked four former officials syndicate bank six others cheating forgery criminal conspiracy causing crore loss state run bank accused availed home loans credit syndicate bank ...</td>\n",
       "      <td>_START_ ex bank officials booked for cheating bank of crore _END_</td>\n",
       "    </tr>\n",
       "    <tr>\n",
       "      <th>1</th>\n",
       "      <td>1</td>\n",
       "      <td>Supreme Court to go paperless in 6 months: CJI</td>\n",
       "      <td>Chief Justice JS Khehar has said the Supreme Court will go paperless in six to seven months in a bid to save funds and make the judiciary eco-friendly. He further said the apex court will collect ...</td>\n",
       "      <td>_START_ chief justice khehar said supreme court paperless six seven months bid save funds make judiciary eco friendly said apex court collect records electronically lower courts high courts need f...</td>\n",
       "      <td>_START_ supreme court to go paperless in months cji _END_</td>\n",
       "    </tr>\n",
       "    <tr>\n",
       "      <th>2</th>\n",
       "      <td>2</td>\n",
       "      <td>At least 3 killed, 30 injured in blast in Sylhet, Bangladesh</td>\n",
       "      <td>At least three people were killed, including a policeman, while 30 others were wounded on Saturday evening in two explosions in Sylhet, Bangladesh. The explosions were targetted at people and poli...</td>\n",
       "      <td>_START_ least three people killed including policeman others wounded saturday evening two explosions sylhet bangladesh explosions targetted people police officials witnessing hour long gunfight ex...</td>\n",
       "      <td>_START_ at least killed injured in blast in sylhet bangladesh _END_</td>\n",
       "    </tr>\n",
       "    <tr>\n",
       "      <th>3</th>\n",
       "      <td>3</td>\n",
       "      <td>Why has Reliance been barred from trading in futures?</td>\n",
       "      <td>Mukesh Ambani-led Reliance Industries (RIL) was barred from trading in futures market for a year over stake sale in Reliance Petroleum (RPL). In 2007, RIL sold 4.1% stake in RPL, but shares were f...</td>\n",
       "      <td>_START_ mukesh ambani led reliance industries barred trading futures market year stake sale reliance petroleum ril sold stake rpl shares first short sold futures market avoid fall rpl stocks short...</td>\n",
       "      <td>_START_ why has reliance been barred from trading in futures _END_</td>\n",
       "    </tr>\n",
       "    <tr>\n",
       "      <th>4</th>\n",
       "      <td>4</td>\n",
       "      <td>Was stopped from entering my own studio at Times Now: Arnab</td>\n",
       "      <td>TV news anchor Arnab Goswami has said he was told he could not do the programme two days before leaving Times Now. &amp;#34;18th November was my last day, I was not allowed to enter my own studio,&amp;#34...</td>\n",
       "      <td>_START_ news anchor arnab goswami said told could programme two days leaving times november last day allowed enter studio goswami added build institution allowed enter studio feel sad journalist s...</td>\n",
       "      <td>_START_ was stopped from entering my own studio at times now arnab _END_</td>\n",
       "    </tr>\n",
       "    <tr>\n",
       "      <th>...</th>\n",
       "      <td>...</td>\n",
       "      <td>...</td>\n",
       "      <td>...</td>\n",
       "      <td>...</td>\n",
       "      <td>...</td>\n",
       "    </tr>\n",
       "    <tr>\n",
       "      <th>55096</th>\n",
       "      <td>55099</td>\n",
       "      <td>Sensex loses 400 points to hit 52-week low</td>\n",
       "      <td>Tracking weak cues from the Asian markets, the benchmark Sensex on Wednesday slipped by around 400 points during early trade to hit a 52-week low of 24101.50. Meanwhile, the broader Nifty tanked b...</td>\n",
       "      <td>_START_ tracking weak cues asian markets benchmark sensex wednesday slipped around points early trade hit week low meanwhile broader nifty tanked points lowest level since june rupee tumbled paise...</td>\n",
       "      <td>_START_ sensex loses points to hit week low _END_</td>\n",
       "    </tr>\n",
       "    <tr>\n",
       "      <th>55097</th>\n",
       "      <td>55100</td>\n",
       "      <td>China to inject $91 bn into the money markets</td>\n",
       "      <td>Amid growing concerns about China&amp;#39;s economic growth rate, the country&amp;#39;s central bank, the People&amp;#39;s Bank of China, said on Tuesday it would inject over $91.22 billion into the money mar...</td>\n",
       "      <td>_START_ amid growing concerns china economic growth rate country central bank people bank china said tuesday would inject billion money markets comes china reported weakest economic growth years c...</td>\n",
       "      <td>_START_ china to inject bn into the money markets _END_</td>\n",
       "    </tr>\n",
       "    <tr>\n",
       "      <th>55098</th>\n",
       "      <td>55101</td>\n",
       "      <td>Ghulam Ali set to make acting debut in Bollywood</td>\n",
       "      <td>Pakistani Ghazal singer Ghulam Ali will soon make his acting debut in Bollywood with the film &amp;#39;Ghar Wapsi&amp;#39;, directed by Suhaib Ilyasi. The singer, who was in Delhi on Tuesday to dub for th...</td>\n",
       "      <td>_START_ pakistani ghazal singer ghulam ali soon make acting debut bollywood film ghar wapsi directed suhaib ilyasi singer delhi tuesday dub film said keep three four days actor guess singing easy ...</td>\n",
       "      <td>_START_ ghulam ali set to make acting debut in bollywood _END_</td>\n",
       "    </tr>\n",
       "    <tr>\n",
       "      <th>55099</th>\n",
       "      <td>55102</td>\n",
       "      <td>IS acknowledges death of Jihadi John: Report</td>\n",
       "      <td>The Islamic State (IS) has acknowledged the death of &amp;#39;Jihadi John&amp;#39;, the British masked-militant appearing in videos depicting the beheadings of Western hostages, the SITE intelligence grou...</td>\n",
       "      <td>_START_ islamic state acknowledged death jihadi john british masked militant appearing videos depicting beheadings western hostages site intelligence group reported tuesday published eulogy englis...</td>\n",
       "      <td>_START_ is acknowledges death of jihadi john report _END_</td>\n",
       "    </tr>\n",
       "    <tr>\n",
       "      <th>55100</th>\n",
       "      <td>55103</td>\n",
       "      <td>Cairn to seek $600 mn from India in damages</td>\n",
       "      <td>UK-based oil firm Cairn Energy on Tuesday said that it will seek over $600 million (around ₹4,000 crore) from the Indian government for losses it incurred owing to the ₹10,247 crore tax demand lev...</td>\n",
       "      <td>_START_ based oil firm cairn energy tuesday said seek million indian government losses incurred owing crore tax demand levied income tax department company added initiated arbitration challenging ...</td>\n",
       "      <td>_START_ cairn to seek mn from india in damages _END_</td>\n",
       "    </tr>\n",
       "  </tbody>\n",
       "</table>\n",
       "<p>55101 rows × 5 columns</p>\n",
       "</div>"
      ]
     },
     "execution_count": 14,
     "metadata": {},
     "output_type": "execute_result"
    }
   ],
   "execution_count": 14
  },
  {
   "metadata": {
    "ExecuteTime": {
     "end_time": "2025-06-04T20:17:13.243016Z",
     "start_time": "2025-06-04T20:17:13.066549Z"
    }
   },
   "cell_type": "code",
   "source": [
    "text_word_count = []\n",
    "summary_word_count = []\n",
    "\n",
    "for i in data['cleaned_text']:\n",
    "    text_word_count.append(len(i.split()))\n",
    "\n",
    "for i in data['cleaned_summary']:\n",
    "    summary_word_count.append(len(i.split()))\n",
    "\n",
    "length_df = pd.DataFrame({'Text': text_word_count, 'Summary': summary_word_count})\n",
    "length_df.hist(bins=30)\n",
    "plt.show()"
   ],
   "id": "82a65e393e8e8aa0",
   "outputs": [
    {
     "data": {
      "text/plain": [
       "<Figure size 640x480 with 2 Axes>"
      ],
      "image/png": "[encoded data removed]"
     },
     "metadata": {},
     "output_type": "display_data"
    }
   ],
   "execution_count": 15
  },
  {
   "metadata": {
    "ExecuteTime": {
     "end_time": "2025-06-04T20:17:13.250158Z",
     "start_time": "2025-06-04T20:17:13.243875Z"
    }
   },
   "cell_type": "code",
   "source": [
    "text_word_count = np.array(text_word_count)\n",
    "summary_word_count = np.array(summary_word_count)\n",
    "print(f'Text | Mean: {text_word_count.mean()} | Std: {text_word_count.std()} | Min: {text_word_count.min()} | Max: {text_word_count.max()}')\n",
    "print(f'Summary | Mean: {summary_word_count.mean()} | Std: {summary_word_count.std()} | Min: {summary_word_count.min()} | Max: {summary_word_count.max()}')"
   ],
   "id": "71017688bf693c1a",
   "outputs": [
    {
     "name": "stdout",
     "output_type": "stream",
     "text": [
      "Text | Mean: 36.758026170123955 | Std: 3.5999541317316677 | Min: 19 | Max: 53\n",
      "Summary | Mean: 9.980581114680314 | Std: 1.4477413777575552 | Min: 5 | Max: 16\n"
     ]
    }
   ],
   "execution_count": 16
  },
  {
   "metadata": {
    "ExecuteTime": {
     "end_time": "2025-06-04T20:17:13.254053Z",
     "start_time": "2025-06-04T20:17:13.250770Z"
    }
   },
   "cell_type": "code",
   "source": [
    "max_len_text = 50\n",
    "max_len_summary = 10"
   ],
   "id": "1bfcb70f17841dfb",
   "outputs": [],
   "execution_count": 17
  },
  {
   "metadata": {
    "ExecuteTime": {
     "end_time": "2025-06-04T20:17:13.263329Z",
     "start_time": "2025-06-04T20:17:13.254618Z"
    }
   },
   "cell_type": "code",
   "source": "data[['cleaned_text', 'cleaned_summary']]",
   "id": "5021eaa023b650a",
   "outputs": [
    {
     "data": {
      "text/plain": [
       "                                                                                                                                                                                                  cleaned_text  \\\n",
       "0      _START_ cbi saturday booked four former officials syndicate bank six others cheating forgery criminal conspiracy causing crore loss state run bank accused availed home loans credit syndicate bank ...   \n",
       "1      _START_ chief justice khehar said supreme court paperless six seven months bid save funds make judiciary eco friendly said apex court collect records electronically lower courts high courts need f...   \n",
       "2      _START_ least three people killed including policeman others wounded saturday evening two explosions sylhet bangladesh explosions targetted people police officials witnessing hour long gunfight ex...   \n",
       "3      _START_ mukesh ambani led reliance industries barred trading futures market year stake sale reliance petroleum ril sold stake rpl shares first short sold futures market avoid fall rpl stocks short...   \n",
       "4      _START_ news anchor arnab goswami said told could programme two days leaving times november last day allowed enter studio goswami added build institution allowed enter studio feel sad journalist s...   \n",
       "...                                                                                                                                                                                                        ...   \n",
       "55096  _START_ tracking weak cues asian markets benchmark sensex wednesday slipped around points early trade hit week low meanwhile broader nifty tanked points lowest level since june rupee tumbled paise...   \n",
       "55097  _START_ amid growing concerns china economic growth rate country central bank people bank china said tuesday would inject billion money markets comes china reported weakest economic growth years c...   \n",
       "55098  _START_ pakistani ghazal singer ghulam ali soon make acting debut bollywood film ghar wapsi directed suhaib ilyasi singer delhi tuesday dub film said keep three four days actor guess singing easy ...   \n",
       "55099  _START_ islamic state acknowledged death jihadi john british masked militant appearing videos depicting beheadings western hostages site intelligence group reported tuesday published eulogy englis...   \n",
       "55100  _START_ based oil firm cairn energy tuesday said seek million indian government losses incurred owing crore tax demand levied income tax department company added initiated arbitration challenging ...   \n",
       "\n",
       "                                                                cleaned_summary  \n",
       "0             _START_ ex bank officials booked for cheating bank of crore _END_  \n",
       "1                     _START_ supreme court to go paperless in months cji _END_  \n",
       "2           _START_ at least killed injured in blast in sylhet bangladesh _END_  \n",
       "3            _START_ why has reliance been barred from trading in futures _END_  \n",
       "4      _START_ was stopped from entering my own studio at times now arnab _END_  \n",
       "...                                                                         ...  \n",
       "55096                         _START_ sensex loses points to hit week low _END_  \n",
       "55097                   _START_ china to inject bn into the money markets _END_  \n",
       "55098            _START_ ghulam ali set to make acting debut in bollywood _END_  \n",
       "55099                 _START_ is acknowledges death of jihadi john report _END_  \n",
       "55100                      _START_ cairn to seek mn from india in damages _END_  \n",
       "\n",
       "[55101 rows x 2 columns]"
      ],
      "text/html": [
       "<div>\n",
       "<style scoped>\n",
       "    .dataframe tbody tr th:only-of-type {\n",
       "        vertical-align: middle;\n",
       "    }\n",
       "\n",
       "    .dataframe tbody tr th {\n",
       "        vertical-align: top;\n",
       "    }\n",
       "\n",
       "    .dataframe thead th {\n",
       "        text-align: right;\n",
       "    }\n",
       "</style>\n",
       "<table border=\"1\" class=\"dataframe\">\n",
       "  <thead>\n",
       "    <tr style=\"text-align: right;\">\n",
       "      <th></th>\n",
       "      <th>cleaned_text</th>\n",
       "      <th>cleaned_summary</th>\n",
       "    </tr>\n",
       "  </thead>\n",
       "  <tbody>\n",
       "    <tr>\n",
       "      <th>0</th>\n",
       "      <td>_START_ cbi saturday booked four former officials syndicate bank six others cheating forgery criminal conspiracy causing crore loss state run bank accused availed home loans credit syndicate bank ...</td>\n",
       "      <td>_START_ ex bank officials booked for cheating bank of crore _END_</td>\n",
       "    </tr>\n",
       "    <tr>\n",
       "      <th>1</th>\n",
       "      <td>_START_ chief justice khehar said supreme court paperless six seven months bid save funds make judiciary eco friendly said apex court collect records electronically lower courts high courts need f...</td>\n",
       "      <td>_START_ supreme court to go paperless in months cji _END_</td>\n",
       "    </tr>\n",
       "    <tr>\n",
       "      <th>2</th>\n",
       "      <td>_START_ least three people killed including policeman others wounded saturday evening two explosions sylhet bangladesh explosions targetted people police officials witnessing hour long gunfight ex...</td>\n",
       "      <td>_START_ at least killed injured in blast in sylhet bangladesh _END_</td>\n",
       "    </tr>\n",
       "    <tr>\n",
       "      <th>3</th>\n",
       "      <td>_START_ mukesh ambani led reliance industries barred trading futures market year stake sale reliance petroleum ril sold stake rpl shares first short sold futures market avoid fall rpl stocks short...</td>\n",
       "      <td>_START_ why has reliance been barred from trading in futures _END_</td>\n",
       "    </tr>\n",
       "    <tr>\n",
       "      <th>4</th>\n",
       "      <td>_START_ news anchor arnab goswami said told could programme two days leaving times november last day allowed enter studio goswami added build institution allowed enter studio feel sad journalist s...</td>\n",
       "      <td>_START_ was stopped from entering my own studio at times now arnab _END_</td>\n",
       "    </tr>\n",
       "    <tr>\n",
       "      <th>...</th>\n",
       "      <td>...</td>\n",
       "      <td>...</td>\n",
       "    </tr>\n",
       "    <tr>\n",
       "      <th>55096</th>\n",
       "      <td>_START_ tracking weak cues asian markets benchmark sensex wednesday slipped around points early trade hit week low meanwhile broader nifty tanked points lowest level since june rupee tumbled paise...</td>\n",
       "      <td>_START_ sensex loses points to hit week low _END_</td>\n",
       "    </tr>\n",
       "    <tr>\n",
       "      <th>55097</th>\n",
       "      <td>_START_ amid growing concerns china economic growth rate country central bank people bank china said tuesday would inject billion money markets comes china reported weakest economic growth years c...</td>\n",
       "      <td>_START_ china to inject bn into the money markets _END_</td>\n",
       "    </tr>\n",
       "    <tr>\n",
       "      <th>55098</th>\n",
       "      <td>_START_ pakistani ghazal singer ghulam ali soon make acting debut bollywood film ghar wapsi directed suhaib ilyasi singer delhi tuesday dub film said keep three four days actor guess singing easy ...</td>\n",
       "      <td>_START_ ghulam ali set to make acting debut in bollywood _END_</td>\n",
       "    </tr>\n",
       "    <tr>\n",
       "      <th>55099</th>\n",
       "      <td>_START_ islamic state acknowledged death jihadi john british masked militant appearing videos depicting beheadings western hostages site intelligence group reported tuesday published eulogy englis...</td>\n",
       "      <td>_START_ is acknowledges death of jihadi john report _END_</td>\n",
       "    </tr>\n",
       "    <tr>\n",
       "      <th>55100</th>\n",
       "      <td>_START_ based oil firm cairn energy tuesday said seek million indian government losses incurred owing crore tax demand levied income tax department company added initiated arbitration challenging ...</td>\n",
       "      <td>_START_ cairn to seek mn from india in damages _END_</td>\n",
       "    </tr>\n",
       "  </tbody>\n",
       "</table>\n",
       "<p>55101 rows × 2 columns</p>\n",
       "</div>"
      ]
     },
     "execution_count": 18,
     "metadata": {},
     "output_type": "execute_result"
    }
   ],
   "execution_count": 18
  },
  {
   "metadata": {
    "ExecuteTime": {
     "end_time": "2025-06-04T20:17:13.545842Z",
     "start_time": "2025-06-04T20:17:13.264023Z"
    }
   },
   "cell_type": "code",
   "source": [
    "reduced_data = data[data['cleaned_text'].str.split().str.len() <= max_len_text]\n",
    "reduced_data = reduced_data[reduced_data['cleaned_summary'].str.split().str.len() <= max_len_summary]\n",
    "reduced_data"
   ],
   "id": "f4e289d6e49e8454",
   "outputs": [
    {
     "data": {
      "text/plain": [
       "       index                                                    Headline  \\\n",
       "1          1              Supreme Court to go paperless in 6 months: CJI   \n",
       "5          5            New trailer of &#39;Justice League&#39; released   \n",
       "9          9     30 blasts occur at ordnance factory in MP,  20 injured    \n",
       "12        12         Thousands march in London to protest against Brexit   \n",
       "13        13  US brewer MillerCoors sues HCL Technologies for ₹650 crore   \n",
       "...      ...                                                         ...   \n",
       "55095  55098             Rupee hits 28-month low of 68.05 against Dollar   \n",
       "55096  55099                  Sensex loses 400 points to hit 52-week low   \n",
       "55097  55100               China to inject $91 bn into the money markets   \n",
       "55099  55102                IS acknowledges death of Jihadi John: Report   \n",
       "55100  55103                 Cairn to seek $600 mn from India in damages   \n",
       "\n",
       "                                                                                                                                                                                                         Short  \\\n",
       "1      Chief Justice JS Khehar has said the Supreme Court will go paperless in six to seven months in a bid to save funds and make the judiciary eco-friendly. He further said the apex court will collect ...   \n",
       "5      A new trailer for the upcoming superhero film &#39;Justice League&#39; was released on Saturday. Based on the DC Comics superhero team, the film stars Ben Affleck as &#39;Batman&#39;, Gal Gadot as...   \n",
       "9      At least 20 people were reportedly injured after over 30 blasts occurred at an ordnance factory in Madhya Pradesh&#39;s Jabalpur on Saturday evening. Nearly 50 fire tenders were rushed to the Ordn...   \n",
       "12     Thousands of people on Saturday took to the streets in London to protest against the UK&#39;s decision to leave the European Union. Demanding continuation of benefits of remaining in the EU, the p...   \n",
       "13     Indian IT major HCL Technologies is being sued by US-based brewer MillerCoors, which has alleged the former did not deliver an enterprise software project on agreed timelines. MillerCoors, which i...   \n",
       "...                                                                                                                                                                                                        ...   \n",
       "55095  The Indian rupee tumbled 30 paise to trade over 28-month low at 68.05 against the US dollar in early trade on Wednesday. Analysts attributed the fall to strong demand for the dollar from importers...   \n",
       "55096  Tracking weak cues from the Asian markets, the benchmark Sensex on Wednesday slipped by around 400 points during early trade to hit a 52-week low of 24101.50. Meanwhile, the broader Nifty tanked b...   \n",
       "55097  Amid growing concerns about China&#39;s economic growth rate, the country&#39;s central bank, the People&#39;s Bank of China, said on Tuesday it would inject over $91.22 billion into the money mar...   \n",
       "55099  The Islamic State (IS) has acknowledged the death of &#39;Jihadi John&#39;, the British masked-militant appearing in videos depicting the beheadings of Western hostages, the SITE intelligence grou...   \n",
       "55100  UK-based oil firm Cairn Energy on Tuesday said that it will seek over $600 million (around ₹4,000 crore) from the Indian government for losses it incurred owing to the ₹10,247 crore tax demand lev...   \n",
       "\n",
       "                                                                                                                                                                                                  cleaned_text  \\\n",
       "1      _START_ chief justice khehar said supreme court paperless six seven months bid save funds make judiciary eco friendly said apex court collect records electronically lower courts high courts need f...   \n",
       "5      _START_ new trailer upcoming superhero film justice league released saturday based comics superhero team film stars ben affleck batman gal gadot wonder woman ezra miller flash jason momoa aquaman ...   \n",
       "9      _START_ least people reportedly injured blasts occurred ordnance factory madhya pradesh jabalpur saturday evening nearly fire tenders rushed ordnance factory khamaria rescue trapped victims access...   \n",
       "12     _START_ thousands people saturday took streets london protest decision leave european union demanding continuation benefits remaining protesters said voted remain referendum brexit process initiat...   \n",
       "13     _START_ indian major hcl technologies sued based brewer millercoors alleged former deliver enterprise software project agreed timelines millercoors client company sued hcl tech million according r...   \n",
       "...                                                                                                                                                                                                        ...   \n",
       "55095  _START_ indian rupee tumbled paise trade month low dollar early trade wednesday analysts attributed fall strong demand dollar importers banks amid lower opening domestic equity market rupee hit re...   \n",
       "55096  _START_ tracking weak cues asian markets benchmark sensex wednesday slipped around points early trade hit week low meanwhile broader nifty tanked points lowest level since june rupee tumbled paise...   \n",
       "55097  _START_ amid growing concerns china economic growth rate country central bank people bank china said tuesday would inject billion money markets comes china reported weakest economic growth years c...   \n",
       "55099  _START_ islamic state acknowledged death jihadi john british masked militant appearing videos depicting beheadings western hostages site intelligence group reported tuesday published eulogy englis...   \n",
       "55100  _START_ based oil firm cairn energy tuesday said seek million indian government losses incurred owing crore tax demand levied income tax department company added initiated arbitration challenging ...   \n",
       "\n",
       "                                                           cleaned_summary  \n",
       "1                _START_ supreme court to go paperless in months cji _END_  \n",
       "5                     _START_ new trailer of justice league released _END_  \n",
       "9             _START_ blasts occur at ordnance factory in mp injured _END_  \n",
       "12       _START_ thousands march in london to protest against brexit _END_  \n",
       "13     _START_ us brewer millercoors sues hcl technologies for crore _END_  \n",
       "...                                                                    ...  \n",
       "55095                 _START_ rupee hits month low of against dollar _END_  \n",
       "55096                    _START_ sensex loses points to hit week low _END_  \n",
       "55097              _START_ china to inject bn into the money markets _END_  \n",
       "55099            _START_ is acknowledges death of jihadi john report _END_  \n",
       "55100                 _START_ cairn to seek mn from india in damages _END_  \n",
       "\n",
       "[35914 rows x 5 columns]"
      ],
      "text/html": [
       "<div>\n",
       "<style scoped>\n",
       "    .dataframe tbody tr th:only-of-type {\n",
       "        vertical-align: middle;\n",
       "    }\n",
       "\n",
       "    .dataframe tbody tr th {\n",
       "        vertical-align: top;\n",
       "    }\n",
       "\n",
       "    .dataframe thead th {\n",
       "        text-align: right;\n",
       "    }\n",
       "</style>\n",
       "<table border=\"1\" class=\"dataframe\">\n",
       "  <thead>\n",
       "    <tr style=\"text-align: right;\">\n",
       "      <th></th>\n",
       "      <th>index</th>\n",
       "      <th>Headline</th>\n",
       "      <th>Short</th>\n",
       "      <th>cleaned_text</th>\n",
       "      <th>cleaned_summary</th>\n",
       "    </tr>\n",
       "  </thead>\n",
       "  <tbody>\n",
       "    <tr>\n",
       "      <th>1</th>\n",
       "      <td>1</td>\n",
       "      <td>Supreme Court to go paperless in 6 months: CJI</td>\n",
       "      <td>Chief Justice JS Khehar has said the Supreme Court will go paperless in six to seven months in a bid to save funds and make the judiciary eco-friendly. He further said the apex court will collect ...</td>\n",
       "      <td>_START_ chief justice khehar said supreme court paperless six seven months bid save funds make judiciary eco friendly said apex court collect records electronically lower courts high courts need f...</td>\n",
       "      <td>_START_ supreme court to go paperless in months cji _END_</td>\n",
       "    </tr>\n",
       "    <tr>\n",
       "      <th>5</th>\n",
       "      <td>5</td>\n",
       "      <td>New trailer of &amp;#39;Justice League&amp;#39; released</td>\n",
       "      <td>A new trailer for the upcoming superhero film &amp;#39;Justice League&amp;#39; was released on Saturday. Based on the DC Comics superhero team, the film stars Ben Affleck as &amp;#39;Batman&amp;#39;, Gal Gadot as...</td>\n",
       "      <td>_START_ new trailer upcoming superhero film justice league released saturday based comics superhero team film stars ben affleck batman gal gadot wonder woman ezra miller flash jason momoa aquaman ...</td>\n",
       "      <td>_START_ new trailer of justice league released _END_</td>\n",
       "    </tr>\n",
       "    <tr>\n",
       "      <th>9</th>\n",
       "      <td>9</td>\n",
       "      <td>30 blasts occur at ordnance factory in MP,  20 injured</td>\n",
       "      <td>At least 20 people were reportedly injured after over 30 blasts occurred at an ordnance factory in Madhya Pradesh&amp;#39;s Jabalpur on Saturday evening. Nearly 50 fire tenders were rushed to the Ordn...</td>\n",
       "      <td>_START_ least people reportedly injured blasts occurred ordnance factory madhya pradesh jabalpur saturday evening nearly fire tenders rushed ordnance factory khamaria rescue trapped victims access...</td>\n",
       "      <td>_START_ blasts occur at ordnance factory in mp injured _END_</td>\n",
       "    </tr>\n",
       "    <tr>\n",
       "      <th>12</th>\n",
       "      <td>12</td>\n",
       "      <td>Thousands march in London to protest against Brexit</td>\n",
       "      <td>Thousands of people on Saturday took to the streets in London to protest against the UK&amp;#39;s decision to leave the European Union. Demanding continuation of benefits of remaining in the EU, the p...</td>\n",
       "      <td>_START_ thousands people saturday took streets london protest decision leave european union demanding continuation benefits remaining protesters said voted remain referendum brexit process initiat...</td>\n",
       "      <td>_START_ thousands march in london to protest against brexit _END_</td>\n",
       "    </tr>\n",
       "    <tr>\n",
       "      <th>13</th>\n",
       "      <td>13</td>\n",
       "      <td>US brewer MillerCoors sues HCL Technologies for ₹650 crore</td>\n",
       "      <td>Indian IT major HCL Technologies is being sued by US-based brewer MillerCoors, which has alleged the former did not deliver an enterprise software project on agreed timelines. MillerCoors, which i...</td>\n",
       "      <td>_START_ indian major hcl technologies sued based brewer millercoors alleged former deliver enterprise software project agreed timelines millercoors client company sued hcl tech million according r...</td>\n",
       "      <td>_START_ us brewer millercoors sues hcl technologies for crore _END_</td>\n",
       "    </tr>\n",
       "    <tr>\n",
       "      <th>...</th>\n",
       "      <td>...</td>\n",
       "      <td>...</td>\n",
       "      <td>...</td>\n",
       "      <td>...</td>\n",
       "      <td>...</td>\n",
       "    </tr>\n",
       "    <tr>\n",
       "      <th>55095</th>\n",
       "      <td>55098</td>\n",
       "      <td>Rupee hits 28-month low of 68.05 against Dollar</td>\n",
       "      <td>The Indian rupee tumbled 30 paise to trade over 28-month low at 68.05 against the US dollar in early trade on Wednesday. Analysts attributed the fall to strong demand for the dollar from importers...</td>\n",
       "      <td>_START_ indian rupee tumbled paise trade month low dollar early trade wednesday analysts attributed fall strong demand dollar importers banks amid lower opening domestic equity market rupee hit re...</td>\n",
       "      <td>_START_ rupee hits month low of against dollar _END_</td>\n",
       "    </tr>\n",
       "    <tr>\n",
       "      <th>55096</th>\n",
       "      <td>55099</td>\n",
       "      <td>Sensex loses 400 points to hit 52-week low</td>\n",
       "      <td>Tracking weak cues from the Asian markets, the benchmark Sensex on Wednesday slipped by around 400 points during early trade to hit a 52-week low of 24101.50. Meanwhile, the broader Nifty tanked b...</td>\n",
       "      <td>_START_ tracking weak cues asian markets benchmark sensex wednesday slipped around points early trade hit week low meanwhile broader nifty tanked points lowest level since june rupee tumbled paise...</td>\n",
       "      <td>_START_ sensex loses points to hit week low _END_</td>\n",
       "    </tr>\n",
       "    <tr>\n",
       "      <th>55097</th>\n",
       "      <td>55100</td>\n",
       "      <td>China to inject $91 bn into the money markets</td>\n",
       "      <td>Amid growing concerns about China&amp;#39;s economic growth rate, the country&amp;#39;s central bank, the People&amp;#39;s Bank of China, said on Tuesday it would inject over $91.22 billion into the money mar...</td>\n",
       "      <td>_START_ amid growing concerns china economic growth rate country central bank people bank china said tuesday would inject billion money markets comes china reported weakest economic growth years c...</td>\n",
       "      <td>_START_ china to inject bn into the money markets _END_</td>\n",
       "    </tr>\n",
       "    <tr>\n",
       "      <th>55099</th>\n",
       "      <td>55102</td>\n",
       "      <td>IS acknowledges death of Jihadi John: Report</td>\n",
       "      <td>The Islamic State (IS) has acknowledged the death of &amp;#39;Jihadi John&amp;#39;, the British masked-militant appearing in videos depicting the beheadings of Western hostages, the SITE intelligence grou...</td>\n",
       "      <td>_START_ islamic state acknowledged death jihadi john british masked militant appearing videos depicting beheadings western hostages site intelligence group reported tuesday published eulogy englis...</td>\n",
       "      <td>_START_ is acknowledges death of jihadi john report _END_</td>\n",
       "    </tr>\n",
       "    <tr>\n",
       "      <th>55100</th>\n",
       "      <td>55103</td>\n",
       "      <td>Cairn to seek $600 mn from India in damages</td>\n",
       "      <td>UK-based oil firm Cairn Energy on Tuesday said that it will seek over $600 million (around ₹4,000 crore) from the Indian government for losses it incurred owing to the ₹10,247 crore tax demand lev...</td>\n",
       "      <td>_START_ based oil firm cairn energy tuesday said seek million indian government losses incurred owing crore tax demand levied income tax department company added initiated arbitration challenging ...</td>\n",
       "      <td>_START_ cairn to seek mn from india in damages _END_</td>\n",
       "    </tr>\n",
       "  </tbody>\n",
       "</table>\n",
       "<p>35914 rows × 5 columns</p>\n",
       "</div>"
      ]
     },
     "execution_count": 19,
     "metadata": {},
     "output_type": "execute_result"
    }
   ],
   "execution_count": 19
  },
  {
   "metadata": {
    "ExecuteTime": {
     "end_time": "2025-06-04T20:17:13.549798Z",
     "start_time": "2025-06-04T20:17:13.546312Z"
    }
   },
   "cell_type": "code",
   "source": [
    "x_tr, x_val, y_tr, y_val = train_test_split(reduced_data['cleaned_text'], reduced_data['cleaned_summary'], test_size=0.1,\n",
    "                                            random_state=0, shuffle=True)"
   ],
   "id": "62fb129ee28d1a0e",
   "outputs": [],
   "execution_count": 20
  },
  {
   "metadata": {
    "ExecuteTime": {
     "end_time": "2025-06-04T20:17:13.552815Z",
     "start_time": "2025-06-04T20:17:13.550224Z"
    }
   },
   "cell_type": "code",
   "source": "x_tr.index, y_tr.index",
   "id": "472a16dd029177f5",
   "outputs": [
    {
     "data": {
      "text/plain": [
       "(Index([37511, 40431,  8101, 12071, 45548, 15338, 35207, 49635, 34618, 19040,\n",
       "        ...\n",
       "        51010, 33771, 30694, 31697, 31061, 38059, 50867, 48967, 38615,  7750],\n",
       "       dtype='int64', length=32322),\n",
       " Index([37511, 40431,  8101, 12071, 45548, 15338, 35207, 49635, 34618, 19040,\n",
       "        ...\n",
       "        51010, 33771, 30694, 31697, 31061, 38059, 50867, 48967, 38615,  7750],\n",
       "       dtype='int64', length=32322))"
      ]
     },
     "execution_count": 21,
     "metadata": {},
     "output_type": "execute_result"
    }
   ],
   "execution_count": 21
  },
  {
   "metadata": {
    "ExecuteTime": {
     "end_time": "2025-06-04T20:17:14.274586Z",
     "start_time": "2025-06-04T20:17:13.553203Z"
    }
   },
   "cell_type": "code",
   "source": [
    "x_tokenizer = Tokenizer()\n",
    "x_tokenizer.fit_on_texts(list(x_tr))\n",
    "\n",
    "x_tr = x_tokenizer.texts_to_sequences(x_tr)\n",
    "x_val = x_tokenizer.texts_to_sequences(x_val)\n",
    "\n",
    "x_tr = pad_sequences(x_tr, maxlen=max_len_text, padding='post')\n",
    "x_val = pad_sequences(x_val, maxlen=max_len_text, padding='post')\n",
    "\n",
    "x_voc_size = len(x_tokenizer.word_index) + 1"
   ],
   "id": "50719e1ebb67e767",
   "outputs": [],
   "execution_count": 22
  },
  {
   "metadata": {
    "ExecuteTime": {
     "end_time": "2025-06-04T20:17:14.580505Z",
     "start_time": "2025-06-04T20:17:14.275165Z"
    }
   },
   "cell_type": "code",
   "source": [
    "y_tokenizer = Tokenizer()\n",
    "y_tokenizer.fit_on_texts(list(y_tr))\n",
    "\n",
    "y_tr = y_tokenizer.texts_to_sequences(y_tr)\n",
    "y_val = y_tokenizer.texts_to_sequences(y_val)\n",
    "\n",
    "y_tr = pad_sequences(y_tr, maxlen=max_len_summary, padding='post')\n",
    "y_val = pad_sequences(y_val, maxlen=max_len_summary, padding='post')\n",
    "\n",
    "y_voc_size = len(y_tokenizer.word_index) + 1"
   ],
   "id": "c205701f503095df",
   "outputs": [],
   "execution_count": 23
  },
  {
   "metadata": {
    "ExecuteTime": {
     "end_time": "2025-06-04T20:17:14.583963Z",
     "start_time": "2025-06-04T20:17:14.581680Z"
    }
   },
   "cell_type": "code",
   "source": "y_tokenizer.index_word[5]",
   "id": "8def35796dc04136",
   "outputs": [
    {
     "data": {
      "text/plain": [
       "'for'"
      ]
     },
     "execution_count": 24,
     "metadata": {},
     "output_type": "execute_result"
    }
   ],
   "execution_count": 24
  },
  {
   "metadata": {
    "ExecuteTime": {
     "end_time": "2025-06-04T20:17:14.587992Z",
     "start_time": "2025-06-04T20:17:14.584484Z"
    }
   },
   "cell_type": "code",
   "source": "y_tr",
   "id": "7c987360e5638392",
   "outputs": [
    {
     "data": {
      "text/plain": [
       "array([[    2,   230,   480, ...,   663,     1,     0],\n",
       "       [    2,   239,  1551, ...,   777,     1,     0],\n",
       "       [    2,    96,  1045, ...,  1011,    69,     1],\n",
       "       ...,\n",
       "       [    2, 10618,    94, ...,     0,     0,     0],\n",
       "       [    2, 21664,   387, ...,   580,     1,     0],\n",
       "       [    2,   560,  4271, ...,     7,   823,     1]], dtype=int32)"
      ]
     },
     "execution_count": 25,
     "metadata": {},
     "output_type": "execute_result"
    }
   ],
   "execution_count": 25
  },
  {
   "metadata": {
    "ExecuteTime": {
     "end_time": "2025-06-04T20:17:14.591050Z",
     "start_time": "2025-06-04T20:17:14.588400Z"
    }
   },
   "cell_type": "code",
   "source": "y_tokenizer.index_word[1]",
   "id": "76500ff3a8d26b4",
   "outputs": [
    {
     "data": {
      "text/plain": [
       "'end'"
      ]
     },
     "execution_count": 26,
     "metadata": {},
     "output_type": "execute_result"
    }
   ],
   "execution_count": 26
  },
  {
   "metadata": {
    "ExecuteTime": {
     "end_time": "2025-06-04T20:17:14.616419Z",
     "start_time": "2025-06-04T20:17:14.591439Z"
    }
   },
   "cell_type": "code",
   "source": [
    "train_data = TensorDataset(torch.from_numpy(x_tr).long(), torch.from_numpy(y_tr).long())\n",
    "val_data = TensorDataset(torch.from_numpy(x_val).long(), torch.from_numpy(y_val).long())\n",
    "train_loader = DataLoader(train_data, batch_size=128, shuffle=True)\n",
    "val_loader = DataLoader(val_data, batch_size=128, shuffle=True)"
   ],
   "id": "7e10fe83dac2936c",
   "outputs": [],
   "execution_count": 27
  },
  {
   "metadata": {
    "ExecuteTime": {
     "end_time": "2025-06-04T20:17:14.620087Z",
     "start_time": "2025-06-04T20:17:14.618002Z"
    }
   },
   "cell_type": "code",
   "source": [
    "def accuracy(outputs, targets):\n",
    "    flattened_outputs = outputs.argmax(dim=-1).flatten()\n",
    "    flattened_targets = targets[:, 1:].flatten()\n",
    "    accuracies = flattened_outputs.eq(flattened_targets)\n",
    "    mask = torch.logical_not(flattened_outputs.eq(0))\n",
    "    accuracies = torch.logical_and(mask, accuracies)\n",
    "    return (accuracies.sum() / mask.sum()).item()"
   ],
   "id": "e370e4572a7d244d",
   "outputs": [],
   "execution_count": 28
  },
  {
   "metadata": {
    "ExecuteTime": {
     "end_time": "2025-06-04T20:17:14.625348Z",
     "start_time": "2025-06-04T20:17:14.620767Z"
    }
   },
   "cell_type": "code",
   "source": [
    "def train_and_validate(model_, optimizer_, criterion_, train_loader_, val_loader_, epochs_, device_, model_type='rnn'):\n",
    "    train_losses, val_losses, val_accs = [], [], []\n",
    "\n",
    "    for epoch in range(epochs_):\n",
    "        model_.train()\n",
    "        total_train_loss = 0\n",
    "        for (inputs, targets) in train_loader_:\n",
    "            inputs, targets = inputs.to(device_), targets.to(device_)\n",
    "            outputs = model_(inputs, targets[:, :-1])\n",
    "            loss = criterion_(outputs.flatten(start_dim=0, end_dim=1), targets[:, 1:].flatten())\n",
    "            total_train_loss += loss.item()\n",
    "            optimizer_.zero_grad()\n",
    "            loss.backward()\n",
    "            torch.nn.utils.clip_grad_norm_(model_.parameters(), 1.0)\n",
    "            optimizer_.step()\n",
    "\n",
    "        model_.eval()\n",
    "        total_val_loss = 0\n",
    "        total_val_acc = 0\n",
    "        with torch.no_grad():\n",
    "            for (inputs, targets) in val_loader_:\n",
    "                inputs, targets = inputs.to(device_), targets.to(device_)\n",
    "                if model_type == 'transformer':\n",
    "                    outputs = model_(inputs, targets[:, :-1])\n",
    "                else:\n",
    "                    outputs = model_(inputs, targets[:, :-1], 0)\n",
    "                loss = criterion_(outputs.flatten(start_dim=0, end_dim=1), targets[:, 1:].flatten())\n",
    "                total_val_loss += loss.item()\n",
    "                total_val_acc += accuracy(outputs, targets)\n",
    "\n",
    "        total_train_loss = total_train_loss / len(train_loader_)\n",
    "        total_val_loss = total_val_loss / len(val_loader_)\n",
    "        total_val_acc = total_val_acc / len(val_loader_)\n",
    "\n",
    "        train_losses.append(total_train_loss)\n",
    "        val_losses.append(total_val_loss)\n",
    "        val_accs.append(total_val_acc)\n",
    "        print(\n",
    "            f'Epoch: {epoch + 1} / {epochs_} | Train loss: {total_train_loss} | Val loss: {total_val_loss} | Val acc: {total_val_acc}')\n",
    "    return train_losses, val_losses, val_accs\n"
   ],
   "id": "1c1e654b4bac2c36",
   "outputs": [],
   "execution_count": 29
  },
  {
   "metadata": {
    "ExecuteTime": {
     "end_time": "2025-06-04T20:17:14.630326Z",
     "start_time": "2025-06-04T20:17:14.626021Z"
    }
   },
   "cell_type": "code",
   "source": [
    "def plot_losses(model_name, train_losses, val_losses, epochs):\n",
    "    plt.plot(range(1, epochs + 1), train_losses, label='Training Loss')\n",
    "    plt.plot(range(1, epochs + 1), val_losses, label='Validation Loss')\n",
    "    plt.title(f'Training and Validation Losses for {model_name}')\n",
    "    plt.xlabel('Epochs')\n",
    "    plt.ylabel('Loss')\n",
    "    plt.legend()\n",
    "    plt.show()"
   ],
   "id": "4ed82bfb9a3ea318",
   "outputs": [],
   "execution_count": 30
  },
  {
   "metadata": {
    "ExecuteTime": {
     "end_time": "2025-06-04T20:17:14.635121Z",
     "start_time": "2025-06-04T20:17:14.630807Z"
    }
   },
   "cell_type": "code",
   "source": [
    "target_word_index = y_tokenizer.word_index\n",
    "reverse_target_word_index = y_tokenizer.index_word\n",
    "reverse_source_word_index = x_tokenizer.index_word"
   ],
   "id": "630cfed146b74f02",
   "outputs": [],
   "execution_count": 31
  },
  {
   "metadata": {
    "ExecuteTime": {
     "end_time": "2025-06-04T20:17:14.639214Z",
     "start_time": "2025-06-04T20:17:14.635519Z"
    }
   },
   "cell_type": "code",
   "source": [
    "def decode_sequence(input_seq, model_, rnn_type='rnn'):\n",
    "    model_.eval()\n",
    "    with torch.no_grad():\n",
    "        if rnn_type == 'lstm':\n",
    "            enc_output, hidden, cell_state = model_.encoder(torch.IntTensor(input_seq).to(device))\n",
    "        else:\n",
    "            enc_output, hidden = model_.encoder(torch.IntTensor(input_seq).to(device))\n",
    "    \n",
    "        target_seq = torch.zeros(1, dtype=torch.int64).to(device)\n",
    "        target_seq[0] = target_word_index['start']\n",
    "    \n",
    "        stop_condition = False\n",
    "        decoded_sentence = ''\n",
    "        while not stop_condition:\n",
    "            if rnn_type == 'lstm':\n",
    "                prediction, hidden, _ = model_.decoder(target_seq, enc_output, hidden, cell_state)\n",
    "            else:\n",
    "                prediction, hidden = model_.decoder(target_seq, enc_output, hidden)\n",
    "            prediction_index = prediction.argmax(dim=-1)[0].item()\n",
    "            predicted_word = reverse_target_word_index[prediction_index]\n",
    "    \n",
    "            if predicted_word != 'end':\n",
    "                decoded_sentence += ' ' + predicted_word\n",
    "    \n",
    "            if predicted_word == 'end' or len(decoded_sentence.split()) >= max_len_summary - 1:\n",
    "                stop_condition = True\n",
    "    \n",
    "            target_seq = torch.zeros(1, dtype=torch.int64).to(device)\n",
    "            target_seq[0] = prediction_index\n",
    "    \n",
    "        return decoded_sentence\n"
   ],
   "id": "154d057e13fee1b3",
   "outputs": [],
   "execution_count": 32
  },
  {
   "metadata": {
    "ExecuteTime": {
     "end_time": "2025-06-04T20:17:14.643108Z",
     "start_time": "2025-06-04T20:17:14.639630Z"
    }
   },
   "cell_type": "code",
   "source": [
    "def seq2summary(input_seq):\n",
    "    new_string = ''\n",
    "    for i in input_seq:\n",
    "        if (i != 0 and i != target_word_index['start']) and i != target_word_index['end']:\n",
    "            new_string = new_string + reverse_target_word_index[i] + ' '\n",
    "    return new_string\n",
    "\n",
    "\n",
    "def seq2text(input_seq):\n",
    "    new_string = ''\n",
    "    for i in input_seq:\n",
    "        if i != 0:\n",
    "            new_string = new_string + reverse_source_word_index[i] + ' '\n",
    "    return new_string\n"
   ],
   "id": "520b50aa6548bd01",
   "outputs": [],
   "execution_count": 33
  },
  {
   "metadata": {},
   "cell_type": "markdown",
   "source": "# RNN Seq2Seq",
   "id": "b46f922961209f7"
  },
  {
   "metadata": {
    "ExecuteTime": {
     "end_time": "2025-06-02T14:32:48.699219Z",
     "start_time": "2025-06-02T14:32:48.161948Z"
    }
   },
   "cell_type": "code",
   "source": [
    "epochs = 10\n",
    "embedding_dim = 400\n",
    "hidden_dim = 512\n",
    "enc_layers = 1\n",
    "dec_layers = 1\n",
    "enc_vocab_size = x_voc_size\n",
    "dec_vocab_size = y_voc_size\n",
    "\n",
    "device = torch.device('cuda' if torch.cuda.is_available() else 'cpu')\n",
    "model = RNNSeq2Seq(embedding_dim, hidden_dim, enc_layers, dec_layers, enc_vocab_size, dec_vocab_size).to(device)\n",
    "optimizer = torch.optim.Adam(model.parameters(), lr=0.001)\n",
    "criterion = torch.nn.CrossEntropyLoss(ignore_index=0)"
   ],
   "id": "c90528499fdafb0a",
   "outputs": [],
   "execution_count": 34
  },
  {
   "metadata": {
    "ExecuteTime": {
     "end_time": "2025-06-02T11:46:43.941157Z",
     "start_time": "2025-06-02T11:44:23.297726Z"
    }
   },
   "cell_type": "code",
   "source": [
    "print('RNNSeq2Seq Start Training:')\n",
    "rnn_train_losses, rnn_val_losses, rnn_val_accs = train_and_validate(model, optimizer, criterion, train_loader,\n",
    "                                                                    val_loader, epochs, device)"
   ],
   "id": "bb95edf138fbf350",
   "outputs": [
    {
     "name": "stdout",
     "output_type": "stream",
     "text": [
      "RNNSeq2Seq Start Training:\n",
      "Epoch: 1 / 10 | Train loss: 7.540727577661809 | Val loss: 7.172283846756508 | Val acc: 0.12907088059803534\n",
      "Epoch: 2 / 10 | Train loss: 7.172573398695633 | Val loss: 7.165870354093355 | Val acc: 0.12574832424007612\n",
      "Epoch: 3 / 10 | Train loss: 7.0226448929828145 | Val loss: 7.222741488752694 | Val acc: 0.12613745136507626\n",
      "Epoch: 4 / 10 | Train loss: 6.871032686572772 | Val loss: 7.1694856676562075 | Val acc: 0.12380268219216116\n",
      "Epoch: 5 / 10 | Train loss: 6.736644933346232 | Val loss: 7.208010541981664 | Val acc: 0.12619731780783883\n",
      "Epoch: 6 / 10 | Train loss: 6.631843103250496 | Val loss: 7.213496602814773 | Val acc: 0.1266463126601844\n",
      "Epoch: 7 / 10 | Train loss: 6.517722110974459 | Val loss: 7.249893056935277 | Val acc: 0.12652658054540897\n",
      "Epoch: 8 / 10 | Train loss: 6.40316398153192 | Val loss: 7.315606824282942 | Val acc: 0.12628711580202498\n",
      "Epoch: 9 / 10 | Train loss: 6.304288473996249 | Val loss: 7.296719090691928 | Val acc: 0.12616738471491584\n",
      "Epoch: 10 / 10 | Train loss: 6.243122915034237 | Val loss: 7.448127039547624 | Val acc: 0.12281489475020047\n"
     ]
    }
   ],
   "execution_count": 50
  },
  {
   "metadata": {
    "ExecuteTime": {
     "end_time": "2025-06-02T11:46:45.114265Z",
     "start_time": "2025-06-02T11:46:45.060308Z"
    }
   },
   "cell_type": "code",
   "source": "plot_losses('RNN', rnn_train_losses, rnn_val_losses, epochs)",
   "id": "6f8c48e4d12473ab",
   "outputs": [
    {
     "data": {
      "text/plain": [
       "<Figure size 640x480 with 1 Axes>"
      ],
      "image/png": "[encoded data removed]"
     },
     "metadata": {},
     "output_type": "display_data"
    }
   ],
   "execution_count": 51
  },
  {
   "metadata": {
    "ExecuteTime": {
     "end_time": "2025-06-02T11:46:47.784570Z",
     "start_time": "2025-06-02T11:46:47.776050Z"
    }
   },
   "cell_type": "code",
   "source": [
    "for i in range(len(x_val)):\n",
    "    print('Review: ', seq2text(x_val[i]))\n",
    "    print('Original summary: ', seq2summary(y_val[i]))\n",
    "    print('Predicted summary: ', decode_sequence(x_val[i].reshape(1, max_len_text), model))\n",
    "    break"
   ],
   "id": "6fb4a456c0f07d76",
   "outputs": [
    {
     "name": "stdout",
     "output_type": "stream",
     "text": [
      "Review:  start alleged mumbai attack mastermind hafiz saeed friday asked pakistan military shoot american drones enter country comes first visit special representative afghanistan pakistan visit islamabad recent drone strike killed afghan taliban leader mullah akhtar mansour pakistan termed attack violation sovereignty end \n",
      "Original summary:  shoot down us drones entering pak hafiz saeed \n",
      "Predicted summary:   new to to in today\n"
     ]
    }
   ],
   "execution_count": 52
  },
  {
   "metadata": {},
   "cell_type": "markdown",
   "source": "# RNN Seq2Seq With Attention",
   "id": "a2ca518372dca0e6"
  },
  {
   "metadata": {
    "ExecuteTime": {
     "end_time": "2025-06-02T11:47:16.662806Z",
     "start_time": "2025-06-02T11:47:16.489789Z"
    }
   },
   "cell_type": "code",
   "source": [
    "epochs = 10\n",
    "embedding_dim = 400\n",
    "hidden_dim = 512\n",
    "enc_layers = 1\n",
    "dec_layers = 1\n",
    "enc_vocab_size = x_voc_size\n",
    "dec_vocab_size = y_voc_size\n",
    "\n",
    "device = torch.device('cuda' if torch.cuda.is_available() else 'cpu')\n",
    "model = RNNSeq2Seq(embedding_dim, hidden_dim, enc_layers, dec_layers, enc_vocab_size, dec_vocab_size, attention=True).to(device)\n",
    "optimizer = torch.optim.Adam(model.parameters(), lr=1e-3)\n",
    "criterion = torch.nn.CrossEntropyLoss(ignore_index=0)"
   ],
   "id": "6f6a2e6abac4fb3a",
   "outputs": [],
   "execution_count": 53
  },
  {
   "metadata": {
    "ExecuteTime": {
     "end_time": "2025-06-02T11:50:21.452513Z",
     "start_time": "2025-06-02T11:47:17.335488Z"
    }
   },
   "cell_type": "code",
   "source": [
    "print('RNNSeq2Seq Start Training:')\n",
    "rnn_train_losses, rnn_val_losses, rnn_val_accs = train_and_validate(model, optimizer, criterion, train_loader,\n",
    "                                                                    val_loader, epochs, device)"
   ],
   "id": "f1c75d0ed04e5c95",
   "outputs": [
    {
     "name": "stdout",
     "output_type": "stream",
     "text": [
      "RNNSeq2Seq Start Training:\n",
      "Epoch: 1 / 10 | Train loss: 7.494507388163933 | Val loss: 6.955622886789256 | Val acc: 0.1364343875441058\n",
      "Epoch: 2 / 10 | Train loss: 6.648131668332066 | Val loss: 6.304612554352859 | Val acc: 0.15505268065066174\n",
      "Epoch: 3 / 10 | Train loss: 5.900305693328616 | Val loss: 5.893410024971797 | Val acc: 0.1716954024701283\n",
      "Epoch: 4 / 10 | Train loss: 5.244248478780151 | Val loss: 5.718978602310707 | Val acc: 0.17660440658700877\n",
      "Epoch: 5 / 10 | Train loss: 4.658450264233374 | Val loss: 5.562301569971545 | Val acc: 0.1861230823500403\n",
      "Epoch: 6 / 10 | Train loss: 4.1059775644611465 | Val loss: 5.546663958450844 | Val acc: 0.1860033538320969\n",
      "Epoch: 7 / 10 | Train loss: 3.6088917556958706 | Val loss: 5.569789228768184 | Val acc: 0.18579382243855247\n",
      "Epoch: 8 / 10 | Train loss: 3.1678630250244746 | Val loss: 5.584276626849997 | Val acc: 0.18854765337089013\n",
      "Epoch: 9 / 10 | Train loss: 2.7947710059848228 | Val loss: 5.625422740804738 | Val acc: 0.18636254760725746\n",
      "Epoch: 10 / 10 | Train loss: 2.46899328024491 | Val loss: 5.7311660503518995 | Val acc: 0.1883979881631917\n"
     ]
    }
   ],
   "execution_count": 54
  },
  {
   "metadata": {
    "ExecuteTime": {
     "end_time": "2025-06-02T11:50:23.047357Z",
     "start_time": "2025-06-02T11:50:23.000516Z"
    }
   },
   "cell_type": "code",
   "source": "plot_losses('RNN', rnn_train_losses, rnn_val_losses, epochs)",
   "id": "4349f82da3485a90",
   "outputs": [
    {
     "data": {
      "text/plain": [
       "<Figure size 640x480 with 1 Axes>"
      ],
      "image/png": "[encoded data removed]"
     },
     "metadata": {},
     "output_type": "display_data"
    }
   ],
   "execution_count": 55
  },
  {
   "metadata": {
    "ExecuteTime": {
     "end_time": "2025-06-02T11:50:25.639184Z",
     "start_time": "2025-06-02T11:50:25.632211Z"
    }
   },
   "cell_type": "code",
   "source": [
    "for i in range(len(x_val)):\n",
    "    print('Review: ', seq2text(x_val[i]))\n",
    "    print('Original summary: ', seq2summary(y_val[i]))\n",
    "    print('Predicted summary: ', decode_sequence(x_val[i].reshape(1, max_len_text), model))\n",
    "    break"
   ],
   "id": "5c1ef96ca297dec1",
   "outputs": [
    {
     "name": "stdout",
     "output_type": "stream",
     "text": [
      "Review:  start alleged mumbai attack mastermind hafiz saeed friday asked pakistan military shoot american drones enter country comes first visit special representative afghanistan pakistan visit islamabad recent drone strike killed afghan taliban leader mullah akhtar mansour pakistan termed attack violation sovereignty end \n",
      "Original summary:  shoot down us drones entering pak hafiz saeed \n",
      "Predicted summary:   hafiz attack pak to to pak taliban\n"
     ]
    }
   ],
   "execution_count": 56
  },
  {
   "metadata": {},
   "cell_type": "markdown",
   "source": "# RNN Seq2Seq With Attention and BiDirectional Encoder",
   "id": "8ac9f100c4e533ee"
  },
  {
   "metadata": {
    "ExecuteTime": {
     "end_time": "2025-06-02T11:50:39.300353Z",
     "start_time": "2025-06-02T11:50:39.150506Z"
    }
   },
   "cell_type": "code",
   "source": [
    "epochs = 10\n",
    "embedding_dim = 400\n",
    "hidden_dim = 512\n",
    "enc_layers = 1\n",
    "dec_layers = 1\n",
    "enc_vocab_size = x_voc_size\n",
    "dec_vocab_size = y_voc_size\n",
    "\n",
    "device = torch.device('cuda' if torch.cuda.is_available() else 'cpu')\n",
    "model = RNNSeq2Seq(embedding_dim, hidden_dim, enc_layers, dec_layers, enc_vocab_size, dec_vocab_size, attention=True, encoder_modes='sum').to(device)\n",
    "optimizer = torch.optim.Adam(model.parameters(), lr=1e-3)\n",
    "criterion = torch.nn.CrossEntropyLoss(ignore_index=0)"
   ],
   "id": "ad785dafa52718c5",
   "outputs": [],
   "execution_count": 57
  },
  {
   "metadata": {
    "ExecuteTime": {
     "end_time": "2025-06-02T11:54:26.546495Z",
     "start_time": "2025-06-02T11:50:41.145154Z"
    }
   },
   "cell_type": "code",
   "source": [
    "print('RNNSeq2Seq Start Training:')\n",
    "rnn_train_losses, rnn_val_losses, rnn_val_accs = train_and_validate(model, optimizer, criterion, train_loader,\n",
    "                                                                    val_loader, epochs, device)"
   ],
   "id": "520b33f19f0d0f96",
   "outputs": [
    {
     "name": "stdout",
     "output_type": "stream",
     "text": [
      "RNNSeq2Seq Start Training:\n",
      "Epoch: 1 / 10 | Train loss: 7.3971974538720175 | Val loss: 6.7007244866469815 | Val acc: 0.14278017267070967\n",
      "Epoch: 2 / 10 | Train loss: 6.326330490263083 | Val loss: 6.009295562217975 | Val acc: 0.16579861116820369\n",
      "Epoch: 3 / 10 | Train loss: 5.476831711328077 | Val loss: 5.657729806571171 | Val acc: 0.17884937750882116\n",
      "Epoch: 4 / 10 | Train loss: 4.764341640849358 | Val loss: 5.528215342554553 | Val acc: 0.1825610630471131\n",
      "Epoch: 5 / 10 | Train loss: 4.1226377044270635 | Val loss: 5.4619349117936755 | Val acc: 0.18666187853648744\n",
      "Epoch: 6 / 10 | Train loss: 3.54751684166226 | Val loss: 5.467304903885414 | Val acc: 0.1872306029344427\n",
      "Epoch: 7 / 10 | Train loss: 3.0482352373628276 | Val loss: 5.533295730064655 | Val acc: 0.1866020118368083\n",
      "Epoch: 8 / 10 | Train loss: 2.6296944297820684 | Val loss: 5.581829843849971 | Val acc: 0.18585368888131504\n",
      "Epoch: 9 / 10 | Train loss: 2.28226829329027 | Val loss: 5.686071330103381 | Val acc: 0.1832495223859261\n",
      "Epoch: 10 / 10 | Train loss: 1.9979866116414429 | Val loss: 5.831202819429595 | Val acc: 0.17911877457437844\n"
     ]
    }
   ],
   "execution_count": 58
  },
  {
   "metadata": {
    "ExecuteTime": {
     "end_time": "2025-06-02T11:54:34.428607Z",
     "start_time": "2025-06-02T11:54:34.374230Z"
    }
   },
   "cell_type": "code",
   "source": "plot_losses('RNN', rnn_train_losses, rnn_val_losses, epochs)",
   "id": "4c97b82f8d32d589",
   "outputs": [
    {
     "data": {
      "text/plain": [
       "<Figure size 640x480 with 1 Axes>"
      ],
      "image/png": "[encoded data removed]"
     },
     "metadata": {},
     "output_type": "display_data"
    }
   ],
   "execution_count": 59
  },
  {
   "metadata": {
    "ExecuteTime": {
     "end_time": "2025-06-02T11:54:37.023304Z",
     "start_time": "2025-06-02T11:54:37.010805Z"
    }
   },
   "cell_type": "code",
   "source": [
    "for i in range(len(x_val)):\n",
    "    print('Review: ', seq2text(x_val[i]))\n",
    "    print('Original summary: ', seq2summary(y_val[i]))\n",
    "    print('Predicted summary: ', decode_sequence(x_val[i].reshape(1, max_len_text), model))\n",
    "    break"
   ],
   "id": "9ca9cf23d79e35c0",
   "outputs": [
    {
     "name": "stdout",
     "output_type": "stream",
     "text": [
      "Review:  start alleged mumbai attack mastermind hafiz saeed friday asked pakistan military shoot american drones enter country comes first visit special representative afghanistan pakistan visit islamabad recent drone strike killed afghan taliban leader mullah akhtar mansour pakistan termed attack violation sovereignty end \n",
      "Original summary:  shoot down us drones entering pak hafiz saeed \n",
      "Predicted summary:   mastermind hafiz pak to military military\n"
     ]
    }
   ],
   "execution_count": 60
  },
  {
   "metadata": {},
   "cell_type": "markdown",
   "source": "# LSTM Seq2Seq",
   "id": "e52fc3960afce4f1"
  },
  {
   "metadata": {
    "ExecuteTime": {
     "end_time": "2025-06-02T12:03:59.381381Z",
     "start_time": "2025-06-02T12:03:59.212792Z"
    }
   },
   "cell_type": "code",
   "source": [
    "epochs = 10\n",
    "embedding_dim = 400\n",
    "hidden_dim = 512\n",
    "enc_layers = 1\n",
    "dec_layers = 1\n",
    "enc_vocab_size = x_voc_size\n",
    "dec_vocab_size = y_voc_size\n",
    "\n",
    "device = torch.device('cuda' if torch.cuda.is_available() else 'cpu')\n",
    "model = LSTMSeq2Seq(embedding_dim, hidden_dim, enc_layers, dec_layers, enc_vocab_size, dec_vocab_size).to(device)\n",
    "optimizer = torch.optim.Adam(model.parameters(), lr=1e-4)\n",
    "criterion = torch.nn.CrossEntropyLoss(ignore_index=0)"
   ],
   "id": "1bbf45426daa174d",
   "outputs": [],
   "execution_count": 69
  },
  {
   "metadata": {
    "ExecuteTime": {
     "end_time": "2025-06-02T12:06:56.296719Z",
     "start_time": "2025-06-02T12:03:59.541402Z"
    }
   },
   "cell_type": "code",
   "source": [
    "print('LSTMSeq2Seq Start Training:')\n",
    "lstm_train_losses, lstm_val_losses, lstm_val_accs = train_and_validate(model, optimizer, criterion, train_loader,\n",
    "                                                                    val_loader, epochs, device)"
   ],
   "id": "34d997bf7f3f98c",
   "outputs": [
    {
     "name": "stdout",
     "output_type": "stream",
     "text": [
      "LSTMSeq2Seq Start Training:\n",
      "Epoch: 1 / 10 | Train loss: 7.9014378046329785 | Val loss: 7.089352673497693 | Val acc: 0.1298491369033682\n",
      "Epoch: 2 / 10 | Train loss: 7.133343915223133 | Val loss: 7.039538695894438 | Val acc: 0.1252394619173017\n",
      "Epoch: 3 / 10 | Train loss: 7.043170058208963 | Val loss: 7.048306646018193 | Val acc: 0.12485033581996786\n",
      "Epoch: 4 / 10 | Train loss: 6.983443060411295 | Val loss: 7.07099671199404 | Val acc: 0.12529932964464713\n",
      "Epoch: 5 / 10 | Train loss: 6.94130318343875 | Val loss: 7.049562750191524 | Val acc: 0.12646671435956297\n",
      "Epoch: 6 / 10 | Train loss: 6.894388253509763 | Val loss: 7.058244080379091 | Val acc: 0.1266163795672614\n",
      "Epoch: 7 / 10 | Train loss: 6.844134447602887 | Val loss: 7.060481466096023 | Val acc: 0.12754430056645952\n",
      "Epoch: 8 / 10 | Train loss: 6.759317371685043 | Val loss: 7.054430123033194 | Val acc: 0.1293702110134322\n",
      "Epoch: 9 / 10 | Train loss: 6.668964252170367 | Val loss: 7.041715950801454 | Val acc: 0.13008860113291904\n",
      "Epoch: 10 / 10 | Train loss: 6.544185310484393 | Val loss: 7.058739415530501 | Val acc: 0.1290409472481958\n"
     ]
    }
   ],
   "execution_count": 70
  },
  {
   "metadata": {
    "ExecuteTime": {
     "end_time": "2025-06-02T12:07:33.021182Z",
     "start_time": "2025-06-02T12:07:32.970584Z"
    }
   },
   "cell_type": "code",
   "source": "plot_losses('LSTM', lstm_train_losses, lstm_val_losses, epochs)",
   "id": "d782a80be6bb2c58",
   "outputs": [
    {
     "data": {
      "text/plain": [
       "<Figure size 640x480 with 1 Axes>"
      ],
      "image/png": "[encoded data removed]"
     },
     "metadata": {},
     "output_type": "display_data"
    }
   ],
   "execution_count": 71
  },
  {
   "metadata": {
    "ExecuteTime": {
     "end_time": "2025-06-02T12:07:35.204114Z",
     "start_time": "2025-06-02T12:07:35.180129Z"
    }
   },
   "cell_type": "code",
   "source": [
    "for i in range(len(x_val)):\n",
    "    print('Review: ', seq2text(x_val[i]))\n",
    "    print('Original summary: ', seq2summary(y_val[i]))\n",
    "    print('Predicted summary: ', decode_sequence(x_val[i].reshape(1, max_len_text), model, rnn_type='lstm'))\n",
    "    break"
   ],
   "id": "edd129fbf85095e2",
   "outputs": [
    {
     "name": "stdout",
     "output_type": "stream",
     "text": [
      "Review:  start alleged mumbai attack mastermind hafiz saeed friday asked pakistan military shoot american drones enter country comes first visit special representative afghanistan pakistan visit islamabad recent drone strike killed afghan taliban leader mullah akhtar mansour pakistan termed attack violation sovereignty end \n",
      "Original summary:  shoot down us drones entering pak hafiz saeed \n",
      "Predicted summary:   killed in in in in in in in in\n"
     ]
    }
   ],
   "execution_count": 72
  },
  {
   "metadata": {},
   "cell_type": "markdown",
   "source": "# LSTM Seq2Seq With Attention",
   "id": "ba3b261faf3fd5a0"
  },
  {
   "metadata": {
    "ExecuteTime": {
     "end_time": "2025-06-02T12:07:39.908334Z",
     "start_time": "2025-06-02T12:07:39.738671Z"
    }
   },
   "cell_type": "code",
   "source": [
    "epochs = 10\n",
    "embedding_dim = 400\n",
    "hidden_dim = 512\n",
    "enc_layers = 1\n",
    "dec_layers = 1\n",
    "enc_vocab_size = x_voc_size\n",
    "dec_vocab_size = y_voc_size\n",
    "\n",
    "device = torch.device('cuda' if torch.cuda.is_available() else 'cpu')\n",
    "model = LSTMSeq2Seq(embedding_dim, hidden_dim, enc_layers, dec_layers, enc_vocab_size, dec_vocab_size, attention=True).to(device)\n",
    "optimizer = torch.optim.Adam(model.parameters(), lr=1e-4)\n",
    "criterion = torch.nn.CrossEntropyLoss(ignore_index=0)"
   ],
   "id": "7deb4f792e5988cd",
   "outputs": [],
   "execution_count": 73
  },
  {
   "metadata": {
    "ExecuteTime": {
     "end_time": "2025-06-02T12:11:12.451193Z",
     "start_time": "2025-06-02T12:07:40.571353Z"
    }
   },
   "cell_type": "code",
   "source": [
    "print('LSTMSeq2Seq Start Training:')\n",
    "lstm_train_losses, lstm_val_losses, lstm_val_accs = train_and_validate(model, optimizer, criterion, train_loader,\n",
    "                                                                    val_loader, epochs, device)"
   ],
   "id": "c991634e8046e3e3",
   "outputs": [
    {
     "name": "stdout",
     "output_type": "stream",
     "text": [
      "LSTMSeq2Seq Start Training:\n",
      "Epoch: 1 / 10 | Train loss: 7.630385523257048 | Val loss: 7.055558566389413 | Val acc: 0.12535919557357655\n",
      "Epoch: 2 / 10 | Train loss: 7.097678872436402 | Val loss: 7.037638565589642 | Val acc: 0.12841235563672823\n",
      "Epoch: 3 / 10 | Train loss: 7.006991629543983 | Val loss: 7.013564126244907 | Val acc: 0.12574832321240983\n",
      "Epoch: 4 / 10 | Train loss: 6.9335681157621 | Val loss: 7.006678219499259 | Val acc: 0.12814295959883723\n",
      "Epoch: 5 / 10 | Train loss: 6.848794801433096 | Val loss: 6.981561134601462 | Val acc: 0.12934027714975949\n",
      "Epoch: 6 / 10 | Train loss: 6.739118095443183 | Val loss: 6.990057451971646 | Val acc: 0.1310763898594626\n",
      "Epoch: 7 / 10 | Train loss: 6.597467324479295 | Val loss: 6.973347976289946 | Val acc: 0.13107638857487974\n",
      "Epoch: 8 / 10 | Train loss: 6.433652977698405 | Val loss: 7.0077447397955535 | Val acc: 0.1306573275862069\n",
      "Epoch: 9 / 10 | Train loss: 6.257277731838905 | Val loss: 7.024489353443014 | Val acc: 0.1325730362842823\n",
      "Epoch: 10 / 10 | Train loss: 6.066408310011913 | Val loss: 7.164314861955313 | Val acc: 0.12871168707979136\n"
     ]
    }
   ],
   "execution_count": 74
  },
  {
   "metadata": {
    "ExecuteTime": {
     "end_time": "2025-06-02T12:11:24.380076Z",
     "start_time": "2025-06-02T12:11:24.324861Z"
    }
   },
   "cell_type": "code",
   "source": "plot_losses('LSTM', lstm_train_losses, lstm_val_losses, epochs)",
   "id": "5b2a0c2520b297de",
   "outputs": [
    {
     "data": {
      "text/plain": [
       "<Figure size 640x480 with 1 Axes>"
      ],
      "image/png": "[encoded data removed]"
     },
     "metadata": {},
     "output_type": "display_data"
    }
   ],
   "execution_count": 75
  },
  {
   "metadata": {
    "ExecuteTime": {
     "end_time": "2025-06-02T12:11:27.776808Z",
     "start_time": "2025-06-02T12:11:27.762137Z"
    }
   },
   "cell_type": "code",
   "source": [
    "for i in range(len(x_val)):\n",
    "    print('Review: ', seq2text(x_val[i]))\n",
    "    print('Original summary: ', seq2summary(y_val[i]))\n",
    "    print('Predicted summary: ', decode_sequence(x_val[i].reshape(1, max_len_text), model, 'lstm'))\n",
    "    break"
   ],
   "id": "bf823ed3991b67f8",
   "outputs": [
    {
     "name": "stdout",
     "output_type": "stream",
     "text": [
      "Review:  start alleged mumbai attack mastermind hafiz saeed friday asked pakistan military shoot american drones enter country comes first visit special representative afghanistan pakistan visit islamabad recent drone strike killed afghan taliban leader mullah akhtar mansour pakistan termed attack violation sovereignty end \n",
      "Original summary:  shoot down us drones entering pak hafiz saeed \n",
      "Predicted summary:   pak to to of in of of in of\n"
     ]
    }
   ],
   "execution_count": 76
  },
  {
   "metadata": {},
   "cell_type": "markdown",
   "source": "# LSTM Seq2Seq With Attention and BiDirectional Encoder",
   "id": "8f319a616bae8c1e"
  },
  {
   "metadata": {
    "ExecuteTime": {
     "end_time": "2025-06-02T12:11:29.483107Z",
     "start_time": "2025-06-02T12:11:29.309530Z"
    }
   },
   "cell_type": "code",
   "source": [
    "epochs = 10\n",
    "embedding_dim = 400\n",
    "hidden_dim = 512\n",
    "enc_layers = 1\n",
    "dec_layers = 1\n",
    "enc_vocab_size = x_voc_size\n",
    "dec_vocab_size = y_voc_size\n",
    "\n",
    "device = torch.device('cuda' if torch.cuda.is_available() else 'cpu')\n",
    "model = LSTMSeq2Seq(embedding_dim, hidden_dim, enc_layers, dec_layers, enc_vocab_size, dec_vocab_size, attention=True, encoder_modes='sum').to(device)\n",
    "optimizer = torch.optim.Adam(model.parameters(), lr=1e-4)\n",
    "criterion = torch.nn.CrossEntropyLoss(ignore_index=0)"
   ],
   "id": "b0ff0cb198062e3e",
   "outputs": [],
   "execution_count": 77
  },
  {
   "metadata": {
    "ExecuteTime": {
     "end_time": "2025-06-02T12:16:03.230078Z",
     "start_time": "2025-06-02T12:11:30.808956Z"
    }
   },
   "cell_type": "code",
   "source": [
    "print('LSTMSeq2Seq Start Training:')\n",
    "lstm_train_losses, lstm_val_losses, lstm_val_accs = train_and_validate(model, optimizer, criterion, train_loader,\n",
    "                                                                    val_loader, epochs, device)"
   ],
   "id": "d3eb0326a0151a8e",
   "outputs": [
    {
     "name": "stdout",
     "output_type": "stream",
     "text": [
      "LSTMSeq2Seq Start Training:\n",
      "Epoch: 1 / 10 | Train loss: 7.64222773073219 | Val loss: 7.144546114165207 | Val acc: 0.1252693970655573\n",
      "Epoch: 2 / 10 | Train loss: 7.1190266138008935 | Val loss: 7.025170211134286 | Val acc: 0.12658644570358868\n",
      "Epoch: 3 / 10 | Train loss: 7.023100268699435 | Val loss: 7.040555098961139 | Val acc: 0.12568845754039698\n",
      "Epoch: 4 / 10 | Train loss: 6.938593990717952 | Val loss: 7.008206351050015 | Val acc: 0.12922054709031663\n",
      "Epoch: 5 / 10 | Train loss: 6.964627710726893 | Val loss: 6.962831842488256 | Val acc: 0.1299988031387329\n",
      "Epoch: 6 / 10 | Train loss: 6.696565633705953 | Val loss: 6.895769957838388 | Val acc: 0.13068725990838018\n",
      "Epoch: 7 / 10 | Train loss: 6.50638937102005 | Val loss: 6.891965076841157 | Val acc: 0.1335308914040697\n",
      "Epoch: 8 / 10 | Train loss: 6.297310804661084 | Val loss: 6.846426207443764 | Val acc: 0.13538673468704882\n",
      "Epoch: 9 / 10 | Train loss: 6.073047157332831 | Val loss: 6.849393203340727 | Val acc: 0.13442887853959512\n",
      "Epoch: 10 / 10 | Train loss: 5.83062955984485 | Val loss: 6.96455771347572 | Val acc: 0.1305076621215919\n"
     ]
    }
   ],
   "execution_count": 78
  },
  {
   "metadata": {
    "ExecuteTime": {
     "end_time": "2025-06-02T12:17:00.231182Z",
     "start_time": "2025-06-02T12:17:00.172457Z"
    }
   },
   "cell_type": "code",
   "source": "plot_losses('LSTM', lstm_train_losses, lstm_val_losses, epochs)",
   "id": "be168eccbf191ce7",
   "outputs": [
    {
     "data": {
      "text/plain": [
       "<Figure size 640x480 with 1 Axes>"
      ],
      "image/png": "[encoded data removed]"
     },
     "metadata": {},
     "output_type": "display_data"
    }
   ],
   "execution_count": 79
  },
  {
   "metadata": {
    "ExecuteTime": {
     "end_time": "2025-06-02T12:17:03.152119Z",
     "start_time": "2025-06-02T12:17:03.123318Z"
    }
   },
   "cell_type": "code",
   "source": [
    "for i in range(len(x_val)):\n",
    "    print('Review: ', seq2text(x_val[i]))\n",
    "    print('Original summary: ', seq2summary(y_val[i]))\n",
    "    print('Predicted summary: ', decode_sequence(x_val[i].reshape(1, max_len_text), model, 'lstm'))\n",
    "    break"
   ],
   "id": "9811079ba4909884",
   "outputs": [
    {
     "name": "stdout",
     "output_type": "stream",
     "text": [
      "Review:  start alleged mumbai attack mastermind hafiz saeed friday asked pakistan military shoot american drones enter country comes first visit special representative afghanistan pakistan visit islamabad recent drone strike killed afghan taliban leader mullah akhtar mansour pakistan termed attack violation sovereignty end \n",
      "Original summary:  shoot down us drones entering pak hafiz saeed \n",
      "Predicted summary:   pak suspends in in\n"
     ]
    }
   ],
   "execution_count": 80
  },
  {
   "metadata": {},
   "cell_type": "markdown",
   "source": "# GRU Seq2Seq",
   "id": "9848f9738530eb67"
  },
  {
   "metadata": {
    "ExecuteTime": {
     "end_time": "2025-06-02T12:17:11.815982Z",
     "start_time": "2025-06-02T12:17:11.656058Z"
    }
   },
   "cell_type": "code",
   "source": [
    "epochs = 10\n",
    "embedding_dim = 400\n",
    "hidden_dim = 512\n",
    "enc_layers = 1\n",
    "dec_layers = 1\n",
    "enc_vocab_size = x_voc_size\n",
    "dec_vocab_size = y_voc_size\n",
    "\n",
    "device = torch.device('cuda' if torch.cuda.is_available() else 'cpu')\n",
    "model = GRUSeq2Seq(embedding_dim, hidden_dim, enc_layers, dec_layers, enc_vocab_size, dec_vocab_size).to(device)\n",
    "optimizer = torch.optim.Adam(model.parameters(), lr=1e-3)\n",
    "criterion = torch.nn.CrossEntropyLoss(ignore_index=0)"
   ],
   "id": "5ea8b53145a4fbc",
   "outputs": [],
   "execution_count": 81
  },
  {
   "metadata": {
    "ExecuteTime": {
     "end_time": "2025-06-02T12:20:09.842788Z",
     "start_time": "2025-06-02T12:17:13.620872Z"
    }
   },
   "cell_type": "code",
   "source": [
    "print('GRUSeq2Seq Start Training:')\n",
    "gru_train_losses, gru_val_losses, gru_val_accs = train_and_validate(model, optimizer, criterion, train_loader,\n",
    "                                                                    val_loader, epochs, device)"
   ],
   "id": "5dece6ffa85d21ba",
   "outputs": [
    {
     "name": "stdout",
     "output_type": "stream",
     "text": [
      "GRUSeq2Seq Start Training:\n",
      "Epoch: 1 / 10 | Train loss: 7.436424460806865 | Val loss: 6.955780226608803 | Val acc: 0.13077705867331604\n",
      "Epoch: 2 / 10 | Train loss: 6.684434114237548 | Val loss: 6.326199252029945 | Val acc: 0.14984434740296726\n",
      "Epoch: 3 / 10 | Train loss: 5.975636216491578 | Val loss: 5.943863802942737 | Val acc: 0.1594228929486768\n",
      "Epoch: 4 / 10 | Train loss: 5.302528912842038 | Val loss: 5.71654984046673 | Val acc: 0.16427202933821186\n",
      "Epoch: 5 / 10 | Train loss: 4.6452266406636 | Val loss: 5.632536888122559 | Val acc: 0.17058788394105845\n",
      "Epoch: 6 / 10 | Train loss: 4.02256670770909 | Val loss: 5.608064388406688 | Val acc: 0.16909123494707304\n",
      "Epoch: 7 / 10 | Train loss: 3.419229601682882 | Val loss: 5.6576171250178895 | Val acc: 0.16726532629851637\n",
      "Epoch: 8 / 10 | Train loss: 2.9108901334845503 | Val loss: 5.723837030344996 | Val acc: 0.16771431986627908\n",
      "Epoch: 9 / 10 | Train loss: 2.4889363959843935 | Val loss: 5.857436048573461 | Val acc: 0.16044061425431022\n",
      "Epoch: 10 / 10 | Train loss: 2.159510183240114 | Val loss: 5.978284671388823 | Val acc: 0.15753711605894155\n"
     ]
    }
   ],
   "execution_count": 82
  },
  {
   "metadata": {
    "ExecuteTime": {
     "end_time": "2025-06-02T12:20:11.191684Z",
     "start_time": "2025-06-02T12:20:11.137222Z"
    }
   },
   "cell_type": "code",
   "source": "plot_losses('GRU', gru_train_losses, gru_val_losses, epochs)",
   "id": "14a9cfffcb4b9737",
   "outputs": [
    {
     "data": {
      "text/plain": [
       "<Figure size 640x480 with 1 Axes>"
      ],
      "image/png": "[encoded data removed]"
     },
     "metadata": {},
     "output_type": "display_data"
    }
   ],
   "execution_count": 83
  },
  {
   "metadata": {
    "ExecuteTime": {
     "end_time": "2025-06-02T12:20:13.088365Z",
     "start_time": "2025-06-02T12:20:13.069546Z"
    }
   },
   "cell_type": "code",
   "source": [
    "for i in range(len(x_val)):\n",
    "    print('Review: ', seq2text(x_val[i]))\n",
    "    print('Original summary: ', seq2summary(y_val[i]))\n",
    "    print('Predicted summary: ', decode_sequence(x_val[i].reshape(1, max_len_text), model, rnn_type='gru'))\n",
    "    break"
   ],
   "id": "33d9663cde597afd",
   "outputs": [
    {
     "name": "stdout",
     "output_type": "stream",
     "text": [
      "Review:  start alleged mumbai attack mastermind hafiz saeed friday asked pakistan military shoot american drones enter country comes first visit special representative afghanistan pakistan visit islamabad recent drone strike killed afghan taliban leader mullah akhtar mansour pakistan termed attack violation sovereignty end \n",
      "Original summary:  shoot down us drones entering pak hafiz saeed \n",
      "Predicted summary:   pakistan attack urges to against attack attack\n"
     ]
    }
   ],
   "execution_count": 84
  },
  {
   "metadata": {},
   "cell_type": "markdown",
   "source": "# GRU Seq2Seq With Attention",
   "id": "72b745e22f73ce2e"
  },
  {
   "metadata": {
    "ExecuteTime": {
     "end_time": "2025-06-02T12:20:26.850918Z",
     "start_time": "2025-06-02T12:20:26.695025Z"
    }
   },
   "cell_type": "code",
   "source": [
    "epochs = 10\n",
    "embedding_dim = 400\n",
    "hidden_dim = 512\n",
    "enc_layers = 1\n",
    "dec_layers = 1\n",
    "enc_vocab_size = x_voc_size\n",
    "dec_vocab_size = y_voc_size\n",
    "\n",
    "device = torch.device('cuda' if torch.cuda.is_available() else 'cpu')\n",
    "model = GRUSeq2Seq(embedding_dim, hidden_dim, enc_layers, dec_layers, enc_vocab_size, dec_vocab_size, attention=True).to(device)\n",
    "optimizer = torch.optim.Adam(model.parameters(), lr=1e-3)\n",
    "criterion = torch.nn.CrossEntropyLoss(ignore_index=0)"
   ],
   "id": "92d035b81780ad77",
   "outputs": [],
   "execution_count": 85
  },
  {
   "metadata": {
    "ExecuteTime": {
     "end_time": "2025-06-02T12:23:57.118614Z",
     "start_time": "2025-06-02T12:20:27.649931Z"
    }
   },
   "cell_type": "code",
   "source": [
    "print('GRUSeq2Seq Start Training:')\n",
    "gru_train_losses, gru_val_losses, gru_val_accs = train_and_validate(model, optimizer, criterion, train_loader,\n",
    "                                                                    val_loader, epochs, device)"
   ],
   "id": "9adc8ca5a4db4a8",
   "outputs": [
    {
     "name": "stdout",
     "output_type": "stream",
     "text": [
      "GRUSeq2Seq Start Training:\n",
      "Epoch: 1 / 10 | Train loss: 7.390067228686668 | Val loss: 6.778366138195169 | Val acc: 0.13544659933139538\n",
      "Epoch: 2 / 10 | Train loss: 6.489945134626547 | Val loss: 6.1412184156220535 | Val acc: 0.1546934873893343\n",
      "Epoch: 3 / 10 | Train loss: 5.712085599484651 | Val loss: 5.796863309268294 | Val acc: 0.16768438703027264\n",
      "Epoch: 4 / 10 | Train loss: 4.943750317388844 | Val loss: 5.564704122214482 | Val acc: 0.17747246294186034\n",
      "Epoch: 5 / 10 | Train loss: 4.1693857705640225 | Val loss: 5.482377644242911 | Val acc: 0.18202227045749797\n",
      "Epoch: 6 / 10 | Train loss: 3.434985091092558 | Val loss: 5.495869932503536 | Val acc: 0.1875897985080193\n",
      "Epoch: 7 / 10 | Train loss: 2.7921821656434433 | Val loss: 5.593942987507787 | Val acc: 0.178639847142943\n",
      "Epoch: 8 / 10 | Train loss: 2.2846645941376216 | Val loss: 5.731042187789391 | Val acc: 0.17256345779731355\n",
      "Epoch: 9 / 10 | Train loss: 1.8874113423079841 | Val loss: 5.853201290656781 | Val acc: 0.1775323275862069\n",
      "Epoch: 10 / 10 | Train loss: 1.5882178662793909 | Val loss: 6.037737649062584 | Val acc: 0.1746886968612671\n"
     ]
    }
   ],
   "execution_count": 86
  },
  {
   "metadata": {
    "ExecuteTime": {
     "end_time": "2025-06-02T12:23:58.500361Z",
     "start_time": "2025-06-02T12:23:58.414046Z"
    }
   },
   "cell_type": "code",
   "source": "plot_losses('GRU', gru_train_losses, gru_val_losses, epochs)",
   "id": "85721dc2e31a643e",
   "outputs": [
    {
     "data": {
      "text/plain": [
       "<Figure size 640x480 with 1 Axes>"
      ],
      "image/png": "[encoded data removed]"
     },
     "metadata": {},
     "output_type": "display_data"
    }
   ],
   "execution_count": 87
  },
  {
   "metadata": {
    "ExecuteTime": {
     "end_time": "2025-06-02T12:24:01.119054Z",
     "start_time": "2025-06-02T12:24:01.104361Z"
    }
   },
   "cell_type": "code",
   "source": [
    "for i in range(len(x_val)):\n",
    "    print('Review: ', seq2text(x_val[i]))\n",
    "    print('Original summary: ', seq2summary(y_val[i]))\n",
    "    print('Predicted summary: ', decode_sequence(x_val[i].reshape(1, max_len_text), model, 'gru'))\n",
    "    break"
   ],
   "id": "47b7dd35bc18b531",
   "outputs": [
    {
     "name": "stdout",
     "output_type": "stream",
     "text": [
      "Review:  start alleged mumbai attack mastermind hafiz saeed friday asked pakistan military shoot american drones enter country comes first visit special representative afghanistan pakistan visit islamabad recent drone strike killed afghan taliban leader mullah akhtar mansour pakistan termed attack violation sovereignty end \n",
      "Original summary:  shoot down us drones entering pak hafiz saeed \n",
      "Predicted summary:   mastermind saeed military military attack to pak attack\n"
     ]
    }
   ],
   "execution_count": 88
  },
  {
   "metadata": {},
   "cell_type": "markdown",
   "source": "# GRU Seq2Seq With Attention and BiDirectional Encoder",
   "id": "3ae753c2dd5543db"
  },
  {
   "metadata": {
    "ExecuteTime": {
     "end_time": "2025-06-02T12:24:11.349046Z",
     "start_time": "2025-06-02T12:24:11.196031Z"
    }
   },
   "cell_type": "code",
   "source": [
    "epochs = 10\n",
    "embedding_dim = 400\n",
    "hidden_dim = 512\n",
    "enc_layers = 1\n",
    "dec_layers = 1\n",
    "enc_vocab_size = x_voc_size\n",
    "dec_vocab_size = y_voc_size\n",
    "\n",
    "device = torch.device('cuda' if torch.cuda.is_available() else 'cpu')\n",
    "model = GRUSeq2Seq(embedding_dim, hidden_dim, enc_layers, dec_layers, enc_vocab_size, dec_vocab_size, attention=True, encoder_modes='sum').to(device)\n",
    "optimizer = torch.optim.Adam(model.parameters(), lr=1e-3)\n",
    "criterion = torch.nn.CrossEntropyLoss(ignore_index=0)"
   ],
   "id": "4989afbae177e93d",
   "outputs": [],
   "execution_count": 89
  },
  {
   "metadata": {
    "ExecuteTime": {
     "end_time": "2025-06-02T12:28:52.322769Z",
     "start_time": "2025-06-02T12:24:28.454834Z"
    }
   },
   "cell_type": "code",
   "source": [
    "print('GRUSeq2Seq Start Training:')\n",
    "gru_train_losses, gru_val_losses, gru_val_accs = train_and_validate(model, optimizer, criterion, train_loader,\n",
    "                                                                    val_loader, epochs, device)"
   ],
   "id": "e12071cf9df31bce",
   "outputs": [
    {
     "name": "stdout",
     "output_type": "stream",
     "text": [
      "GRUSeq2Seq Start Training:\n",
      "Epoch: 1 / 10 | Train loss: 7.506988515966966 | Val loss: 7.117301414752829 | Val acc: 0.1251496646938653\n",
      "Epoch: 2 / 10 | Train loss: 7.120587669342403 | Val loss: 6.843195010875833 | Val acc: 0.13451867833219724\n",
      "Epoch: 3 / 10 | Train loss: 6.606549683295691 | Val loss: 6.308233211780417 | Val acc: 0.15301724137931033\n",
      "Epoch: 4 / 10 | Train loss: 6.013824217875484 | Val loss: 5.975982633130304 | Val acc: 0.16352370741038486\n",
      "Epoch: 5 / 10 | Train loss: 5.439403850570498 | Val loss: 5.7982521879261935 | Val acc: 0.16977969248747005\n",
      "Epoch: 6 / 10 | Train loss: 4.867897461525536 | Val loss: 5.639005430813493 | Val acc: 0.179358237776263\n",
      "Epoch: 7 / 10 | Train loss: 4.291264473685163 | Val loss: 5.570273119827797 | Val acc: 0.17825071667802744\n",
      "Epoch: 8 / 10 | Train loss: 3.721904592551733 | Val loss: 5.59595093233832 | Val acc: 0.1813936778183641\n",
      "Epoch: 9 / 10 | Train loss: 3.184530594603346 | Val loss: 5.620442768623089 | Val acc: 0.17947796706495614\n",
      "Epoch: 10 / 10 | Train loss: 2.7227517446510405 | Val loss: 5.792950268449454 | Val acc: 0.1714559387544106\n"
     ]
    }
   ],
   "execution_count": 90
  },
  {
   "metadata": {
    "ExecuteTime": {
     "end_time": "2025-06-02T12:28:55.310741Z",
     "start_time": "2025-06-02T12:28:55.224172Z"
    }
   },
   "cell_type": "code",
   "source": "plot_losses('GRU', gru_train_losses, gru_val_losses, epochs)",
   "id": "3652c23993a03232",
   "outputs": [
    {
     "data": {
      "text/plain": [
       "<Figure size 640x480 with 1 Axes>"
      ],
      "image/png": "[encoded data removed]"
     },
     "metadata": {},
     "output_type": "display_data"
    }
   ],
   "execution_count": 91
  },
  {
   "metadata": {
    "ExecuteTime": {
     "end_time": "2025-06-02T12:28:57.475317Z",
     "start_time": "2025-06-02T12:28:57.457883Z"
    }
   },
   "cell_type": "code",
   "source": [
    "for i in range(len(x_val)):\n",
    "    print('Review: ', seq2text(x_val[i]))\n",
    "    print('Original summary: ', seq2summary(y_val[i]))\n",
    "    print('Predicted summary: ', decode_sequence(x_val[i].reshape(1, max_len_text), model))\n",
    "    break"
   ],
   "id": "cc6596772041c66f",
   "outputs": [
    {
     "name": "stdout",
     "output_type": "stream",
     "text": [
      "Review:  start alleged mumbai attack mastermind hafiz saeed friday asked pakistan military shoot american drones enter country comes first visit special representative afghanistan pakistan visit islamabad recent drone strike killed afghan taliban leader mullah akhtar mansour pakistan termed attack violation sovereignty end \n",
      "Original summary:  shoot down us drones entering pak hafiz saeed \n",
      "Predicted summary:   hafiz asks to military to attack attack attack\n"
     ]
    }
   ],
   "execution_count": 92
  },
  {
   "metadata": {},
   "cell_type": "markdown",
   "source": "# Transformer",
   "id": "10a0f33e59ac6195"
  },
  {
   "metadata": {
    "ExecuteTime": {
     "end_time": "2025-06-04T20:26:10.688502Z",
     "start_time": "2025-06-04T20:26:10.489030Z"
    }
   },
   "cell_type": "code",
   "source": [
    "epochs = 10\n",
    "embedding_dim = 400\n",
    "hidden_dim = 512\n",
    "enc_layers = 1\n",
    "dec_layers = 1\n",
    "enc_vocab_size = x_voc_size\n",
    "dec_vocab_size = y_voc_size\n",
    "\n",
    "device = torch.device('cuda' if torch.cuda.is_available() else 'cpu')\n",
    "model = Transformer(enc_vocab_size=enc_vocab_size, \n",
    "                    dec_vocab_size=dec_vocab_size, \n",
    "                    enc_len_seq=max_len_text, \n",
    "                    dec_len_seq=max_len_summary - 1, \n",
    "                    embedding_dim=embedding_dim, \n",
    "                    enc_depth=enc_layers, \n",
    "                    dec_depth=dec_layers).to(device)\n",
    "optimizer = torch.optim.Adam(model.parameters(), lr=1e-3)\n",
    "criterion = torch.nn.CrossEntropyLoss(ignore_index=0)"
   ],
   "id": "5fa67915eeba471f",
   "outputs": [],
   "execution_count": 44
  },
  {
   "metadata": {
    "ExecuteTime": {
     "end_time": "2025-06-04T20:27:30.419680Z",
     "start_time": "2025-06-04T20:26:11.125107Z"
    }
   },
   "cell_type": "code",
   "source": [
    "print('Transformer Start Training:')\n",
    "transformer_train_losses, transformer_val_losses, transformer_val_accs = train_and_validate(model, optimizer, criterion, train_loader,\n",
    "                                                                    val_loader, epochs, device, model_type='transformer')"
   ],
   "id": "9cdb497f9f8e2179",
   "outputs": [
    {
     "name": "stdout",
     "output_type": "stream",
     "text": [
      "Transformer Start Training:\n",
      "Epoch: 1 / 10 | Train loss: 6.931956996088442 | Val loss: 5.936653531830887 | Val acc: 0.19043342871912594\n",
      "Epoch: 2 / 10 | Train loss: 5.37813605432925 | Val loss: 5.3462618137228075 | Val acc: 0.22790948378628698\n",
      "Epoch: 3 / 10 | Train loss: 4.298980599806714 | Val loss: 5.119374456076787 | Val acc: 0.24799449176623903\n",
      "Epoch: 4 / 10 | Train loss: 3.479026324192997 | Val loss: 5.086517333984375 | Val acc: 0.25730363510805987\n",
      "Epoch: 5 / 10 | Train loss: 2.8578037141340054 | Val loss: 5.167051430406241 | Val acc: 0.2607159958831195\n",
      "Epoch: 6 / 10 | Train loss: 2.3770510999581558 | Val loss: 5.260568224150559 | Val acc: 0.27203065413853217\n",
      "Epoch: 7 / 10 | Train loss: 1.9932573506012266 | Val loss: 5.4791867321935195 | Val acc: 0.26601413149258185\n",
      "Epoch: 8 / 10 | Train loss: 1.6950967410807554 | Val loss: 5.625781684086241 | Val acc: 0.2697856791060546\n",
      "Epoch: 9 / 10 | Train loss: 1.460251403891522 | Val loss: 5.764989228084169 | Val acc: 0.2756226057636327\n",
      "Epoch: 10 / 10 | Train loss: 1.2798339514864292 | Val loss: 5.965164283226276 | Val acc: 0.2759518685012028\n"
     ]
    }
   ],
   "execution_count": 45
  },
  {
   "metadata": {
    "ExecuteTime": {
     "end_time": "2025-06-04T20:27:35.598558Z",
     "start_time": "2025-06-04T20:27:35.547494Z"
    }
   },
   "cell_type": "code",
   "source": "plot_losses('Transformer', transformer_train_losses, transformer_val_losses, epochs)",
   "id": "613cd063e1d8b3",
   "outputs": [
    {
     "data": {
      "text/plain": [
       "<Figure size 640x480 with 1 Axes>"
      ],
      "image/png": "[encoded data removed]"
     },
     "metadata": {},
     "output_type": "display_data"
    }
   ],
   "execution_count": 46
  },
  {
   "metadata": {
    "ExecuteTime": {
     "end_time": "2025-06-04T20:27:38.183233Z",
     "start_time": "2025-06-04T20:27:38.178274Z"
    }
   },
   "cell_type": "code",
   "source": [
    "def decode_sequence(input_seq, model_):\n",
    "    model_.eval()\n",
    "    with torch.no_grad():\n",
    "        input_seq = torch.IntTensor(input_seq).to(device)\n",
    "        target_seq = torch.zeros((1,1), dtype=torch.int64).to(device)\n",
    "        target_seq[:, 0] = target_word_index['start']\n",
    "        padding = torch.zeros((1, 8), dtype=torch.int64).to(device)\n",
    "        target_seq = torch.cat((target_seq, padding), 1)\n",
    "    \n",
    "        decoded_sentence = ''\n",
    "        for idx in range(max_len_summary - 2):\n",
    "            trg_mask = Utils.make_combined_mask(target_seq)\n",
    "            prediction = model_(input_seq, target_seq, look_ahead_mask=trg_mask)\n",
    "            prediction_index = prediction.argmax(dim=-1)[0][idx].item()\n",
    "            predicted_word = reverse_target_word_index[prediction_index]\n",
    "    \n",
    "            if predicted_word != 'end':\n",
    "                target_seq[:, idx + 1] = prediction_index\n",
    "                decoded_sentence += ' ' + predicted_word\n",
    "    \n",
    "            if predicted_word == 'end' or len(decoded_sentence.split()) >= max_len_summary - 1:\n",
    "                break\n",
    "    \n",
    "        return decoded_sentence.replace('start', '').replace('end', '').strip()"
   ],
   "id": "468abf069ce765d",
   "outputs": [],
   "execution_count": 47
  },
  {
   "metadata": {
    "ExecuteTime": {
     "end_time": "2025-06-04T20:28:03.432210Z",
     "start_time": "2025-06-04T20:28:03.403638Z"
    }
   },
   "cell_type": "code",
   "source": [
    "for i in range(len(x_val)):\n",
    "    print('Review: ', seq2text(x_val[i]))\n",
    "    print('Original summary: ', seq2summary(y_val[i]))\n",
    "    print('Predicted summary: ', decode_sequence(x_val[i].reshape(1, max_len_text), model))\n",
    "    print('\\n')\n",
    "    if i == 0:\n",
    "        break"
   ],
   "id": "6d6d87d6e8d83302",
   "outputs": [
    {
     "name": "stdout",
     "output_type": "stream",
     "text": [
      "Review:  start alleged mumbai attack mastermind hafiz saeed friday asked pakistan military shoot american drones enter country comes first visit special representative afghanistan pakistan visit islamabad recent drone strike killed afghan taliban leader mullah akhtar mansour pakistan termed attack violation sovereignty end \n",
      "Original summary:  shoot down us drones entering pak hafiz saeed \n",
      "Predicted summary:  hafiz saeed threatens pakistan visit to afghanistan\n",
      "\n",
      "\n"
     ]
    }
   ],
   "execution_count": 50
  },
  {
   "metadata": {},
   "cell_type": "code",
   "outputs": [],
   "execution_count": null,
   "source": "",
   "id": "6393da2ea3f0c2a6"
  }
 ],
 "metadata": {
  "kernelspec": {
   "display_name": "Python 3",
   "language": "python",
   "name": "python3"
  },
  "language_info": {
   "codemirror_mode": {
    "name": "ipython",
    "version": 2
   },
   "file_extension": ".py",
   "mimetype": "text/x-python",
   "name": "python",
   "nbconvert_exporter": "python",
   "pygments_lexer": "ipython2",
   "version": "2.7.6"
  }
 },
 "nbformat": 4,
 "nbformat_minor": 5
}
