{
 "nbformat": 4,
 "nbformat_minor": 0,
 "metadata": {
  "colab": {
   "provenance": [],
   "gpuType": "T4",
   "authorship_tag": "ABX9TyPIvoBMMmuwyn/0MFLgs8k5",
   "include_colab_link": true
  },
  "kernelspec": {
   "name": "python3",
   "display_name": "Python 3 (ipykernel)",
   "language": "python"
  },
  "language_info": {
   "name": "python"
  },
  "accelerator": "GPU"
 },
 "cells": [
  {
   "cell_type": "markdown",
   "source": [
    "# Imports"
   ],
   "metadata": {
    "id": "96u-2MGiXs-4"
   }
  },
  {
   "cell_type": "code",
   "metadata": {
    "id": "giaE9jhGXmY-",
    "ExecuteTime": {
     "end_time": "2025-06-04T17:34:50.075110Z",
     "start_time": "2025-06-04T17:34:48.944857Z"
    }
   },
   "source": [
    "import warnings\n",
    "\n",
    "import matplotlib.pyplot as plt\n",
    "import numpy as np\n",
    "import pandas as pd\n",
    "import torch\n",
    "from torchtext.data.utils import get_tokenizer\n",
    "from torchtext.vocab import build_vocab_from_iterator\n",
    "from tqdm import tqdm\n",
    "from functools import partial\n",
    "\n",
    "from models.seq2seq_models.rnn_seq2seq import RNNSeq2Seq\n",
    "from models.seq2seq_models.transformer import Transformer, Utils\n",
    "\n",
    "pd.set_option('display.max_colwidth', 200)\n",
    "warnings.filterwarnings('ignore')\n",
    "\n",
    "from torch.utils.data import DataLoader\n",
    "from sklearn.model_selection import train_test_split"
   ],
   "outputs": [],
   "execution_count": 1
  },
  {
   "cell_type": "code",
   "source": [
    "device = 'cuda' if torch.cuda.is_available() else 'cpu'\n",
    "device"
   ],
   "metadata": {
    "colab": {
     "base_uri": "https://localhost:8080/",
     "height": 35
    },
    "id": "ydNngtERXu4H",
    "outputId": "ca1d569d-1cf6-4ce2-e665-99a966cb8d7b",
    "ExecuteTime": {
     "end_time": "2025-06-04T17:34:50.079861Z",
     "start_time": "2025-06-04T17:34:50.076192Z"
    }
   },
   "outputs": [
    {
     "data": {
      "text/plain": [
       "'cuda'"
      ]
     },
     "execution_count": 2,
     "metadata": {},
     "output_type": "execute_result"
    }
   ],
   "execution_count": 2
  },
  {
   "cell_type": "markdown",
   "source": [
    "# Load Data"
   ],
   "metadata": {
    "id": "5Fu_f8PgYnXw"
   }
  },
  {
   "cell_type": "code",
   "source": "# !wget https://www.manythings.org/anki/spa-eng.zip",
   "metadata": {
    "colab": {
     "base_uri": "https://localhost:8080/"
    },
    "id": "Hi6nauuSYhQR",
    "outputId": "1002321f-5af3-43fc-af7f-f4d350b923f7",
    "ExecuteTime": {
     "end_time": "2025-06-04T17:34:50.083144Z",
     "start_time": "2025-06-04T17:34:50.080310Z"
    }
   },
   "outputs": [],
   "execution_count": 3
  },
  {
   "cell_type": "code",
   "source": "# !unzip spa-eng.zip",
   "metadata": {
    "colab": {
     "base_uri": "https://localhost:8080/"
    },
    "id": "h14iqrxHZOXI",
    "outputId": "c7cb0ca8-04cd-49f1-a90f-777679df96f8",
    "ExecuteTime": {
     "end_time": "2025-06-04T17:34:50.086762Z",
     "start_time": "2025-06-04T17:34:50.083764Z"
    }
   },
   "outputs": [],
   "execution_count": 4
  },
  {
   "metadata": {
    "ExecuteTime": {
     "end_time": "2025-06-04T17:34:50.245414Z",
     "start_time": "2025-06-04T17:34:50.087146Z"
    }
   },
   "cell_type": "code",
   "source": "data = pd.read_csv('spa.txt', delimiter='\\t', header=None, names=['english', 'spanish', 'from'])",
   "outputs": [],
   "execution_count": 5
  },
  {
   "metadata": {
    "ExecuteTime": {
     "end_time": "2025-06-04T17:34:50.250430Z",
     "start_time": "2025-06-04T17:34:50.246087Z"
    }
   },
   "cell_type": "code",
   "source": "data.head()",
   "outputs": [
    {
     "data": {
      "text/plain": [
       "  english  spanish  \\\n",
       "0     Go.      Ve.   \n",
       "1     Go.    Vete.   \n",
       "2     Go.    Vaya.   \n",
       "3     Go.  Váyase.   \n",
       "4     Hi.    Hola.   \n",
       "\n",
       "                                                                               from  \n",
       "0  CC-BY 2.0 (France) Attribution: tatoeba.org #2877272 (CM) & #4986655 (cueyayotl)  \n",
       "1  CC-BY 2.0 (France) Attribution: tatoeba.org #2877272 (CM) & #4986656 (cueyayotl)  \n",
       "2  CC-BY 2.0 (France) Attribution: tatoeba.org #2877272 (CM) & #4986657 (cueyayotl)  \n",
       "3        CC-BY 2.0 (France) Attribution: tatoeba.org #2877272 (CM) & #6586271 (arh)  \n",
       "4        CC-BY 2.0 (France) Attribution: tatoeba.org #538123 (CM) & #431975 (Leono)  "
      ],
      "text/html": [
       "<div>\n",
       "<style scoped>\n",
       "    .dataframe tbody tr th:only-of-type {\n",
       "        vertical-align: middle;\n",
       "    }\n",
       "\n",
       "    .dataframe tbody tr th {\n",
       "        vertical-align: top;\n",
       "    }\n",
       "\n",
       "    .dataframe thead th {\n",
       "        text-align: right;\n",
       "    }\n",
       "</style>\n",
       "<table border=\"1\" class=\"dataframe\">\n",
       "  <thead>\n",
       "    <tr style=\"text-align: right;\">\n",
       "      <th></th>\n",
       "      <th>english</th>\n",
       "      <th>spanish</th>\n",
       "      <th>from</th>\n",
       "    </tr>\n",
       "  </thead>\n",
       "  <tbody>\n",
       "    <tr>\n",
       "      <th>0</th>\n",
       "      <td>Go.</td>\n",
       "      <td>Ve.</td>\n",
       "      <td>CC-BY 2.0 (France) Attribution: tatoeba.org #2877272 (CM) &amp; #4986655 (cueyayotl)</td>\n",
       "    </tr>\n",
       "    <tr>\n",
       "      <th>1</th>\n",
       "      <td>Go.</td>\n",
       "      <td>Vete.</td>\n",
       "      <td>CC-BY 2.0 (France) Attribution: tatoeba.org #2877272 (CM) &amp; #4986656 (cueyayotl)</td>\n",
       "    </tr>\n",
       "    <tr>\n",
       "      <th>2</th>\n",
       "      <td>Go.</td>\n",
       "      <td>Vaya.</td>\n",
       "      <td>CC-BY 2.0 (France) Attribution: tatoeba.org #2877272 (CM) &amp; #4986657 (cueyayotl)</td>\n",
       "    </tr>\n",
       "    <tr>\n",
       "      <th>3</th>\n",
       "      <td>Go.</td>\n",
       "      <td>Váyase.</td>\n",
       "      <td>CC-BY 2.0 (France) Attribution: tatoeba.org #2877272 (CM) &amp; #6586271 (arh)</td>\n",
       "    </tr>\n",
       "    <tr>\n",
       "      <th>4</th>\n",
       "      <td>Hi.</td>\n",
       "      <td>Hola.</td>\n",
       "      <td>CC-BY 2.0 (France) Attribution: tatoeba.org #538123 (CM) &amp; #431975 (Leono)</td>\n",
       "    </tr>\n",
       "  </tbody>\n",
       "</table>\n",
       "</div>"
      ]
     },
     "execution_count": 6,
     "metadata": {},
     "output_type": "execute_result"
    }
   ],
   "execution_count": 6
  },
  {
   "cell_type": "code",
   "source": "len(data)",
   "metadata": {
    "colab": {
     "base_uri": "https://localhost:8080/"
    },
    "id": "HECjSS1lZ-x3",
    "outputId": "8c9fb2ee-0799-4ec8-b595-cdc3a3b797a2",
    "ExecuteTime": {
     "end_time": "2025-06-04T17:34:50.254778Z",
     "start_time": "2025-06-04T17:34:50.250845Z"
    }
   },
   "outputs": [
    {
     "data": {
      "text/plain": [
       "141543"
      ]
     },
     "execution_count": 7,
     "metadata": {},
     "output_type": "execute_result"
    }
   ],
   "execution_count": 7
  },
  {
   "cell_type": "code",
   "source": "data.drop('from', axis=1, inplace=True)",
   "metadata": {
    "id": "OUCSX2QzaEJM",
    "ExecuteTime": {
     "end_time": "2025-06-04T17:34:50.260509Z",
     "start_time": "2025-06-04T17:34:50.255289Z"
    }
   },
   "outputs": [],
   "execution_count": 8
  },
  {
   "cell_type": "code",
   "source": "data.head()",
   "metadata": {
    "colab": {
     "base_uri": "https://localhost:8080/",
     "height": 35
    },
    "id": "mYLNfLd9aMYw",
    "outputId": "d5737dd7-089c-4f4b-8185-f79b948cd945",
    "ExecuteTime": {
     "end_time": "2025-06-04T17:34:50.264149Z",
     "start_time": "2025-06-04T17:34:50.260955Z"
    }
   },
   "outputs": [
    {
     "data": {
      "text/plain": [
       "  english  spanish\n",
       "0     Go.      Ve.\n",
       "1     Go.    Vete.\n",
       "2     Go.    Vaya.\n",
       "3     Go.  Váyase.\n",
       "4     Hi.    Hola."
      ],
      "text/html": [
       "<div>\n",
       "<style scoped>\n",
       "    .dataframe tbody tr th:only-of-type {\n",
       "        vertical-align: middle;\n",
       "    }\n",
       "\n",
       "    .dataframe tbody tr th {\n",
       "        vertical-align: top;\n",
       "    }\n",
       "\n",
       "    .dataframe thead th {\n",
       "        text-align: right;\n",
       "    }\n",
       "</style>\n",
       "<table border=\"1\" class=\"dataframe\">\n",
       "  <thead>\n",
       "    <tr style=\"text-align: right;\">\n",
       "      <th></th>\n",
       "      <th>english</th>\n",
       "      <th>spanish</th>\n",
       "    </tr>\n",
       "  </thead>\n",
       "  <tbody>\n",
       "    <tr>\n",
       "      <th>0</th>\n",
       "      <td>Go.</td>\n",
       "      <td>Ve.</td>\n",
       "    </tr>\n",
       "    <tr>\n",
       "      <th>1</th>\n",
       "      <td>Go.</td>\n",
       "      <td>Vete.</td>\n",
       "    </tr>\n",
       "    <tr>\n",
       "      <th>2</th>\n",
       "      <td>Go.</td>\n",
       "      <td>Vaya.</td>\n",
       "    </tr>\n",
       "    <tr>\n",
       "      <th>3</th>\n",
       "      <td>Go.</td>\n",
       "      <td>Váyase.</td>\n",
       "    </tr>\n",
       "    <tr>\n",
       "      <th>4</th>\n",
       "      <td>Hi.</td>\n",
       "      <td>Hola.</td>\n",
       "    </tr>\n",
       "  </tbody>\n",
       "</table>\n",
       "</div>"
      ]
     },
     "execution_count": 9,
     "metadata": {},
     "output_type": "execute_result"
    }
   ],
   "execution_count": 9
  },
  {
   "metadata": {
    "ExecuteTime": {
     "end_time": "2025-06-04T17:34:50.297094Z",
     "start_time": "2025-06-04T17:34:50.265197Z"
    }
   },
   "cell_type": "code",
   "source": [
    "data['english'] = data['english'].apply(lambda x: 'SOS ' + x + ' EOS')\n",
    "data['spanish'] = data['spanish'].apply(lambda x: 'SOS ' + x + ' EOS')"
   ],
   "outputs": [],
   "execution_count": 10
  },
  {
   "metadata": {
    "ExecuteTime": {
     "end_time": "2025-06-04T17:34:50.300054Z",
     "start_time": "2025-06-04T17:34:50.297760Z"
    }
   },
   "cell_type": "code",
   "source": "len(data['english']), len(data['spanish'])",
   "outputs": [
    {
     "data": {
      "text/plain": [
       "(141543, 141543)"
      ]
     },
     "execution_count": 11,
     "metadata": {},
     "output_type": "execute_result"
    }
   ],
   "execution_count": 11
  },
  {
   "metadata": {
    "ExecuteTime": {
     "end_time": "2025-06-04T17:34:50.304183Z",
     "start_time": "2025-06-04T17:34:50.300593Z"
    }
   },
   "cell_type": "code",
   "source": [
    "for i in range(1000, 1005):\n",
    "    print('English: ', data['english'][i])\n",
    "    print('Spanish: ', data['spanish'][i])\n",
    "    print('\\n')"
   ],
   "outputs": [
    {
     "name": "stdout",
     "output_type": "stream",
     "text": [
      "English:  SOS Please go. EOS\n",
      "Spanish:  SOS Por favor, vete. EOS\n",
      "\n",
      "\n",
      "English:  SOS Please go. EOS\n",
      "Spanish:  SOS Por favor, márchate. EOS\n",
      "\n",
      "\n",
      "English:  SOS Please go. EOS\n",
      "Spanish:  SOS Por favor, váyase. EOS\n",
      "\n",
      "\n",
      "English:  SOS Put it on. EOS\n",
      "Spanish:  SOS Póntelo. EOS\n",
      "\n",
      "\n",
      "English:  SOS Put it on. EOS\n",
      "Spanish:  SOS Póngaselo. EOS\n",
      "\n",
      "\n"
     ]
    }
   ],
   "execution_count": 12
  },
  {
   "metadata": {
    "ExecuteTime": {
     "end_time": "2025-06-04T17:34:50.541331Z",
     "start_time": "2025-06-04T17:34:50.304637Z"
    }
   },
   "cell_type": "code",
   "source": [
    "text_word_count = []\n",
    "summary_word_count = []\n",
    "\n",
    "for i in data['english']:\n",
    "    text_word_count.append(len(i.split()))\n",
    "\n",
    "for i in data['spanish']:\n",
    "    summary_word_count.append(len(i.split()))\n",
    "\n",
    "length_df = pd.DataFrame({'Original': text_word_count, 'Translation': summary_word_count})\n",
    "length_df.hist(bins=30)\n",
    "plt.show()"
   ],
   "outputs": [
    {
     "data": {
      "text/plain": [
       "<Figure size 640x480 with 2 Axes>"
      ],
      "image/png": "[encoded data removed]"
     },
     "metadata": {},
     "output_type": "display_data"
    }
   ],
   "execution_count": 13
  },
  {
   "metadata": {
    "ExecuteTime": {
     "end_time": "2025-06-04T17:34:50.549672Z",
     "start_time": "2025-06-04T17:34:50.541940Z"
    }
   },
   "cell_type": "code",
   "source": [
    "text_word_count = np.array(text_word_count)\n",
    "summary_word_count = np.array(summary_word_count)\n",
    "print(f'Text | Mean: {text_word_count.mean()} | Std: {text_word_count.std()} | Min: {text_word_count.min()} | Max: {text_word_count.max()}')\n",
    "print(f'Summary | Mean: {summary_word_count.mean()} | Std: {summary_word_count.std()} | Min: {summary_word_count.min()} | Max: {summary_word_count.max()}')"
   ],
   "outputs": [
    {
     "name": "stdout",
     "output_type": "stream",
     "text": [
      "Text | Mean: 8.216874024148138 | Std: 2.6011613040560078 | Min: 3 | Max: 72\n",
      "Summary | Mean: 7.982153833110786 | Std: 2.7531145178291636 | Min: 3 | Max: 70\n"
     ]
    }
   ],
   "execution_count": 14
  },
  {
   "metadata": {
    "ExecuteTime": {
     "end_time": "2025-06-04T17:34:50.552854Z",
     "start_time": "2025-06-04T17:34:50.550116Z"
    }
   },
   "cell_type": "code",
   "source": [
    "max_len_text = 71\n",
    "max_len_summary = 70"
   ],
   "outputs": [],
   "execution_count": 15
  },
  {
   "metadata": {
    "ExecuteTime": {
     "end_time": "2025-06-04T17:34:50.562629Z",
     "start_time": "2025-06-04T17:34:50.553241Z"
    }
   },
   "cell_type": "code",
   "source": [
    "x_tr, x_val, y_tr, y_val = train_test_split(data['english'], data['spanish'], test_size=0.1,\n",
    "                                            random_state=0, shuffle=True)"
   ],
   "outputs": [],
   "execution_count": 16
  },
  {
   "metadata": {
    "ExecuteTime": {
     "end_time": "2025-06-04T17:34:50.569875Z",
     "start_time": "2025-06-04T17:34:50.563176Z"
    }
   },
   "cell_type": "code",
   "source": "pd.concat([x_tr, y_tr], axis=1)",
   "outputs": [
    {
     "data": {
      "text/plain": [
       "                                                     english  \\\n",
       "107290        SOS She was carrying the baby on her back. EOS   \n",
       "107013        SOS Let's not talk about your job tonight. EOS   \n",
       "22569                            SOS This just got ugly. EOS   \n",
       "6226                                  SOS She's my wife. EOS   \n",
       "121951  SOS Tom is going to stay here until next Monday. EOS   \n",
       "...                                                      ...   \n",
       "41993                        SOS Tom is building a wall. EOS   \n",
       "97639            SOS The book doesn't have a title, yet. EOS   \n",
       "95939            SOS He's not good at remembering names. EOS   \n",
       "117952    SOS Tom doesn't appear to be paying attention. EOS   \n",
       "43567                       SOS Do you have a cellphone? EOS   \n",
       "\n",
       "                                                           spanish  \n",
       "107290                 SOS Ella cargaba al bebé en su espalda. EOS  \n",
       "107013            SOS Mejor no hablemos de trabajo esta noche. EOS  \n",
       "22569                          SOS Esto realmente se puso feo. EOS  \n",
       "6226                                     SOS Ella es mi mujer. EOS  \n",
       "121951  SOS Tomás se va a quedar acá hasta el lunes que viene. EOS  \n",
       "...                                                            ...  \n",
       "41993                         SOS Tom está levantando un muro. EOS  \n",
       "97639                       SOS El libro no tiene título, aún. EOS  \n",
       "95939                SOS Él no es bueno para recordar nombres. EOS  \n",
       "117952             SOS Tom no parece estar prestando atención. EOS  \n",
       "43567                                    SOS ¿Tienes un móvil? EOS  \n",
       "\n",
       "[127388 rows x 2 columns]"
      ],
      "text/html": [
       "<div>\n",
       "<style scoped>\n",
       "    .dataframe tbody tr th:only-of-type {\n",
       "        vertical-align: middle;\n",
       "    }\n",
       "\n",
       "    .dataframe tbody tr th {\n",
       "        vertical-align: top;\n",
       "    }\n",
       "\n",
       "    .dataframe thead th {\n",
       "        text-align: right;\n",
       "    }\n",
       "</style>\n",
       "<table border=\"1\" class=\"dataframe\">\n",
       "  <thead>\n",
       "    <tr style=\"text-align: right;\">\n",
       "      <th></th>\n",
       "      <th>english</th>\n",
       "      <th>spanish</th>\n",
       "    </tr>\n",
       "  </thead>\n",
       "  <tbody>\n",
       "    <tr>\n",
       "      <th>107290</th>\n",
       "      <td>SOS She was carrying the baby on her back. EOS</td>\n",
       "      <td>SOS Ella cargaba al bebé en su espalda. EOS</td>\n",
       "    </tr>\n",
       "    <tr>\n",
       "      <th>107013</th>\n",
       "      <td>SOS Let's not talk about your job tonight. EOS</td>\n",
       "      <td>SOS Mejor no hablemos de trabajo esta noche. EOS</td>\n",
       "    </tr>\n",
       "    <tr>\n",
       "      <th>22569</th>\n",
       "      <td>SOS This just got ugly. EOS</td>\n",
       "      <td>SOS Esto realmente se puso feo. EOS</td>\n",
       "    </tr>\n",
       "    <tr>\n",
       "      <th>6226</th>\n",
       "      <td>SOS She's my wife. EOS</td>\n",
       "      <td>SOS Ella es mi mujer. EOS</td>\n",
       "    </tr>\n",
       "    <tr>\n",
       "      <th>121951</th>\n",
       "      <td>SOS Tom is going to stay here until next Monday. EOS</td>\n",
       "      <td>SOS Tomás se va a quedar acá hasta el lunes que viene. EOS</td>\n",
       "    </tr>\n",
       "    <tr>\n",
       "      <th>...</th>\n",
       "      <td>...</td>\n",
       "      <td>...</td>\n",
       "    </tr>\n",
       "    <tr>\n",
       "      <th>41993</th>\n",
       "      <td>SOS Tom is building a wall. EOS</td>\n",
       "      <td>SOS Tom está levantando un muro. EOS</td>\n",
       "    </tr>\n",
       "    <tr>\n",
       "      <th>97639</th>\n",
       "      <td>SOS The book doesn't have a title, yet. EOS</td>\n",
       "      <td>SOS El libro no tiene título, aún. EOS</td>\n",
       "    </tr>\n",
       "    <tr>\n",
       "      <th>95939</th>\n",
       "      <td>SOS He's not good at remembering names. EOS</td>\n",
       "      <td>SOS Él no es bueno para recordar nombres. EOS</td>\n",
       "    </tr>\n",
       "    <tr>\n",
       "      <th>117952</th>\n",
       "      <td>SOS Tom doesn't appear to be paying attention. EOS</td>\n",
       "      <td>SOS Tom no parece estar prestando atención. EOS</td>\n",
       "    </tr>\n",
       "    <tr>\n",
       "      <th>43567</th>\n",
       "      <td>SOS Do you have a cellphone? EOS</td>\n",
       "      <td>SOS ¿Tienes un móvil? EOS</td>\n",
       "    </tr>\n",
       "  </tbody>\n",
       "</table>\n",
       "<p>127388 rows × 2 columns</p>\n",
       "</div>"
      ]
     },
     "execution_count": 17,
     "metadata": {},
     "output_type": "execute_result"
    }
   ],
   "execution_count": 17
  },
  {
   "metadata": {
    "ExecuteTime": {
     "end_time": "2025-06-04T17:34:51.332451Z",
     "start_time": "2025-06-04T17:34:50.570444Z"
    }
   },
   "cell_type": "code",
   "source": [
    "tokenizer = {}\n",
    "SRC_LANGUAGE = 'english'\n",
    "TGT_LANGUAGE = 'spanish'\n",
    "tokenizer[SRC_LANGUAGE] = get_tokenizer(\"spacy\", \"en_core_web_sm\")\n",
    "tokenizer[TGT_LANGUAGE] = get_tokenizer(\"spacy\", \"es_core_news_sm\")"
   ],
   "outputs": [],
   "execution_count": 18
  },
  {
   "metadata": {
    "ExecuteTime": {
     "end_time": "2025-06-04T17:34:54.412249Z",
     "start_time": "2025-06-04T17:34:51.333170Z"
    }
   },
   "cell_type": "code",
   "source": [
    "tokenized_x_tr = x_tr.apply(lambda x: tokenizer[SRC_LANGUAGE](x))\n",
    "tokenized_x_val = x_val.apply(lambda x: tokenizer[SRC_LANGUAGE](x))\n",
    "tokenized_y_tr = y_tr.apply(lambda x: tokenizer[TGT_LANGUAGE](x))\n",
    "tokenized_y_val = y_val.apply(lambda x: tokenizer[TGT_LANGUAGE](x))"
   ],
   "outputs": [],
   "execution_count": 19
  },
  {
   "metadata": {
    "ExecuteTime": {
     "end_time": "2025-06-04T17:34:54.418072Z",
     "start_time": "2025-06-04T17:34:54.412945Z"
    }
   },
   "cell_type": "code",
   "source": [
    "train_df = pd.concat([tokenized_x_tr, tokenized_y_tr], axis=1)\n",
    "val_df = pd.concat([tokenized_x_val, tokenized_y_val], axis=1)"
   ],
   "outputs": [],
   "execution_count": 20
  },
  {
   "metadata": {
    "ExecuteTime": {
     "end_time": "2025-06-04T17:34:54.422754Z",
     "start_time": "2025-06-04T17:34:54.418700Z"
    }
   },
   "cell_type": "code",
   "source": "train_df.head()",
   "outputs": [
    {
     "data": {
      "text/plain": [
       "                                                                   english  \\\n",
       "107290         [SOS, She, was, carrying, the, baby, on, her, back, ., EOS]   \n",
       "107013        [SOS, Let, 's, not, talk, about, your, job, tonight, ., EOS]   \n",
       "22569                                 [SOS, This, just, got, ugly, ., EOS]   \n",
       "6226                                      [SOS, She, 's, my, wife, ., EOS]   \n",
       "121951  [SOS, Tom, is, going, to, stay, here, until, next, Monday, ., EOS]   \n",
       "\n",
       "                                                                           spanish  \n",
       "107290                     [SOS, Ella, cargaba, al, bebé, en, su, espalda, ., EOS]  \n",
       "107013                [SOS, Mejor, no, hablemos, de, trabajo, esta, noche, ., EOS]  \n",
       "22569                                [SOS, Esto, realmente, se, puso, feo, ., EOS]  \n",
       "6226                                            [SOS, Ella, es, mi, mujer, ., EOS]  \n",
       "121951  [SOS, Tomás, se, va, a, quedar, acá, hasta, el, lunes, que, viene, ., EOS]  "
      ],
      "text/html": [
       "<div>\n",
       "<style scoped>\n",
       "    .dataframe tbody tr th:only-of-type {\n",
       "        vertical-align: middle;\n",
       "    }\n",
       "\n",
       "    .dataframe tbody tr th {\n",
       "        vertical-align: top;\n",
       "    }\n",
       "\n",
       "    .dataframe thead th {\n",
       "        text-align: right;\n",
       "    }\n",
       "</style>\n",
       "<table border=\"1\" class=\"dataframe\">\n",
       "  <thead>\n",
       "    <tr style=\"text-align: right;\">\n",
       "      <th></th>\n",
       "      <th>english</th>\n",
       "      <th>spanish</th>\n",
       "    </tr>\n",
       "  </thead>\n",
       "  <tbody>\n",
       "    <tr>\n",
       "      <th>107290</th>\n",
       "      <td>[SOS, She, was, carrying, the, baby, on, her, back, ., EOS]</td>\n",
       "      <td>[SOS, Ella, cargaba, al, bebé, en, su, espalda, ., EOS]</td>\n",
       "    </tr>\n",
       "    <tr>\n",
       "      <th>107013</th>\n",
       "      <td>[SOS, Let, 's, not, talk, about, your, job, tonight, ., EOS]</td>\n",
       "      <td>[SOS, Mejor, no, hablemos, de, trabajo, esta, noche, ., EOS]</td>\n",
       "    </tr>\n",
       "    <tr>\n",
       "      <th>22569</th>\n",
       "      <td>[SOS, This, just, got, ugly, ., EOS]</td>\n",
       "      <td>[SOS, Esto, realmente, se, puso, feo, ., EOS]</td>\n",
       "    </tr>\n",
       "    <tr>\n",
       "      <th>6226</th>\n",
       "      <td>[SOS, She, 's, my, wife, ., EOS]</td>\n",
       "      <td>[SOS, Ella, es, mi, mujer, ., EOS]</td>\n",
       "    </tr>\n",
       "    <tr>\n",
       "      <th>121951</th>\n",
       "      <td>[SOS, Tom, is, going, to, stay, here, until, next, Monday, ., EOS]</td>\n",
       "      <td>[SOS, Tomás, se, va, a, quedar, acá, hasta, el, lunes, que, viene, ., EOS]</td>\n",
       "    </tr>\n",
       "  </tbody>\n",
       "</table>\n",
       "</div>"
      ]
     },
     "execution_count": 21,
     "metadata": {},
     "output_type": "execute_result"
    }
   ],
   "execution_count": 21
  },
  {
   "metadata": {
    "ExecuteTime": {
     "end_time": "2025-06-04T17:34:54.426166Z",
     "start_time": "2025-06-04T17:34:54.423246Z"
    }
   },
   "cell_type": "code",
   "source": [
    "vocab = {}\n",
    "src_vocab_size = 10_000\n",
    "tgt_vocab_size = 10_000\n",
    "max_seq_len = 72\n",
    "\n",
    "PAD_IDX = 0\n",
    "UNK_IDX = 1\n",
    "SOS_IDX = 2\n",
    "EOS_IDX = 3\n",
    "special_tokens = ['PAD', 'UNK', 'SOS', 'EOS']"
   ],
   "outputs": [],
   "execution_count": 22
  },
  {
   "metadata": {
    "ExecuteTime": {
     "end_time": "2025-06-04T17:34:54.430121Z",
     "start_time": "2025-06-04T17:34:54.426647Z"
    }
   },
   "cell_type": "code",
   "source": [
    "def yield_tokens(dataset, language):\n",
    "    n = len(dataset)\n",
    "    i = 0\n",
    "    while i < n:\n",
    "        yield dataset.iloc[i][language]\n",
    "        i += 1"
   ],
   "outputs": [],
   "execution_count": 23
  },
  {
   "metadata": {
    "ExecuteTime": {
     "end_time": "2025-06-04T17:34:54.433725Z",
     "start_time": "2025-06-04T17:34:54.430536Z"
    }
   },
   "cell_type": "code",
   "source": [
    "src_iterator = yield_tokens(train_df, SRC_LANGUAGE)\n",
    "tgt_iterator = yield_tokens(train_df, TGT_LANGUAGE)"
   ],
   "outputs": [],
   "execution_count": 24
  },
  {
   "metadata": {
    "ExecuteTime": {
     "end_time": "2025-06-04T17:34:56.670571Z",
     "start_time": "2025-06-04T17:34:54.434161Z"
    }
   },
   "cell_type": "code",
   "source": [
    "vocab[SRC_LANGUAGE] = build_vocab_from_iterator(src_iterator, min_freq=1, specials=special_tokens, special_first=True, max_tokens=src_vocab_size)\n",
    "vocab[TGT_LANGUAGE] = build_vocab_from_iterator(tgt_iterator, min_freq=1, specials=special_tokens, special_first=True, max_tokens=tgt_vocab_size)"
   ],
   "outputs": [],
   "execution_count": 25
  },
  {
   "metadata": {
    "ExecuteTime": {
     "end_time": "2025-06-04T17:34:56.673528Z",
     "start_time": "2025-06-04T17:34:56.671417Z"
    }
   },
   "cell_type": "code",
   "source": [
    "vocab[SRC_LANGUAGE].set_default_index(UNK_IDX)\n",
    "vocab[TGT_LANGUAGE].set_default_index(UNK_IDX)"
   ],
   "outputs": [],
   "execution_count": 26
  },
  {
   "metadata": {
    "ExecuteTime": {
     "end_time": "2025-06-04T17:34:56.677739Z",
     "start_time": "2025-06-04T17:34:56.674419Z"
    }
   },
   "cell_type": "code",
   "source": [
    "def collate_fn(batch, vocabulary):\n",
    "    batch_size = len(batch)\n",
    "    srcs, tgts = zip(*batch)\n",
    "    src_vectors = torch.zeros((batch_size, max_seq_len), dtype=torch.long, device=device)\n",
    "    tgt_vectors = torch.zeros((batch_size, max_seq_len), dtype=torch.long, device=device)\n",
    "\n",
    "    for i in range(batch_size):\n",
    "        src_vectors[i] = torch.tensor((vocabulary[SRC_LANGUAGE](srcs[i]) + [0] * (max_seq_len - len(srcs[i])))[:max_seq_len], dtype=torch.long, device=device)\n",
    "        tgt_vectors[i] = torch.tensor((vocabulary[TGT_LANGUAGE](tgts[i]) + [0] * (max_seq_len - len(tgts[i])))[:max_seq_len], dtype=torch.long, device=device)\n",
    "\n",
    "    return src_vectors, tgt_vectors    "
   ],
   "outputs": [],
   "execution_count": 27
  },
  {
   "metadata": {
    "ExecuteTime": {
     "end_time": "2025-06-04T17:34:56.682668Z",
     "start_time": "2025-06-04T17:34:56.679253Z"
    }
   },
   "cell_type": "code",
   "source": [
    "class SentencesDataset(torch.nn.Module):\n",
    "    def __init__(self, dataframe):\n",
    "        super(SentencesDataset, self).__init__()\n",
    "        self.dataframe = dataframe\n",
    "        \n",
    "    def __len__(self):\n",
    "        return len(self.dataframe)\n",
    "    \n",
    "    def __getitem__(self, idx):\n",
    "        english, spanish = self.dataframe.iloc[idx]\n",
    "        return english, spanish"
   ],
   "outputs": [],
   "execution_count": 28
  },
  {
   "metadata": {
    "ExecuteTime": {
     "end_time": "2025-06-04T17:34:56.686534Z",
     "start_time": "2025-06-04T17:34:56.683143Z"
    }
   },
   "cell_type": "code",
   "source": [
    "train_ds = SentencesDataset(train_df)\n",
    "val_ds = SentencesDataset(val_df)\n",
    "train_loader = DataLoader(train_ds, batch_size=32, shuffle=True, collate_fn=partial(collate_fn, vocabulary=vocab))\n",
    "val_loader = DataLoader(val_ds, batch_size=32, shuffle=True, collate_fn=partial(collate_fn, vocabulary=vocab))"
   ],
   "outputs": [],
   "execution_count": 29
  },
  {
   "metadata": {
    "ExecuteTime": {
     "end_time": "2025-06-04T17:34:56.690704Z",
     "start_time": "2025-06-04T17:34:56.686944Z"
    }
   },
   "cell_type": "code",
   "source": [
    "def accuracy(outputs, targets):\n",
    "    flattened_outputs = outputs.argmax(dim=-1).flatten()\n",
    "    flattened_targets = targets[:, 1:].flatten()\n",
    "    accuracies = flattened_outputs.eq(flattened_targets)\n",
    "    mask = torch.logical_not(flattened_outputs.eq(0))\n",
    "    accuracies = torch.logical_and(mask, accuracies)\n",
    "    return (accuracies.sum() / mask.sum()).item()"
   ],
   "outputs": [],
   "execution_count": 30
  },
  {
   "metadata": {
    "ExecuteTime": {
     "end_time": "2025-06-04T17:34:56.694876Z",
     "start_time": "2025-06-04T17:34:56.691112Z"
    }
   },
   "cell_type": "code",
   "source": [
    "def train_and_validate(model_, optimizer_, criterion_, train_loader_, val_loader_, epochs_, device_, model_type='rnn'):\n",
    "    train_losses, val_losses, val_accs = [], [], []\n",
    "\n",
    "    for epoch in range(epochs_):\n",
    "        model_.train()\n",
    "        total_train_loss = 0\n",
    "        for (inputs, targets) in tqdm(train_loader_, total=len(train_loader_)):\n",
    "            inputs, targets = inputs.to(device_), targets.to(device_)\n",
    "            outputs = model_(inputs, targets[:, :-1])\n",
    "            loss = criterion_(outputs.flatten(start_dim=0, end_dim=1), targets[:, 1:].flatten())\n",
    "            total_train_loss += loss.item()\n",
    "            optimizer_.zero_grad()\n",
    "            loss.backward()\n",
    "            torch.nn.utils.clip_grad_norm_(model_.parameters(), 1.0)\n",
    "            optimizer_.step()\n",
    "\n",
    "        model_.eval()\n",
    "        total_val_loss = 0\n",
    "        total_val_acc = 0\n",
    "        with torch.no_grad():\n",
    "            for (inputs, targets) in val_loader_:\n",
    "                inputs, targets = inputs.to(device_), targets.to(device_)\n",
    "                if model_type == 'transformer':\n",
    "                    outputs = model_(inputs, targets[:, :-1])\n",
    "                else:\n",
    "                    outputs = model_(inputs, targets[:, :-1], 0)\n",
    "                loss = criterion_(outputs.flatten(start_dim=0, end_dim=1), targets[:, 1:].flatten())\n",
    "                total_val_loss += loss.item()\n",
    "                total_val_acc += accuracy(outputs, targets)\n",
    "\n",
    "        total_train_loss = total_train_loss / len(train_loader_)\n",
    "        total_val_loss = total_val_loss / len(val_loader_)\n",
    "        total_val_acc = total_val_acc / len(val_loader_)\n",
    "\n",
    "        train_losses.append(total_train_loss)\n",
    "        val_losses.append(total_val_loss)\n",
    "        val_accs.append(total_val_acc)\n",
    "        print(\n",
    "            f'Epoch: {epoch + 1} / {epochs_} | Train loss: {total_train_loss} | Val loss: {total_val_loss} | Val acc: {total_val_acc}')\n",
    "    return train_losses, val_losses, val_accs\n"
   ],
   "outputs": [],
   "execution_count": 31
  },
  {
   "metadata": {
    "ExecuteTime": {
     "end_time": "2025-06-04T17:34:56.699630Z",
     "start_time": "2025-06-04T17:34:56.695287Z"
    }
   },
   "cell_type": "code",
   "source": [
    "def plot_losses(model_name, train_losses, val_losses, epochs):\n",
    "    plt.plot(range(1, epochs + 1), train_losses, label='Training Loss')\n",
    "    plt.plot(range(1, epochs + 1), val_losses, label='Validation Loss')\n",
    "    plt.title(f'Training and Validation Losses for {model_name}')\n",
    "    plt.xlabel('Epochs')\n",
    "    plt.ylabel('Loss')\n",
    "    plt.legend()\n",
    "    plt.show()"
   ],
   "outputs": [],
   "execution_count": 32
  },
  {
   "metadata": {
    "ExecuteTime": {
     "end_time": "2025-06-04T20:15:55.249050Z",
     "start_time": "2025-06-04T20:15:55.245620Z"
    }
   },
   "cell_type": "code",
   "source": [
    "def decode_sequence(input_seq, model_, rnn_type='rnn'):\n",
    "    model_.eval()\n",
    "    with torch.no_grad():\n",
    "        if rnn_type == 'lstm':\n",
    "            enc_output, hidden, cell_state = model_.encoder(input_seq.to(device))\n",
    "        else:\n",
    "            enc_output, hidden = model_.encoder(input_seq.to(device))\n",
    "    \n",
    "        target_seq = torch.zeros(1, dtype=torch.int64).to(device)\n",
    "        target_seq[0] = vocab[SRC_LANGUAGE]['SOS']\n",
    "    \n",
    "        stop_condition = False\n",
    "        decoded_sentence = ''\n",
    "        while not stop_condition:\n",
    "            if rnn_type == 'lstm':\n",
    "                prediction, hidden, _ = model_.decoder(target_seq, enc_output, hidden, cell_state)\n",
    "            else:\n",
    "                prediction, hidden = model_.decoder(target_seq, enc_output, hidden)\n",
    "            prediction_index = prediction.argmax(dim=-1)[0].item()\n",
    "            predicted_word = vocab[TGT_LANGUAGE].lookup_token(prediction_index)\n",
    "    \n",
    "            if predicted_word != 'EOS':\n",
    "                decoded_sentence += ' ' + predicted_word\n",
    "    \n",
    "            if predicted_word == 'EOS' or len(decoded_sentence.split()) >= max_len_summary - 1:\n",
    "                stop_condition = True\n",
    "    \n",
    "            target_seq = torch.zeros(1, dtype=torch.int64).to(device)\n",
    "            target_seq[0] = prediction_index\n",
    "    \n",
    "        return decoded_sentence\n"
   ],
   "outputs": [],
   "execution_count": 56
  },
  {
   "metadata": {
    "ExecuteTime": {
     "end_time": "2025-06-04T17:34:56.708391Z",
     "start_time": "2025-06-04T17:34:56.704861Z"
    }
   },
   "cell_type": "code",
   "source": [
    "def seq2summary(input_seq):\n",
    "    new_string = ''\n",
    "    for i in input_seq:\n",
    "        if (i != 0 and i != vocab[TGT_LANGUAGE]['SOS']) and i != vocab[TGT_LANGUAGE]['EOS']:\n",
    "            new_string = new_string + vocab[TGT_LANGUAGE].lookup_token(i) + ' '\n",
    "    return new_string\n",
    "\n",
    "\n",
    "def seq2text(input_seq):\n",
    "    new_string = ''\n",
    "    for i in input_seq:\n",
    "        if i != 0:\n",
    "            new_string = new_string + vocab[SRC_LANGUAGE].lookup_token(i) + ' '\n",
    "    return new_string\n"
   ],
   "outputs": [],
   "execution_count": 34
  },
  {
   "metadata": {
    "ExecuteTime": {
     "end_time": "2025-06-04T17:34:56.713423Z",
     "start_time": "2025-06-04T17:34:56.708794Z"
    }
   },
   "cell_type": "code",
   "source": "len(vocab[SRC_LANGUAGE]), len(vocab[TGT_LANGUAGE])",
   "outputs": [
    {
     "data": {
      "text/plain": [
       "(9998, 9998)"
      ]
     },
     "execution_count": 35,
     "metadata": {},
     "output_type": "execute_result"
    }
   ],
   "execution_count": 35
  },
  {
   "metadata": {},
   "cell_type": "markdown",
   "source": "# RNN Seq2Seq"
  },
  {
   "metadata": {
    "ExecuteTime": {
     "end_time": "2025-06-04T17:53:45.769792Z",
     "start_time": "2025-06-04T17:53:45.052720Z"
    }
   },
   "cell_type": "code",
   "source": [
    "epochs = 3\n",
    "embedding_dim = 512\n",
    "hidden_dim = 2048\n",
    "enc_layers = 6\n",
    "dec_layers = 6\n",
    "enc_vocab_size = len(vocab[SRC_LANGUAGE])\n",
    "dec_vocab_size = len(vocab[TGT_LANGUAGE])\n",
    "\n",
    "device = torch.device('cuda' if torch.cuda.is_available() else 'cpu')\n",
    "model = RNNSeq2Seq(embedding_dim, hidden_dim, enc_layers, dec_layers, enc_vocab_size, dec_vocab_size).to(device)\n",
    "optimizer = torch.optim.Adam(model.parameters(), lr=1e-4, betas=(0.9, 0.98), eps=1e-9)\n",
    "criterion = torch.nn.CrossEntropyLoss(ignore_index=0)"
   ],
   "outputs": [],
   "execution_count": 47
  },
  {
   "metadata": {
    "ExecuteTime": {
     "end_time": "2025-06-04T20:10:29.046330Z",
     "start_time": "2025-06-04T17:53:46.153841Z"
    }
   },
   "cell_type": "code",
   "source": [
    "print('RNNSeq2Seq Start Training:')\n",
    "rnn_train_losses, rnn_val_losses, rnn_val_accs = train_and_validate(model, optimizer, criterion, train_loader,\n",
    "                                                                    val_loader, epochs, device)"
   ],
   "outputs": [
    {
     "name": "stdout",
     "output_type": "stream",
     "text": [
      "RNNSeq2Seq Start Training:\n"
     ]
    },
    {
     "name": "stderr",
     "output_type": "stream",
     "text": [
      "100%|██████████| 3981/3981 [44:31<00:00,  1.49it/s]\n"
     ]
    },
    {
     "name": "stdout",
     "output_type": "stream",
     "text": [
      "Epoch: 1 / 3 | Train loss: 5.482210037367514 | Val loss: 5.385112163982865 | Val acc: 0.01823626436150168\n"
     ]
    },
    {
     "name": "stderr",
     "output_type": "stream",
     "text": [
      "100%|██████████| 3981/3981 [44:37<00:00,  1.49it/s]\n"
     ]
    },
    {
     "name": "stdout",
     "output_type": "stream",
     "text": [
      "Epoch: 2 / 3 | Train loss: 5.604011346394918 | Val loss: 5.395245750117248 | Val acc: 0.0180913873151382\n"
     ]
    },
    {
     "name": "stderr",
     "output_type": "stream",
     "text": [
      "100%|██████████| 3981/3981 [44:42<00:00,  1.48it/s]\n"
     ]
    },
    {
     "name": "stdout",
     "output_type": "stream",
     "text": [
      "Epoch: 3 / 3 | Train loss: 5.377081498642179 | Val loss: 5.3781067749178435 | Val acc: 0.01754439512843741\n"
     ]
    }
   ],
   "execution_count": 48
  },
  {
   "metadata": {
    "ExecuteTime": {
     "end_time": "2025-06-04T20:11:28.172431Z",
     "start_time": "2025-06-04T20:11:28.120107Z"
    }
   },
   "cell_type": "code",
   "source": "plot_losses('RNN', rnn_train_losses, rnn_val_losses, epochs)",
   "outputs": [
    {
     "data": {
      "text/plain": [
       "<Figure size 640x480 with 1 Axes>"
      ],
      "image/png": "[encoded data removed]"
     },
     "metadata": {},
     "output_type": "display_data"
    }
   ],
   "execution_count": 49
  },
  {
   "metadata": {},
   "cell_type": "code",
   "outputs": [],
   "execution_count": null,
   "source": "english, spanish = next(iter(val_loader))"
  },
  {
   "metadata": {
    "ExecuteTime": {
     "end_time": "2025-06-04T20:15:57.556377Z",
     "start_time": "2025-06-04T20:15:57.514200Z"
    }
   },
   "cell_type": "code",
   "source": [
    "for i in range(english.shape[0]):\n",
    "    print('Review: ', seq2text(english[i]))\n",
    "    print('Original summary: ', seq2summary(spanish[i]))\n",
    "    print('Predicted summary: ', decode_sequence(english[i].reshape(1, -1), model))\n",
    "    print('\\n')\n",
    "    if i == 0:\n",
    "        break"
   ],
   "outputs": [
    {
     "name": "stdout",
     "output_type": "stream",
     "text": [
      "Review:  SOS That 's a difficult question . EOS \n",
      "Original summary:  Es una pregunta difícil . \n",
      "Predicted summary:   ¿ que es . .\n",
      "\n",
      "\n"
     ]
    }
   ],
   "execution_count": 57
  },
  {
   "metadata": {},
   "cell_type": "markdown",
   "source": "# Transformer"
  },
  {
   "metadata": {
    "ExecuteTime": {
     "end_time": "2025-06-04T17:35:18.538476Z",
     "start_time": "2025-06-04T17:35:17.623494Z"
    }
   },
   "cell_type": "code",
   "source": [
    "epochs = 3\n",
    "embedding_dim = 512\n",
    "hidden_dim = 2048\n",
    "enc_layers = 6\n",
    "dec_layers = 6\n",
    "enc_vocab_size = len(vocab[SRC_LANGUAGE])\n",
    "dec_vocab_size = len(vocab[TGT_LANGUAGE])\n",
    "dropout=0.1\n",
    "\n",
    "device = torch.device('cuda' if torch.cuda.is_available() else 'cpu')\n",
    "model = Transformer(enc_vocab_size=enc_vocab_size, \n",
    "                    dec_vocab_size=dec_vocab_size, \n",
    "                    enc_len_seq=max_seq_len, \n",
    "                    dec_len_seq=max_seq_len - 1, \n",
    "                    embedding_dim=embedding_dim, \n",
    "                    enc_depth=enc_layers, \n",
    "                    dec_depth=dec_layers,\n",
    "                    dropout=dropout,\n",
    "                    hidden_dim=hidden_dim).to(device)\n",
    "optimizer = torch.optim.Adam(model.parameters(), lr=1e-4, betas=(0.9, 0.98), eps=1e-9)\n",
    "criterion = torch.nn.CrossEntropyLoss(ignore_index=0)"
   ],
   "outputs": [],
   "execution_count": 36
  },
  {
   "metadata": {
    "ExecuteTime": {
     "end_time": "2025-06-04T17:52:19.812150Z",
     "start_time": "2025-06-04T17:35:19.058887Z"
    }
   },
   "cell_type": "code",
   "source": [
    "print('Transformer Start Training:')\n",
    "transformer_train_losses, transformer_val_losses, transformer_val_accs = train_and_validate(model, optimizer, criterion, train_loader,\n",
    "                                                                    val_loader, epochs, device, model_type='transformer')"
   ],
   "outputs": [
    {
     "name": "stdout",
     "output_type": "stream",
     "text": [
      "Transformer Start Training:\n"
     ]
    },
    {
     "name": "stderr",
     "output_type": "stream",
     "text": [
      "100%|██████████| 3981/3981 [05:25<00:00, 12.24it/s]\n"
     ]
    },
    {
     "name": "stdout",
     "output_type": "stream",
     "text": [
      "Epoch: 1 / 3 | Train loss: 3.0102887877984372 | Val loss: 2.085398345714767 | Val acc: 0.07534103917954468\n"
     ]
    },
    {
     "name": "stderr",
     "output_type": "stream",
     "text": [
      "100%|██████████| 3981/3981 [05:32<00:00, 11.99it/s]\n"
     ]
    },
    {
     "name": "stdout",
     "output_type": "stream",
     "text": [
      "Epoch: 2 / 3 | Train loss: 1.9995721781921578 | Val loss: 1.69604284714899 | Val acc: 0.08164987514640623\n"
     ]
    },
    {
     "name": "stderr",
     "output_type": "stream",
     "text": [
      "100%|██████████| 3981/3981 [05:31<00:00, 12.03it/s]\n"
     ]
    },
    {
     "name": "stdout",
     "output_type": "stream",
     "text": [
      "Epoch: 3 / 3 | Train loss: 1.6755950214035755 | Val loss: 1.5145276651694597 | Val acc: 0.08489741544758493\n"
     ]
    }
   ],
   "execution_count": 37
  },
  {
   "metadata": {
    "ExecuteTime": {
     "end_time": "2025-06-04T17:52:34.509666Z",
     "start_time": "2025-06-04T17:52:34.451983Z"
    }
   },
   "cell_type": "code",
   "source": "plot_losses('Transformer', transformer_train_losses, transformer_val_losses, epochs)",
   "outputs": [
    {
     "data": {
      "text/plain": [
       "<Figure size 640x480 with 1 Axes>"
      ],
      "image/png": "[encoded data removed]"
     },
     "metadata": {},
     "output_type": "display_data"
    }
   ],
   "execution_count": 38
  },
  {
   "metadata": {
    "ExecuteTime": {
     "end_time": "2025-06-04T17:53:04.838252Z",
     "start_time": "2025-06-04T17:53:04.835011Z"
    }
   },
   "cell_type": "code",
   "source": [
    "def decode_sequence(input_seq, model_):\n",
    "    model_.eval()\n",
    "    with torch.no_grad():\n",
    "        input_seq = input_seq.to(device)\n",
    "        target_seq = torch.zeros((1,1), dtype=torch.int64).to(device)\n",
    "        target_seq[:, 0] = vocab[TGT_LANGUAGE]['EOS']\n",
    "        padding = torch.zeros((1, max_seq_len - 2), dtype=torch.int64).to(device)\n",
    "        target_seq = torch.cat((target_seq, padding), 1)\n",
    "    \n",
    "        decoded_sentence = ''\n",
    "        for idx in range(max_len_summary - 2):\n",
    "            trg_mask = Utils.make_combined_mask(target_seq)\n",
    "            prediction = model_(input_seq, target_seq, look_ahead_mask=trg_mask)\n",
    "            prediction_index = prediction.argmax(dim=-1)[0][idx].item()\n",
    "            predicted_word = vocab[TGT_LANGUAGE].lookup_token(prediction_index)\n",
    "    \n",
    "            if predicted_word != 'EOS':\n",
    "                target_seq[:, idx + 1] = prediction_index\n",
    "                decoded_sentence += ' ' + predicted_word\n",
    "    \n",
    "            if predicted_word == 'EOS' or len(decoded_sentence.split()) >= max_len_summary - 1:\n",
    "                break\n",
    "    \n",
    "        return decoded_sentence.replace('SOS', '').replace('EOS', '').strip()"
   ],
   "outputs": [],
   "execution_count": 42
  },
  {
   "metadata": {
    "ExecuteTime": {
     "end_time": "2025-06-04T17:53:06.562785Z",
     "start_time": "2025-06-04T17:53:06.552802Z"
    }
   },
   "cell_type": "code",
   "source": "english, spanish = next(iter(val_loader))",
   "outputs": [],
   "execution_count": 43
  },
  {
   "metadata": {
    "ExecuteTime": {
     "end_time": "2025-06-04T17:53:07.118455Z",
     "start_time": "2025-06-04T17:53:07.078729Z"
    }
   },
   "cell_type": "code",
   "source": [
    "for i in range(english.shape[0]):\n",
    "    print('Review: ', seq2text(english[i]))\n",
    "    print('Original summary: ', seq2summary(spanish[i]))\n",
    "    print('Predicted summary: ', decode_sequence(english[i].reshape(1, -1), model))\n",
    "    print('\\n')\n",
    "    if i == 0:\n",
    "        break"
   ],
   "outputs": [
    {
     "name": "stdout",
     "output_type": "stream",
     "text": [
      "Review:  SOS That 's a difficult question . EOS \n",
      "Original summary:  Es una pregunta difícil . \n",
      "Predicted summary:  es una pregunta difícil .\n",
      "\n",
      "\n"
     ]
    }
   ],
   "execution_count": 44
  }
 ]
}
